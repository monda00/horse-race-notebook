{
  "nbformat": 4,
  "nbformat_minor": 0,
  "metadata": {
    "colab": {
      "name": "predict_show_neural_network.ipynb",
      "provenance": [],
      "collapsed_sections": [],
      "mount_file_id": "13Pv0bHa2xQaxi21mu6ylnTtwLv43u1Nx",
      "authorship_tag": "ABX9TyNvOc/1I+uUqwGSbXcd+JQn",
      "include_colab_link": true
    },
    "kernelspec": {
      "name": "python3",
      "display_name": "Python 3"
    }
  },
  "cells": [
    {
      "cell_type": "markdown",
      "metadata": {
        "id": "view-in-github",
        "colab_type": "text"
      },
      "source": [
        "<a href=\"https://colab.research.google.com/github/monda00/horse-race-notebook/blob/master/predict_show_neural_network.ipynb\" target=\"_parent\"><img src=\"https://colab.research.google.com/assets/colab-badge.svg\" alt=\"Open In Colab\"/></a>"
      ]
    },
    {
      "cell_type": "markdown",
      "metadata": {
        "id": "13hRzyKCtHrz",
        "colab_type": "text"
      },
      "source": [
        "# ニューラルネットワークで予測"
      ]
    },
    {
      "cell_type": "markdown",
      "metadata": {
        "id": "xKte8hr_uKS4",
        "colab_type": "text"
      },
      "source": [
        "学習データの作成から予測の考察までやってみる。"
      ]
    },
    {
      "cell_type": "markdown",
      "metadata": {
        "id": "1ceYsuwMw1Mt",
        "colab_type": "text"
      },
      "source": [
        "特徴量\n",
        "\n",
        "|分類\t|項目 |\n",
        "|---|---|\n",
        "|馬情報\t|馬番 |\n",
        "| |枠番 |\n",
        "| |年齢 |\n",
        "| |性別 |\n",
        "| |体重（現在） | \n",
        "| |体重（前走との差分） |\n",
        "| |負担重量 |\n",
        "| 当日レース情報 |レース場 |\n",
        "| |出走馬数 |\n",
        "| |コース距離 |\n",
        "| |周回方向 |\n",
        "| |コースタイプ（ダ/芝/障） |\n",
        "| |天気 |\n",
        "| |馬場状態 |\n",
        "| |開始時間帯 |\n",
        "| |時期 |\n",
        "|同馬の過去レース情報（×5走分）\t|オッズ |\n",
        "| |人気 |\n",
        "| |順位 |\n",
        "| |タイム（秒） |\n",
        "| |前走からの経過日数 |\n",
        "| |コース距離 |\n",
        "| |コースタイプ（ダ/芝/障） |\n",
        "| |天気 |\n",
        "| |馬場状態 |"
      ]
    },
    {
      "cell_type": "markdown",
      "metadata": {
        "id": "aZlcaGQ2uMf3",
        "colab_type": "text"
      },
      "source": [
        "# 概要\n",
        "\n",
        "- ライブラリ・データ読み込み\n",
        "- 前処理\n",
        "- 学習\n",
        "- 予測\n",
        "- 考察"
      ]
    },
    {
      "cell_type": "markdown",
      "metadata": {
        "id": "GkNVPKEVyMNM",
        "colab_type": "text"
      },
      "source": [
        "## 参考\n",
        "\n",
        "- [データ収集からディープラーニングまで全て行って競馬の予測をしてみた](https://qiita.com/kami634/items/55e49dad76396d808bf5#%E5%8F%96%E5%BE%97%E3%81%97%E3%81%9Furl%E3%82%92%E3%82%82%E3%81%A8%E3%81%ABhtml%E3%82%92%E5%BE%97%E3%82%8B)\n",
        "- [競馬の予測をガチでやってみた](http://stockedge.hatenablog.com/entry/2016/01/03/103428)\n",
        "- [ディープラーニングさえあれば、競馬で回収率100%を超えられる](https://qiita.com/yossymura/items/334a8f3ef85bff081913)\n",
        "- [競馬予想AIを作る 〜ニューラルネットワークによる相対評価データセットの取り扱い例〜](https://cocon-corporation.com/cocontoco/horseraceprediction_ai/)"
      ]
    },
    {
      "cell_type": "markdown",
      "metadata": {
        "id": "xy34zmQivK3h",
        "colab_type": "text"
      },
      "source": [
        "# ライブラリ・データ読み込み"
      ]
    },
    {
      "cell_type": "code",
      "metadata": {
        "id": "t2khiLmhtb15",
        "colab_type": "code",
        "colab": {}
      },
      "source": [
        "import numpy as np\n",
        "import pandas as pd\n",
        "\n",
        "from sklearn.preprocessing import LabelEncoder\n",
        "from sklearn.model_selection import train_test_split"
      ],
      "execution_count": 14,
      "outputs": []
    },
    {
      "cell_type": "code",
      "metadata": {
        "id": "YlhzrDVvvPuF",
        "colab_type": "code",
        "colab": {}
      },
      "source": [
        "DATA_PATH = '/content/drive/My Drive/data/horse-race/'"
      ],
      "execution_count": 15,
      "outputs": []
    },
    {
      "cell_type": "code",
      "metadata": {
        "id": "0vlQREKVvRjb",
        "colab_type": "code",
        "colab": {
          "base_uri": "https://localhost:8080/",
          "height": 51
        },
        "outputId": "abeb90f7-c545-4800-f749-5da0e8be9273"
      },
      "source": [
        "df = pd.read_csv(DATA_PATH + 'train_nn.csv')"
      ],
      "execution_count": 16,
      "outputs": [
        {
          "output_type": "stream",
          "text": [
            "/usr/local/lib/python3.6/dist-packages/IPython/core/interactiveshell.py:2718: DtypeWarning: Columns (5,6) have mixed types.Specify dtype option on import or set low_memory=False.\n",
            "  interactivity=interactivity, compiler=compiler, result=result)\n"
          ],
          "name": "stderr"
        }
      ]
    },
    {
      "cell_type": "code",
      "metadata": {
        "id": "zLPPVsb_JMSR",
        "colab_type": "code",
        "colab": {
          "base_uri": "https://localhost:8080/",
          "height": 224
        },
        "outputId": "2c18f2cd-3f91-4891-ebb8-504f2fd4ddaa"
      },
      "source": [
        "df.head()"
      ],
      "execution_count": 31,
      "outputs": [
        {
          "output_type": "execute_result",
          "data": {
            "text/html": [
              "<div>\n",
              "<style scoped>\n",
              "    .dataframe tbody tr th:only-of-type {\n",
              "        vertical-align: middle;\n",
              "    }\n",
              "\n",
              "    .dataframe tbody tr th {\n",
              "        vertical-align: top;\n",
              "    }\n",
              "\n",
              "    .dataframe thead th {\n",
              "        text-align: right;\n",
              "    }\n",
              "</style>\n",
              "<table border=\"1\" class=\"dataframe\">\n",
              "  <thead>\n",
              "    <tr style=\"text-align: right;\">\n",
              "      <th></th>\n",
              "      <th>race_id</th>\n",
              "      <th>horse_number</th>\n",
              "      <th>frame_number</th>\n",
              "      <th>age</th>\n",
              "      <th>gen</th>\n",
              "      <th>weight</th>\n",
              "      <th>weight_diff</th>\n",
              "      <th>burden_weight</th>\n",
              "      <th>place</th>\n",
              "      <th>race_horse_number</th>\n",
              "      <th>distance</th>\n",
              "      <th>clockwise</th>\n",
              "      <th>field_type</th>\n",
              "      <th>field_condition</th>\n",
              "      <th>weather</th>\n",
              "      <th>time_hour</th>\n",
              "      <th>season</th>\n",
              "      <th>one_before_odd</th>\n",
              "      <th>one_before_popular</th>\n",
              "      <th>one_before_rank</th>\n",
              "      <th>one_before_time</th>\n",
              "      <th>one_before_elapsed_day</th>\n",
              "      <th>one_before_distance</th>\n",
              "      <th>one_before_field_type</th>\n",
              "      <th>one_before_field_condition</th>\n",
              "      <th>one_before_weather</th>\n",
              "      <th>two_before_odd</th>\n",
              "      <th>two_before_popular</th>\n",
              "      <th>two_before_rank</th>\n",
              "      <th>two_before_time</th>\n",
              "      <th>two_before_elapsed_day</th>\n",
              "      <th>two_before_distance</th>\n",
              "      <th>two_before_field_type</th>\n",
              "      <th>two_before_field_condition</th>\n",
              "      <th>two_before_weather</th>\n",
              "      <th>three_before_odd</th>\n",
              "      <th>three_before_popular</th>\n",
              "      <th>three_before_rank</th>\n",
              "      <th>three_before_time</th>\n",
              "      <th>three_before_elapsed_day</th>\n",
              "      <th>three_before_distance</th>\n",
              "      <th>three_before_field_type</th>\n",
              "      <th>three_before_field_condition</th>\n",
              "      <th>three_before_weather</th>\n",
              "      <th>four_before_odd</th>\n",
              "      <th>four_before_popular</th>\n",
              "      <th>four_before_rank</th>\n",
              "      <th>four_before_time</th>\n",
              "      <th>four_before_elapsed_day</th>\n",
              "      <th>four_before_distance</th>\n",
              "      <th>four_before_field_type</th>\n",
              "      <th>four_before_field_condition</th>\n",
              "      <th>four_before_weather</th>\n",
              "      <th>five_before_odd</th>\n",
              "      <th>five_before_popular</th>\n",
              "      <th>five_before_rank</th>\n",
              "      <th>five_before_time</th>\n",
              "      <th>five_before_elapsed_day</th>\n",
              "      <th>five_before_distance</th>\n",
              "      <th>five_before_field_type</th>\n",
              "      <th>five_before_field_condition</th>\n",
              "      <th>five_before_weather</th>\n",
              "    </tr>\n",
              "  </thead>\n",
              "  <tbody>\n",
              "    <tr>\n",
              "      <th>0</th>\n",
              "      <td>201945010102</td>\n",
              "      <td>3</td>\n",
              "      <td>3.0</td>\n",
              "      <td>7</td>\n",
              "      <td>牝</td>\n",
              "      <td>464</td>\n",
              "      <td>4</td>\n",
              "      <td>54.0</td>\n",
              "      <td>川崎</td>\n",
              "      <td>10</td>\n",
              "      <td>1400</td>\n",
              "      <td>左</td>\n",
              "      <td>ダ</td>\n",
              "      <td>良</td>\n",
              "      <td>晴</td>\n",
              "      <td>11</td>\n",
              "      <td>winter</td>\n",
              "      <td>0.0</td>\n",
              "      <td>0.0</td>\n",
              "      <td>0</td>\n",
              "      <td>0</td>\n",
              "      <td>0</td>\n",
              "      <td>0</td>\n",
              "      <td>0</td>\n",
              "      <td>0</td>\n",
              "      <td>0</td>\n",
              "      <td>0.0</td>\n",
              "      <td>0.0</td>\n",
              "      <td>0</td>\n",
              "      <td>0</td>\n",
              "      <td>0</td>\n",
              "      <td>0</td>\n",
              "      <td>0</td>\n",
              "      <td>0</td>\n",
              "      <td>0</td>\n",
              "      <td>0.0</td>\n",
              "      <td>0.0</td>\n",
              "      <td>0</td>\n",
              "      <td>0</td>\n",
              "      <td>0</td>\n",
              "      <td>0</td>\n",
              "      <td>0</td>\n",
              "      <td>0</td>\n",
              "      <td>0</td>\n",
              "      <td>0.0</td>\n",
              "      <td>0.0</td>\n",
              "      <td>0</td>\n",
              "      <td>0</td>\n",
              "      <td>0</td>\n",
              "      <td>0</td>\n",
              "      <td>0</td>\n",
              "      <td>0</td>\n",
              "      <td>0</td>\n",
              "      <td>0.0</td>\n",
              "      <td>0.0</td>\n",
              "      <td>0</td>\n",
              "      <td>0</td>\n",
              "      <td>0</td>\n",
              "      <td>0</td>\n",
              "      <td>0</td>\n",
              "      <td>0</td>\n",
              "      <td>0</td>\n",
              "    </tr>\n",
              "    <tr>\n",
              "      <th>1</th>\n",
              "      <td>201945010102</td>\n",
              "      <td>5</td>\n",
              "      <td>5.0</td>\n",
              "      <td>7</td>\n",
              "      <td>牡</td>\n",
              "      <td>502</td>\n",
              "      <td>1</td>\n",
              "      <td>56.0</td>\n",
              "      <td>川崎</td>\n",
              "      <td>10</td>\n",
              "      <td>1400</td>\n",
              "      <td>左</td>\n",
              "      <td>ダ</td>\n",
              "      <td>良</td>\n",
              "      <td>晴</td>\n",
              "      <td>11</td>\n",
              "      <td>winter</td>\n",
              "      <td>0.0</td>\n",
              "      <td>0.0</td>\n",
              "      <td>0</td>\n",
              "      <td>0</td>\n",
              "      <td>0</td>\n",
              "      <td>0</td>\n",
              "      <td>0</td>\n",
              "      <td>0</td>\n",
              "      <td>0</td>\n",
              "      <td>0.0</td>\n",
              "      <td>0.0</td>\n",
              "      <td>0</td>\n",
              "      <td>0</td>\n",
              "      <td>0</td>\n",
              "      <td>0</td>\n",
              "      <td>0</td>\n",
              "      <td>0</td>\n",
              "      <td>0</td>\n",
              "      <td>0.0</td>\n",
              "      <td>0.0</td>\n",
              "      <td>0</td>\n",
              "      <td>0</td>\n",
              "      <td>0</td>\n",
              "      <td>0</td>\n",
              "      <td>0</td>\n",
              "      <td>0</td>\n",
              "      <td>0</td>\n",
              "      <td>0.0</td>\n",
              "      <td>0.0</td>\n",
              "      <td>0</td>\n",
              "      <td>0</td>\n",
              "      <td>0</td>\n",
              "      <td>0</td>\n",
              "      <td>0</td>\n",
              "      <td>0</td>\n",
              "      <td>0</td>\n",
              "      <td>0.0</td>\n",
              "      <td>0.0</td>\n",
              "      <td>0</td>\n",
              "      <td>0</td>\n",
              "      <td>0</td>\n",
              "      <td>0</td>\n",
              "      <td>0</td>\n",
              "      <td>0</td>\n",
              "      <td>0</td>\n",
              "    </tr>\n",
              "    <tr>\n",
              "      <th>2</th>\n",
              "      <td>201945010102</td>\n",
              "      <td>2</td>\n",
              "      <td>2.0</td>\n",
              "      <td>7</td>\n",
              "      <td>牡</td>\n",
              "      <td>464</td>\n",
              "      <td>7</td>\n",
              "      <td>56.0</td>\n",
              "      <td>川崎</td>\n",
              "      <td>10</td>\n",
              "      <td>1400</td>\n",
              "      <td>左</td>\n",
              "      <td>ダ</td>\n",
              "      <td>良</td>\n",
              "      <td>晴</td>\n",
              "      <td>11</td>\n",
              "      <td>winter</td>\n",
              "      <td>0.0</td>\n",
              "      <td>0.0</td>\n",
              "      <td>0</td>\n",
              "      <td>0</td>\n",
              "      <td>0</td>\n",
              "      <td>0</td>\n",
              "      <td>0</td>\n",
              "      <td>0</td>\n",
              "      <td>0</td>\n",
              "      <td>0.0</td>\n",
              "      <td>0.0</td>\n",
              "      <td>0</td>\n",
              "      <td>0</td>\n",
              "      <td>0</td>\n",
              "      <td>0</td>\n",
              "      <td>0</td>\n",
              "      <td>0</td>\n",
              "      <td>0</td>\n",
              "      <td>0.0</td>\n",
              "      <td>0.0</td>\n",
              "      <td>0</td>\n",
              "      <td>0</td>\n",
              "      <td>0</td>\n",
              "      <td>0</td>\n",
              "      <td>0</td>\n",
              "      <td>0</td>\n",
              "      <td>0</td>\n",
              "      <td>0.0</td>\n",
              "      <td>0.0</td>\n",
              "      <td>0</td>\n",
              "      <td>0</td>\n",
              "      <td>0</td>\n",
              "      <td>0</td>\n",
              "      <td>0</td>\n",
              "      <td>0</td>\n",
              "      <td>0</td>\n",
              "      <td>0.0</td>\n",
              "      <td>0.0</td>\n",
              "      <td>0</td>\n",
              "      <td>0</td>\n",
              "      <td>0</td>\n",
              "      <td>0</td>\n",
              "      <td>0</td>\n",
              "      <td>0</td>\n",
              "      <td>0</td>\n",
              "    </tr>\n",
              "    <tr>\n",
              "      <th>3</th>\n",
              "      <td>201945010102</td>\n",
              "      <td>8</td>\n",
              "      <td>7.0</td>\n",
              "      <td>7</td>\n",
              "      <td>牝</td>\n",
              "      <td>399</td>\n",
              "      <td>3</td>\n",
              "      <td>54.0</td>\n",
              "      <td>川崎</td>\n",
              "      <td>10</td>\n",
              "      <td>1400</td>\n",
              "      <td>左</td>\n",
              "      <td>ダ</td>\n",
              "      <td>良</td>\n",
              "      <td>晴</td>\n",
              "      <td>11</td>\n",
              "      <td>winter</td>\n",
              "      <td>0.0</td>\n",
              "      <td>0.0</td>\n",
              "      <td>0</td>\n",
              "      <td>0</td>\n",
              "      <td>0</td>\n",
              "      <td>0</td>\n",
              "      <td>0</td>\n",
              "      <td>0</td>\n",
              "      <td>0</td>\n",
              "      <td>0.0</td>\n",
              "      <td>0.0</td>\n",
              "      <td>0</td>\n",
              "      <td>0</td>\n",
              "      <td>0</td>\n",
              "      <td>0</td>\n",
              "      <td>0</td>\n",
              "      <td>0</td>\n",
              "      <td>0</td>\n",
              "      <td>0.0</td>\n",
              "      <td>0.0</td>\n",
              "      <td>0</td>\n",
              "      <td>0</td>\n",
              "      <td>0</td>\n",
              "      <td>0</td>\n",
              "      <td>0</td>\n",
              "      <td>0</td>\n",
              "      <td>0</td>\n",
              "      <td>0.0</td>\n",
              "      <td>0.0</td>\n",
              "      <td>0</td>\n",
              "      <td>0</td>\n",
              "      <td>0</td>\n",
              "      <td>0</td>\n",
              "      <td>0</td>\n",
              "      <td>0</td>\n",
              "      <td>0</td>\n",
              "      <td>0.0</td>\n",
              "      <td>0.0</td>\n",
              "      <td>0</td>\n",
              "      <td>0</td>\n",
              "      <td>0</td>\n",
              "      <td>0</td>\n",
              "      <td>0</td>\n",
              "      <td>0</td>\n",
              "      <td>0</td>\n",
              "    </tr>\n",
              "    <tr>\n",
              "      <th>4</th>\n",
              "      <td>201945010102</td>\n",
              "      <td>10</td>\n",
              "      <td>8.0</td>\n",
              "      <td>4</td>\n",
              "      <td>牝</td>\n",
              "      <td>452</td>\n",
              "      <td>32</td>\n",
              "      <td>54.0</td>\n",
              "      <td>川崎</td>\n",
              "      <td>10</td>\n",
              "      <td>1400</td>\n",
              "      <td>左</td>\n",
              "      <td>ダ</td>\n",
              "      <td>良</td>\n",
              "      <td>晴</td>\n",
              "      <td>11</td>\n",
              "      <td>winter</td>\n",
              "      <td>0.0</td>\n",
              "      <td>0.0</td>\n",
              "      <td>0</td>\n",
              "      <td>0</td>\n",
              "      <td>0</td>\n",
              "      <td>0</td>\n",
              "      <td>0</td>\n",
              "      <td>0</td>\n",
              "      <td>0</td>\n",
              "      <td>0.0</td>\n",
              "      <td>0.0</td>\n",
              "      <td>0</td>\n",
              "      <td>0</td>\n",
              "      <td>0</td>\n",
              "      <td>0</td>\n",
              "      <td>0</td>\n",
              "      <td>0</td>\n",
              "      <td>0</td>\n",
              "      <td>0.0</td>\n",
              "      <td>0.0</td>\n",
              "      <td>0</td>\n",
              "      <td>0</td>\n",
              "      <td>0</td>\n",
              "      <td>0</td>\n",
              "      <td>0</td>\n",
              "      <td>0</td>\n",
              "      <td>0</td>\n",
              "      <td>0.0</td>\n",
              "      <td>0.0</td>\n",
              "      <td>0</td>\n",
              "      <td>0</td>\n",
              "      <td>0</td>\n",
              "      <td>0</td>\n",
              "      <td>0</td>\n",
              "      <td>0</td>\n",
              "      <td>0</td>\n",
              "      <td>0.0</td>\n",
              "      <td>0.0</td>\n",
              "      <td>0</td>\n",
              "      <td>0</td>\n",
              "      <td>0</td>\n",
              "      <td>0</td>\n",
              "      <td>0</td>\n",
              "      <td>0</td>\n",
              "      <td>0</td>\n",
              "    </tr>\n",
              "  </tbody>\n",
              "</table>\n",
              "</div>"
            ],
            "text/plain": [
              "        race_id  horse_number  ...  five_before_field_condition  five_before_weather\n",
              "0  201945010102             3  ...                            0                    0\n",
              "1  201945010102             5  ...                            0                    0\n",
              "2  201945010102             2  ...                            0                    0\n",
              "3  201945010102             8  ...                            0                    0\n",
              "4  201945010102            10  ...                            0                    0\n",
              "\n",
              "[5 rows x 62 columns]"
            ]
          },
          "metadata": {
            "tags": []
          },
          "execution_count": 31
        }
      ]
    },
    {
      "cell_type": "markdown",
      "metadata": {
        "id": "Y6y3TiAuBkzP",
        "colab_type": "text"
      },
      "source": [
        "# 前処理"
      ]
    },
    {
      "cell_type": "code",
      "metadata": {
        "id": "HIcsTj-XIQgw",
        "colab_type": "code",
        "colab": {
          "base_uri": "https://localhost:8080/",
          "height": 1000
        },
        "outputId": "5c50c7c4-4400-499b-a2d1-32413fe514c1"
      },
      "source": [
        "df.info()"
      ],
      "execution_count": 28,
      "outputs": [
        {
          "output_type": "stream",
          "text": [
            "<class 'pandas.core.frame.DataFrame'>\n",
            "RangeIndex: 253636 entries, 0 to 253635\n",
            "Data columns (total 62 columns):\n",
            " #   Column                        Non-Null Count   Dtype  \n",
            "---  ------                        --------------   -----  \n",
            " 0   race_id                       253636 non-null  int64  \n",
            " 1   horse_number                  253636 non-null  int64  \n",
            " 2   frame_number                  253636 non-null  float64\n",
            " 3   age                           253636 non-null  int64  \n",
            " 4   gen                           253636 non-null  object \n",
            " 5   weight                        253636 non-null  object \n",
            " 6   weight_diff                   253636 non-null  object \n",
            " 7   burden_weight                 253636 non-null  float64\n",
            " 8   place                         253636 non-null  object \n",
            " 9   race_horse_number             253636 non-null  int64  \n",
            " 10  distance                      253636 non-null  int64  \n",
            " 11  clockwise                     253636 non-null  object \n",
            " 12  field_type                    253636 non-null  object \n",
            " 13  field_condition               253636 non-null  object \n",
            " 14  weather                       253636 non-null  object \n",
            " 15  time_hour                     253636 non-null  int64  \n",
            " 16  season                        253636 non-null  object \n",
            " 17  one_before_odd                253636 non-null  float64\n",
            " 18  one_before_popular            253636 non-null  float64\n",
            " 19  one_before_rank               253636 non-null  int64  \n",
            " 20  one_before_time               253636 non-null  object \n",
            " 21  one_before_elapsed_day        253636 non-null  int64  \n",
            " 22  one_before_distance           253636 non-null  int64  \n",
            " 23  one_before_field_type         253636 non-null  object \n",
            " 24  one_before_field_condition    253636 non-null  object \n",
            " 25  one_before_weather            253636 non-null  object \n",
            " 26  two_before_odd                253636 non-null  float64\n",
            " 27  two_before_popular            253636 non-null  float64\n",
            " 28  two_before_rank               253636 non-null  int64  \n",
            " 29  two_before_time               253636 non-null  object \n",
            " 30  two_before_elapsed_day        253636 non-null  int64  \n",
            " 31  two_before_distance           253636 non-null  int64  \n",
            " 32  two_before_field_type         253636 non-null  object \n",
            " 33  two_before_field_condition    253636 non-null  object \n",
            " 34  two_before_weather            253636 non-null  object \n",
            " 35  three_before_odd              253636 non-null  float64\n",
            " 36  three_before_popular          253636 non-null  float64\n",
            " 37  three_before_rank             253636 non-null  int64  \n",
            " 38  three_before_time             253636 non-null  object \n",
            " 39  three_before_elapsed_day      253636 non-null  int64  \n",
            " 40  three_before_distance         253636 non-null  int64  \n",
            " 41  three_before_field_type       253636 non-null  object \n",
            " 42  three_before_field_condition  253636 non-null  object \n",
            " 43  three_before_weather          253636 non-null  object \n",
            " 44  four_before_odd               253636 non-null  float64\n",
            " 45  four_before_popular           253636 non-null  float64\n",
            " 46  four_before_rank              253636 non-null  int64  \n",
            " 47  four_before_time              253636 non-null  object \n",
            " 48  four_before_elapsed_day       253636 non-null  int64  \n",
            " 49  four_before_distance          253636 non-null  int64  \n",
            " 50  four_before_field_type        253636 non-null  object \n",
            " 51  four_before_field_condition   253636 non-null  object \n",
            " 52  four_before_weather           253636 non-null  object \n",
            " 53  five_before_odd               253636 non-null  float64\n",
            " 54  five_before_popular           253636 non-null  float64\n",
            " 55  five_before_rank              253636 non-null  int64  \n",
            " 56  five_before_time              253636 non-null  object \n",
            " 57  five_before_elapsed_day       253636 non-null  int64  \n",
            " 58  five_before_distance          253636 non-null  int64  \n",
            " 59  five_before_field_type        253636 non-null  object \n",
            " 60  five_before_field_condition   253636 non-null  object \n",
            " 61  five_before_weather           253636 non-null  object \n",
            "dtypes: float64(12), int64(21), object(29)\n",
            "memory usage: 120.0+ MB\n"
          ],
          "name": "stdout"
        }
      ]
    },
    {
      "cell_type": "markdown",
      "metadata": {
        "id": "J97fGz_7ENhb",
        "colab_type": "text"
      },
      "source": [
        "欠損値はなし"
      ]
    },
    {
      "cell_type": "code",
      "metadata": {
        "id": "tppWw2EmVW-d",
        "colab_type": "code",
        "colab": {
          "base_uri": "https://localhost:8080/",
          "height": 34
        },
        "outputId": "41433ba5-1636-4e9d-ab12-c5807fe88d19"
      },
      "source": [
        "df.isnull().sum().sum()"
      ],
      "execution_count": 20,
      "outputs": [
        {
          "output_type": "execute_result",
          "data": {
            "text/plain": [
              "0"
            ]
          },
          "metadata": {
            "tags": []
          },
          "execution_count": 20
        }
      ]
    },
    {
      "cell_type": "markdown",
      "metadata": {
        "id": "JV-IzMANEQG6",
        "colab_type": "text"
      },
      "source": [
        "過去レースの情報がない馬も結構いるかもしれない。\n",
        "\n",
        "23752個のデータで過去レースの情報がない。\n",
        "数値と文字列の0が混在している。"
      ]
    },
    {
      "cell_type": "code",
      "metadata": {
        "id": "xsxfG9HqEJnK",
        "colab_type": "code",
        "colab": {}
      },
      "source": [
        "past_race_columns_base = ['odd', 'popular', 'rank', 'time', 'elapsed_day', 'distance', 'field_type', 'field_condition', 'weather']\n",
        "past_race_columns = []\n",
        "for n in past_race_num:\n",
        "  for c in past_race_columns_base:\n",
        "    past_race_columns.append('{}_before_{}'.format(n, c))"
      ],
      "execution_count": 21,
      "outputs": []
    },
    {
      "cell_type": "code",
      "metadata": {
        "id": "eObMMWnxFPh3",
        "colab_type": "code",
        "colab": {
          "base_uri": "https://localhost:8080/",
          "height": 34
        },
        "outputId": "e470a43b-5371-4b96-974d-222088b98b24"
      },
      "source": [
        "len(df[df['one_before_odd'] == 0])"
      ],
      "execution_count": 27,
      "outputs": [
        {
          "output_type": "execute_result",
          "data": {
            "text/plain": [
              "23752"
            ]
          },
          "metadata": {
            "tags": []
          },
          "execution_count": 27
        }
      ]
    },
    {
      "cell_type": "code",
      "metadata": {
        "id": "5uMkAPMEJlDn",
        "colab_type": "code",
        "colab": {
          "base_uri": "https://localhost:8080/",
          "height": 34
        },
        "outputId": "38c13c92-6c6f-4210-8f86-065958cbf12a"
      },
      "source": [
        "len(df[df['one_before_weather'] == '0'])"
      ],
      "execution_count": 32,
      "outputs": [
        {
          "output_type": "execute_result",
          "data": {
            "text/plain": [
              "23752"
            ]
          },
          "metadata": {
            "tags": []
          },
          "execution_count": 32
        }
      ]
    },
    {
      "cell_type": "markdown",
      "metadata": {
        "id": "D-OaWOEXNp4R",
        "colab_type": "text"
      },
      "source": [
        "Label Encoding"
      ]
    },
    {
      "cell_type": "code",
      "metadata": {
        "id": "V6v6-ZbFKxX1",
        "colab_type": "code",
        "colab": {}
      },
      "source": [
        ""
      ],
      "execution_count": null,
      "outputs": []
    }
  ]
}