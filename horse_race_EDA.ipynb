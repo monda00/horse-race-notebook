{
  "nbformat": 4,
  "nbformat_minor": 0,
  "metadata": {
    "colab": {
      "name": "horse-race-EDA.ipynb",
      "provenance": [],
      "collapsed_sections": [],
      "toc_visible": true,
      "mount_file_id": "1zjFT_HHwn6_F_-e9m4hQQHVCgkSrsZ2Z",
      "authorship_tag": "ABX9TyMzxYpHMgtzoCK393S3WRjS",
      "include_colab_link": true
    },
    "kernelspec": {
      "name": "python3",
      "display_name": "Python 3"
    }
  },
  "cells": [
    {
      "cell_type": "markdown",
      "metadata": {
        "id": "view-in-github",
        "colab_type": "text"
      },
      "source": [
        "<a href=\"https://colab.research.google.com/github/monda00/horse-race-notebook/blob/master/horse_race_EDA.ipynb\" target=\"_parent\"><img src=\"https://colab.research.google.com/assets/colab-badge.svg\" alt=\"Open In Colab\"/></a>"
      ]
    },
    {
      "cell_type": "markdown",
      "metadata": {
        "id": "lM2Vg6bDVR2q",
        "colab_type": "text"
      },
      "source": [
        "# netkeibaでスクレイピングしたデータのEDA"
      ]
    },
    {
      "cell_type": "markdown",
      "metadata": {
        "id": "ApfnmQLEVqh8",
        "colab_type": "text"
      },
      "source": [
        "- 準備\n",
        "- ライブラリ・データ読み込み\n",
        "- データの概観・分析"
      ]
    },
    {
      "cell_type": "markdown",
      "metadata": {
        "id": "BiqauKp2dCVt",
        "colab_type": "text"
      },
      "source": [
        "# 準備"
      ]
    },
    {
      "cell_type": "markdown",
      "metadata": {
        "id": "OBePcO9LCbHs",
        "colab_type": "text"
      },
      "source": [
        "## ドメイン知識\n",
        "\n",
        "- あがり\n",
        "  - レースや調教の終盤の走破タイム"
      ]
    },
    {
      "cell_type": "markdown",
      "metadata": {
        "id": "k5ugx4Q89Qdf",
        "colab_type": "text"
      },
      "source": [
        "## データ\n",
        "\n",
        "- 2019年から2020年までのレースデータ"
      ]
    },
    {
      "cell_type": "markdown",
      "metadata": {
        "id": "_Q6bUkeDdEw2",
        "colab_type": "text"
      },
      "source": [
        "# ライブラリ・データ読み込み"
      ]
    },
    {
      "cell_type": "code",
      "metadata": {
        "id": "FqOPinwSHVMK",
        "colab_type": "code",
        "colab": {}
      },
      "source": [
        "import numpy as np\n",
        "import pandas as pd"
      ],
      "execution_count": 65,
      "outputs": []
    },
    {
      "cell_type": "code",
      "metadata": {
        "id": "Ma4MplpheGDT",
        "colab_type": "code",
        "colab": {}
      },
      "source": [
        "DATA_PATH = '/content/drive/My Drive/data/horse-race/'"
      ],
      "execution_count": 66,
      "outputs": []
    },
    {
      "cell_type": "code",
      "metadata": {
        "id": "icZMNnMCdVea",
        "colab_type": "code",
        "colab": {}
      },
      "source": [
        "race_df = pd.read_csv(DATA_PATH + 'race.csv')\n",
        "horse_df = pd.read_csv(DATA_PATH + 'horse.csv')"
      ],
      "execution_count": 67,
      "outputs": []
    },
    {
      "cell_type": "code",
      "metadata": {
        "id": "ItMcGOqygN1j",
        "colab_type": "code",
        "colab": {
          "base_uri": "https://localhost:8080/",
          "height": 204
        },
        "outputId": "37b582d6-ec9f-40ae-fd1c-6d83a1919075"
      },
      "source": [
        "race_df.head()"
      ],
      "execution_count": 68,
      "outputs": [
        {
          "output_type": "execute_result",
          "data": {
            "text/html": [
              "<div>\n",
              "<style scoped>\n",
              "    .dataframe tbody tr th:only-of-type {\n",
              "        vertical-align: middle;\n",
              "    }\n",
              "\n",
              "    .dataframe tbody tr th {\n",
              "        vertical-align: top;\n",
              "    }\n",
              "\n",
              "    .dataframe thead th {\n",
              "        text-align: right;\n",
              "    }\n",
              "</style>\n",
              "<table border=\"1\" class=\"dataframe\">\n",
              "  <thead>\n",
              "    <tr style=\"text-align: right;\">\n",
              "      <th></th>\n",
              "      <th>clockwise</th>\n",
              "      <th>date</th>\n",
              "      <th>distance</th>\n",
              "      <th>field_condition</th>\n",
              "      <th>field_type</th>\n",
              "      <th>name</th>\n",
              "      <th>place</th>\n",
              "      <th>race_id</th>\n",
              "      <th>race_round</th>\n",
              "      <th>start_time</th>\n",
              "      <th>weather</th>\n",
              "    </tr>\n",
              "  </thead>\n",
              "  <tbody>\n",
              "    <tr>\n",
              "      <th>0</th>\n",
              "      <td>右</td>\n",
              "      <td>2020/6/22</td>\n",
              "      <td>1400</td>\n",
              "      <td>不</td>\n",
              "      <td>ダ</td>\n",
              "      <td>タイタン賞競走</td>\n",
              "      <td>大井</td>\n",
              "      <td>202044062212</td>\n",
              "      <td>12R</td>\n",
              "      <td>20:50</td>\n",
              "      <td>雨</td>\n",
              "    </tr>\n",
              "    <tr>\n",
              "      <th>1</th>\n",
              "      <td>右</td>\n",
              "      <td>2020/6/22</td>\n",
              "      <td>1800</td>\n",
              "      <td>不</td>\n",
              "      <td>ダ</td>\n",
              "      <td>ポートサイド賞競走</td>\n",
              "      <td>大井</td>\n",
              "      <td>202044062211</td>\n",
              "      <td>11R</td>\n",
              "      <td>20:10</td>\n",
              "      <td>雨</td>\n",
              "    </tr>\n",
              "    <tr>\n",
              "      <th>2</th>\n",
              "      <td>右</td>\n",
              "      <td>2020/6/22</td>\n",
              "      <td>1200</td>\n",
              "      <td>不</td>\n",
              "      <td>ダ</td>\n",
              "      <td>C1九　十11</td>\n",
              "      <td>大井</td>\n",
              "      <td>202044062210</td>\n",
              "      <td>10R</td>\n",
              "      <td>19:30</td>\n",
              "      <td>雨</td>\n",
              "    </tr>\n",
              "    <tr>\n",
              "      <th>3</th>\n",
              "      <td>右</td>\n",
              "      <td>2020/6/22</td>\n",
              "      <td>1400</td>\n",
              "      <td>不</td>\n",
              "      <td>ダ</td>\n",
              "      <td>C1九　十11</td>\n",
              "      <td>大井</td>\n",
              "      <td>202044062209</td>\n",
              "      <td>9R</td>\n",
              "      <td>18:55</td>\n",
              "      <td>雨</td>\n",
              "    </tr>\n",
              "    <tr>\n",
              "      <th>4</th>\n",
              "      <td>右</td>\n",
              "      <td>2020/6/22</td>\n",
              "      <td>1600</td>\n",
              "      <td>不</td>\n",
              "      <td>ダ</td>\n",
              "      <td>C1九　十11</td>\n",
              "      <td>大井</td>\n",
              "      <td>202044062208</td>\n",
              "      <td>8R</td>\n",
              "      <td>18:20</td>\n",
              "      <td>雨</td>\n",
              "    </tr>\n",
              "  </tbody>\n",
              "</table>\n",
              "</div>"
            ],
            "text/plain": [
              "  clockwise       date  distance  ... race_round start_time weather\n",
              "0         右  2020/6/22      1400  ...        12R      20:50       雨\n",
              "1         右  2020/6/22      1800  ...        11R      20:10       雨\n",
              "2         右  2020/6/22      1200  ...        10R      19:30       雨\n",
              "3         右  2020/6/22      1400  ...         9R      18:55       雨\n",
              "4         右  2020/6/22      1600  ...         8R      18:20       雨\n",
              "\n",
              "[5 rows x 11 columns]"
            ]
          },
          "metadata": {
            "tags": []
          },
          "execution_count": 68
        }
      ]
    },
    {
      "cell_type": "code",
      "metadata": {
        "id": "I4wqqv9jgRZJ",
        "colab_type": "code",
        "colab": {
          "base_uri": "https://localhost:8080/",
          "height": 204
        },
        "outputId": "7655a073-ca1a-415d-d373-94110b0bf7a8"
      },
      "source": [
        "horse_df.head()"
      ],
      "execution_count": 69,
      "outputs": [
        {
          "output_type": "execute_result",
          "data": {
            "text/html": [
              "<div>\n",
              "<style scoped>\n",
              "    .dataframe tbody tr th:only-of-type {\n",
              "        vertical-align: middle;\n",
              "    }\n",
              "\n",
              "    .dataframe tbody tr th {\n",
              "        vertical-align: top;\n",
              "    }\n",
              "\n",
              "    .dataframe thead th {\n",
              "        text-align: right;\n",
              "    }\n",
              "</style>\n",
              "<table border=\"1\" class=\"dataframe\">\n",
              "  <thead>\n",
              "    <tr style=\"text-align: right;\">\n",
              "      <th></th>\n",
              "      <th>agari</th>\n",
              "      <th>age</th>\n",
              "      <th>frame_number</th>\n",
              "      <th>horse_number</th>\n",
              "      <th>horse_weight</th>\n",
              "      <th>jockey</th>\n",
              "      <th>name</th>\n",
              "      <th>popular</th>\n",
              "      <th>race_date</th>\n",
              "      <th>race_id</th>\n",
              "      <th>race_name</th>\n",
              "      <th>rank</th>\n",
              "      <th>time</th>\n",
              "      <th>weight</th>\n",
              "      <th>win</th>\n",
              "    </tr>\n",
              "  </thead>\n",
              "  <tbody>\n",
              "    <tr>\n",
              "      <th>0</th>\n",
              "      <td>38.1</td>\n",
              "      <td>牡3</td>\n",
              "      <td>7.0</td>\n",
              "      <td>13</td>\n",
              "      <td>511(-5)</td>\n",
              "      <td>森泰斗</td>\n",
              "      <td>ワイルドホース</td>\n",
              "      <td>2.0</td>\n",
              "      <td>2020/6/22</td>\n",
              "      <td>202044062212</td>\n",
              "      <td>タイタン賞競走</td>\n",
              "      <td>1</td>\n",
              "      <td>1:28.5</td>\n",
              "      <td>54.0</td>\n",
              "      <td>3.7</td>\n",
              "    </tr>\n",
              "    <tr>\n",
              "      <th>1</th>\n",
              "      <td>38.1</td>\n",
              "      <td>牝5</td>\n",
              "      <td>6.0</td>\n",
              "      <td>11</td>\n",
              "      <td>475(-2)</td>\n",
              "      <td>山崎誠士</td>\n",
              "      <td>クインズオライリー</td>\n",
              "      <td>12.0</td>\n",
              "      <td>2020/6/22</td>\n",
              "      <td>202044062212</td>\n",
              "      <td>タイタン賞競走</td>\n",
              "      <td>2</td>\n",
              "      <td>1:28.7</td>\n",
              "      <td>54.0</td>\n",
              "      <td>81.4</td>\n",
              "    </tr>\n",
              "    <tr>\n",
              "      <th>2</th>\n",
              "      <td>38.6</td>\n",
              "      <td>セ6</td>\n",
              "      <td>3.0</td>\n",
              "      <td>4</td>\n",
              "      <td>469(+2)</td>\n",
              "      <td>西啓太</td>\n",
              "      <td>メダーリアフレイム</td>\n",
              "      <td>4.0</td>\n",
              "      <td>2020/6/22</td>\n",
              "      <td>202044062212</td>\n",
              "      <td>タイタン賞競走</td>\n",
              "      <td>3</td>\n",
              "      <td>1:28.8</td>\n",
              "      <td>56.0</td>\n",
              "      <td>8.6</td>\n",
              "    </tr>\n",
              "    <tr>\n",
              "      <th>3</th>\n",
              "      <td>37.9</td>\n",
              "      <td>牡4</td>\n",
              "      <td>8.0</td>\n",
              "      <td>14</td>\n",
              "      <td>526(+6)</td>\n",
              "      <td>藤本現暉</td>\n",
              "      <td>ゴールドプリンス</td>\n",
              "      <td>8.0</td>\n",
              "      <td>2020/6/22</td>\n",
              "      <td>202044062212</td>\n",
              "      <td>タイタン賞競走</td>\n",
              "      <td>4</td>\n",
              "      <td>1:28.8</td>\n",
              "      <td>56.0</td>\n",
              "      <td>34.4</td>\n",
              "    </tr>\n",
              "    <tr>\n",
              "      <th>4</th>\n",
              "      <td>38.5</td>\n",
              "      <td>牝5</td>\n",
              "      <td>4.0</td>\n",
              "      <td>7</td>\n",
              "      <td>475(+6)</td>\n",
              "      <td>藤田凌</td>\n",
              "      <td>イグレット</td>\n",
              "      <td>9.0</td>\n",
              "      <td>2020/6/22</td>\n",
              "      <td>202044062212</td>\n",
              "      <td>タイタン賞競走</td>\n",
              "      <td>5</td>\n",
              "      <td>1:28.9</td>\n",
              "      <td>54.0</td>\n",
              "      <td>34.8</td>\n",
              "    </tr>\n",
              "  </tbody>\n",
              "</table>\n",
              "</div>"
            ],
            "text/plain": [
              "   agari age  frame_number  horse_number  ... rank    time weight   win\n",
              "0   38.1  牡3           7.0            13  ...    1  1:28.5   54.0   3.7\n",
              "1   38.1  牝5           6.0            11  ...    2  1:28.7   54.0  81.4\n",
              "2   38.6  セ6           3.0             4  ...    3  1:28.8   56.0   8.6\n",
              "3   37.9  牡4           8.0            14  ...    4  1:28.8   56.0  34.4\n",
              "4   38.5  牝5           4.0             7  ...    5  1:28.9   54.0  34.8\n",
              "\n",
              "[5 rows x 15 columns]"
            ]
          },
          "metadata": {
            "tags": []
          },
          "execution_count": 69
        }
      ]
    },
    {
      "cell_type": "markdown",
      "metadata": {
        "id": "h3dVS7QBgeK5",
        "colab_type": "text"
      },
      "source": [
        "# データの概観・分析"
      ]
    },
    {
      "cell_type": "code",
      "metadata": {
        "id": "Jtapb3SUU161",
        "colab_type": "code",
        "colab": {
          "base_uri": "https://localhost:8080/",
          "height": 323
        },
        "outputId": "048e6d4e-49e6-49dc-96c4-feff0f04226e"
      },
      "source": [
        "race_df.info()"
      ],
      "execution_count": 70,
      "outputs": [
        {
          "output_type": "stream",
          "text": [
            "<class 'pandas.core.frame.DataFrame'>\n",
            "RangeIndex: 27532 entries, 0 to 27531\n",
            "Data columns (total 11 columns):\n",
            " #   Column           Non-Null Count  Dtype \n",
            "---  ------           --------------  ----- \n",
            " 0   clockwise        27532 non-null  object\n",
            " 1   date             27532 non-null  object\n",
            " 2   distance         27532 non-null  int64 \n",
            " 3   field_condition  25100 non-null  object\n",
            " 4   field_type       25100 non-null  object\n",
            " 5   name             27532 non-null  object\n",
            " 6   place            27532 non-null  object\n",
            " 7   race_id          27532 non-null  object\n",
            " 8   race_round       27532 non-null  object\n",
            " 9   start_time       26755 non-null  object\n",
            " 10  weather          26690 non-null  object\n",
            "dtypes: int64(1), object(10)\n",
            "memory usage: 2.3+ MB\n"
          ],
          "name": "stdout"
        }
      ]
    },
    {
      "cell_type": "code",
      "metadata": {
        "id": "YagNd4jrVBvB",
        "colab_type": "code",
        "colab": {
          "base_uri": "https://localhost:8080/",
          "height": 391
        },
        "outputId": "4f4c489e-805c-4a52-d396-1cba1046b902"
      },
      "source": [
        "horse_df.info()"
      ],
      "execution_count": 71,
      "outputs": [
        {
          "output_type": "stream",
          "text": [
            "<class 'pandas.core.frame.DataFrame'>\n",
            "RangeIndex: 293006 entries, 0 to 293005\n",
            "Data columns (total 15 columns):\n",
            " #   Column        Non-Null Count   Dtype  \n",
            "---  ------        --------------   -----  \n",
            " 0   agari         264082 non-null  float64\n",
            " 1   age           293005 non-null  object \n",
            " 2   frame_number  290217 non-null  float64\n",
            " 3   horse_number  293006 non-null  int64  \n",
            " 4   horse_weight  293006 non-null  object \n",
            " 5   jockey        291874 non-null  object \n",
            " 6   name          293003 non-null  object \n",
            " 7   popular       289280 non-null  float64\n",
            " 8   race_date     293006 non-null  object \n",
            " 9   race_id       293006 non-null  object \n",
            " 10  race_name     293006 non-null  object \n",
            " 11  rank          293006 non-null  int64  \n",
            " 12  time          286445 non-null  object \n",
            " 13  weight        293004 non-null  float64\n",
            " 14  win           293006 non-null  object \n",
            "dtypes: float64(4), int64(2), object(9)\n",
            "memory usage: 33.5+ MB\n"
          ],
          "name": "stdout"
        }
      ]
    },
    {
      "cell_type": "markdown",
      "metadata": {
        "id": "CFkPnn8BUsq9",
        "colab_type": "text"
      },
      "source": [
        "## データ数"
      ]
    },
    {
      "cell_type": "code",
      "metadata": {
        "id": "hLknNYrsVJQg",
        "colab_type": "code",
        "colab": {
          "base_uri": "https://localhost:8080/",
          "height": 51
        },
        "outputId": "2057632f-2803-4041-8488-8c34e37eefda"
      },
      "source": [
        "print('race:', race_df.shape[0])\n",
        "print('horse:', horse_df.shape[0])"
      ],
      "execution_count": 72,
      "outputs": [
        {
          "output_type": "stream",
          "text": [
            "race: 27532\n",
            "horse: 293006\n"
          ],
          "name": "stdout"
        }
      ]
    },
    {
      "cell_type": "markdown",
      "metadata": {
        "id": "8mtk73dEVoFK",
        "colab_type": "text"
      },
      "source": [
        "## カラム"
      ]
    },
    {
      "cell_type": "code",
      "metadata": {
        "id": "SeM7JtynVviJ",
        "colab_type": "code",
        "colab": {
          "base_uri": "https://localhost:8080/",
          "height": 68
        },
        "outputId": "51d81099-6bb3-4ce0-86f0-61ad04c2f46b"
      },
      "source": [
        "race_df.columns"
      ],
      "execution_count": 73,
      "outputs": [
        {
          "output_type": "execute_result",
          "data": {
            "text/plain": [
              "Index(['clockwise', 'date', 'distance', 'field_condition', 'field_type',\n",
              "       'name', 'place', 'race_id', 'race_round', 'start_time', 'weather'],\n",
              "      dtype='object')"
            ]
          },
          "metadata": {
            "tags": []
          },
          "execution_count": 73
        }
      ]
    },
    {
      "cell_type": "code",
      "metadata": {
        "id": "MLWoHDA7Vzjc",
        "colab_type": "code",
        "colab": {
          "base_uri": "https://localhost:8080/",
          "height": 85
        },
        "outputId": "689ccbe6-a434-4dfe-af6b-3f7b33f4d7c5"
      },
      "source": [
        "horse_df.columns"
      ],
      "execution_count": 74,
      "outputs": [
        {
          "output_type": "execute_result",
          "data": {
            "text/plain": [
              "Index(['agari', 'age', 'frame_number', 'horse_number', 'horse_weight',\n",
              "       'jockey', 'name', 'popular', 'race_date', 'race_id', 'race_name',\n",
              "       'rank', 'time', 'weight', 'win'],\n",
              "      dtype='object')"
            ]
          },
          "metadata": {
            "tags": []
          },
          "execution_count": 74
        }
      ]
    },
    {
      "cell_type": "markdown",
      "metadata": {
        "id": "rbjjfDS4Um7G",
        "colab_type": "text"
      },
      "source": [
        "## 欠損値の確認"
      ]
    },
    {
      "cell_type": "markdown",
      "metadata": {
        "id": "AAhf8PfSnefR",
        "colab_type": "text"
      },
      "source": [
        "### レース"
      ]
    },
    {
      "cell_type": "code",
      "metadata": {
        "id": "3pWbdJ5VgY3o",
        "colab_type": "code",
        "colab": {
          "base_uri": "https://localhost:8080/",
          "height": 221
        },
        "outputId": "741000c4-cd73-4763-f01c-2d9b1c7c6c03"
      },
      "source": [
        "race_df.isnull().sum()"
      ],
      "execution_count": 75,
      "outputs": [
        {
          "output_type": "execute_result",
          "data": {
            "text/plain": [
              "clockwise             0\n",
              "date                  0\n",
              "distance              0\n",
              "field_condition    2432\n",
              "field_type         2432\n",
              "name                  0\n",
              "place                 0\n",
              "race_id               0\n",
              "race_round            0\n",
              "start_time          777\n",
              "weather             842\n",
              "dtype: int64"
            ]
          },
          "metadata": {
            "tags": []
          },
          "execution_count": 75
        }
      ]
    },
    {
      "cell_type": "markdown",
      "metadata": {
        "id": "NfDonIuXBa3C",
        "colab_type": "text"
      },
      "source": [
        "レース\n",
        "\n",
        "- field_conditionとfield_typeがないのは障害レースの可能性あり\n",
        "  - 同じデータ\n",
        "  - 障害レースにはfield conditionとfield_typeがない\n",
        "  - 学習データとしては削除しても良さそう\n",
        "- start_timeがないのはレースが中止？\n",
        "  - 海外のレースがほとんど\n",
        "  - 学習データとしては削除しても良さそう\n",
        "- weatherがないのは？？\n",
        "  - 海外のレースでない物がある（start_timeがないのと同じ）\n",
        "  - 日本のレースはいくつか欠損している\n",
        "    - 開催されていないレースなのでデータ削除"
      ]
    },
    {
      "cell_type": "markdown",
      "metadata": {
        "id": "no00O24nLzkZ",
        "colab_type": "text"
      },
      "source": [
        "field_conditionとfield_typeが欠損しているデータ"
      ]
    },
    {
      "cell_type": "code",
      "metadata": {
        "id": "g2ekcaL_Il_R",
        "colab_type": "code",
        "colab": {
          "base_uri": "https://localhost:8080/",
          "height": 51
        },
        "outputId": "235d147e-f2a2-4aee-d8dc-15553ac92e03"
      },
      "source": [
        "(race_df[race_df['field_condition'].isnull()]['race_id'] == race_df[race_df['field_type'].isnull()]['race_id']).value_counts()"
      ],
      "execution_count": 76,
      "outputs": [
        {
          "output_type": "execute_result",
          "data": {
            "text/plain": [
              "True    2432\n",
              "Name: race_id, dtype: int64"
            ]
          },
          "metadata": {
            "tags": []
          },
          "execution_count": 76
        }
      ]
    },
    {
      "cell_type": "code",
      "metadata": {
        "id": "VQdCLw8HL3s8",
        "colab_type": "code",
        "colab": {
          "base_uri": "https://localhost:8080/",
          "height": 359
        },
        "outputId": "ea72d26f-388c-4b4f-c425-38afb2d35c9d"
      },
      "source": [
        "race_df[race_df['field_condition'].isnull()].head(10)"
      ],
      "execution_count": 89,
      "outputs": [
        {
          "output_type": "execute_result",
          "data": {
            "text/html": [
              "<div>\n",
              "<style scoped>\n",
              "    .dataframe tbody tr th:only-of-type {\n",
              "        vertical-align: middle;\n",
              "    }\n",
              "\n",
              "    .dataframe tbody tr th {\n",
              "        vertical-align: top;\n",
              "    }\n",
              "\n",
              "    .dataframe thead th {\n",
              "        text-align: right;\n",
              "    }\n",
              "</style>\n",
              "<table border=\"1\" class=\"dataframe\">\n",
              "  <thead>\n",
              "    <tr style=\"text-align: right;\">\n",
              "      <th></th>\n",
              "      <th>clockwise</th>\n",
              "      <th>date</th>\n",
              "      <th>distance</th>\n",
              "      <th>field_condition</th>\n",
              "      <th>field_type</th>\n",
              "      <th>name</th>\n",
              "      <th>place</th>\n",
              "      <th>race_id</th>\n",
              "      <th>race_round</th>\n",
              "      <th>start_time</th>\n",
              "      <th>weather</th>\n",
              "    </tr>\n",
              "  </thead>\n",
              "  <tbody>\n",
              "    <tr>\n",
              "      <th>24</th>\n",
              "      <td>00</td>\n",
              "      <td>2020/6/22</td>\n",
              "      <td>200</td>\n",
              "      <td>NaN</td>\n",
              "      <td>NaN</td>\n",
              "      <td>B3ー6</td>\n",
              "      <td>帯広(ば)</td>\n",
              "      <td>202065062211</td>\n",
              "      <td>11R</td>\n",
              "      <td>20:45</td>\n",
              "      <td>曇</td>\n",
              "    </tr>\n",
              "    <tr>\n",
              "      <th>25</th>\n",
              "      <td>00</td>\n",
              "      <td>2020/6/22</td>\n",
              "      <td>200</td>\n",
              "      <td>NaN</td>\n",
              "      <td>NaN</td>\n",
              "      <td>第11回ゴールドトロ</td>\n",
              "      <td>帯広(ば)</td>\n",
              "      <td>202065062210</td>\n",
              "      <td>10R</td>\n",
              "      <td>20:05</td>\n",
              "      <td>曇</td>\n",
              "    </tr>\n",
              "    <tr>\n",
              "      <th>26</th>\n",
              "      <td>00</td>\n",
              "      <td>2020/6/22</td>\n",
              "      <td>200</td>\n",
              "      <td>NaN</td>\n",
              "      <td>NaN</td>\n",
              "      <td>B4ー3</td>\n",
              "      <td>帯広(ば)</td>\n",
              "      <td>202065062209</td>\n",
              "      <td>9R</td>\n",
              "      <td>19:25</td>\n",
              "      <td>曇</td>\n",
              "    </tr>\n",
              "    <tr>\n",
              "      <th>27</th>\n",
              "      <td>00</td>\n",
              "      <td>2020/6/22</td>\n",
              "      <td>200</td>\n",
              "      <td>NaN</td>\n",
              "      <td>NaN</td>\n",
              "      <td>B4ー7</td>\n",
              "      <td>帯広(ば)</td>\n",
              "      <td>202065062208</td>\n",
              "      <td>8R</td>\n",
              "      <td>18:45</td>\n",
              "      <td>曇</td>\n",
              "    </tr>\n",
              "    <tr>\n",
              "      <th>28</th>\n",
              "      <td>00</td>\n",
              "      <td>2020/6/22</td>\n",
              "      <td>200</td>\n",
              "      <td>NaN</td>\n",
              "      <td>NaN</td>\n",
              "      <td>B2ー3</td>\n",
              "      <td>帯広(ば)</td>\n",
              "      <td>202065062207</td>\n",
              "      <td>7R</td>\n",
              "      <td>18:10</td>\n",
              "      <td>曇</td>\n",
              "    </tr>\n",
              "    <tr>\n",
              "      <th>29</th>\n",
              "      <td>00</td>\n",
              "      <td>2020/6/22</td>\n",
              "      <td>200</td>\n",
              "      <td>NaN</td>\n",
              "      <td>NaN</td>\n",
              "      <td>C1ー4</td>\n",
              "      <td>帯広(ば)</td>\n",
              "      <td>202065062206</td>\n",
              "      <td>6R</td>\n",
              "      <td>17:35</td>\n",
              "      <td>曇</td>\n",
              "    </tr>\n",
              "    <tr>\n",
              "      <th>30</th>\n",
              "      <td>00</td>\n",
              "      <td>2020/6/22</td>\n",
              "      <td>200</td>\n",
              "      <td>NaN</td>\n",
              "      <td>NaN</td>\n",
              "      <td>2歳　未受賞</td>\n",
              "      <td>帯広(ば)</td>\n",
              "      <td>202065062205</td>\n",
              "      <td>5R</td>\n",
              "      <td>17:00</td>\n",
              "      <td>曇</td>\n",
              "    </tr>\n",
              "    <tr>\n",
              "      <th>31</th>\n",
              "      <td>00</td>\n",
              "      <td>2020/6/22</td>\n",
              "      <td>200</td>\n",
              "      <td>NaN</td>\n",
              "      <td>NaN</td>\n",
              "      <td>2歳　新馬</td>\n",
              "      <td>帯広(ば)</td>\n",
              "      <td>202065062204</td>\n",
              "      <td>4R</td>\n",
              "      <td>16:25</td>\n",
              "      <td>曇</td>\n",
              "    </tr>\n",
              "    <tr>\n",
              "      <th>32</th>\n",
              "      <td>00</td>\n",
              "      <td>2020/6/22</td>\n",
              "      <td>200</td>\n",
              "      <td>NaN</td>\n",
              "      <td>NaN</td>\n",
              "      <td>2歳　新馬</td>\n",
              "      <td>帯広(ば)</td>\n",
              "      <td>202065062203</td>\n",
              "      <td>3R</td>\n",
              "      <td>15:50</td>\n",
              "      <td>曇</td>\n",
              "    </tr>\n",
              "    <tr>\n",
              "      <th>33</th>\n",
              "      <td>00</td>\n",
              "      <td>2020/6/22</td>\n",
              "      <td>200</td>\n",
              "      <td>NaN</td>\n",
              "      <td>NaN</td>\n",
              "      <td>2歳　新馬</td>\n",
              "      <td>帯広(ば)</td>\n",
              "      <td>202065062202</td>\n",
              "      <td>2R</td>\n",
              "      <td>15:15</td>\n",
              "      <td>曇</td>\n",
              "    </tr>\n",
              "  </tbody>\n",
              "</table>\n",
              "</div>"
            ],
            "text/plain": [
              "   clockwise       date  distance  ... race_round start_time weather\n",
              "24        00  2020/6/22       200  ...        11R      20:45       曇\n",
              "25        00  2020/6/22       200  ...        10R      20:05       曇\n",
              "26        00  2020/6/22       200  ...         9R      19:25       曇\n",
              "27        00  2020/6/22       200  ...         8R      18:45       曇\n",
              "28        00  2020/6/22       200  ...         7R      18:10       曇\n",
              "29        00  2020/6/22       200  ...         6R      17:35       曇\n",
              "30        00  2020/6/22       200  ...         5R      17:00       曇\n",
              "31        00  2020/6/22       200  ...         4R      16:25       曇\n",
              "32        00  2020/6/22       200  ...         3R      15:50       曇\n",
              "33        00  2020/6/22       200  ...         2R      15:15       曇\n",
              "\n",
              "[10 rows x 11 columns]"
            ]
          },
          "metadata": {
            "tags": []
          },
          "execution_count": 89
        }
      ]
    },
    {
      "cell_type": "code",
      "metadata": {
        "id": "piSJGajDqAiy",
        "colab_type": "code",
        "colab": {
          "base_uri": "https://localhost:8080/",
          "height": 51
        },
        "outputId": "02d39e52-d2f8-4b0f-e58f-4d0e5892f482"
      },
      "source": [
        "race_df[race_df['field_condition'].isnull()]['place'].value_counts()"
      ],
      "execution_count": 78,
      "outputs": [
        {
          "output_type": "execute_result",
          "data": {
            "text/plain": [
              "帯広(ば)    2432\n",
              "Name: place, dtype: int64"
            ]
          },
          "metadata": {
            "tags": []
          },
          "execution_count": 78
        }
      ]
    },
    {
      "cell_type": "markdown",
      "metadata": {
        "id": "h59Gg4FVlDYH",
        "colab_type": "text"
      },
      "source": [
        "帯広で開催されるのは、短距離（200m）の特殊なレースなので、データを削除する。"
      ]
    },
    {
      "cell_type": "code",
      "metadata": {
        "id": "P3I3yKR9lCsN",
        "colab_type": "code",
        "colab": {}
      },
      "source": [
        "race_df = race_df.dropna(subset=['field_condition'])"
      ],
      "execution_count": 92,
      "outputs": []
    },
    {
      "cell_type": "code",
      "metadata": {
        "id": "bP-nfVC2ljrQ",
        "colab_type": "code",
        "colab": {
          "base_uri": "https://localhost:8080/",
          "height": 221
        },
        "outputId": "e8861950-4a85-44c5-d16e-c3081d873082"
      },
      "source": [
        "race_df.isnull().sum()"
      ],
      "execution_count": 93,
      "outputs": [
        {
          "output_type": "execute_result",
          "data": {
            "text/plain": [
              "clockwise            0\n",
              "date                 0\n",
              "distance             0\n",
              "field_condition      0\n",
              "field_type           0\n",
              "name                 0\n",
              "place                0\n",
              "race_id              0\n",
              "race_round           0\n",
              "start_time         777\n",
              "weather            842\n",
              "dtype: int64"
            ]
          },
          "metadata": {
            "tags": []
          },
          "execution_count": 93
        }
      ]
    },
    {
      "cell_type": "code",
      "metadata": {
        "id": "z9JEMU_bfu5J",
        "colab_type": "code",
        "colab": {
          "base_uri": "https://localhost:8080/",
          "height": 476
        },
        "outputId": "551402a8-816b-4d40-e032-62ee13f5ff27"
      },
      "source": [
        "race_df[race_df['start_time'].isnull()]['place'].value_counts()"
      ],
      "execution_count": 88,
      "outputs": [
        {
          "output_type": "execute_result",
          "data": {
            "text/plain": [
              "アメリカ        106\n",
              "イギリス        101\n",
              "オーストラリア      72\n",
              "シャティン        72\n",
              "メイダン         64\n",
              "ランドウ         44\n",
              "アイルランド       43\n",
              "サンタアニタ       40\n",
              "ロンシャン        31\n",
              "アスコット        29\n",
              "コーフィー        28\n",
              "フランス         26\n",
              "フレミントン       25\n",
              "ベルモント        13\n",
              "シャンティイ       12\n",
              "チャーチル        12\n",
              "アラブ首長国連邦     11\n",
              "ドイツ          10\n",
              "レパーズタウン      10\n",
              "ニュージーランド      8\n",
              "ドーヴィル         7\n",
              "カナダ           4\n",
              "ムーニーバレー       3\n",
              "カタール          3\n",
              "香港            2\n",
              "シンガポール        1\n",
              "Name: place, dtype: int64"
            ]
          },
          "metadata": {
            "tags": []
          },
          "execution_count": 88
        }
      ]
    },
    {
      "cell_type": "markdown",
      "metadata": {
        "id": "c-Hld5e-ilbQ",
        "colab_type": "text"
      },
      "source": [
        "レースに出ている馬のデータはどうなっているか"
      ]
    },
    {
      "cell_type": "code",
      "metadata": {
        "id": "hjihU4A0gsOU",
        "colab_type": "code",
        "colab": {
          "base_uri": "https://localhost:8080/",
          "height": 235
        },
        "outputId": "eff314dd-8688-4647-f0a8-82e2dd1dcfff"
      },
      "source": [
        "horse_df[horse_df['race_id']=='2020A0a00404']"
      ],
      "execution_count": 86,
      "outputs": [
        {
          "output_type": "execute_result",
          "data": {
            "text/html": [
              "<div>\n",
              "<style scoped>\n",
              "    .dataframe tbody tr th:only-of-type {\n",
              "        vertical-align: middle;\n",
              "    }\n",
              "\n",
              "    .dataframe tbody tr th {\n",
              "        vertical-align: top;\n",
              "    }\n",
              "\n",
              "    .dataframe thead th {\n",
              "        text-align: right;\n",
              "    }\n",
              "</style>\n",
              "<table border=\"1\" class=\"dataframe\">\n",
              "  <thead>\n",
              "    <tr style=\"text-align: right;\">\n",
              "      <th></th>\n",
              "      <th>agari</th>\n",
              "      <th>age</th>\n",
              "      <th>frame_number</th>\n",
              "      <th>horse_number</th>\n",
              "      <th>horse_weight</th>\n",
              "      <th>jockey</th>\n",
              "      <th>name</th>\n",
              "      <th>popular</th>\n",
              "      <th>race_date</th>\n",
              "      <th>race_id</th>\n",
              "      <th>race_name</th>\n",
              "      <th>rank</th>\n",
              "      <th>time</th>\n",
              "      <th>weight</th>\n",
              "      <th>win</th>\n",
              "    </tr>\n",
              "  </thead>\n",
              "  <tbody>\n",
              "    <tr>\n",
              "      <th>3068</th>\n",
              "      <td>NaN</td>\n",
              "      <td>セ4</td>\n",
              "      <td>NaN</td>\n",
              "      <td>6</td>\n",
              "      <td>計不</td>\n",
              "      <td>ドイル</td>\n",
              "      <td>Lord North</td>\n",
              "      <td>3.0</td>\n",
              "      <td>2020/6/17</td>\n",
              "      <td>2020A0a00404</td>\n",
              "      <td>プリンスオブウェール</td>\n",
              "      <td>1</td>\n",
              "      <td>2:05.63</td>\n",
              "      <td>57.0</td>\n",
              "      <td>---</td>\n",
              "    </tr>\n",
              "    <tr>\n",
              "      <th>3069</th>\n",
              "      <td>NaN</td>\n",
              "      <td>セ6</td>\n",
              "      <td>NaN</td>\n",
              "      <td>3</td>\n",
              "      <td>計不</td>\n",
              "      <td>ビュイッ</td>\n",
              "      <td>バーニーロイ</td>\n",
              "      <td>4.0</td>\n",
              "      <td>2020/6/17</td>\n",
              "      <td>2020A0a00404</td>\n",
              "      <td>プリンスオブウェール</td>\n",
              "      <td>2</td>\n",
              "      <td>NaN</td>\n",
              "      <td>57.0</td>\n",
              "      <td>---</td>\n",
              "    </tr>\n",
              "    <tr>\n",
              "      <th>3070</th>\n",
              "      <td>NaN</td>\n",
              "      <td>牡4</td>\n",
              "      <td>NaN</td>\n",
              "      <td>5</td>\n",
              "      <td>計不</td>\n",
              "      <td>ムーア</td>\n",
              "      <td>Japan</td>\n",
              "      <td>1.0</td>\n",
              "      <td>2020/6/17</td>\n",
              "      <td>2020A0a00404</td>\n",
              "      <td>プリンスオブウェール</td>\n",
              "      <td>3</td>\n",
              "      <td>NaN</td>\n",
              "      <td>57.0</td>\n",
              "      <td>---</td>\n",
              "    </tr>\n",
              "    <tr>\n",
              "      <th>3082</th>\n",
              "      <td>NaN</td>\n",
              "      <td>牡4</td>\n",
              "      <td>NaN</td>\n",
              "      <td>2</td>\n",
              "      <td>計不</td>\n",
              "      <td>デソウサ</td>\n",
              "      <td>Bangkok</td>\n",
              "      <td>7.0</td>\n",
              "      <td>2020/6/17</td>\n",
              "      <td>2020A0a00404</td>\n",
              "      <td>プリンスオブウェール</td>\n",
              "      <td>4</td>\n",
              "      <td>NaN</td>\n",
              "      <td>57.0</td>\n",
              "      <td>---</td>\n",
              "    </tr>\n",
              "    <tr>\n",
              "      <th>3083</th>\n",
              "      <td>NaN</td>\n",
              "      <td>牝4</td>\n",
              "      <td>NaN</td>\n",
              "      <td>7</td>\n",
              "      <td>計不</td>\n",
              "      <td>デットー</td>\n",
              "      <td>Mehdaayih</td>\n",
              "      <td>6.0</td>\n",
              "      <td>2020/6/17</td>\n",
              "      <td>2020A0a00404</td>\n",
              "      <td>プリンスオブウェール</td>\n",
              "      <td>5</td>\n",
              "      <td>NaN</td>\n",
              "      <td>55.5</td>\n",
              "      <td>---</td>\n",
              "    </tr>\n",
              "    <tr>\n",
              "      <th>3084</th>\n",
              "      <td>NaN</td>\n",
              "      <td>牡4</td>\n",
              "      <td>NaN</td>\n",
              "      <td>4</td>\n",
              "      <td>計不</td>\n",
              "      <td>ワトソン</td>\n",
              "      <td>Headman</td>\n",
              "      <td>5.0</td>\n",
              "      <td>2020/6/17</td>\n",
              "      <td>2020A0a00404</td>\n",
              "      <td>プリンスオブウェール</td>\n",
              "      <td>6</td>\n",
              "      <td>NaN</td>\n",
              "      <td>57.0</td>\n",
              "      <td>---</td>\n",
              "    </tr>\n",
              "  </tbody>\n",
              "</table>\n",
              "</div>"
            ],
            "text/plain": [
              "      agari age  frame_number  horse_number  ... rank     time weight  win\n",
              "3068    NaN  セ4           NaN             6  ...    1  2:05.63   57.0  ---\n",
              "3069    NaN  セ6           NaN             3  ...    2      NaN   57.0  ---\n",
              "3070    NaN  牡4           NaN             5  ...    3      NaN   57.0  ---\n",
              "3082    NaN  牡4           NaN             2  ...    4      NaN   57.0  ---\n",
              "3083    NaN  牝4           NaN             7  ...    5      NaN   55.5  ---\n",
              "3084    NaN  牡4           NaN             4  ...    6      NaN   57.0  ---\n",
              "\n",
              "[6 rows x 15 columns]"
            ]
          },
          "metadata": {
            "tags": []
          },
          "execution_count": 86
        }
      ]
    },
    {
      "cell_type": "markdown",
      "metadata": {
        "id": "Fff4kXY6lpeo",
        "colab_type": "text"
      },
      "source": [
        "海外のレースなのでデータを削除"
      ]
    },
    {
      "cell_type": "code",
      "metadata": {
        "id": "hS0g9KvzlpHT",
        "colab_type": "code",
        "colab": {}
      },
      "source": [
        "race_df = race_df.dropna(subset=['start_time'])"
      ],
      "execution_count": 94,
      "outputs": []
    },
    {
      "cell_type": "code",
      "metadata": {
        "id": "xwFgzzy3l4Lf",
        "colab_type": "code",
        "colab": {
          "base_uri": "https://localhost:8080/",
          "height": 221
        },
        "outputId": "c66383ef-e162-49a9-fa44-4c3694c24176"
      },
      "source": [
        "race_df.isnull().sum()"
      ],
      "execution_count": 95,
      "outputs": [
        {
          "output_type": "execute_result",
          "data": {
            "text/plain": [
              "clockwise           0\n",
              "date                0\n",
              "distance            0\n",
              "field_condition     0\n",
              "field_type          0\n",
              "name                0\n",
              "place               0\n",
              "race_id             0\n",
              "race_round          0\n",
              "start_time          0\n",
              "weather            71\n",
              "dtype: int64"
            ]
          },
          "metadata": {
            "tags": []
          },
          "execution_count": 95
        }
      ]
    },
    {
      "cell_type": "code",
      "metadata": {
        "id": "UyFpGXf7h9pw",
        "colab_type": "code",
        "colab": {
          "base_uri": "https://localhost:8080/",
          "height": 359
        },
        "outputId": "8d7103e5-1745-4a2f-ae97-524d380ba738"
      },
      "source": [
        "race_df[race_df['weather'].isnull()].tail(10)"
      ],
      "execution_count": 99,
      "outputs": [
        {
          "output_type": "execute_result",
          "data": {
            "text/html": [
              "<div>\n",
              "<style scoped>\n",
              "    .dataframe tbody tr th:only-of-type {\n",
              "        vertical-align: middle;\n",
              "    }\n",
              "\n",
              "    .dataframe tbody tr th {\n",
              "        vertical-align: top;\n",
              "    }\n",
              "\n",
              "    .dataframe thead th {\n",
              "        text-align: right;\n",
              "    }\n",
              "</style>\n",
              "<table border=\"1\" class=\"dataframe\">\n",
              "  <thead>\n",
              "    <tr style=\"text-align: right;\">\n",
              "      <th></th>\n",
              "      <th>clockwise</th>\n",
              "      <th>date</th>\n",
              "      <th>distance</th>\n",
              "      <th>field_condition</th>\n",
              "      <th>field_type</th>\n",
              "      <th>name</th>\n",
              "      <th>place</th>\n",
              "      <th>race_id</th>\n",
              "      <th>race_round</th>\n",
              "      <th>start_time</th>\n",
              "      <th>weather</th>\n",
              "    </tr>\n",
              "  </thead>\n",
              "  <tbody>\n",
              "    <tr>\n",
              "      <th>19174</th>\n",
              "      <td>右</td>\n",
              "      <td>2019/6/18</td>\n",
              "      <td>1600</td>\n",
              "      <td>ダ1600m(右)</td>\n",
              "      <td>ダ</td>\n",
              "      <td>穂高特別</td>\n",
              "      <td>笠松</td>\n",
              "      <td>201947061810</td>\n",
              "      <td>10R</td>\n",
              "      <td>16:55</td>\n",
              "      <td>NaN</td>\n",
              "    </tr>\n",
              "    <tr>\n",
              "      <th>19175</th>\n",
              "      <td>右</td>\n",
              "      <td>2019/6/18</td>\n",
              "      <td>1400</td>\n",
              "      <td>ダ1400m(右)</td>\n",
              "      <td>ダ</td>\n",
              "      <td>白馬岳賞</td>\n",
              "      <td>笠松</td>\n",
              "      <td>201947061809</td>\n",
              "      <td>9R</td>\n",
              "      <td>16:20</td>\n",
              "      <td>NaN</td>\n",
              "    </tr>\n",
              "    <tr>\n",
              "      <th>19176</th>\n",
              "      <td>右</td>\n",
              "      <td>2019/6/18</td>\n",
              "      <td>1400</td>\n",
              "      <td>ダ1400m(右)</td>\n",
              "      <td>ダ</td>\n",
              "      <td>立山賞</td>\n",
              "      <td>笠松</td>\n",
              "      <td>201947061808</td>\n",
              "      <td>8R</td>\n",
              "      <td>15:45</td>\n",
              "      <td>NaN</td>\n",
              "    </tr>\n",
              "    <tr>\n",
              "      <th>19177</th>\n",
              "      <td>右</td>\n",
              "      <td>2019/6/18</td>\n",
              "      <td>1400</td>\n",
              "      <td>ダ1400m(右)</td>\n",
              "      <td>ダ</td>\n",
              "      <td>サラ系B4組</td>\n",
              "      <td>笠松</td>\n",
              "      <td>201947061807</td>\n",
              "      <td>7R</td>\n",
              "      <td>15:10</td>\n",
              "      <td>NaN</td>\n",
              "    </tr>\n",
              "    <tr>\n",
              "      <th>19178</th>\n",
              "      <td>右</td>\n",
              "      <td>2019/6/18</td>\n",
              "      <td>1400</td>\n",
              "      <td>ダ1400m(右)</td>\n",
              "      <td>ダ</td>\n",
              "      <td>サラ系C16組</td>\n",
              "      <td>笠松</td>\n",
              "      <td>201947061806</td>\n",
              "      <td>6R</td>\n",
              "      <td>14:35</td>\n",
              "      <td>NaN</td>\n",
              "    </tr>\n",
              "    <tr>\n",
              "      <th>19179</th>\n",
              "      <td>右</td>\n",
              "      <td>2019/6/18</td>\n",
              "      <td>1400</td>\n",
              "      <td>ダ1400m(右)</td>\n",
              "      <td>ダ</td>\n",
              "      <td>満仲一也ホールインワ</td>\n",
              "      <td>笠松</td>\n",
              "      <td>201947061805</td>\n",
              "      <td>5R</td>\n",
              "      <td>14:00</td>\n",
              "      <td>NaN</td>\n",
              "    </tr>\n",
              "    <tr>\n",
              "      <th>19180</th>\n",
              "      <td>右</td>\n",
              "      <td>2019/6/18</td>\n",
              "      <td>1400</td>\n",
              "      <td>ダ1400m(右)</td>\n",
              "      <td>ダ</td>\n",
              "      <td>サラ系C18組</td>\n",
              "      <td>笠松</td>\n",
              "      <td>201947061804</td>\n",
              "      <td>4R</td>\n",
              "      <td>13:25</td>\n",
              "      <td>NaN</td>\n",
              "    </tr>\n",
              "    <tr>\n",
              "      <th>19181</th>\n",
              "      <td>右</td>\n",
              "      <td>2019/6/18</td>\n",
              "      <td>1400</td>\n",
              "      <td>ダ1400m(右)</td>\n",
              "      <td>ダ</td>\n",
              "      <td>サラ系C20組</td>\n",
              "      <td>笠松</td>\n",
              "      <td>201947061803</td>\n",
              "      <td>3R</td>\n",
              "      <td>12:50</td>\n",
              "      <td>NaN</td>\n",
              "    </tr>\n",
              "    <tr>\n",
              "      <th>19182</th>\n",
              "      <td>右</td>\n",
              "      <td>2019/6/18</td>\n",
              "      <td>1400</td>\n",
              "      <td>ダ1400m(右)</td>\n",
              "      <td>ダ</td>\n",
              "      <td>サラ系C21組</td>\n",
              "      <td>笠松</td>\n",
              "      <td>201947061802</td>\n",
              "      <td>2R</td>\n",
              "      <td>12:15</td>\n",
              "      <td>NaN</td>\n",
              "    </tr>\n",
              "    <tr>\n",
              "      <th>19183</th>\n",
              "      <td>右</td>\n",
              "      <td>2019/6/18</td>\n",
              "      <td>800</td>\n",
              "      <td>ダ800m(右)</td>\n",
              "      <td>ダ</td>\n",
              "      <td>サラ系C19組</td>\n",
              "      <td>笠松</td>\n",
              "      <td>201947061801</td>\n",
              "      <td>1R</td>\n",
              "      <td>11:45</td>\n",
              "      <td>NaN</td>\n",
              "    </tr>\n",
              "  </tbody>\n",
              "</table>\n",
              "</div>"
            ],
            "text/plain": [
              "      clockwise       date  distance  ... race_round start_time weather\n",
              "19174         右  2019/6/18      1600  ...        10R      16:55     NaN\n",
              "19175         右  2019/6/18      1400  ...         9R      16:20     NaN\n",
              "19176         右  2019/6/18      1400  ...         8R      15:45     NaN\n",
              "19177         右  2019/6/18      1400  ...         7R      15:10     NaN\n",
              "19178         右  2019/6/18      1400  ...         6R      14:35     NaN\n",
              "19179         右  2019/6/18      1400  ...         5R      14:00     NaN\n",
              "19180         右  2019/6/18      1400  ...         4R      13:25     NaN\n",
              "19181         右  2019/6/18      1400  ...         3R      12:50     NaN\n",
              "19182         右  2019/6/18      1400  ...         2R      12:15     NaN\n",
              "19183         右  2019/6/18       800  ...         1R      11:45     NaN\n",
              "\n",
              "[10 rows x 11 columns]"
            ]
          },
          "metadata": {
            "tags": []
          },
          "execution_count": 99
        }
      ]
    },
    {
      "cell_type": "code",
      "metadata": {
        "id": "T_3VW9dUmWxX",
        "colab_type": "code",
        "colab": {
          "base_uri": "https://localhost:8080/",
          "height": 328
        },
        "outputId": "cb0e2d3b-379b-4b87-941a-5ef863cba289"
      },
      "source": [
        "horse_df[horse_df['race_id']=='201947061809']"
      ],
      "execution_count": 100,
      "outputs": [
        {
          "output_type": "execute_result",
          "data": {
            "text/html": [
              "<div>\n",
              "<style scoped>\n",
              "    .dataframe tbody tr th:only-of-type {\n",
              "        vertical-align: middle;\n",
              "    }\n",
              "\n",
              "    .dataframe tbody tr th {\n",
              "        vertical-align: top;\n",
              "    }\n",
              "\n",
              "    .dataframe thead th {\n",
              "        text-align: right;\n",
              "    }\n",
              "</style>\n",
              "<table border=\"1\" class=\"dataframe\">\n",
              "  <thead>\n",
              "    <tr style=\"text-align: right;\">\n",
              "      <th></th>\n",
              "      <th>agari</th>\n",
              "      <th>age</th>\n",
              "      <th>frame_number</th>\n",
              "      <th>horse_number</th>\n",
              "      <th>horse_weight</th>\n",
              "      <th>jockey</th>\n",
              "      <th>name</th>\n",
              "      <th>popular</th>\n",
              "      <th>race_date</th>\n",
              "      <th>race_id</th>\n",
              "      <th>race_name</th>\n",
              "      <th>rank</th>\n",
              "      <th>time</th>\n",
              "      <th>weight</th>\n",
              "      <th>win</th>\n",
              "    </tr>\n",
              "  </thead>\n",
              "  <tbody>\n",
              "    <tr>\n",
              "      <th>203930</th>\n",
              "      <td>NaN</td>\n",
              "      <td>セ7</td>\n",
              "      <td>1.0</td>\n",
              "      <td>1</td>\n",
              "      <td>計不</td>\n",
              "      <td>松本剛志</td>\n",
              "      <td>ディーエスノーブル</td>\n",
              "      <td>NaN</td>\n",
              "      <td>2019/6/18</td>\n",
              "      <td>201947061809</td>\n",
              "      <td>白馬岳賞</td>\n",
              "      <td>1</td>\n",
              "      <td>NaN</td>\n",
              "      <td>56.0</td>\n",
              "      <td>---</td>\n",
              "    </tr>\n",
              "    <tr>\n",
              "      <th>203931</th>\n",
              "      <td>NaN</td>\n",
              "      <td>牡4</td>\n",
              "      <td>2.0</td>\n",
              "      <td>2</td>\n",
              "      <td>計不</td>\n",
              "      <td>藤原幹生</td>\n",
              "      <td>ハーリーバーリー</td>\n",
              "      <td>NaN</td>\n",
              "      <td>2019/6/18</td>\n",
              "      <td>201947061809</td>\n",
              "      <td>白馬岳賞</td>\n",
              "      <td>2</td>\n",
              "      <td>NaN</td>\n",
              "      <td>56.0</td>\n",
              "      <td>---</td>\n",
              "    </tr>\n",
              "    <tr>\n",
              "      <th>203935</th>\n",
              "      <td>NaN</td>\n",
              "      <td>牡4</td>\n",
              "      <td>3.0</td>\n",
              "      <td>3</td>\n",
              "      <td>計不</td>\n",
              "      <td>向山牧</td>\n",
              "      <td>ヒルノコルドバ</td>\n",
              "      <td>NaN</td>\n",
              "      <td>2019/6/18</td>\n",
              "      <td>201947061809</td>\n",
              "      <td>白馬岳賞</td>\n",
              "      <td>3</td>\n",
              "      <td>NaN</td>\n",
              "      <td>56.0</td>\n",
              "      <td>---</td>\n",
              "    </tr>\n",
              "    <tr>\n",
              "      <th>203936</th>\n",
              "      <td>NaN</td>\n",
              "      <td>牝4</td>\n",
              "      <td>4.0</td>\n",
              "      <td>4</td>\n",
              "      <td>計不</td>\n",
              "      <td>佐藤友則</td>\n",
              "      <td>バレンティーノ</td>\n",
              "      <td>NaN</td>\n",
              "      <td>2019/6/18</td>\n",
              "      <td>201947061809</td>\n",
              "      <td>白馬岳賞</td>\n",
              "      <td>4</td>\n",
              "      <td>NaN</td>\n",
              "      <td>54.0</td>\n",
              "      <td>---</td>\n",
              "    </tr>\n",
              "    <tr>\n",
              "      <th>203937</th>\n",
              "      <td>NaN</td>\n",
              "      <td>牝5</td>\n",
              "      <td>5.0</td>\n",
              "      <td>5</td>\n",
              "      <td>計不</td>\n",
              "      <td>東川慎</td>\n",
              "      <td>ヤマニンミモレット</td>\n",
              "      <td>NaN</td>\n",
              "      <td>2019/6/18</td>\n",
              "      <td>201947061809</td>\n",
              "      <td>白馬岳賞</td>\n",
              "      <td>5</td>\n",
              "      <td>NaN</td>\n",
              "      <td>51.0</td>\n",
              "      <td>---</td>\n",
              "    </tr>\n",
              "    <tr>\n",
              "      <th>203944</th>\n",
              "      <td>NaN</td>\n",
              "      <td>牝4</td>\n",
              "      <td>6.0</td>\n",
              "      <td>6</td>\n",
              "      <td>計不</td>\n",
              "      <td>宮下瞳</td>\n",
              "      <td>キラキラオーラ</td>\n",
              "      <td>NaN</td>\n",
              "      <td>2019/6/18</td>\n",
              "      <td>201947061809</td>\n",
              "      <td>白馬岳賞</td>\n",
              "      <td>6</td>\n",
              "      <td>NaN</td>\n",
              "      <td>52.0</td>\n",
              "      <td>---</td>\n",
              "    </tr>\n",
              "    <tr>\n",
              "      <th>203945</th>\n",
              "      <td>NaN</td>\n",
              "      <td>セ7</td>\n",
              "      <td>7.0</td>\n",
              "      <td>7</td>\n",
              "      <td>計不</td>\n",
              "      <td>高木健</td>\n",
              "      <td>ブラックバード</td>\n",
              "      <td>NaN</td>\n",
              "      <td>2019/6/18</td>\n",
              "      <td>201947061809</td>\n",
              "      <td>白馬岳賞</td>\n",
              "      <td>7</td>\n",
              "      <td>NaN</td>\n",
              "      <td>56.0</td>\n",
              "      <td>---</td>\n",
              "    </tr>\n",
              "    <tr>\n",
              "      <th>203946</th>\n",
              "      <td>NaN</td>\n",
              "      <td>牡4</td>\n",
              "      <td>8.0</td>\n",
              "      <td>8</td>\n",
              "      <td>計不</td>\n",
              "      <td>吉井友彦</td>\n",
              "      <td>ヤマニンフレッチェ</td>\n",
              "      <td>NaN</td>\n",
              "      <td>2019/6/18</td>\n",
              "      <td>201947061809</td>\n",
              "      <td>白馬岳賞</td>\n",
              "      <td>8</td>\n",
              "      <td>NaN</td>\n",
              "      <td>56.0</td>\n",
              "      <td>---</td>\n",
              "    </tr>\n",
              "    <tr>\n",
              "      <th>203947</th>\n",
              "      <td>NaN</td>\n",
              "      <td>牡8</td>\n",
              "      <td>8.0</td>\n",
              "      <td>9</td>\n",
              "      <td>計不</td>\n",
              "      <td>山下雅之</td>\n",
              "      <td>ジュガンティーヤ</td>\n",
              "      <td>NaN</td>\n",
              "      <td>2019/6/18</td>\n",
              "      <td>201947061809</td>\n",
              "      <td>白馬岳賞</td>\n",
              "      <td>9</td>\n",
              "      <td>NaN</td>\n",
              "      <td>56.0</td>\n",
              "      <td>---</td>\n",
              "    </tr>\n",
              "  </tbody>\n",
              "</table>\n",
              "</div>"
            ],
            "text/plain": [
              "        agari age  frame_number  horse_number  ... rank time weight  win\n",
              "203930    NaN  セ7           1.0             1  ...    1  NaN   56.0  ---\n",
              "203931    NaN  牡4           2.0             2  ...    2  NaN   56.0  ---\n",
              "203935    NaN  牡4           3.0             3  ...    3  NaN   56.0  ---\n",
              "203936    NaN  牝4           4.0             4  ...    4  NaN   54.0  ---\n",
              "203937    NaN  牝5           5.0             5  ...    5  NaN   51.0  ---\n",
              "203944    NaN  牝4           6.0             6  ...    6  NaN   52.0  ---\n",
              "203945    NaN  セ7           7.0             7  ...    7  NaN   56.0  ---\n",
              "203946    NaN  牡4           8.0             8  ...    8  NaN   56.0  ---\n",
              "203947    NaN  牡8           8.0             9  ...    9  NaN   56.0  ---\n",
              "\n",
              "[9 rows x 15 columns]"
            ]
          },
          "metadata": {
            "tags": []
          },
          "execution_count": 100
        }
      ]
    },
    {
      "cell_type": "code",
      "metadata": {
        "id": "nERqio40m-0U",
        "colab_type": "code",
        "colab": {
          "base_uri": "https://localhost:8080/",
          "height": 187
        },
        "outputId": "71a188e9-1192-4bb2-cad4-a0824890b875"
      },
      "source": [
        "race_df[race_df['weather'].isnull()]['date'].value_counts()"
      ],
      "execution_count": 101,
      "outputs": [
        {
          "output_type": "execute_result",
          "data": {
            "text/plain": [
              "2019/8/15     12\n",
              "2019/7/21     12\n",
              "2019/11/18    12\n",
              "2019/6/20     11\n",
              "2019/6/19     10\n",
              "2019/6/18     10\n",
              "2019/10/19     2\n",
              "2019/10/6      1\n",
              "2019/10/26     1\n",
              "Name: date, dtype: int64"
            ]
          },
          "metadata": {
            "tags": []
          },
          "execution_count": 101
        }
      ]
    },
    {
      "cell_type": "markdown",
      "metadata": {
        "id": "jydLa2OanTIH",
        "colab_type": "text"
      },
      "source": [
        "開催されていないレースのようなので削除"
      ]
    },
    {
      "cell_type": "code",
      "metadata": {
        "id": "Bik4jmmPnOEA",
        "colab_type": "code",
        "colab": {}
      },
      "source": [
        "race_df = race_df.dropna(subset=['weather'])"
      ],
      "execution_count": 103,
      "outputs": []
    },
    {
      "cell_type": "code",
      "metadata": {
        "id": "rTHCAsvbnbD4",
        "colab_type": "code",
        "colab": {
          "base_uri": "https://localhost:8080/",
          "height": 221
        },
        "outputId": "31520c12-37c1-4332-e8d3-4d62359cbf7a"
      },
      "source": [
        "race_df.isnull().sum()"
      ],
      "execution_count": 104,
      "outputs": [
        {
          "output_type": "execute_result",
          "data": {
            "text/plain": [
              "clockwise          0\n",
              "date               0\n",
              "distance           0\n",
              "field_condition    0\n",
              "field_type         0\n",
              "name               0\n",
              "place              0\n",
              "race_id            0\n",
              "race_round         0\n",
              "start_time         0\n",
              "weather            0\n",
              "dtype: int64"
            ]
          },
          "metadata": {
            "tags": []
          },
          "execution_count": 104
        }
      ]
    },
    {
      "cell_type": "markdown",
      "metadata": {
        "id": "HcLfSGXVnkZ2",
        "colab_type": "text"
      },
      "source": [
        "### 馬"
      ]
    },
    {
      "cell_type": "markdown",
      "metadata": {
        "id": "rxTxanGKntHy",
        "colab_type": "text"
      },
      "source": [
        "まずは、削除されたレースは削除する"
      ]
    },
    {
      "cell_type": "code",
      "metadata": {
        "id": "JUPxxxbUVhUL",
        "colab_type": "code",
        "colab": {
          "base_uri": "https://localhost:8080/",
          "height": 289
        },
        "outputId": "c07544f1-1878-4e6d-cb2b-355ad788b6cb"
      },
      "source": [
        "horse_df.isnull().sum()"
      ],
      "execution_count": 79,
      "outputs": [
        {
          "output_type": "execute_result",
          "data": {
            "text/plain": [
              "agari           28924\n",
              "age                 1\n",
              "frame_number     2789\n",
              "horse_number        0\n",
              "horse_weight        0\n",
              "jockey           1132\n",
              "name                3\n",
              "popular          3726\n",
              "race_date           0\n",
              "race_id             0\n",
              "race_name           0\n",
              "rank                0\n",
              "time             6561\n",
              "weight              2\n",
              "win                 0\n",
              "dtype: int64"
            ]
          },
          "metadata": {
            "tags": []
          },
          "execution_count": 79
        }
      ]
    },
    {
      "cell_type": "markdown",
      "metadata": {
        "id": "AdHSSjb3BuPw",
        "colab_type": "text"
      },
      "source": [
        "馬\n",
        "\n",
        "- age、name、weightは欠損値が極端に少ないので元のサイトを確認する必要あり\n",
        "- agariはデータがないのが多い（障害レース？）\n",
        "- frame_number、jockey、popularは？？\n",
        "- timeがないのはレースに出場しなかった？"
      ]
    },
    {
      "cell_type": "markdown",
      "metadata": {
        "id": "NyMC5w8s_SAB",
        "colab_type": "text"
      },
      "source": [
        "## ユニークな値の数"
      ]
    },
    {
      "cell_type": "code",
      "metadata": {
        "id": "qLjvzlSfVkon",
        "colab_type": "code",
        "colab": {
          "base_uri": "https://localhost:8080/",
          "height": 204
        },
        "outputId": "a9ce8b86-7402-4ccf-c554-203696fba367"
      },
      "source": [
        "for col, values in race_df.iteritems():\n",
        "    num_uniques = values.nunique()\n",
        "    print ('{name}: {num_unique}'.format(name=col, num_unique=num_uniques))"
      ],
      "execution_count": 80,
      "outputs": [
        {
          "output_type": "stream",
          "text": [
            "clockwise: 12\n",
            "date: 539\n",
            "distance: 74\n",
            "field_condition: 19\n",
            "field_type: 4\n",
            "name: 9109\n",
            "place: 51\n",
            "race_id: 27532\n",
            "race_round: 12\n",
            "start_time: 150\n",
            "weather: 6\n"
          ],
          "name": "stdout"
        }
      ]
    },
    {
      "cell_type": "code",
      "metadata": {
        "id": "DKps7wIoA6RQ",
        "colab_type": "code",
        "colab": {
          "base_uri": "https://localhost:8080/",
          "height": 272
        },
        "outputId": "b8097961-575f-4496-d50a-ae3d0142069d"
      },
      "source": [
        "for col, values in horse_df.iteritems():\n",
        "    num_uniques = values.nunique()\n",
        "    print ('{name}: {num_unique}'.format(name=col, num_unique=num_uniques))"
      ],
      "execution_count": 81,
      "outputs": [
        {
          "output_type": "stream",
          "text": [
            "agari: 264\n",
            "age: 47\n",
            "frame_number: 8\n",
            "horse_number: 25\n",
            "horse_weight: 18193\n",
            "jockey: 627\n",
            "name: 25965\n",
            "popular: 25\n",
            "race_date: 539\n",
            "race_id: 27530\n",
            "race_name: 9120\n",
            "rank: 24\n",
            "time: 2576\n",
            "weight: 118\n",
            "win: 5409\n"
          ],
          "name": "stdout"
        }
      ]
    },
    {
      "cell_type": "markdown",
      "metadata": {
        "id": "I7j8aicPF8wK",
        "colab_type": "text"
      },
      "source": [
        "- race_idの数がhorse_dfが小さい（２つ足りない）\n"
      ]
    },
    {
      "cell_type": "code",
      "metadata": {
        "id": "g4KFochxA9tD",
        "colab_type": "code",
        "colab": {}
      },
      "source": [
        ""
      ],
      "execution_count": null,
      "outputs": []
    }
  ]
}