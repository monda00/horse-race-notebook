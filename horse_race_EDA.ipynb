{
  "nbformat": 4,
  "nbformat_minor": 0,
  "metadata": {
    "colab": {
      "name": "horse-race-EDA.ipynb",
      "provenance": [],
      "collapsed_sections": [],
      "toc_visible": true,
      "mount_file_id": "1zjFT_HHwn6_F_-e9m4hQQHVCgkSrsZ2Z",
      "authorship_tag": "ABX9TyMYJvnSOGrao+ukyC1Mo942",
      "include_colab_link": true
    },
    "kernelspec": {
      "name": "python3",
      "display_name": "Python 3"
    }
  },
  "cells": [
    {
      "cell_type": "markdown",
      "metadata": {
        "id": "view-in-github",
        "colab_type": "text"
      },
      "source": [
        "<a href=\"https://colab.research.google.com/github/monda00/horse-race-notebook/blob/master/horse_race_EDA.ipynb\" target=\"_parent\"><img src=\"https://colab.research.google.com/assets/colab-badge.svg\" alt=\"Open In Colab\"/></a>"
      ]
    },
    {
      "cell_type": "markdown",
      "metadata": {
        "id": "lM2Vg6bDVR2q",
        "colab_type": "text"
      },
      "source": [
        "# netkeibaでスクレイピングしたデータのEDA"
      ]
    },
    {
      "cell_type": "markdown",
      "metadata": {
        "id": "ApfnmQLEVqh8",
        "colab_type": "text"
      },
      "source": [
        "- 準備\n",
        "- ライブラリ・データ読み込み\n",
        "- データの概観・分析"
      ]
    },
    {
      "cell_type": "markdown",
      "metadata": {
        "id": "BiqauKp2dCVt",
        "colab_type": "text"
      },
      "source": [
        "# 準備"
      ]
    },
    {
      "cell_type": "markdown",
      "metadata": {
        "id": "OBePcO9LCbHs",
        "colab_type": "text"
      },
      "source": [
        "## ドメイン知識\n",
        "\n",
        "- あがり\n",
        "  - レースや調教の終盤の走破タイム"
      ]
    },
    {
      "cell_type": "markdown",
      "metadata": {
        "id": "k5ugx4Q89Qdf",
        "colab_type": "text"
      },
      "source": [
        "## データ\n",
        "\n",
        "- 2019年から2020年までのレースデータ"
      ]
    },
    {
      "cell_type": "markdown",
      "metadata": {
        "id": "_Q6bUkeDdEw2",
        "colab_type": "text"
      },
      "source": [
        "# ライブラリ・データ読み込み"
      ]
    },
    {
      "cell_type": "code",
      "metadata": {
        "id": "FqOPinwSHVMK",
        "colab_type": "code",
        "colab": {}
      },
      "source": [
        "import numpy as np\n",
        "import pandas as pd"
      ],
      "execution_count": 1,
      "outputs": []
    },
    {
      "cell_type": "code",
      "metadata": {
        "id": "Ma4MplpheGDT",
        "colab_type": "code",
        "colab": {}
      },
      "source": [
        "DATA_PATH = '/content/drive/My Drive/data/horse-race/'"
      ],
      "execution_count": 6,
      "outputs": []
    },
    {
      "cell_type": "code",
      "metadata": {
        "id": "icZMNnMCdVea",
        "colab_type": "code",
        "colab": {}
      },
      "source": [
        "race_df = pd.read_csv(DATA_PATH + 'race.csv')\n",
        "horse_df = pd.read_csv(DATA_PATH + 'horse.csv')"
      ],
      "execution_count": 7,
      "outputs": []
    },
    {
      "cell_type": "code",
      "metadata": {
        "id": "ItMcGOqygN1j",
        "colab_type": "code",
        "colab": {
          "base_uri": "https://localhost:8080/",
          "height": 204
        },
        "outputId": "9a201ad4-85b5-4fed-fbce-2bd61550b376"
      },
      "source": [
        "race_df.head()"
      ],
      "execution_count": 8,
      "outputs": [
        {
          "output_type": "execute_result",
          "data": {
            "text/html": [
              "<div>\n",
              "<style scoped>\n",
              "    .dataframe tbody tr th:only-of-type {\n",
              "        vertical-align: middle;\n",
              "    }\n",
              "\n",
              "    .dataframe tbody tr th {\n",
              "        vertical-align: top;\n",
              "    }\n",
              "\n",
              "    .dataframe thead th {\n",
              "        text-align: right;\n",
              "    }\n",
              "</style>\n",
              "<table border=\"1\" class=\"dataframe\">\n",
              "  <thead>\n",
              "    <tr style=\"text-align: right;\">\n",
              "      <th></th>\n",
              "      <th>clockwise</th>\n",
              "      <th>date</th>\n",
              "      <th>distance</th>\n",
              "      <th>field_condition</th>\n",
              "      <th>field_type</th>\n",
              "      <th>name</th>\n",
              "      <th>place</th>\n",
              "      <th>race_id</th>\n",
              "      <th>race_round</th>\n",
              "      <th>start_time</th>\n",
              "      <th>weather</th>\n",
              "    </tr>\n",
              "  </thead>\n",
              "  <tbody>\n",
              "    <tr>\n",
              "      <th>0</th>\n",
              "      <td>右</td>\n",
              "      <td>2020/6/22</td>\n",
              "      <td>1400</td>\n",
              "      <td>不</td>\n",
              "      <td>ダ</td>\n",
              "      <td>タイタン賞競走</td>\n",
              "      <td>大井</td>\n",
              "      <td>202044062212</td>\n",
              "      <td>12R</td>\n",
              "      <td>20:50</td>\n",
              "      <td>雨</td>\n",
              "    </tr>\n",
              "    <tr>\n",
              "      <th>1</th>\n",
              "      <td>右</td>\n",
              "      <td>2020/6/22</td>\n",
              "      <td>1800</td>\n",
              "      <td>不</td>\n",
              "      <td>ダ</td>\n",
              "      <td>ポートサイド賞競走</td>\n",
              "      <td>大井</td>\n",
              "      <td>202044062211</td>\n",
              "      <td>11R</td>\n",
              "      <td>20:10</td>\n",
              "      <td>雨</td>\n",
              "    </tr>\n",
              "    <tr>\n",
              "      <th>2</th>\n",
              "      <td>右</td>\n",
              "      <td>2020/6/22</td>\n",
              "      <td>1200</td>\n",
              "      <td>不</td>\n",
              "      <td>ダ</td>\n",
              "      <td>C1九　十11</td>\n",
              "      <td>大井</td>\n",
              "      <td>202044062210</td>\n",
              "      <td>10R</td>\n",
              "      <td>19:30</td>\n",
              "      <td>雨</td>\n",
              "    </tr>\n",
              "    <tr>\n",
              "      <th>3</th>\n",
              "      <td>右</td>\n",
              "      <td>2020/6/22</td>\n",
              "      <td>1400</td>\n",
              "      <td>不</td>\n",
              "      <td>ダ</td>\n",
              "      <td>C1九　十11</td>\n",
              "      <td>大井</td>\n",
              "      <td>202044062209</td>\n",
              "      <td>9R</td>\n",
              "      <td>18:55</td>\n",
              "      <td>雨</td>\n",
              "    </tr>\n",
              "    <tr>\n",
              "      <th>4</th>\n",
              "      <td>右</td>\n",
              "      <td>2020/6/22</td>\n",
              "      <td>1600</td>\n",
              "      <td>不</td>\n",
              "      <td>ダ</td>\n",
              "      <td>C1九　十11</td>\n",
              "      <td>大井</td>\n",
              "      <td>202044062208</td>\n",
              "      <td>8R</td>\n",
              "      <td>18:20</td>\n",
              "      <td>雨</td>\n",
              "    </tr>\n",
              "  </tbody>\n",
              "</table>\n",
              "</div>"
            ],
            "text/plain": [
              "  clockwise       date  distance  ... race_round start_time weather\n",
              "0         右  2020/6/22      1400  ...        12R      20:50       雨\n",
              "1         右  2020/6/22      1800  ...        11R      20:10       雨\n",
              "2         右  2020/6/22      1200  ...        10R      19:30       雨\n",
              "3         右  2020/6/22      1400  ...         9R      18:55       雨\n",
              "4         右  2020/6/22      1600  ...         8R      18:20       雨\n",
              "\n",
              "[5 rows x 11 columns]"
            ]
          },
          "metadata": {
            "tags": []
          },
          "execution_count": 8
        }
      ]
    },
    {
      "cell_type": "code",
      "metadata": {
        "id": "I4wqqv9jgRZJ",
        "colab_type": "code",
        "colab": {
          "base_uri": "https://localhost:8080/",
          "height": 204
        },
        "outputId": "999544d4-255f-4bc9-edf2-65192df7b65d"
      },
      "source": [
        "horse_df.head()"
      ],
      "execution_count": 9,
      "outputs": [
        {
          "output_type": "execute_result",
          "data": {
            "text/html": [
              "<div>\n",
              "<style scoped>\n",
              "    .dataframe tbody tr th:only-of-type {\n",
              "        vertical-align: middle;\n",
              "    }\n",
              "\n",
              "    .dataframe tbody tr th {\n",
              "        vertical-align: top;\n",
              "    }\n",
              "\n",
              "    .dataframe thead th {\n",
              "        text-align: right;\n",
              "    }\n",
              "</style>\n",
              "<table border=\"1\" class=\"dataframe\">\n",
              "  <thead>\n",
              "    <tr style=\"text-align: right;\">\n",
              "      <th></th>\n",
              "      <th>agari</th>\n",
              "      <th>age</th>\n",
              "      <th>frame_number</th>\n",
              "      <th>horse_number</th>\n",
              "      <th>horse_weight</th>\n",
              "      <th>jockey</th>\n",
              "      <th>name</th>\n",
              "      <th>popular</th>\n",
              "      <th>race_date</th>\n",
              "      <th>race_id</th>\n",
              "      <th>race_name</th>\n",
              "      <th>rank</th>\n",
              "      <th>time</th>\n",
              "      <th>weight</th>\n",
              "      <th>win</th>\n",
              "    </tr>\n",
              "  </thead>\n",
              "  <tbody>\n",
              "    <tr>\n",
              "      <th>0</th>\n",
              "      <td>38.1</td>\n",
              "      <td>牡3</td>\n",
              "      <td>7.0</td>\n",
              "      <td>13</td>\n",
              "      <td>511(-5)</td>\n",
              "      <td>森泰斗</td>\n",
              "      <td>ワイルドホース</td>\n",
              "      <td>2.0</td>\n",
              "      <td>2020/6/22</td>\n",
              "      <td>202044062212</td>\n",
              "      <td>タイタン賞競走</td>\n",
              "      <td>1</td>\n",
              "      <td>1:28.5</td>\n",
              "      <td>54.0</td>\n",
              "      <td>3.7</td>\n",
              "    </tr>\n",
              "    <tr>\n",
              "      <th>1</th>\n",
              "      <td>38.1</td>\n",
              "      <td>牝5</td>\n",
              "      <td>6.0</td>\n",
              "      <td>11</td>\n",
              "      <td>475(-2)</td>\n",
              "      <td>山崎誠士</td>\n",
              "      <td>クインズオライリー</td>\n",
              "      <td>12.0</td>\n",
              "      <td>2020/6/22</td>\n",
              "      <td>202044062212</td>\n",
              "      <td>タイタン賞競走</td>\n",
              "      <td>2</td>\n",
              "      <td>1:28.7</td>\n",
              "      <td>54.0</td>\n",
              "      <td>81.4</td>\n",
              "    </tr>\n",
              "    <tr>\n",
              "      <th>2</th>\n",
              "      <td>38.6</td>\n",
              "      <td>セ6</td>\n",
              "      <td>3.0</td>\n",
              "      <td>4</td>\n",
              "      <td>469(+2)</td>\n",
              "      <td>西啓太</td>\n",
              "      <td>メダーリアフレイム</td>\n",
              "      <td>4.0</td>\n",
              "      <td>2020/6/22</td>\n",
              "      <td>202044062212</td>\n",
              "      <td>タイタン賞競走</td>\n",
              "      <td>3</td>\n",
              "      <td>1:28.8</td>\n",
              "      <td>56.0</td>\n",
              "      <td>8.6</td>\n",
              "    </tr>\n",
              "    <tr>\n",
              "      <th>3</th>\n",
              "      <td>37.9</td>\n",
              "      <td>牡4</td>\n",
              "      <td>8.0</td>\n",
              "      <td>14</td>\n",
              "      <td>526(+6)</td>\n",
              "      <td>藤本現暉</td>\n",
              "      <td>ゴールドプリンス</td>\n",
              "      <td>8.0</td>\n",
              "      <td>2020/6/22</td>\n",
              "      <td>202044062212</td>\n",
              "      <td>タイタン賞競走</td>\n",
              "      <td>4</td>\n",
              "      <td>1:28.8</td>\n",
              "      <td>56.0</td>\n",
              "      <td>34.4</td>\n",
              "    </tr>\n",
              "    <tr>\n",
              "      <th>4</th>\n",
              "      <td>38.5</td>\n",
              "      <td>牝5</td>\n",
              "      <td>4.0</td>\n",
              "      <td>7</td>\n",
              "      <td>475(+6)</td>\n",
              "      <td>藤田凌</td>\n",
              "      <td>イグレット</td>\n",
              "      <td>9.0</td>\n",
              "      <td>2020/6/22</td>\n",
              "      <td>202044062212</td>\n",
              "      <td>タイタン賞競走</td>\n",
              "      <td>5</td>\n",
              "      <td>1:28.9</td>\n",
              "      <td>54.0</td>\n",
              "      <td>34.8</td>\n",
              "    </tr>\n",
              "  </tbody>\n",
              "</table>\n",
              "</div>"
            ],
            "text/plain": [
              "   agari age  frame_number  horse_number  ... rank    time weight   win\n",
              "0   38.1  牡3           7.0            13  ...    1  1:28.5   54.0   3.7\n",
              "1   38.1  牝5           6.0            11  ...    2  1:28.7   54.0  81.4\n",
              "2   38.6  セ6           3.0             4  ...    3  1:28.8   56.0   8.6\n",
              "3   37.9  牡4           8.0            14  ...    4  1:28.8   56.0  34.4\n",
              "4   38.5  牝5           4.0             7  ...    5  1:28.9   54.0  34.8\n",
              "\n",
              "[5 rows x 15 columns]"
            ]
          },
          "metadata": {
            "tags": []
          },
          "execution_count": 9
        }
      ]
    },
    {
      "cell_type": "markdown",
      "metadata": {
        "id": "h3dVS7QBgeK5",
        "colab_type": "text"
      },
      "source": [
        "# データの概観・分析"
      ]
    },
    {
      "cell_type": "code",
      "metadata": {
        "id": "Jtapb3SUU161",
        "colab_type": "code",
        "colab": {
          "base_uri": "https://localhost:8080/",
          "height": 323
        },
        "outputId": "d182f330-7647-4a31-8c15-30ce410d1d66"
      },
      "source": [
        "race_df.info()"
      ],
      "execution_count": 10,
      "outputs": [
        {
          "output_type": "stream",
          "text": [
            "<class 'pandas.core.frame.DataFrame'>\n",
            "RangeIndex: 27532 entries, 0 to 27531\n",
            "Data columns (total 11 columns):\n",
            " #   Column           Non-Null Count  Dtype \n",
            "---  ------           --------------  ----- \n",
            " 0   clockwise        27532 non-null  object\n",
            " 1   date             27532 non-null  object\n",
            " 2   distance         27532 non-null  int64 \n",
            " 3   field_condition  21830 non-null  object\n",
            " 4   field_type       21830 non-null  object\n",
            " 5   name             27532 non-null  object\n",
            " 6   place            27532 non-null  object\n",
            " 7   race_id          27532 non-null  object\n",
            " 8   race_round       27532 non-null  object\n",
            " 9   start_time       26755 non-null  object\n",
            " 10  weather          26690 non-null  object\n",
            "dtypes: int64(1), object(10)\n",
            "memory usage: 2.3+ MB\n"
          ],
          "name": "stdout"
        }
      ]
    },
    {
      "cell_type": "code",
      "metadata": {
        "id": "YagNd4jrVBvB",
        "colab_type": "code",
        "colab": {
          "base_uri": "https://localhost:8080/",
          "height": 391
        },
        "outputId": "60d40b73-9151-4a7d-a218-880732416062"
      },
      "source": [
        "horse_df.info()"
      ],
      "execution_count": 11,
      "outputs": [
        {
          "output_type": "stream",
          "text": [
            "<class 'pandas.core.frame.DataFrame'>\n",
            "RangeIndex: 293006 entries, 0 to 293005\n",
            "Data columns (total 15 columns):\n",
            " #   Column        Non-Null Count   Dtype  \n",
            "---  ------        --------------   -----  \n",
            " 0   agari         264082 non-null  float64\n",
            " 1   age           293005 non-null  object \n",
            " 2   frame_number  290217 non-null  float64\n",
            " 3   horse_number  293006 non-null  int64  \n",
            " 4   horse_weight  293006 non-null  object \n",
            " 5   jockey        291874 non-null  object \n",
            " 6   name          293003 non-null  object \n",
            " 7   popular       289280 non-null  float64\n",
            " 8   race_date     293006 non-null  object \n",
            " 9   race_id       293006 non-null  object \n",
            " 10  race_name     293006 non-null  object \n",
            " 11  rank          293006 non-null  int64  \n",
            " 12  time          286445 non-null  object \n",
            " 13  weight        293004 non-null  float64\n",
            " 14  win           293006 non-null  object \n",
            "dtypes: float64(4), int64(2), object(9)\n",
            "memory usage: 33.5+ MB\n"
          ],
          "name": "stdout"
        }
      ]
    },
    {
      "cell_type": "markdown",
      "metadata": {
        "id": "CFkPnn8BUsq9",
        "colab_type": "text"
      },
      "source": [
        "## データ数"
      ]
    },
    {
      "cell_type": "code",
      "metadata": {
        "id": "hLknNYrsVJQg",
        "colab_type": "code",
        "colab": {
          "base_uri": "https://localhost:8080/",
          "height": 51
        },
        "outputId": "3ff1e796-7cc0-48a2-8319-198d0aedb835"
      },
      "source": [
        "print('race:', race_df.shape[0])\n",
        "print('horse:', horse_df.shape[0])"
      ],
      "execution_count": 12,
      "outputs": [
        {
          "output_type": "stream",
          "text": [
            "race: 27532\n",
            "horse: 293006\n"
          ],
          "name": "stdout"
        }
      ]
    },
    {
      "cell_type": "markdown",
      "metadata": {
        "id": "8mtk73dEVoFK",
        "colab_type": "text"
      },
      "source": [
        "## カラム"
      ]
    },
    {
      "cell_type": "code",
      "metadata": {
        "id": "SeM7JtynVviJ",
        "colab_type": "code",
        "colab": {
          "base_uri": "https://localhost:8080/",
          "height": 68
        },
        "outputId": "b9d23c7e-a0ca-47dc-8f87-bbb0012e1265"
      },
      "source": [
        "race_df.columns"
      ],
      "execution_count": 13,
      "outputs": [
        {
          "output_type": "execute_result",
          "data": {
            "text/plain": [
              "Index(['clockwise', 'date', 'distance', 'field_condition', 'field_type',\n",
              "       'name', 'place', 'race_id', 'race_round', 'start_time', 'weather'],\n",
              "      dtype='object')"
            ]
          },
          "metadata": {
            "tags": []
          },
          "execution_count": 13
        }
      ]
    },
    {
      "cell_type": "code",
      "metadata": {
        "id": "MLWoHDA7Vzjc",
        "colab_type": "code",
        "colab": {
          "base_uri": "https://localhost:8080/",
          "height": 85
        },
        "outputId": "29774883-d264-4842-9cb8-5489dd319e22"
      },
      "source": [
        "horse_df.columns"
      ],
      "execution_count": 14,
      "outputs": [
        {
          "output_type": "execute_result",
          "data": {
            "text/plain": [
              "Index(['agari', 'age', 'frame_number', 'horse_number', 'horse_weight',\n",
              "       'jockey', 'name', 'popular', 'race_date', 'race_id', 'race_name',\n",
              "       'rank', 'time', 'weight', 'win'],\n",
              "      dtype='object')"
            ]
          },
          "metadata": {
            "tags": []
          },
          "execution_count": 14
        }
      ]
    },
    {
      "cell_type": "markdown",
      "metadata": {
        "id": "rbjjfDS4Um7G",
        "colab_type": "text"
      },
      "source": [
        "## 欠損値の確認"
      ]
    },
    {
      "cell_type": "code",
      "metadata": {
        "id": "3pWbdJ5VgY3o",
        "colab_type": "code",
        "colab": {
          "base_uri": "https://localhost:8080/",
          "height": 221
        },
        "outputId": "7ec09fa2-52e7-4f39-b6d6-f7ec5ca5c2c8"
      },
      "source": [
        "race_df.isnull().sum()"
      ],
      "execution_count": 15,
      "outputs": [
        {
          "output_type": "execute_result",
          "data": {
            "text/plain": [
              "clockwise             0\n",
              "date                  0\n",
              "distance              0\n",
              "field_condition    5702\n",
              "field_type         5702\n",
              "name                  0\n",
              "place                 0\n",
              "race_id               0\n",
              "race_round            0\n",
              "start_time          777\n",
              "weather             842\n",
              "dtype: int64"
            ]
          },
          "metadata": {
            "tags": []
          },
          "execution_count": 15
        }
      ]
    },
    {
      "cell_type": "markdown",
      "metadata": {
        "id": "NfDonIuXBa3C",
        "colab_type": "text"
      },
      "source": [
        "レース\n",
        "\n",
        "- field_conditionとfield_typeがないのは障害レースの可能性あり\n",
        "  - 同じデータ（障害レースかどうかはわからない）\n",
        "  - 障害レースにはfield conditionとfield_typeがないが別のデータでも欠損している（スクレイピングに失敗）\n",
        "- start_timeがないのはレースが中止？\n",
        "- weatherがないのは？？"
      ]
    },
    {
      "cell_type": "markdown",
      "metadata": {
        "id": "no00O24nLzkZ",
        "colab_type": "text"
      },
      "source": [
        "field_conditionとfield_typeが欠損しているデータ"
      ]
    },
    {
      "cell_type": "code",
      "metadata": {
        "id": "g2ekcaL_Il_R",
        "colab_type": "code",
        "colab": {
          "base_uri": "https://localhost:8080/",
          "height": 51
        },
        "outputId": "929ddd8f-19de-45f5-eacb-abdb1b4155c1"
      },
      "source": [
        "(race_df[race_df['field_condition'].isnull()]['race_id'] == race_df[race_df['field_type'].isnull()]['race_id']).value_counts()"
      ],
      "execution_count": 36,
      "outputs": [
        {
          "output_type": "execute_result",
          "data": {
            "text/plain": [
              "True    5702\n",
              "Name: race_id, dtype: int64"
            ]
          },
          "metadata": {
            "tags": []
          },
          "execution_count": 36
        }
      ]
    },
    {
      "cell_type": "code",
      "metadata": {
        "id": "VQdCLw8HL3s8",
        "colab_type": "code",
        "colab": {
          "base_uri": "https://localhost:8080/",
          "height": 669
        },
        "outputId": "86d38d1c-6c87-4f4a-9e6a-904d8dc602ca"
      },
      "source": [
        "race_df[race_df['field_condition'].isnull()].head(20)"
      ],
      "execution_count": 38,
      "outputs": [
        {
          "output_type": "execute_result",
          "data": {
            "text/html": [
              "<div>\n",
              "<style scoped>\n",
              "    .dataframe tbody tr th:only-of-type {\n",
              "        vertical-align: middle;\n",
              "    }\n",
              "\n",
              "    .dataframe tbody tr th {\n",
              "        vertical-align: top;\n",
              "    }\n",
              "\n",
              "    .dataframe thead th {\n",
              "        text-align: right;\n",
              "    }\n",
              "</style>\n",
              "<table border=\"1\" class=\"dataframe\">\n",
              "  <thead>\n",
              "    <tr style=\"text-align: right;\">\n",
              "      <th></th>\n",
              "      <th>clockwise</th>\n",
              "      <th>date</th>\n",
              "      <th>distance</th>\n",
              "      <th>field_condition</th>\n",
              "      <th>field_type</th>\n",
              "      <th>name</th>\n",
              "      <th>place</th>\n",
              "      <th>race_id</th>\n",
              "      <th>race_round</th>\n",
              "      <th>start_time</th>\n",
              "      <th>weather</th>\n",
              "    </tr>\n",
              "  </thead>\n",
              "  <tbody>\n",
              "    <tr>\n",
              "      <th>24</th>\n",
              "      <td>00</td>\n",
              "      <td>2020/6/22</td>\n",
              "      <td>200</td>\n",
              "      <td>NaN</td>\n",
              "      <td>NaN</td>\n",
              "      <td>B3ー6</td>\n",
              "      <td>帯広(ば)</td>\n",
              "      <td>202065062211</td>\n",
              "      <td>11R</td>\n",
              "      <td>20:45</td>\n",
              "      <td>曇</td>\n",
              "    </tr>\n",
              "    <tr>\n",
              "      <th>25</th>\n",
              "      <td>00</td>\n",
              "      <td>2020/6/22</td>\n",
              "      <td>200</td>\n",
              "      <td>NaN</td>\n",
              "      <td>NaN</td>\n",
              "      <td>第11回ゴールドトロ</td>\n",
              "      <td>帯広(ば)</td>\n",
              "      <td>202065062210</td>\n",
              "      <td>10R</td>\n",
              "      <td>20:05</td>\n",
              "      <td>曇</td>\n",
              "    </tr>\n",
              "    <tr>\n",
              "      <th>26</th>\n",
              "      <td>00</td>\n",
              "      <td>2020/6/22</td>\n",
              "      <td>200</td>\n",
              "      <td>NaN</td>\n",
              "      <td>NaN</td>\n",
              "      <td>B4ー3</td>\n",
              "      <td>帯広(ば)</td>\n",
              "      <td>202065062209</td>\n",
              "      <td>9R</td>\n",
              "      <td>19:25</td>\n",
              "      <td>曇</td>\n",
              "    </tr>\n",
              "    <tr>\n",
              "      <th>27</th>\n",
              "      <td>00</td>\n",
              "      <td>2020/6/22</td>\n",
              "      <td>200</td>\n",
              "      <td>NaN</td>\n",
              "      <td>NaN</td>\n",
              "      <td>B4ー7</td>\n",
              "      <td>帯広(ば)</td>\n",
              "      <td>202065062208</td>\n",
              "      <td>8R</td>\n",
              "      <td>18:45</td>\n",
              "      <td>曇</td>\n",
              "    </tr>\n",
              "    <tr>\n",
              "      <th>28</th>\n",
              "      <td>00</td>\n",
              "      <td>2020/6/22</td>\n",
              "      <td>200</td>\n",
              "      <td>NaN</td>\n",
              "      <td>NaN</td>\n",
              "      <td>B2ー3</td>\n",
              "      <td>帯広(ば)</td>\n",
              "      <td>202065062207</td>\n",
              "      <td>7R</td>\n",
              "      <td>18:10</td>\n",
              "      <td>曇</td>\n",
              "    </tr>\n",
              "    <tr>\n",
              "      <th>29</th>\n",
              "      <td>00</td>\n",
              "      <td>2020/6/22</td>\n",
              "      <td>200</td>\n",
              "      <td>NaN</td>\n",
              "      <td>NaN</td>\n",
              "      <td>C1ー4</td>\n",
              "      <td>帯広(ば)</td>\n",
              "      <td>202065062206</td>\n",
              "      <td>6R</td>\n",
              "      <td>17:35</td>\n",
              "      <td>曇</td>\n",
              "    </tr>\n",
              "    <tr>\n",
              "      <th>30</th>\n",
              "      <td>00</td>\n",
              "      <td>2020/6/22</td>\n",
              "      <td>200</td>\n",
              "      <td>NaN</td>\n",
              "      <td>NaN</td>\n",
              "      <td>2歳　未受賞</td>\n",
              "      <td>帯広(ば)</td>\n",
              "      <td>202065062205</td>\n",
              "      <td>5R</td>\n",
              "      <td>17:00</td>\n",
              "      <td>曇</td>\n",
              "    </tr>\n",
              "    <tr>\n",
              "      <th>31</th>\n",
              "      <td>00</td>\n",
              "      <td>2020/6/22</td>\n",
              "      <td>200</td>\n",
              "      <td>NaN</td>\n",
              "      <td>NaN</td>\n",
              "      <td>2歳　新馬</td>\n",
              "      <td>帯広(ば)</td>\n",
              "      <td>202065062204</td>\n",
              "      <td>4R</td>\n",
              "      <td>16:25</td>\n",
              "      <td>曇</td>\n",
              "    </tr>\n",
              "    <tr>\n",
              "      <th>32</th>\n",
              "      <td>00</td>\n",
              "      <td>2020/6/22</td>\n",
              "      <td>200</td>\n",
              "      <td>NaN</td>\n",
              "      <td>NaN</td>\n",
              "      <td>2歳　新馬</td>\n",
              "      <td>帯広(ば)</td>\n",
              "      <td>202065062203</td>\n",
              "      <td>3R</td>\n",
              "      <td>15:50</td>\n",
              "      <td>曇</td>\n",
              "    </tr>\n",
              "    <tr>\n",
              "      <th>33</th>\n",
              "      <td>00</td>\n",
              "      <td>2020/6/22</td>\n",
              "      <td>200</td>\n",
              "      <td>NaN</td>\n",
              "      <td>NaN</td>\n",
              "      <td>2歳　新馬</td>\n",
              "      <td>帯広(ば)</td>\n",
              "      <td>202065062202</td>\n",
              "      <td>2R</td>\n",
              "      <td>15:15</td>\n",
              "      <td>曇</td>\n",
              "    </tr>\n",
              "    <tr>\n",
              "      <th>34</th>\n",
              "      <td>00</td>\n",
              "      <td>2020/6/22</td>\n",
              "      <td>200</td>\n",
              "      <td>NaN</td>\n",
              "      <td>NaN</td>\n",
              "      <td>C2ー7</td>\n",
              "      <td>帯広(ば)</td>\n",
              "      <td>202065062201</td>\n",
              "      <td>1R</td>\n",
              "      <td>14:35</td>\n",
              "      <td>曇</td>\n",
              "    </tr>\n",
              "    <tr>\n",
              "      <th>36</th>\n",
              "      <td>右 外</td>\n",
              "      <td>2020/6/21</td>\n",
              "      <td>160</td>\n",
              "      <td>NaN</td>\n",
              "      <td>NaN</td>\n",
              "      <td>米子ステークス</td>\n",
              "      <td>阪神</td>\n",
              "      <td>202009030611</td>\n",
              "      <td>11R</td>\n",
              "      <td>15:35</td>\n",
              "      <td>晴</td>\n",
              "    </tr>\n",
              "    <tr>\n",
              "      <th>37</th>\n",
              "      <td>右</td>\n",
              "      <td>2020/6/21</td>\n",
              "      <td>200</td>\n",
              "      <td>NaN</td>\n",
              "      <td>NaN</td>\n",
              "      <td>垂水ステークス</td>\n",
              "      <td>阪神</td>\n",
              "      <td>202009030610</td>\n",
              "      <td>10R</td>\n",
              "      <td>15:01</td>\n",
              "      <td>晴</td>\n",
              "    </tr>\n",
              "    <tr>\n",
              "      <th>39</th>\n",
              "      <td>右 外</td>\n",
              "      <td>2020/6/21</td>\n",
              "      <td>160</td>\n",
              "      <td>NaN</td>\n",
              "      <td>NaN</td>\n",
              "      <td>3歳以上1勝クラス</td>\n",
              "      <td>阪神</td>\n",
              "      <td>202009030608</td>\n",
              "      <td>8R</td>\n",
              "      <td>13:55</td>\n",
              "      <td>晴</td>\n",
              "    </tr>\n",
              "    <tr>\n",
              "      <th>40</th>\n",
              "      <td>右 外</td>\n",
              "      <td>2020/6/21</td>\n",
              "      <td>180</td>\n",
              "      <td>NaN</td>\n",
              "      <td>NaN</td>\n",
              "      <td>3歳以上1勝クラス</td>\n",
              "      <td>阪神</td>\n",
              "      <td>202009030607</td>\n",
              "      <td>7R</td>\n",
              "      <td>13:25</td>\n",
              "      <td>晴</td>\n",
              "    </tr>\n",
              "    <tr>\n",
              "      <th>42</th>\n",
              "      <td>右 外</td>\n",
              "      <td>2020/6/21</td>\n",
              "      <td>160</td>\n",
              "      <td>NaN</td>\n",
              "      <td>NaN</td>\n",
              "      <td>2歳新馬</td>\n",
              "      <td>阪神</td>\n",
              "      <td>202009030605</td>\n",
              "      <td>5R</td>\n",
              "      <td>12:25</td>\n",
              "      <td>晴</td>\n",
              "    </tr>\n",
              "    <tr>\n",
              "      <th>45</th>\n",
              "      <td>右</td>\n",
              "      <td>2020/6/21</td>\n",
              "      <td>220</td>\n",
              "      <td>NaN</td>\n",
              "      <td>NaN</td>\n",
              "      <td>3歳未勝利</td>\n",
              "      <td>阪神</td>\n",
              "      <td>202009030602</td>\n",
              "      <td>2R</td>\n",
              "      <td>10:35</td>\n",
              "      <td>晴</td>\n",
              "    </tr>\n",
              "    <tr>\n",
              "      <th>46</th>\n",
              "      <td>芝 ダート</td>\n",
              "      <td>2020/6/21</td>\n",
              "      <td>297</td>\n",
              "      <td>NaN</td>\n",
              "      <td>NaN</td>\n",
              "      <td>障害3歳以上未勝利</td>\n",
              "      <td>阪神</td>\n",
              "      <td>202009030601</td>\n",
              "      <td>1R</td>\n",
              "      <td>10:01</td>\n",
              "      <td>晴</td>\n",
              "    </tr>\n",
              "    <tr>\n",
              "      <th>47</th>\n",
              "      <td>左</td>\n",
              "      <td>2020/6/21</td>\n",
              "      <td>140</td>\n",
              "      <td>NaN</td>\n",
              "      <td>NaN</td>\n",
              "      <td>3歳以上1勝クラス</td>\n",
              "      <td>東京</td>\n",
              "      <td>202005030612</td>\n",
              "      <td>12R</td>\n",
              "      <td>16:30</td>\n",
              "      <td>曇</td>\n",
              "    </tr>\n",
              "    <tr>\n",
              "      <th>49</th>\n",
              "      <td>左</td>\n",
              "      <td>2020/6/21</td>\n",
              "      <td>140</td>\n",
              "      <td>NaN</td>\n",
              "      <td>NaN</td>\n",
              "      <td>多摩川ステークス</td>\n",
              "      <td>東京</td>\n",
              "      <td>202005030610</td>\n",
              "      <td>10R</td>\n",
              "      <td>15:10</td>\n",
              "      <td>曇</td>\n",
              "    </tr>\n",
              "  </tbody>\n",
              "</table>\n",
              "</div>"
            ],
            "text/plain": [
              "   clockwise       date  distance  ... race_round start_time weather\n",
              "24        00  2020/6/22       200  ...        11R      20:45       曇\n",
              "25        00  2020/6/22       200  ...        10R      20:05       曇\n",
              "26        00  2020/6/22       200  ...         9R      19:25       曇\n",
              "27        00  2020/6/22       200  ...         8R      18:45       曇\n",
              "28        00  2020/6/22       200  ...         7R      18:10       曇\n",
              "29        00  2020/6/22       200  ...         6R      17:35       曇\n",
              "30        00  2020/6/22       200  ...         5R      17:00       曇\n",
              "31        00  2020/6/22       200  ...         4R      16:25       曇\n",
              "32        00  2020/6/22       200  ...         3R      15:50       曇\n",
              "33        00  2020/6/22       200  ...         2R      15:15       曇\n",
              "34        00  2020/6/22       200  ...         1R      14:35       曇\n",
              "36       右 外  2020/6/21       160  ...        11R      15:35       晴\n",
              "37         右  2020/6/21       200  ...        10R      15:01       晴\n",
              "39       右 外  2020/6/21       160  ...         8R      13:55       晴\n",
              "40       右 外  2020/6/21       180  ...         7R      13:25       晴\n",
              "42       右 外  2020/6/21       160  ...         5R      12:25       晴\n",
              "45         右  2020/6/21       220  ...         2R      10:35       晴\n",
              "46     芝 ダート  2020/6/21       297  ...         1R      10:01       晴\n",
              "47         左  2020/6/21       140  ...        12R      16:30       曇\n",
              "49         左  2020/6/21       140  ...        10R      15:10       曇\n",
              "\n",
              "[20 rows x 11 columns]"
            ]
          },
          "metadata": {
            "tags": []
          },
          "execution_count": 38
        }
      ]
    },
    {
      "cell_type": "code",
      "metadata": {
        "id": "JUPxxxbUVhUL",
        "colab_type": "code",
        "colab": {
          "base_uri": "https://localhost:8080/",
          "height": 289
        },
        "outputId": "eb3145e7-ac0f-43b4-df97-b682187ba94f"
      },
      "source": [
        "horse_df.isnull().sum()"
      ],
      "execution_count": 16,
      "outputs": [
        {
          "output_type": "execute_result",
          "data": {
            "text/plain": [
              "agari           28924\n",
              "age                 1\n",
              "frame_number     2789\n",
              "horse_number        0\n",
              "horse_weight        0\n",
              "jockey           1132\n",
              "name                3\n",
              "popular          3726\n",
              "race_date           0\n",
              "race_id             0\n",
              "race_name           0\n",
              "rank                0\n",
              "time             6561\n",
              "weight              2\n",
              "win                 0\n",
              "dtype: int64"
            ]
          },
          "metadata": {
            "tags": []
          },
          "execution_count": 16
        }
      ]
    },
    {
      "cell_type": "markdown",
      "metadata": {
        "id": "AdHSSjb3BuPw",
        "colab_type": "text"
      },
      "source": [
        "馬\n",
        "\n",
        "- age、name、weightは欠損値が極端に少ないので元のサイトを確認する必要あり\n",
        "- agariはデータがないのが多い（障害レース？）\n",
        "- frame_number、jockey、popularは？？\n",
        "- timeがないのはレースに出場しなかった？"
      ]
    },
    {
      "cell_type": "markdown",
      "metadata": {
        "id": "NyMC5w8s_SAB",
        "colab_type": "text"
      },
      "source": [
        "## ユニークな値の数"
      ]
    },
    {
      "cell_type": "code",
      "metadata": {
        "id": "qLjvzlSfVkon",
        "colab_type": "code",
        "colab": {
          "base_uri": "https://localhost:8080/",
          "height": 204
        },
        "outputId": "a073c87d-6eb9-4e8c-9a8e-446aa3776d45"
      },
      "source": [
        "for col, values in race_df.iteritems():\n",
        "    num_uniques = values.nunique()\n",
        "    print ('{name}: {num_unique}'.format(name=col, num_unique=num_uniques))"
      ],
      "execution_count": 17,
      "outputs": [
        {
          "output_type": "stream",
          "text": [
            "clockwise: 12\n",
            "date: 539\n",
            "distance: 89\n",
            "field_condition: 17\n",
            "field_type: 1\n",
            "name: 9109\n",
            "place: 51\n",
            "race_id: 27532\n",
            "race_round: 12\n",
            "start_time: 150\n",
            "weather: 6\n"
          ],
          "name": "stdout"
        }
      ]
    },
    {
      "cell_type": "code",
      "metadata": {
        "id": "DKps7wIoA6RQ",
        "colab_type": "code",
        "colab": {
          "base_uri": "https://localhost:8080/",
          "height": 272
        },
        "outputId": "b26e9b3f-837d-45d8-8f72-3740c386bd8f"
      },
      "source": [
        "for col, values in horse_df.iteritems():\n",
        "    num_uniques = values.nunique()\n",
        "    print ('{name}: {num_unique}'.format(name=col, num_unique=num_uniques))"
      ],
      "execution_count": 18,
      "outputs": [
        {
          "output_type": "stream",
          "text": [
            "agari: 264\n",
            "age: 47\n",
            "frame_number: 8\n",
            "horse_number: 25\n",
            "horse_weight: 18193\n",
            "jockey: 627\n",
            "name: 25965\n",
            "popular: 25\n",
            "race_date: 539\n",
            "race_id: 27530\n",
            "race_name: 9120\n",
            "rank: 24\n",
            "time: 2576\n",
            "weight: 118\n",
            "win: 5409\n"
          ],
          "name": "stdout"
        }
      ]
    },
    {
      "cell_type": "markdown",
      "metadata": {
        "id": "I7j8aicPF8wK",
        "colab_type": "text"
      },
      "source": [
        "- race_idの数がhorse_dfが小さい（２つ足りない）\n"
      ]
    },
    {
      "cell_type": "code",
      "metadata": {
        "id": "g4KFochxA9tD",
        "colab_type": "code",
        "colab": {}
      },
      "source": [
        ""
      ],
      "execution_count": null,
      "outputs": []
    }
  ]
}