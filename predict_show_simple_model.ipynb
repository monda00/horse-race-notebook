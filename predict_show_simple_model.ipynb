{
  "nbformat": 4,
  "nbformat_minor": 0,
  "metadata": {
    "colab": {
      "name": "predict_show_simple_model.ipynb",
      "provenance": [],
      "mount_file_id": "1YoHoes4-qgAMHJQIjdh8syUu-7ZZDyb_",
      "authorship_tag": "ABX9TyPe3sEQvqeB0wVDlt8SSlWD",
      "include_colab_link": true
    },
    "kernelspec": {
      "name": "python3",
      "display_name": "Python 3"
    }
  },
  "cells": [
    {
      "cell_type": "markdown",
      "metadata": {
        "id": "view-in-github",
        "colab_type": "text"
      },
      "source": [
        "<a href=\"https://colab.research.google.com/github/monda00/horse-race-notebook/blob/master/predict_show_simple_model.ipynb\" target=\"_parent\"><img src=\"https://colab.research.google.com/assets/colab-badge.svg\" alt=\"Open In Colab\"/></a>"
      ]
    },
    {
      "cell_type": "markdown",
      "metadata": {
        "id": "zPo2M_5M7f4G",
        "colab_type": "text"
      },
      "source": [
        "# ３着以内の馬を予測"
      ]
    },
    {
      "cell_type": "markdown",
      "metadata": {
        "id": "mHx3JdbH_S8D",
        "colab_type": "text"
      },
      "source": [
        "lightGBMでシンプルなモデルを実装する。"
      ]
    },
    {
      "cell_type": "markdown",
      "metadata": {
        "id": "lgw5M_E99lI7",
        "colab_type": "text"
      },
      "source": [
        "- ライブラリ・データ読み込み\n",
        "- データ前処理\n",
        "- 学習\n",
        "- 予測"
      ]
    },
    {
      "cell_type": "markdown",
      "metadata": {
        "id": "NxE3DMm3-XLF",
        "colab_type": "text"
      },
      "source": [
        "# ライブラリ・データ読み込み"
      ]
    },
    {
      "cell_type": "code",
      "metadata": {
        "id": "OBH38Hny-UxG",
        "colab_type": "code",
        "colab": {}
      },
      "source": [
        "import numpy as np\n",
        "import pandas as pd\n",
        "import re\n",
        "\n",
        "import lightgbm as lgb"
      ],
      "execution_count": 20,
      "outputs": []
    },
    {
      "cell_type": "code",
      "metadata": {
        "id": "nXM-wOjhBkLl",
        "colab_type": "code",
        "colab": {}
      },
      "source": [
        "DATA_PATH = '/content/drive/My Drive/data/horse-race/'"
      ],
      "execution_count": 13,
      "outputs": []
    },
    {
      "cell_type": "code",
      "metadata": {
        "id": "mABtXv01BTQY",
        "colab_type": "code",
        "colab": {}
      },
      "source": [
        "train_df = pd.read_csv(DATA_PATH + 'train.csv')"
      ],
      "execution_count": 14,
      "outputs": []
    },
    {
      "cell_type": "code",
      "metadata": {
        "id": "Iw5Ril8RB6Yq",
        "colab_type": "code",
        "colab": {
          "base_uri": "https://localhost:8080/",
          "height": 496
        },
        "outputId": "81442fa4-228a-4dc1-e6f6-5d425f2d6d9a"
      },
      "source": [
        "train_df.head()"
      ],
      "execution_count": 15,
      "outputs": [
        {
          "output_type": "execute_result",
          "data": {
            "text/html": [
              "<div>\n",
              "<style scoped>\n",
              "    .dataframe tbody tr th:only-of-type {\n",
              "        vertical-align: middle;\n",
              "    }\n",
              "\n",
              "    .dataframe tbody tr th {\n",
              "        vertical-align: top;\n",
              "    }\n",
              "\n",
              "    .dataframe thead th {\n",
              "        text-align: right;\n",
              "    }\n",
              "</style>\n",
              "<table border=\"1\" class=\"dataframe\">\n",
              "  <thead>\n",
              "    <tr style=\"text-align: right;\">\n",
              "      <th></th>\n",
              "      <th>age</th>\n",
              "      <th>frame_number</th>\n",
              "      <th>horse_number</th>\n",
              "      <th>jockey</th>\n",
              "      <th>name</th>\n",
              "      <th>popular</th>\n",
              "      <th>race_date</th>\n",
              "      <th>race_id</th>\n",
              "      <th>race_name</th>\n",
              "      <th>weight</th>\n",
              "      <th>win</th>\n",
              "      <th>show</th>\n",
              "      <th>clockwise</th>\n",
              "      <th>distance</th>\n",
              "      <th>field_type</th>\n",
              "      <th>place</th>\n",
              "      <th>race_round</th>\n",
              "      <th>start_time</th>\n",
              "      <th>weather</th>\n",
              "    </tr>\n",
              "  </thead>\n",
              "  <tbody>\n",
              "    <tr>\n",
              "      <th>0</th>\n",
              "      <td>牡3</td>\n",
              "      <td>7.0</td>\n",
              "      <td>13</td>\n",
              "      <td>森泰斗</td>\n",
              "      <td>ワイルドホース</td>\n",
              "      <td>2.0</td>\n",
              "      <td>2020/6/22</td>\n",
              "      <td>202044062212</td>\n",
              "      <td>タイタン賞競走</td>\n",
              "      <td>54.0</td>\n",
              "      <td>3.7</td>\n",
              "      <td>1</td>\n",
              "      <td>右</td>\n",
              "      <td>1400</td>\n",
              "      <td>ダ</td>\n",
              "      <td>大井</td>\n",
              "      <td>12R</td>\n",
              "      <td>20:50</td>\n",
              "      <td>雨</td>\n",
              "    </tr>\n",
              "    <tr>\n",
              "      <th>1</th>\n",
              "      <td>牝5</td>\n",
              "      <td>6.0</td>\n",
              "      <td>11</td>\n",
              "      <td>山崎誠士</td>\n",
              "      <td>クインズオライリー</td>\n",
              "      <td>12.0</td>\n",
              "      <td>2020/6/22</td>\n",
              "      <td>202044062212</td>\n",
              "      <td>タイタン賞競走</td>\n",
              "      <td>54.0</td>\n",
              "      <td>81.4</td>\n",
              "      <td>1</td>\n",
              "      <td>右</td>\n",
              "      <td>1400</td>\n",
              "      <td>ダ</td>\n",
              "      <td>大井</td>\n",
              "      <td>12R</td>\n",
              "      <td>20:50</td>\n",
              "      <td>雨</td>\n",
              "    </tr>\n",
              "    <tr>\n",
              "      <th>2</th>\n",
              "      <td>セ6</td>\n",
              "      <td>3.0</td>\n",
              "      <td>4</td>\n",
              "      <td>西啓太</td>\n",
              "      <td>メダーリアフレイム</td>\n",
              "      <td>4.0</td>\n",
              "      <td>2020/6/22</td>\n",
              "      <td>202044062212</td>\n",
              "      <td>タイタン賞競走</td>\n",
              "      <td>56.0</td>\n",
              "      <td>8.6</td>\n",
              "      <td>1</td>\n",
              "      <td>右</td>\n",
              "      <td>1400</td>\n",
              "      <td>ダ</td>\n",
              "      <td>大井</td>\n",
              "      <td>12R</td>\n",
              "      <td>20:50</td>\n",
              "      <td>雨</td>\n",
              "    </tr>\n",
              "    <tr>\n",
              "      <th>3</th>\n",
              "      <td>牡4</td>\n",
              "      <td>8.0</td>\n",
              "      <td>14</td>\n",
              "      <td>藤本現暉</td>\n",
              "      <td>ゴールドプリンス</td>\n",
              "      <td>8.0</td>\n",
              "      <td>2020/6/22</td>\n",
              "      <td>202044062212</td>\n",
              "      <td>タイタン賞競走</td>\n",
              "      <td>56.0</td>\n",
              "      <td>34.4</td>\n",
              "      <td>0</td>\n",
              "      <td>右</td>\n",
              "      <td>1400</td>\n",
              "      <td>ダ</td>\n",
              "      <td>大井</td>\n",
              "      <td>12R</td>\n",
              "      <td>20:50</td>\n",
              "      <td>雨</td>\n",
              "    </tr>\n",
              "    <tr>\n",
              "      <th>4</th>\n",
              "      <td>牝5</td>\n",
              "      <td>4.0</td>\n",
              "      <td>7</td>\n",
              "      <td>藤田凌</td>\n",
              "      <td>イグレット</td>\n",
              "      <td>9.0</td>\n",
              "      <td>2020/6/22</td>\n",
              "      <td>202044062212</td>\n",
              "      <td>タイタン賞競走</td>\n",
              "      <td>54.0</td>\n",
              "      <td>34.8</td>\n",
              "      <td>0</td>\n",
              "      <td>右</td>\n",
              "      <td>1400</td>\n",
              "      <td>ダ</td>\n",
              "      <td>大井</td>\n",
              "      <td>12R</td>\n",
              "      <td>20:50</td>\n",
              "      <td>雨</td>\n",
              "    </tr>\n",
              "  </tbody>\n",
              "</table>\n",
              "</div>"
            ],
            "text/plain": [
              "  age  frame_number  horse_number jockey  ... place  race_round start_time  weather\n",
              "0  牡3           7.0            13    森泰斗  ...    大井         12R      20:50        雨\n",
              "1  牝5           6.0            11   山崎誠士  ...    大井         12R      20:50        雨\n",
              "2  セ6           3.0             4    西啓太  ...    大井         12R      20:50        雨\n",
              "3  牡4           8.0            14   藤本現暉  ...    大井         12R      20:50        雨\n",
              "4  牝5           4.0             7    藤田凌  ...    大井         12R      20:50        雨\n",
              "\n",
              "[5 rows x 19 columns]"
            ]
          },
          "metadata": {
            "tags": []
          },
          "execution_count": 15
        }
      ]
    },
    {
      "cell_type": "code",
      "metadata": {
        "id": "i7MHTS2sZNmU",
        "colab_type": "code",
        "colab": {
          "base_uri": "https://localhost:8080/",
          "height": 34
        },
        "outputId": "efab2ca2-e2fc-4eca-8ee0-005ec9b9a630"
      },
      "source": [
        "len(train_df)"
      ],
      "execution_count": 16,
      "outputs": [
        {
          "output_type": "execute_result",
          "data": {
            "text/plain": [
              "253636"
            ]
          },
          "metadata": {
            "tags": []
          },
          "execution_count": 16
        }
      ]
    },
    {
      "cell_type": "markdown",
      "metadata": {
        "id": "L0T_2qRN9-o5",
        "colab_type": "text"
      },
      "source": [
        "# データ前処理"
      ]
    },
    {
      "cell_type": "markdown",
      "metadata": {
        "id": "P5XMyS1mGNLa",
        "colab_type": "text"
      },
      "source": [
        "- レースが開催されるのは週末のため日付は利用しない\n",
        "  - 季節に変換\n",
        "- 時刻は時間帯に変換\n",
        "- ageは性別（？）と年齢に分割\n",
        "- 気温は関係ありそうなため後々追加\n",
        "- レース名はレースの種類に変換した方が良さそうだが後回し"
      ]
    },
    {
      "cell_type": "markdown",
      "metadata": {
        "id": "RtL2MaWohoqh",
        "colab_type": "text"
      },
      "source": [
        "開催日から季節を追加し、開催日を削除"
      ]
    },
    {
      "cell_type": "code",
      "metadata": {
        "id": "_gUK08HDZJvd",
        "colab_type": "code",
        "colab": {}
      },
      "source": [
        "season = []\n",
        "for i in range(len(train_df)):\n",
        "  race_date = train_df.iloc[i]['race_date']\n",
        "  race_month = int(re.search(r'\\/.+?\\/', race_date).group().replace('/', ''))\n",
        "  if 3 <= race_month <= 5:\n",
        "    season.append('sprint')\n",
        "  elif 6 <= race_month <= 8:\n",
        "    season.append('summer')\n",
        "  elif 9 <= race_month <= 11:\n",
        "    season.append('autumn')\n",
        "  else:\n",
        "    season.append('winter')"
      ],
      "execution_count": 56,
      "outputs": []
    },
    {
      "cell_type": "code",
      "metadata": {
        "id": "rTL64AzxmKg9",
        "colab_type": "code",
        "colab": {}
      },
      "source": [
        "train_df['season'] = season"
      ],
      "execution_count": 57,
      "outputs": []
    },
    {
      "cell_type": "code",
      "metadata": {
        "id": "TnoFOungjeza",
        "colab_type": "code",
        "colab": {}
      },
      "source": [
        "train_df = train_df.drop('race_date', axis=1)"
      ],
      "execution_count": 59,
      "outputs": []
    },
    {
      "cell_type": "markdown",
      "metadata": {
        "id": "2zqThtg3-AsO",
        "colab_type": "text"
      },
      "source": [
        "# 学習"
      ]
    },
    {
      "cell_type": "markdown",
      "metadata": {
        "id": "pph-Xevl-CB2",
        "colab_type": "text"
      },
      "source": [
        "# 予測"
      ]
    },
    {
      "cell_type": "code",
      "metadata": {
        "id": "_eGBa0867d0O",
        "colab_type": "code",
        "colab": {}
      },
      "source": [
        ""
      ],
      "execution_count": null,
      "outputs": []
    }
  ]
}