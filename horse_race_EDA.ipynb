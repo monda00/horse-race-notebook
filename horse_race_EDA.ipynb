{
  "nbformat": 4,
  "nbformat_minor": 0,
  "metadata": {
    "colab": {
      "name": "horse-race-EDA.ipynb",
      "provenance": [],
      "authorship_tag": "ABX9TyOKTaZb45Yw8HtfJWjFhnTM",
      "include_colab_link": true
    },
    "kernelspec": {
      "name": "python3",
      "display_name": "Python 3"
    }
  },
  "cells": [
    {
      "cell_type": "markdown",
      "metadata": {
        "id": "view-in-github",
        "colab_type": "text"
      },
      "source": [
        "<a href=\"https://colab.research.google.com/github/monda00/horse-race-notebook/blob/master/horse_race_EDA.ipynb\" target=\"_parent\"><img src=\"https://colab.research.google.com/assets/colab-badge.svg\" alt=\"Open In Colab\"/></a>"
      ]
    },
    {
      "cell_type": "markdown",
      "metadata": {
        "id": "lM2Vg6bDVR2q",
        "colab_type": "text"
      },
      "source": [
        "# netkeibaでスクレイピングしたデータのEDA"
      ]
    },
    {
      "cell_type": "markdown",
      "metadata": {
        "id": "ApfnmQLEVqh8",
        "colab_type": "text"
      },
      "source": [
        "- 準備\n",
        "- ライブラリ・データ読み込み\n",
        "- データの概観・分析"
      ]
    },
    {
      "cell_type": "code",
      "metadata": {
        "id": "FqOPinwSHVMK",
        "colab_type": "code",
        "colab": {}
      },
      "source": [
        ""
      ],
      "execution_count": null,
      "outputs": []
    }
  ]
}