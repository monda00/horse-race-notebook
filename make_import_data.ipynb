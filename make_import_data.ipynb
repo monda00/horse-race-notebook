{
  "nbformat": 4,
  "nbformat_minor": 0,
  "metadata": {
    "colab": {
      "name": "make_import_data.ipynb",
      "provenance": [],
      "toc_visible": true,
      "mount_file_id": "1ePYRZdYHVFyJctVUy76tWGDK8RPeJuEW",
      "authorship_tag": "ABX9TyMcEP8pcq7gZ+r0T2Wn86qO",
      "include_colab_link": true
    },
    "kernelspec": {
      "name": "python3",
      "display_name": "Python 3"
    }
  },
  "cells": [
    {
      "cell_type": "markdown",
      "metadata": {
        "id": "view-in-github",
        "colab_type": "text"
      },
      "source": [
        "<a href=\"https://colab.research.google.com/github/monda00/horse-race-notebook/blob/master/make_import_data.ipynb\" target=\"_parent\"><img src=\"https://colab.research.google.com/assets/colab-badge.svg\" alt=\"Open In Colab\"/></a>"
      ]
    },
    {
      "cell_type": "markdown",
      "metadata": {
        "id": "UjZ5jJxnUWqD",
        "colab_type": "text"
      },
      "source": [
        "# アプリにインポートするデータ形式に変換する"
      ]
    },
    {
      "cell_type": "markdown",
      "metadata": {
        "id": "mXSJ79tOU64x",
        "colab_type": "text"
      },
      "source": [
        "# ライブラリ・データ読み込み"
      ]
    },
    {
      "cell_type": "code",
      "metadata": {
        "id": "Mdc4tp8XSt4f",
        "colab_type": "code",
        "colab": {}
      },
      "source": [
        "import numpy as np\n",
        "import pandas as pd"
      ],
      "execution_count": 1,
      "outputs": []
    },
    {
      "cell_type": "code",
      "metadata": {
        "id": "wtERt-o_VgPW",
        "colab_type": "code",
        "colab": {}
      },
      "source": [
        "DATA_PATH = '/content/drive/My Drive/data/horse-race/'"
      ],
      "execution_count": 2,
      "outputs": []
    },
    {
      "cell_type": "code",
      "metadata": {
        "id": "FC36XpGxVjDz",
        "colab_type": "code",
        "colab": {}
      },
      "source": [
        "race_df = pd.read_csv(DATA_PATH + 'race_ex.csv')\n",
        "horse_df = pd.read_csv(DATA_PATH + 'horse_ex.csv')"
      ],
      "execution_count": 4,
      "outputs": []
    },
    {
      "cell_type": "markdown",
      "metadata": {
        "id": "GJ5sHfLjXwz4",
        "colab_type": "text"
      },
      "source": [
        "# 前処理\n",
        "\n",
        "必要なデータ"
      ]
    },
    {
      "cell_type": "markdown",
      "metadata": {
        "id": "XlAJZeLeX54t",
        "colab_type": "text"
      },
      "source": [
        "## ７頭以下のレースを削除"
      ]
    },
    {
      "cell_type": "code",
      "metadata": {
        "id": "hURz3RGKXwey",
        "colab_type": "code",
        "colab": {
          "base_uri": "https://localhost:8080/",
          "height": 221
        },
        "outputId": "7d01959c-da81-45dd-d384-ccd30964319c"
      },
      "source": [
        "horse_df['race_id'].value_counts()"
      ],
      "execution_count": 5,
      "outputs": [
        {
          "output_type": "execute_result",
          "data": {
            "text/plain": [
              "202008030303    18\n",
              "201904021003    18\n",
              "201910020707    18\n",
              "201907010209    18\n",
              "201908030105    18\n",
              "                ..\n",
              "201945051701     4\n",
              "201946061610     4\n",
              "202035052403     4\n",
              "201947070506     3\n",
              "201935071404     3\n",
              "Name: race_id, Length: 24221, dtype: int64"
            ]
          },
          "metadata": {
            "tags": []
          },
          "execution_count": 5
        }
      ]
    },
    {
      "cell_type": "code",
      "metadata": {
        "id": "Etf_Ti1NVlCB",
        "colab_type": "code",
        "colab": {}
      },
      "source": [
        "drop_races_s = horse_df['race_id'].value_counts() <= 7\n",
        "drop_race_id = drop_races_s[drop_races_s == True].index\n",
        "\n",
        "for race_id in drop_race_id:\n",
        "  race_df = race_df[race_df['race_id'] != race_id]\n",
        "\n",
        "for race_id in drop_race_id:\n",
        "  horse_df = horse_df[horse_df['race_id'] != race_id]"
      ],
      "execution_count": 6,
      "outputs": []
    },
    {
      "cell_type": "code",
      "metadata": {
        "id": "oRlRczIKYwVV",
        "colab_type": "code",
        "colab": {
          "base_uri": "https://localhost:8080/",
          "height": 221
        },
        "outputId": "cbd67f4f-3479-4ed5-e18f-9efc8ced8c41"
      },
      "source": [
        "horse_df['race_id'].value_counts()"
      ],
      "execution_count": 7,
      "outputs": [
        {
          "output_type": "execute_result",
          "data": {
            "text/plain": [
              "201910010805    18\n",
              "201910010107    18\n",
              "201906050612    18\n",
              "201908030105    18\n",
              "201904030106    18\n",
              "                ..\n",
              "201936082609     8\n",
              "201954021002     8\n",
              "201950070403     8\n",
              "201943080912     8\n",
              "202047061904     8\n",
              "Name: race_id, Length: 22630, dtype: int64"
            ]
          },
          "metadata": {
            "tags": []
          },
          "execution_count": 7
        }
      ]
    },
    {
      "cell_type": "markdown",
      "metadata": {
        "id": "pqq1ldIeblrB",
        "colab_type": "text"
      },
      "source": [
        "## 性別と年齢の分割"
      ]
    },
    {
      "cell_type": "markdown",
      "metadata": {
        "id": "c2Ra2BG_fW0f",
        "colab_type": "text"
      },
      "source": [
        "## 負担重量と体重と増減"
      ]
    },
    {
      "cell_type": "markdown",
      "metadata": {
        "id": "XNaB3xb7fll0",
        "colab_type": "text"
      },
      "source": [
        "## 日時"
      ]
    },
    {
      "cell_type": "code",
      "metadata": {
        "id": "howNPZrUZreG",
        "colab_type": "code",
        "colab": {
          "base_uri": "https://localhost:8080/",
          "height": 640
        },
        "outputId": "b0226b48-f646-4633-b915-17771a0bc1cd"
      },
      "source": [
        "horse_df"
      ],
      "execution_count": 9,
      "outputs": [
        {
          "output_type": "execute_result",
          "data": {
            "text/html": [
              "<div>\n",
              "<style scoped>\n",
              "    .dataframe tbody tr th:only-of-type {\n",
              "        vertical-align: middle;\n",
              "    }\n",
              "\n",
              "    .dataframe tbody tr th {\n",
              "        vertical-align: top;\n",
              "    }\n",
              "\n",
              "    .dataframe thead th {\n",
              "        text-align: right;\n",
              "    }\n",
              "</style>\n",
              "<table border=\"1\" class=\"dataframe\">\n",
              "  <thead>\n",
              "    <tr style=\"text-align: right;\">\n",
              "      <th></th>\n",
              "      <th>Unnamed: 0</th>\n",
              "      <th>agari</th>\n",
              "      <th>age</th>\n",
              "      <th>frame_number</th>\n",
              "      <th>horse_number</th>\n",
              "      <th>horse_weight</th>\n",
              "      <th>jockey</th>\n",
              "      <th>name</th>\n",
              "      <th>popular</th>\n",
              "      <th>race_date</th>\n",
              "      <th>race_id</th>\n",
              "      <th>race_name</th>\n",
              "      <th>rank</th>\n",
              "      <th>time</th>\n",
              "      <th>weight</th>\n",
              "      <th>win</th>\n",
              "    </tr>\n",
              "  </thead>\n",
              "  <tbody>\n",
              "    <tr>\n",
              "      <th>0</th>\n",
              "      <td>0</td>\n",
              "      <td>38.1</td>\n",
              "      <td>牡3</td>\n",
              "      <td>7.0</td>\n",
              "      <td>13</td>\n",
              "      <td>511(-5)</td>\n",
              "      <td>森泰斗</td>\n",
              "      <td>ワイルドホース</td>\n",
              "      <td>2.0</td>\n",
              "      <td>2020/6/22</td>\n",
              "      <td>202044062212</td>\n",
              "      <td>タイタン賞競走</td>\n",
              "      <td>1</td>\n",
              "      <td>1:28.5</td>\n",
              "      <td>54.0</td>\n",
              "      <td>3.7</td>\n",
              "    </tr>\n",
              "    <tr>\n",
              "      <th>1</th>\n",
              "      <td>1</td>\n",
              "      <td>38.1</td>\n",
              "      <td>牝5</td>\n",
              "      <td>6.0</td>\n",
              "      <td>11</td>\n",
              "      <td>475(-2)</td>\n",
              "      <td>山崎誠士</td>\n",
              "      <td>クインズオライリー</td>\n",
              "      <td>12.0</td>\n",
              "      <td>2020/6/22</td>\n",
              "      <td>202044062212</td>\n",
              "      <td>タイタン賞競走</td>\n",
              "      <td>2</td>\n",
              "      <td>1:28.7</td>\n",
              "      <td>54.0</td>\n",
              "      <td>81.4</td>\n",
              "    </tr>\n",
              "    <tr>\n",
              "      <th>2</th>\n",
              "      <td>2</td>\n",
              "      <td>38.6</td>\n",
              "      <td>セ6</td>\n",
              "      <td>3.0</td>\n",
              "      <td>4</td>\n",
              "      <td>469(+2)</td>\n",
              "      <td>西啓太</td>\n",
              "      <td>メダーリアフレイム</td>\n",
              "      <td>4.0</td>\n",
              "      <td>2020/6/22</td>\n",
              "      <td>202044062212</td>\n",
              "      <td>タイタン賞競走</td>\n",
              "      <td>3</td>\n",
              "      <td>1:28.8</td>\n",
              "      <td>56.0</td>\n",
              "      <td>8.6</td>\n",
              "    </tr>\n",
              "    <tr>\n",
              "      <th>3</th>\n",
              "      <td>3</td>\n",
              "      <td>37.9</td>\n",
              "      <td>牡4</td>\n",
              "      <td>8.0</td>\n",
              "      <td>14</td>\n",
              "      <td>526(+6)</td>\n",
              "      <td>藤本現暉</td>\n",
              "      <td>ゴールドプリンス</td>\n",
              "      <td>8.0</td>\n",
              "      <td>2020/6/22</td>\n",
              "      <td>202044062212</td>\n",
              "      <td>タイタン賞競走</td>\n",
              "      <td>4</td>\n",
              "      <td>1:28.8</td>\n",
              "      <td>56.0</td>\n",
              "      <td>34.4</td>\n",
              "    </tr>\n",
              "    <tr>\n",
              "      <th>4</th>\n",
              "      <td>4</td>\n",
              "      <td>38.5</td>\n",
              "      <td>牝5</td>\n",
              "      <td>4.0</td>\n",
              "      <td>7</td>\n",
              "      <td>475(+6)</td>\n",
              "      <td>藤田凌</td>\n",
              "      <td>イグレット</td>\n",
              "      <td>9.0</td>\n",
              "      <td>2020/6/22</td>\n",
              "      <td>202044062212</td>\n",
              "      <td>タイタン賞競走</td>\n",
              "      <td>5</td>\n",
              "      <td>1:28.9</td>\n",
              "      <td>54.0</td>\n",
              "      <td>34.8</td>\n",
              "    </tr>\n",
              "    <tr>\n",
              "      <th>...</th>\n",
              "      <td>...</td>\n",
              "      <td>...</td>\n",
              "      <td>...</td>\n",
              "      <td>...</td>\n",
              "      <td>...</td>\n",
              "      <td>...</td>\n",
              "      <td>...</td>\n",
              "      <td>...</td>\n",
              "      <td>...</td>\n",
              "      <td>...</td>\n",
              "      <td>...</td>\n",
              "      <td>...</td>\n",
              "      <td>...</td>\n",
              "      <td>...</td>\n",
              "      <td>...</td>\n",
              "      <td>...</td>\n",
              "    </tr>\n",
              "    <tr>\n",
              "      <th>264074</th>\n",
              "      <td>292885</td>\n",
              "      <td>44.0</td>\n",
              "      <td>牝5</td>\n",
              "      <td>7.0</td>\n",
              "      <td>11</td>\n",
              "      <td>430(-3)</td>\n",
              "      <td>山中悠希</td>\n",
              "      <td>ホールドザボール</td>\n",
              "      <td>13.0</td>\n",
              "      <td>2019/1/1</td>\n",
              "      <td>201945010107</td>\n",
              "      <td>C1四　五</td>\n",
              "      <td>13</td>\n",
              "      <td>1:40.9</td>\n",
              "      <td>54.0</td>\n",
              "      <td>432.6</td>\n",
              "    </tr>\n",
              "    <tr>\n",
              "      <th>264078</th>\n",
              "      <td>292889</td>\n",
              "      <td>40.9</td>\n",
              "      <td>牡6</td>\n",
              "      <td>4.0</td>\n",
              "      <td>4</td>\n",
              "      <td>449(+7)</td>\n",
              "      <td>櫻井光輔</td>\n",
              "      <td>ベルクール</td>\n",
              "      <td>6.0</td>\n",
              "      <td>2019/1/1</td>\n",
              "      <td>201945010102</td>\n",
              "      <td>C3七　八</td>\n",
              "      <td>8</td>\n",
              "      <td>1:34.6</td>\n",
              "      <td>55.0</td>\n",
              "      <td>22.0</td>\n",
              "    </tr>\n",
              "    <tr>\n",
              "      <th>264079</th>\n",
              "      <td>292890</td>\n",
              "      <td>41.3</td>\n",
              "      <td>牡6</td>\n",
              "      <td>6.0</td>\n",
              "      <td>6</td>\n",
              "      <td>445(-1)</td>\n",
              "      <td>内田利雄</td>\n",
              "      <td>ケイエムキング</td>\n",
              "      <td>10.0</td>\n",
              "      <td>2019/1/1</td>\n",
              "      <td>201945010102</td>\n",
              "      <td>C3七　八</td>\n",
              "      <td>9</td>\n",
              "      <td>1:35.3</td>\n",
              "      <td>56.0</td>\n",
              "      <td>136.0</td>\n",
              "    </tr>\n",
              "    <tr>\n",
              "      <th>264080</th>\n",
              "      <td>292896</td>\n",
              "      <td>42.2</td>\n",
              "      <td>牝6</td>\n",
              "      <td>7.0</td>\n",
              "      <td>8</td>\n",
              "      <td>453(+2)</td>\n",
              "      <td>山本聡紀</td>\n",
              "      <td>ゼットフラッグ</td>\n",
              "      <td>5.0</td>\n",
              "      <td>2019/1/1</td>\n",
              "      <td>201945010103</td>\n",
              "      <td>C3七　八</td>\n",
              "      <td>11</td>\n",
              "      <td>1:35.8</td>\n",
              "      <td>54.0</td>\n",
              "      <td>13.2</td>\n",
              "    </tr>\n",
              "    <tr>\n",
              "      <th>264081</th>\n",
              "      <td>292898</td>\n",
              "      <td>42.4</td>\n",
              "      <td>牝8</td>\n",
              "      <td>8.0</td>\n",
              "      <td>9</td>\n",
              "      <td>392(-2)</td>\n",
              "      <td>仲原大生</td>\n",
              "      <td>メイプルキュート</td>\n",
              "      <td>9.0</td>\n",
              "      <td>2019/1/1</td>\n",
              "      <td>201945010102</td>\n",
              "      <td>C3七　八</td>\n",
              "      <td>10</td>\n",
              "      <td>1:35.4</td>\n",
              "      <td>51.0</td>\n",
              "      <td>76.1</td>\n",
              "    </tr>\n",
              "  </tbody>\n",
              "</table>\n",
              "<p>253636 rows × 16 columns</p>\n",
              "</div>"
            ],
            "text/plain": [
              "        Unnamed: 0  agari age  frame_number  ...  rank    time weight    win\n",
              "0                0   38.1  牡3           7.0  ...     1  1:28.5   54.0    3.7\n",
              "1                1   38.1  牝5           6.0  ...     2  1:28.7   54.0   81.4\n",
              "2                2   38.6  セ6           3.0  ...     3  1:28.8   56.0    8.6\n",
              "3                3   37.9  牡4           8.0  ...     4  1:28.8   56.0   34.4\n",
              "4                4   38.5  牝5           4.0  ...     5  1:28.9   54.0   34.8\n",
              "...            ...    ...  ..           ...  ...   ...     ...    ...    ...\n",
              "264074      292885   44.0  牝5           7.0  ...    13  1:40.9   54.0  432.6\n",
              "264078      292889   40.9  牡6           4.0  ...     8  1:34.6   55.0   22.0\n",
              "264079      292890   41.3  牡6           6.0  ...     9  1:35.3   56.0  136.0\n",
              "264080      292896   42.2  牝6           7.0  ...    11  1:35.8   54.0   13.2\n",
              "264081      292898   42.4  牝8           8.0  ...    10  1:35.4   51.0   76.1\n",
              "\n",
              "[253636 rows x 16 columns]"
            ]
          },
          "metadata": {
            "tags": []
          },
          "execution_count": 9
        }
      ]
    },
    {
      "cell_type": "code",
      "metadata": {
        "id": "h6-4xa3ddFkA",
        "colab_type": "code",
        "colab": {
          "base_uri": "https://localhost:8080/",
          "height": 419
        },
        "outputId": "ffd40740-439a-4c25-b747-04661b8ffe4d"
      },
      "source": [
        "race_df"
      ],
      "execution_count": 10,
      "outputs": [
        {
          "output_type": "execute_result",
          "data": {
            "text/html": [
              "<div>\n",
              "<style scoped>\n",
              "    .dataframe tbody tr th:only-of-type {\n",
              "        vertical-align: middle;\n",
              "    }\n",
              "\n",
              "    .dataframe tbody tr th {\n",
              "        vertical-align: top;\n",
              "    }\n",
              "\n",
              "    .dataframe thead th {\n",
              "        text-align: right;\n",
              "    }\n",
              "</style>\n",
              "<table border=\"1\" class=\"dataframe\">\n",
              "  <thead>\n",
              "    <tr style=\"text-align: right;\">\n",
              "      <th></th>\n",
              "      <th>Unnamed: 0</th>\n",
              "      <th>clockwise</th>\n",
              "      <th>date</th>\n",
              "      <th>distance</th>\n",
              "      <th>field_condition</th>\n",
              "      <th>field_type</th>\n",
              "      <th>name</th>\n",
              "      <th>place</th>\n",
              "      <th>race_id</th>\n",
              "      <th>race_round</th>\n",
              "      <th>start_time</th>\n",
              "      <th>weather</th>\n",
              "    </tr>\n",
              "  </thead>\n",
              "  <tbody>\n",
              "    <tr>\n",
              "      <th>0</th>\n",
              "      <td>0</td>\n",
              "      <td>右</td>\n",
              "      <td>2020/6/22</td>\n",
              "      <td>1400</td>\n",
              "      <td>不</td>\n",
              "      <td>ダ</td>\n",
              "      <td>タイタン賞競走</td>\n",
              "      <td>大井</td>\n",
              "      <td>202044062212</td>\n",
              "      <td>12R</td>\n",
              "      <td>20:50</td>\n",
              "      <td>雨</td>\n",
              "    </tr>\n",
              "    <tr>\n",
              "      <th>1</th>\n",
              "      <td>1</td>\n",
              "      <td>右</td>\n",
              "      <td>2020/6/22</td>\n",
              "      <td>1800</td>\n",
              "      <td>不</td>\n",
              "      <td>ダ</td>\n",
              "      <td>ポートサイド賞競走</td>\n",
              "      <td>大井</td>\n",
              "      <td>202044062211</td>\n",
              "      <td>11R</td>\n",
              "      <td>20:10</td>\n",
              "      <td>雨</td>\n",
              "    </tr>\n",
              "    <tr>\n",
              "      <th>2</th>\n",
              "      <td>2</td>\n",
              "      <td>右</td>\n",
              "      <td>2020/6/22</td>\n",
              "      <td>1200</td>\n",
              "      <td>不</td>\n",
              "      <td>ダ</td>\n",
              "      <td>C1九　十11</td>\n",
              "      <td>大井</td>\n",
              "      <td>202044062210</td>\n",
              "      <td>10R</td>\n",
              "      <td>19:30</td>\n",
              "      <td>雨</td>\n",
              "    </tr>\n",
              "    <tr>\n",
              "      <th>3</th>\n",
              "      <td>3</td>\n",
              "      <td>右</td>\n",
              "      <td>2020/6/22</td>\n",
              "      <td>1400</td>\n",
              "      <td>不</td>\n",
              "      <td>ダ</td>\n",
              "      <td>C1九　十11</td>\n",
              "      <td>大井</td>\n",
              "      <td>202044062209</td>\n",
              "      <td>9R</td>\n",
              "      <td>18:55</td>\n",
              "      <td>雨</td>\n",
              "    </tr>\n",
              "    <tr>\n",
              "      <th>4</th>\n",
              "      <td>4</td>\n",
              "      <td>右</td>\n",
              "      <td>2020/6/22</td>\n",
              "      <td>1600</td>\n",
              "      <td>不</td>\n",
              "      <td>ダ</td>\n",
              "      <td>C1九　十11</td>\n",
              "      <td>大井</td>\n",
              "      <td>202044062208</td>\n",
              "      <td>8R</td>\n",
              "      <td>18:20</td>\n",
              "      <td>雨</td>\n",
              "    </tr>\n",
              "    <tr>\n",
              "      <th>...</th>\n",
              "      <td>...</td>\n",
              "      <td>...</td>\n",
              "      <td>...</td>\n",
              "      <td>...</td>\n",
              "      <td>...</td>\n",
              "      <td>...</td>\n",
              "      <td>...</td>\n",
              "      <td>...</td>\n",
              "      <td>...</td>\n",
              "      <td>...</td>\n",
              "      <td>...</td>\n",
              "      <td>...</td>\n",
              "    </tr>\n",
              "    <tr>\n",
              "      <th>24215</th>\n",
              "      <td>27514</td>\n",
              "      <td>左</td>\n",
              "      <td>2019/1/1</td>\n",
              "      <td>1500</td>\n",
              "      <td>良</td>\n",
              "      <td>ダ</td>\n",
              "      <td>3歳4</td>\n",
              "      <td>川崎</td>\n",
              "      <td>201945010106</td>\n",
              "      <td>6R</td>\n",
              "      <td>13:50</td>\n",
              "      <td>晴</td>\n",
              "    </tr>\n",
              "    <tr>\n",
              "      <th>24216</th>\n",
              "      <td>27515</td>\n",
              "      <td>左</td>\n",
              "      <td>2019/1/1</td>\n",
              "      <td>900</td>\n",
              "      <td>良</td>\n",
              "      <td>ダ</td>\n",
              "      <td>タンチョウ賞</td>\n",
              "      <td>川崎</td>\n",
              "      <td>201945010105</td>\n",
              "      <td>5R</td>\n",
              "      <td>13:20</td>\n",
              "      <td>晴</td>\n",
              "    </tr>\n",
              "    <tr>\n",
              "      <th>24217</th>\n",
              "      <td>27516</td>\n",
              "      <td>左</td>\n",
              "      <td>2019/1/1</td>\n",
              "      <td>1400</td>\n",
              "      <td>良</td>\n",
              "      <td>ダ</td>\n",
              "      <td>3歳5</td>\n",
              "      <td>川崎</td>\n",
              "      <td>201945010104</td>\n",
              "      <td>4R</td>\n",
              "      <td>12:50</td>\n",
              "      <td>晴</td>\n",
              "    </tr>\n",
              "    <tr>\n",
              "      <th>24218</th>\n",
              "      <td>27517</td>\n",
              "      <td>左</td>\n",
              "      <td>2019/1/1</td>\n",
              "      <td>1400</td>\n",
              "      <td>良</td>\n",
              "      <td>ダ</td>\n",
              "      <td>C3七　八</td>\n",
              "      <td>川崎</td>\n",
              "      <td>201945010103</td>\n",
              "      <td>3R</td>\n",
              "      <td>12:20</td>\n",
              "      <td>晴</td>\n",
              "    </tr>\n",
              "    <tr>\n",
              "      <th>24219</th>\n",
              "      <td>27518</td>\n",
              "      <td>左</td>\n",
              "      <td>2019/1/1</td>\n",
              "      <td>1400</td>\n",
              "      <td>良</td>\n",
              "      <td>ダ</td>\n",
              "      <td>C3七　八</td>\n",
              "      <td>川崎</td>\n",
              "      <td>201945010102</td>\n",
              "      <td>2R</td>\n",
              "      <td>11:50</td>\n",
              "      <td>晴</td>\n",
              "    </tr>\n",
              "  </tbody>\n",
              "</table>\n",
              "<p>22630 rows × 12 columns</p>\n",
              "</div>"
            ],
            "text/plain": [
              "       Unnamed: 0 clockwise       date  ...  race_round start_time weather\n",
              "0               0         右  2020/6/22  ...         12R      20:50       雨\n",
              "1               1         右  2020/6/22  ...         11R      20:10       雨\n",
              "2               2         右  2020/6/22  ...         10R      19:30       雨\n",
              "3               3         右  2020/6/22  ...          9R      18:55       雨\n",
              "4               4         右  2020/6/22  ...          8R      18:20       雨\n",
              "...           ...       ...        ...  ...         ...        ...     ...\n",
              "24215       27514         左   2019/1/1  ...          6R      13:50       晴\n",
              "24216       27515         左   2019/1/1  ...          5R      13:20       晴\n",
              "24217       27516         左   2019/1/1  ...          4R      12:50       晴\n",
              "24218       27517         左   2019/1/1  ...          3R      12:20       晴\n",
              "24219       27518         左   2019/1/1  ...          2R      11:50       晴\n",
              "\n",
              "[22630 rows x 12 columns]"
            ]
          },
          "metadata": {
            "tags": []
          },
          "execution_count": 10
        }
      ]
    },
    {
      "cell_type": "code",
      "metadata": {
        "id": "r5X8IPRqapxo",
        "colab_type": "code",
        "colab": {}
      },
      "source": [
        "use_columns_horse = [\n",
        "                    'race_id',\n",
        "                    'horse_number',\n",
        "                    'frame_number',\n",
        "                    'age',\n",
        "                    'gen',\n",
        "                    'weight',\n",
        "                    'weight_diff',\n",
        "                    'burden_weight'\n",
        "]\n",
        "\n",
        "use_columns_race = [\n",
        "                    'race_id',\n",
        "                    'name',\n",
        "                    'place',\n",
        "                    'distance',\n",
        "                    'clockwise',\n",
        "                    'field_type',\n",
        "                    'field_condition',\n",
        "                    'weather',\n",
        "                    'date_time'\n",
        "]"
      ],
      "execution_count": null,
      "outputs": []
    }
  ]
}