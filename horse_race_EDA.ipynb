{
  "nbformat": 4,
  "nbformat_minor": 0,
  "metadata": {
    "colab": {
      "name": "horse-race-EDA.ipynb",
      "provenance": [],
      "collapsed_sections": [],
      "toc_visible": true,
      "authorship_tag": "ABX9TyNYOTv/hI0jauBI5myJ43Ox",
      "include_colab_link": true
    },
    "kernelspec": {
      "name": "python3",
      "display_name": "Python 3"
    }
  },
  "cells": [
    {
      "cell_type": "markdown",
      "metadata": {
        "id": "view-in-github",
        "colab_type": "text"
      },
      "source": [
        "<a href=\"https://colab.research.google.com/github/monda00/horse-race-notebook/blob/master/horse_race_EDA.ipynb\" target=\"_parent\"><img src=\"https://colab.research.google.com/assets/colab-badge.svg\" alt=\"Open In Colab\"/></a>"
      ]
    },
    {
      "cell_type": "markdown",
      "metadata": {
        "id": "lM2Vg6bDVR2q",
        "colab_type": "text"
      },
      "source": [
        "# netkeibaでスクレイピングしたデータのEDA"
      ]
    },
    {
      "cell_type": "markdown",
      "metadata": {
        "id": "ApfnmQLEVqh8",
        "colab_type": "text"
      },
      "source": [
        "- 準備\n",
        "- ライブラリ・データ読み込み\n",
        "- データの概観・分析"
      ]
    },
    {
      "cell_type": "markdown",
      "metadata": {
        "id": "BiqauKp2dCVt",
        "colab_type": "text"
      },
      "source": [
        "# 準備"
      ]
    },
    {
      "cell_type": "markdown",
      "metadata": {
        "id": "_Q6bUkeDdEw2",
        "colab_type": "text"
      },
      "source": [
        "# ライブラリ・データ読み込み"
      ]
    },
    {
      "cell_type": "code",
      "metadata": {
        "id": "FqOPinwSHVMK",
        "colab_type": "code",
        "colab": {}
      },
      "source": [
        "import numpy as np\n",
        "import pandas as pd"
      ],
      "execution_count": 11,
      "outputs": []
    },
    {
      "cell_type": "code",
      "metadata": {
        "id": "Ma4MplpheGDT",
        "colab_type": "code",
        "colab": {}
      },
      "source": [
        "DATA_PATH = './'"
      ],
      "execution_count": 12,
      "outputs": []
    },
    {
      "cell_type": "code",
      "metadata": {
        "id": "icZMNnMCdVea",
        "colab_type": "code",
        "colab": {}
      },
      "source": [
        "race_df = pd.read_csv(DATA_PATH + 'race.csv')\n",
        "horse_df = pd.read_csv(DATA_PATH + 'horse.csv')"
      ],
      "execution_count": 13,
      "outputs": []
    },
    {
      "cell_type": "code",
      "metadata": {
        "id": "ItMcGOqygN1j",
        "colab_type": "code",
        "colab": {
          "base_uri": "https://localhost:8080/",
          "height": 204
        },
        "outputId": "5459f61e-bbe6-49c4-d8e2-682cdca0c1be"
      },
      "source": [
        "race_df.head()"
      ],
      "execution_count": 14,
      "outputs": [
        {
          "output_type": "execute_result",
          "data": {
            "text/html": [
              "<div>\n",
              "<style scoped>\n",
              "    .dataframe tbody tr th:only-of-type {\n",
              "        vertical-align: middle;\n",
              "    }\n",
              "\n",
              "    .dataframe tbody tr th {\n",
              "        vertical-align: top;\n",
              "    }\n",
              "\n",
              "    .dataframe thead th {\n",
              "        text-align: right;\n",
              "    }\n",
              "</style>\n",
              "<table border=\"1\" class=\"dataframe\">\n",
              "  <thead>\n",
              "    <tr style=\"text-align: right;\">\n",
              "      <th></th>\n",
              "      <th>clockwise</th>\n",
              "      <th>date</th>\n",
              "      <th>distance</th>\n",
              "      <th>field_condition</th>\n",
              "      <th>field_type</th>\n",
              "      <th>name</th>\n",
              "      <th>place</th>\n",
              "      <th>race_id</th>\n",
              "      <th>race_round</th>\n",
              "      <th>start_time</th>\n",
              "      <th>weather</th>\n",
              "    </tr>\n",
              "  </thead>\n",
              "  <tbody>\n",
              "    <tr>\n",
              "      <th>0</th>\n",
              "      <td>右</td>\n",
              "      <td>2020/6/22</td>\n",
              "      <td>1400</td>\n",
              "      <td>不</td>\n",
              "      <td>ダ</td>\n",
              "      <td>タイタン賞競走</td>\n",
              "      <td>大井</td>\n",
              "      <td>202044062212</td>\n",
              "      <td>12R</td>\n",
              "      <td>20:50</td>\n",
              "      <td>雨</td>\n",
              "    </tr>\n",
              "    <tr>\n",
              "      <th>1</th>\n",
              "      <td>右</td>\n",
              "      <td>2020/6/22</td>\n",
              "      <td>1800</td>\n",
              "      <td>不</td>\n",
              "      <td>ダ</td>\n",
              "      <td>ポートサイド賞競走</td>\n",
              "      <td>大井</td>\n",
              "      <td>202044062211</td>\n",
              "      <td>11R</td>\n",
              "      <td>20:10</td>\n",
              "      <td>雨</td>\n",
              "    </tr>\n",
              "    <tr>\n",
              "      <th>2</th>\n",
              "      <td>右</td>\n",
              "      <td>2020/6/22</td>\n",
              "      <td>1200</td>\n",
              "      <td>不</td>\n",
              "      <td>ダ</td>\n",
              "      <td>C1九　十11</td>\n",
              "      <td>大井</td>\n",
              "      <td>202044062210</td>\n",
              "      <td>10R</td>\n",
              "      <td>19:30</td>\n",
              "      <td>雨</td>\n",
              "    </tr>\n",
              "    <tr>\n",
              "      <th>3</th>\n",
              "      <td>右</td>\n",
              "      <td>2020/6/22</td>\n",
              "      <td>1400</td>\n",
              "      <td>不</td>\n",
              "      <td>ダ</td>\n",
              "      <td>C1九　十11</td>\n",
              "      <td>大井</td>\n",
              "      <td>202044062209</td>\n",
              "      <td>9R</td>\n",
              "      <td>18:55</td>\n",
              "      <td>雨</td>\n",
              "    </tr>\n",
              "    <tr>\n",
              "      <th>4</th>\n",
              "      <td>右</td>\n",
              "      <td>2020/6/22</td>\n",
              "      <td>1600</td>\n",
              "      <td>不</td>\n",
              "      <td>ダ</td>\n",
              "      <td>C1九　十11</td>\n",
              "      <td>大井</td>\n",
              "      <td>202044062208</td>\n",
              "      <td>8R</td>\n",
              "      <td>18:20</td>\n",
              "      <td>雨</td>\n",
              "    </tr>\n",
              "  </tbody>\n",
              "</table>\n",
              "</div>"
            ],
            "text/plain": [
              "  clockwise       date  distance  ... race_round start_time weather\n",
              "0         右  2020/6/22      1400  ...        12R      20:50       雨\n",
              "1         右  2020/6/22      1800  ...        11R      20:10       雨\n",
              "2         右  2020/6/22      1200  ...        10R      19:30       雨\n",
              "3         右  2020/6/22      1400  ...         9R      18:55       雨\n",
              "4         右  2020/6/22      1600  ...         8R      18:20       雨\n",
              "\n",
              "[5 rows x 11 columns]"
            ]
          },
          "metadata": {
            "tags": []
          },
          "execution_count": 14
        }
      ]
    },
    {
      "cell_type": "code",
      "metadata": {
        "id": "I4wqqv9jgRZJ",
        "colab_type": "code",
        "colab": {
          "base_uri": "https://localhost:8080/",
          "height": 204
        },
        "outputId": "cbdb5030-fa03-4560-bb50-0b32c51017fd"
      },
      "source": [
        "horse_df.head()"
      ],
      "execution_count": 15,
      "outputs": [
        {
          "output_type": "execute_result",
          "data": {
            "text/html": [
              "<div>\n",
              "<style scoped>\n",
              "    .dataframe tbody tr th:only-of-type {\n",
              "        vertical-align: middle;\n",
              "    }\n",
              "\n",
              "    .dataframe tbody tr th {\n",
              "        vertical-align: top;\n",
              "    }\n",
              "\n",
              "    .dataframe thead th {\n",
              "        text-align: right;\n",
              "    }\n",
              "</style>\n",
              "<table border=\"1\" class=\"dataframe\">\n",
              "  <thead>\n",
              "    <tr style=\"text-align: right;\">\n",
              "      <th></th>\n",
              "      <th>agari</th>\n",
              "      <th>age</th>\n",
              "      <th>frame_number</th>\n",
              "      <th>horse_number</th>\n",
              "      <th>horse_weight</th>\n",
              "      <th>jockey</th>\n",
              "      <th>name</th>\n",
              "      <th>popular</th>\n",
              "      <th>race_date</th>\n",
              "      <th>race_id</th>\n",
              "      <th>race_name</th>\n",
              "      <th>rank</th>\n",
              "      <th>time</th>\n",
              "      <th>weight</th>\n",
              "      <th>win</th>\n",
              "    </tr>\n",
              "  </thead>\n",
              "  <tbody>\n",
              "    <tr>\n",
              "      <th>0</th>\n",
              "      <td>38.1</td>\n",
              "      <td>牡3</td>\n",
              "      <td>7.0</td>\n",
              "      <td>13</td>\n",
              "      <td>511(-5)</td>\n",
              "      <td>森泰斗</td>\n",
              "      <td>ワイルドホース</td>\n",
              "      <td>2.0</td>\n",
              "      <td>2020/6/22</td>\n",
              "      <td>202044062212</td>\n",
              "      <td>タイタン賞競走</td>\n",
              "      <td>1</td>\n",
              "      <td>1:28.5</td>\n",
              "      <td>54.0</td>\n",
              "      <td>3.7</td>\n",
              "    </tr>\n",
              "    <tr>\n",
              "      <th>1</th>\n",
              "      <td>38.1</td>\n",
              "      <td>牝5</td>\n",
              "      <td>6.0</td>\n",
              "      <td>11</td>\n",
              "      <td>475(-2)</td>\n",
              "      <td>山崎誠士</td>\n",
              "      <td>クインズオライリー</td>\n",
              "      <td>12.0</td>\n",
              "      <td>2020/6/22</td>\n",
              "      <td>202044062212</td>\n",
              "      <td>タイタン賞競走</td>\n",
              "      <td>2</td>\n",
              "      <td>1:28.7</td>\n",
              "      <td>54.0</td>\n",
              "      <td>81.4</td>\n",
              "    </tr>\n",
              "    <tr>\n",
              "      <th>2</th>\n",
              "      <td>38.6</td>\n",
              "      <td>セ6</td>\n",
              "      <td>3.0</td>\n",
              "      <td>4</td>\n",
              "      <td>469(+2)</td>\n",
              "      <td>西啓太</td>\n",
              "      <td>メダーリアフレイム</td>\n",
              "      <td>4.0</td>\n",
              "      <td>2020/6/22</td>\n",
              "      <td>202044062212</td>\n",
              "      <td>タイタン賞競走</td>\n",
              "      <td>3</td>\n",
              "      <td>1:28.8</td>\n",
              "      <td>56.0</td>\n",
              "      <td>8.6</td>\n",
              "    </tr>\n",
              "    <tr>\n",
              "      <th>3</th>\n",
              "      <td>37.9</td>\n",
              "      <td>牡4</td>\n",
              "      <td>8.0</td>\n",
              "      <td>14</td>\n",
              "      <td>526(+6)</td>\n",
              "      <td>藤本現暉</td>\n",
              "      <td>ゴールドプリンス</td>\n",
              "      <td>8.0</td>\n",
              "      <td>2020/6/22</td>\n",
              "      <td>202044062212</td>\n",
              "      <td>タイタン賞競走</td>\n",
              "      <td>4</td>\n",
              "      <td>1:28.8</td>\n",
              "      <td>56.0</td>\n",
              "      <td>34.4</td>\n",
              "    </tr>\n",
              "    <tr>\n",
              "      <th>4</th>\n",
              "      <td>38.5</td>\n",
              "      <td>牝5</td>\n",
              "      <td>4.0</td>\n",
              "      <td>7</td>\n",
              "      <td>475(+6)</td>\n",
              "      <td>藤田凌</td>\n",
              "      <td>イグレット</td>\n",
              "      <td>9.0</td>\n",
              "      <td>2020/6/22</td>\n",
              "      <td>202044062212</td>\n",
              "      <td>タイタン賞競走</td>\n",
              "      <td>5</td>\n",
              "      <td>1:28.9</td>\n",
              "      <td>54.0</td>\n",
              "      <td>34.8</td>\n",
              "    </tr>\n",
              "  </tbody>\n",
              "</table>\n",
              "</div>"
            ],
            "text/plain": [
              "   agari age  frame_number  horse_number  ... rank    time weight   win\n",
              "0   38.1  牡3           7.0            13  ...    1  1:28.5   54.0   3.7\n",
              "1   38.1  牝5           6.0            11  ...    2  1:28.7   54.0  81.4\n",
              "2   38.6  セ6           3.0             4  ...    3  1:28.8   56.0   8.6\n",
              "3   37.9  牡4           8.0            14  ...    4  1:28.8   56.0  34.4\n",
              "4   38.5  牝5           4.0             7  ...    5  1:28.9   54.0  34.8\n",
              "\n",
              "[5 rows x 15 columns]"
            ]
          },
          "metadata": {
            "tags": []
          },
          "execution_count": 15
        }
      ]
    },
    {
      "cell_type": "markdown",
      "metadata": {
        "id": "h3dVS7QBgeK5",
        "colab_type": "text"
      },
      "source": [
        "# データの概観・分析"
      ]
    },
    {
      "cell_type": "code",
      "metadata": {
        "id": "L5v7YALqgTD1",
        "colab_type": "code",
        "colab": {}
      },
      "source": [
        ""
      ],
      "execution_count": 10,
      "outputs": []
    },
    {
      "cell_type": "code",
      "metadata": {
        "id": "3pWbdJ5VgY3o",
        "colab_type": "code",
        "colab": {}
      },
      "source": [
        ""
      ],
      "execution_count": null,
      "outputs": []
    }
  ]
}