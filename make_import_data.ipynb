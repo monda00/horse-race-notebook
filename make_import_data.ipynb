{
  "nbformat": 4,
  "nbformat_minor": 0,
  "metadata": {
    "colab": {
      "name": "make_import_data.ipynb",
      "provenance": [],
      "toc_visible": true,
      "mount_file_id": "1ePYRZdYHVFyJctVUy76tWGDK8RPeJuEW",
      "authorship_tag": "ABX9TyOUSz2cv1NLJtbwmA4A+AJK",
      "include_colab_link": true
    },
    "kernelspec": {
      "name": "python3",
      "display_name": "Python 3"
    }
  },
  "cells": [
    {
      "cell_type": "markdown",
      "metadata": {
        "id": "view-in-github",
        "colab_type": "text"
      },
      "source": [
        "<a href=\"https://colab.research.google.com/github/monda00/horse-race-notebook/blob/master/make_import_data.ipynb\" target=\"_parent\"><img src=\"https://colab.research.google.com/assets/colab-badge.svg\" alt=\"Open In Colab\"/></a>"
      ]
    },
    {
      "cell_type": "markdown",
      "metadata": {
        "id": "UjZ5jJxnUWqD",
        "colab_type": "text"
      },
      "source": [
        "# アプリにインポートするデータ形式に変換する"
      ]
    },
    {
      "cell_type": "markdown",
      "metadata": {
        "id": "mXSJ79tOU64x",
        "colab_type": "text"
      },
      "source": [
        "# ライブラリ・データ読み込み"
      ]
    },
    {
      "cell_type": "code",
      "metadata": {
        "id": "Mdc4tp8XSt4f",
        "colab_type": "code",
        "colab": {}
      },
      "source": [
        "import numpy as np\n",
        "import pandas as pd\n",
        "import re\n",
        "import collections"
      ],
      "execution_count": 1,
      "outputs": []
    },
    {
      "cell_type": "code",
      "metadata": {
        "id": "wtERt-o_VgPW",
        "colab_type": "code",
        "colab": {}
      },
      "source": [
        "DATA_PATH = '/content/drive/My Drive/data/horse-race/'"
      ],
      "execution_count": 2,
      "outputs": []
    },
    {
      "cell_type": "code",
      "metadata": {
        "id": "FC36XpGxVjDz",
        "colab_type": "code",
        "colab": {}
      },
      "source": [
        "race_df = pd.read_csv(DATA_PATH + 'race_ex.csv')\n",
        "horse_df = pd.read_csv(DATA_PATH + 'horse_ex.csv')"
      ],
      "execution_count": 3,
      "outputs": []
    },
    {
      "cell_type": "markdown",
      "metadata": {
        "id": "GJ5sHfLjXwz4",
        "colab_type": "text"
      },
      "source": [
        "# 前処理\n",
        "\n",
        "必要なデータ"
      ]
    },
    {
      "cell_type": "markdown",
      "metadata": {
        "id": "XlAJZeLeX54t",
        "colab_type": "text"
      },
      "source": [
        "## ７頭以下のレースを削除"
      ]
    },
    {
      "cell_type": "code",
      "metadata": {
        "id": "hURz3RGKXwey",
        "colab_type": "code",
        "colab": {
          "base_uri": "https://localhost:8080/",
          "height": 221
        },
        "outputId": "9b780fd8-1f07-46d3-9f5a-3e2b92838d32"
      },
      "source": [
        "horse_df['race_id'].value_counts()"
      ],
      "execution_count": 4,
      "outputs": [
        {
          "output_type": "execute_result",
          "data": {
            "text/plain": [
              "202008030303    18\n",
              "201904021003    18\n",
              "201910020707    18\n",
              "201907010209    18\n",
              "201908030105    18\n",
              "                ..\n",
              "201945051701     4\n",
              "201946061610     4\n",
              "202035052403     4\n",
              "201947070506     3\n",
              "201935071404     3\n",
              "Name: race_id, Length: 24221, dtype: int64"
            ]
          },
          "metadata": {
            "tags": []
          },
          "execution_count": 4
        }
      ]
    },
    {
      "cell_type": "code",
      "metadata": {
        "id": "Etf_Ti1NVlCB",
        "colab_type": "code",
        "colab": {}
      },
      "source": [
        "drop_races_s = horse_df['race_id'].value_counts() <= 7\n",
        "drop_race_id = drop_races_s[drop_races_s == True].index\n",
        "\n",
        "for race_id in drop_race_id:\n",
        "  race_df = race_df[race_df['race_id'] != race_id]\n",
        "\n",
        "for race_id in drop_race_id:\n",
        "  horse_df = horse_df[horse_df['race_id'] != race_id]"
      ],
      "execution_count": 5,
      "outputs": []
    },
    {
      "cell_type": "code",
      "metadata": {
        "id": "oRlRczIKYwVV",
        "colab_type": "code",
        "colab": {
          "base_uri": "https://localhost:8080/",
          "height": 221
        },
        "outputId": "362d86fc-47d1-4efa-9b6d-602cbefbe9f1"
      },
      "source": [
        "horse_df['race_id'].value_counts()"
      ],
      "execution_count": 6,
      "outputs": [
        {
          "output_type": "execute_result",
          "data": {
            "text/plain": [
              "201910010805    18\n",
              "201910010107    18\n",
              "201906050612    18\n",
              "201908030105    18\n",
              "201904030106    18\n",
              "                ..\n",
              "201936082609     8\n",
              "201954021002     8\n",
              "201950070403     8\n",
              "201943080912     8\n",
              "202047061904     8\n",
              "Name: race_id, Length: 22630, dtype: int64"
            ]
          },
          "metadata": {
            "tags": []
          },
          "execution_count": 6
        }
      ]
    },
    {
      "cell_type": "markdown",
      "metadata": {
        "id": "pqq1ldIeblrB",
        "colab_type": "text"
      },
      "source": [
        "## 性別と年齢の分割"
      ]
    },
    {
      "cell_type": "code",
      "metadata": {
        "id": "Px3Srj6_wyND",
        "colab_type": "code",
        "colab": {}
      },
      "source": [
        "gen = []\n",
        "age = []\n",
        "for i in range(len(horse_df)):\n",
        "  age_v = horse_df.iloc[i]['age']\n",
        "  gen.append(re.search(r'(.)(\\d{1,2})', age_v).group(1))\n",
        "  age.append(re.search(r'(.)(\\d{1,2})', age_v).group(2))"
      ],
      "execution_count": 7,
      "outputs": []
    },
    {
      "cell_type": "code",
      "metadata": {
        "id": "DYnTaZi5w30W",
        "colab_type": "code",
        "colab": {}
      },
      "source": [
        "horse_df['age'] = age\n",
        "horse_df['gen'] = gen"
      ],
      "execution_count": 8,
      "outputs": []
    },
    {
      "cell_type": "markdown",
      "metadata": {
        "id": "c2Ra2BG_fW0f",
        "colab_type": "text"
      },
      "source": [
        "## 負担重量と体重と増減"
      ]
    },
    {
      "cell_type": "code",
      "metadata": {
        "id": "pXnVodtVxFh2",
        "colab_type": "code",
        "colab": {}
      },
      "source": [
        "horse_df['burden_weight'] = horse_df['weight']"
      ],
      "execution_count": 9,
      "outputs": []
    },
    {
      "cell_type": "code",
      "metadata": {
        "id": "i3wCI5pqxMYz",
        "colab_type": "code",
        "colab": {}
      },
      "source": [
        "weight = []\n",
        "weight_diff = []\n",
        "for i in range(len(horse_df)):\n",
        "  horse_weight = horse_df.iloc[i]['horse_weight']\n",
        "  if horse_weight == '計不':\n",
        "    weight.append('計不')\n",
        "    weight_diff.append('計不')\n",
        "  else:\n",
        "    weight.append(int(re.search(r'(.*)(\\(.*?\\))', horse_weight).group(1)))\n",
        "    weight_diff.append(re.search(r'(.*)(\\(.*?\\))', horse_weight).group(2).replace('(', '').replace(')', ''))"
      ],
      "execution_count": 10,
      "outputs": []
    },
    {
      "cell_type": "code",
      "metadata": {
        "id": "p7b87l0xxSDQ",
        "colab_type": "code",
        "colab": {}
      },
      "source": [
        "horse_df['weight'] = weight\n",
        "horse_df['weight_diff'] = weight_diff"
      ],
      "execution_count": 11,
      "outputs": []
    },
    {
      "cell_type": "markdown",
      "metadata": {
        "id": "XNaB3xb7fll0",
        "colab_type": "text"
      },
      "source": [
        "## 日時"
      ]
    },
    {
      "cell_type": "code",
      "metadata": {
        "id": "VHKHrFn7zV_b",
        "colab_type": "code",
        "colab": {}
      },
      "source": [
        "race_df['date_time'] = pd.to_datetime(race_df['date'] + ' ' + race_df['start_time'])"
      ],
      "execution_count": 12,
      "outputs": []
    },
    {
      "cell_type": "markdown",
      "metadata": {
        "id": "xDbx1ZwL5BWE",
        "colab_type": "text"
      },
      "source": [
        "## 出走馬数"
      ]
    },
    {
      "cell_type": "code",
      "metadata": {
        "id": "rCUWlnAu5rty",
        "colab_type": "code",
        "colab": {}
      },
      "source": [
        "race_df['race_horse_number'] = list(collections.Counter(list(horse_df['race_id'].values)).values())"
      ],
      "execution_count": 13,
      "outputs": []
    },
    {
      "cell_type": "markdown",
      "metadata": {
        "id": "XxQQ-R83mcn9",
        "colab_type": "text"
      },
      "source": [
        "## 計測不能の置換"
      ]
    },
    {
      "cell_type": "code",
      "metadata": {
        "id": "dUuhQO2Zmf1r",
        "colab_type": "code",
        "colab": {}
      },
      "source": [
        "horse_df = horse_df.replace('計不', 0)"
      ],
      "execution_count": 14,
      "outputs": []
    },
    {
      "cell_type": "markdown",
      "metadata": {
        "id": "cw9ynwc1evGv",
        "colab_type": "text"
      },
      "source": [
        "## データ数を制限"
      ]
    },
    {
      "cell_type": "code",
      "metadata": {
        "id": "6ceRDcPwfEUJ",
        "colab_type": "code",
        "colab": {}
      },
      "source": [
        "race_df['date'] = pd.to_datetime(race_df['date'])\n",
        "horse_df['race_date'] = pd.to_datetime(horse_df['race_date'])"
      ],
      "execution_count": 15,
      "outputs": []
    },
    {
      "cell_type": "code",
      "metadata": {
        "id": "cN5jCrCaf1Em",
        "colab_type": "code",
        "colab": {}
      },
      "source": [
        "race_df = race_df[race_df['date'] > '2020-05-31']\n",
        "horse_df = horse_df[horse_df['race_date'] > '2020-05-31']"
      ],
      "execution_count": 16,
      "outputs": []
    },
    {
      "cell_type": "markdown",
      "metadata": {
        "id": "xZCcpYU-0GJs",
        "colab_type": "text"
      },
      "source": [
        "# 確認"
      ]
    },
    {
      "cell_type": "code",
      "metadata": {
        "id": "howNPZrUZreG",
        "colab_type": "code",
        "colab": {
          "base_uri": "https://localhost:8080/",
          "height": 966
        },
        "outputId": "728ab09f-b7cb-4560-e8ec-50dbfe7faec7"
      },
      "source": [
        "horse_df"
      ],
      "execution_count": 17,
      "outputs": [
        {
          "output_type": "execute_result",
          "data": {
            "text/html": [
              "<div>\n",
              "<style scoped>\n",
              "    .dataframe tbody tr th:only-of-type {\n",
              "        vertical-align: middle;\n",
              "    }\n",
              "\n",
              "    .dataframe tbody tr th {\n",
              "        vertical-align: top;\n",
              "    }\n",
              "\n",
              "    .dataframe thead th {\n",
              "        text-align: right;\n",
              "    }\n",
              "</style>\n",
              "<table border=\"1\" class=\"dataframe\">\n",
              "  <thead>\n",
              "    <tr style=\"text-align: right;\">\n",
              "      <th></th>\n",
              "      <th>Unnamed: 0</th>\n",
              "      <th>agari</th>\n",
              "      <th>age</th>\n",
              "      <th>frame_number</th>\n",
              "      <th>horse_number</th>\n",
              "      <th>horse_weight</th>\n",
              "      <th>jockey</th>\n",
              "      <th>name</th>\n",
              "      <th>popular</th>\n",
              "      <th>race_date</th>\n",
              "      <th>race_id</th>\n",
              "      <th>race_name</th>\n",
              "      <th>rank</th>\n",
              "      <th>time</th>\n",
              "      <th>weight</th>\n",
              "      <th>win</th>\n",
              "      <th>gen</th>\n",
              "      <th>burden_weight</th>\n",
              "      <th>weight_diff</th>\n",
              "    </tr>\n",
              "  </thead>\n",
              "  <tbody>\n",
              "    <tr>\n",
              "      <th>0</th>\n",
              "      <td>0</td>\n",
              "      <td>38.1</td>\n",
              "      <td>3</td>\n",
              "      <td>7.0</td>\n",
              "      <td>13</td>\n",
              "      <td>511(-5)</td>\n",
              "      <td>森泰斗</td>\n",
              "      <td>ワイルドホース</td>\n",
              "      <td>2.0</td>\n",
              "      <td>2020-06-22</td>\n",
              "      <td>202044062212</td>\n",
              "      <td>タイタン賞競走</td>\n",
              "      <td>1</td>\n",
              "      <td>1:28.5</td>\n",
              "      <td>511</td>\n",
              "      <td>3.7</td>\n",
              "      <td>牡</td>\n",
              "      <td>54.0</td>\n",
              "      <td>-5</td>\n",
              "    </tr>\n",
              "    <tr>\n",
              "      <th>1</th>\n",
              "      <td>1</td>\n",
              "      <td>38.1</td>\n",
              "      <td>5</td>\n",
              "      <td>6.0</td>\n",
              "      <td>11</td>\n",
              "      <td>475(-2)</td>\n",
              "      <td>山崎誠士</td>\n",
              "      <td>クインズオライリー</td>\n",
              "      <td>12.0</td>\n",
              "      <td>2020-06-22</td>\n",
              "      <td>202044062212</td>\n",
              "      <td>タイタン賞競走</td>\n",
              "      <td>2</td>\n",
              "      <td>1:28.7</td>\n",
              "      <td>475</td>\n",
              "      <td>81.4</td>\n",
              "      <td>牝</td>\n",
              "      <td>54.0</td>\n",
              "      <td>-2</td>\n",
              "    </tr>\n",
              "    <tr>\n",
              "      <th>2</th>\n",
              "      <td>2</td>\n",
              "      <td>38.6</td>\n",
              "      <td>6</td>\n",
              "      <td>3.0</td>\n",
              "      <td>4</td>\n",
              "      <td>469(+2)</td>\n",
              "      <td>西啓太</td>\n",
              "      <td>メダーリアフレイム</td>\n",
              "      <td>4.0</td>\n",
              "      <td>2020-06-22</td>\n",
              "      <td>202044062212</td>\n",
              "      <td>タイタン賞競走</td>\n",
              "      <td>3</td>\n",
              "      <td>1:28.8</td>\n",
              "      <td>469</td>\n",
              "      <td>8.6</td>\n",
              "      <td>セ</td>\n",
              "      <td>56.0</td>\n",
              "      <td>+2</td>\n",
              "    </tr>\n",
              "    <tr>\n",
              "      <th>3</th>\n",
              "      <td>3</td>\n",
              "      <td>37.9</td>\n",
              "      <td>4</td>\n",
              "      <td>8.0</td>\n",
              "      <td>14</td>\n",
              "      <td>526(+6)</td>\n",
              "      <td>藤本現暉</td>\n",
              "      <td>ゴールドプリンス</td>\n",
              "      <td>8.0</td>\n",
              "      <td>2020-06-22</td>\n",
              "      <td>202044062212</td>\n",
              "      <td>タイタン賞競走</td>\n",
              "      <td>4</td>\n",
              "      <td>1:28.8</td>\n",
              "      <td>526</td>\n",
              "      <td>34.4</td>\n",
              "      <td>牡</td>\n",
              "      <td>56.0</td>\n",
              "      <td>+6</td>\n",
              "    </tr>\n",
              "    <tr>\n",
              "      <th>4</th>\n",
              "      <td>4</td>\n",
              "      <td>38.5</td>\n",
              "      <td>5</td>\n",
              "      <td>4.0</td>\n",
              "      <td>7</td>\n",
              "      <td>475(+6)</td>\n",
              "      <td>藤田凌</td>\n",
              "      <td>イグレット</td>\n",
              "      <td>9.0</td>\n",
              "      <td>2020-06-22</td>\n",
              "      <td>202044062212</td>\n",
              "      <td>タイタン賞競走</td>\n",
              "      <td>5</td>\n",
              "      <td>1:28.9</td>\n",
              "      <td>475</td>\n",
              "      <td>34.8</td>\n",
              "      <td>牝</td>\n",
              "      <td>54.0</td>\n",
              "      <td>+6</td>\n",
              "    </tr>\n",
              "    <tr>\n",
              "      <th>...</th>\n",
              "      <td>...</td>\n",
              "      <td>...</td>\n",
              "      <td>...</td>\n",
              "      <td>...</td>\n",
              "      <td>...</td>\n",
              "      <td>...</td>\n",
              "      <td>...</td>\n",
              "      <td>...</td>\n",
              "      <td>...</td>\n",
              "      <td>...</td>\n",
              "      <td>...</td>\n",
              "      <td>...</td>\n",
              "      <td>...</td>\n",
              "      <td>...</td>\n",
              "      <td>...</td>\n",
              "      <td>...</td>\n",
              "      <td>...</td>\n",
              "      <td>...</td>\n",
              "      <td>...</td>\n",
              "    </tr>\n",
              "    <tr>\n",
              "      <th>10890</th>\n",
              "      <td>11978</td>\n",
              "      <td>36.5</td>\n",
              "      <td>4</td>\n",
              "      <td>2.0</td>\n",
              "      <td>2</td>\n",
              "      <td>462(+11)</td>\n",
              "      <td>岩本怜</td>\n",
              "      <td>ユズ</td>\n",
              "      <td>9.0</td>\n",
              "      <td>2020-06-01</td>\n",
              "      <td>202035060102</td>\n",
              "      <td>C2</td>\n",
              "      <td>8</td>\n",
              "      <td>1:02.4</td>\n",
              "      <td>462</td>\n",
              "      <td>57.9</td>\n",
              "      <td>牝</td>\n",
              "      <td>54.0</td>\n",
              "      <td>+11</td>\n",
              "    </tr>\n",
              "    <tr>\n",
              "      <th>10891</th>\n",
              "      <td>11981</td>\n",
              "      <td>38.2</td>\n",
              "      <td>6</td>\n",
              "      <td>7.0</td>\n",
              "      <td>7</td>\n",
              "      <td>479(+4)</td>\n",
              "      <td>鈴木祐</td>\n",
              "      <td>キタスクワート</td>\n",
              "      <td>8.0</td>\n",
              "      <td>2020-06-01</td>\n",
              "      <td>202035060101</td>\n",
              "      <td>C2</td>\n",
              "      <td>6</td>\n",
              "      <td>1:02.5</td>\n",
              "      <td>479</td>\n",
              "      <td>105.3</td>\n",
              "      <td>牡</td>\n",
              "      <td>56.0</td>\n",
              "      <td>+4</td>\n",
              "    </tr>\n",
              "    <tr>\n",
              "      <th>10892</th>\n",
              "      <td>11982</td>\n",
              "      <td>38.2</td>\n",
              "      <td>6</td>\n",
              "      <td>2.0</td>\n",
              "      <td>2</td>\n",
              "      <td>458(-2)</td>\n",
              "      <td>山本聡哉</td>\n",
              "      <td>スエヒロワンダー</td>\n",
              "      <td>3.0</td>\n",
              "      <td>2020-06-01</td>\n",
              "      <td>202035060101</td>\n",
              "      <td>C2</td>\n",
              "      <td>7</td>\n",
              "      <td>1:02.6</td>\n",
              "      <td>458</td>\n",
              "      <td>5.5</td>\n",
              "      <td>牡</td>\n",
              "      <td>56.0</td>\n",
              "      <td>-2</td>\n",
              "    </tr>\n",
              "    <tr>\n",
              "      <th>10893</th>\n",
              "      <td>11983</td>\n",
              "      <td>38.4</td>\n",
              "      <td>5</td>\n",
              "      <td>3.0</td>\n",
              "      <td>3</td>\n",
              "      <td>451(+1)</td>\n",
              "      <td>木村暁</td>\n",
              "      <td>エナジーウェーブ</td>\n",
              "      <td>5.0</td>\n",
              "      <td>2020-06-01</td>\n",
              "      <td>202035060101</td>\n",
              "      <td>C2</td>\n",
              "      <td>8</td>\n",
              "      <td>1:03.2</td>\n",
              "      <td>451</td>\n",
              "      <td>11.1</td>\n",
              "      <td>牝</td>\n",
              "      <td>54.0</td>\n",
              "      <td>+1</td>\n",
              "    </tr>\n",
              "    <tr>\n",
              "      <th>10894</th>\n",
              "      <td>11984</td>\n",
              "      <td>38.5</td>\n",
              "      <td>4</td>\n",
              "      <td>8.0</td>\n",
              "      <td>8</td>\n",
              "      <td>466(-3)</td>\n",
              "      <td>菅原辰徳</td>\n",
              "      <td>キャッチザウェーブ</td>\n",
              "      <td>8.0</td>\n",
              "      <td>2020-06-01</td>\n",
              "      <td>202035060102</td>\n",
              "      <td>C2</td>\n",
              "      <td>9</td>\n",
              "      <td>1:03.2</td>\n",
              "      <td>466</td>\n",
              "      <td>54.4</td>\n",
              "      <td>セ</td>\n",
              "      <td>56.0</td>\n",
              "      <td>-3</td>\n",
              "    </tr>\n",
              "  </tbody>\n",
              "</table>\n",
              "<p>10530 rows × 19 columns</p>\n",
              "</div>"
            ],
            "text/plain": [
              "       Unnamed: 0  agari age  ...  gen  burden_weight weight_diff\n",
              "0               0   38.1   3  ...    牡           54.0          -5\n",
              "1               1   38.1   5  ...    牝           54.0          -2\n",
              "2               2   38.6   6  ...    セ           56.0          +2\n",
              "3               3   37.9   4  ...    牡           56.0          +6\n",
              "4               4   38.5   5  ...    牝           54.0          +6\n",
              "...           ...    ...  ..  ...  ...            ...         ...\n",
              "10890       11978   36.5   4  ...    牝           54.0         +11\n",
              "10891       11981   38.2   6  ...    牡           56.0          +4\n",
              "10892       11982   38.2   6  ...    牡           56.0          -2\n",
              "10893       11983   38.4   5  ...    牝           54.0          +1\n",
              "10894       11984   38.5   4  ...    セ           56.0          -3\n",
              "\n",
              "[10530 rows x 19 columns]"
            ]
          },
          "metadata": {
            "tags": []
          },
          "execution_count": 17
        }
      ]
    },
    {
      "cell_type": "code",
      "metadata": {
        "id": "h6-4xa3ddFkA",
        "colab_type": "code",
        "colab": {
          "base_uri": "https://localhost:8080/",
          "height": 776
        },
        "outputId": "1bf5b2f5-3abf-430d-99a2-ccbf263a8a92"
      },
      "source": [
        "race_df"
      ],
      "execution_count": 18,
      "outputs": [
        {
          "output_type": "execute_result",
          "data": {
            "text/html": [
              "<div>\n",
              "<style scoped>\n",
              "    .dataframe tbody tr th:only-of-type {\n",
              "        vertical-align: middle;\n",
              "    }\n",
              "\n",
              "    .dataframe tbody tr th {\n",
              "        vertical-align: top;\n",
              "    }\n",
              "\n",
              "    .dataframe thead th {\n",
              "        text-align: right;\n",
              "    }\n",
              "</style>\n",
              "<table border=\"1\" class=\"dataframe\">\n",
              "  <thead>\n",
              "    <tr style=\"text-align: right;\">\n",
              "      <th></th>\n",
              "      <th>Unnamed: 0</th>\n",
              "      <th>clockwise</th>\n",
              "      <th>date</th>\n",
              "      <th>distance</th>\n",
              "      <th>field_condition</th>\n",
              "      <th>field_type</th>\n",
              "      <th>name</th>\n",
              "      <th>place</th>\n",
              "      <th>race_id</th>\n",
              "      <th>race_round</th>\n",
              "      <th>start_time</th>\n",
              "      <th>weather</th>\n",
              "      <th>date_time</th>\n",
              "      <th>race_horse_number</th>\n",
              "    </tr>\n",
              "  </thead>\n",
              "  <tbody>\n",
              "    <tr>\n",
              "      <th>0</th>\n",
              "      <td>0</td>\n",
              "      <td>右</td>\n",
              "      <td>2020-06-22</td>\n",
              "      <td>1400</td>\n",
              "      <td>不</td>\n",
              "      <td>ダ</td>\n",
              "      <td>タイタン賞競走</td>\n",
              "      <td>大井</td>\n",
              "      <td>202044062212</td>\n",
              "      <td>12R</td>\n",
              "      <td>20:50</td>\n",
              "      <td>雨</td>\n",
              "      <td>2020-06-22 20:50:00</td>\n",
              "      <td>15</td>\n",
              "    </tr>\n",
              "    <tr>\n",
              "      <th>1</th>\n",
              "      <td>1</td>\n",
              "      <td>右</td>\n",
              "      <td>2020-06-22</td>\n",
              "      <td>1800</td>\n",
              "      <td>不</td>\n",
              "      <td>ダ</td>\n",
              "      <td>ポートサイド賞競走</td>\n",
              "      <td>大井</td>\n",
              "      <td>202044062211</td>\n",
              "      <td>11R</td>\n",
              "      <td>20:10</td>\n",
              "      <td>雨</td>\n",
              "      <td>2020-06-22 20:10:00</td>\n",
              "      <td>15</td>\n",
              "    </tr>\n",
              "    <tr>\n",
              "      <th>2</th>\n",
              "      <td>2</td>\n",
              "      <td>右</td>\n",
              "      <td>2020-06-22</td>\n",
              "      <td>1200</td>\n",
              "      <td>不</td>\n",
              "      <td>ダ</td>\n",
              "      <td>C1九　十11</td>\n",
              "      <td>大井</td>\n",
              "      <td>202044062210</td>\n",
              "      <td>10R</td>\n",
              "      <td>19:30</td>\n",
              "      <td>雨</td>\n",
              "      <td>2020-06-22 19:30:00</td>\n",
              "      <td>14</td>\n",
              "    </tr>\n",
              "    <tr>\n",
              "      <th>3</th>\n",
              "      <td>3</td>\n",
              "      <td>右</td>\n",
              "      <td>2020-06-22</td>\n",
              "      <td>1400</td>\n",
              "      <td>不</td>\n",
              "      <td>ダ</td>\n",
              "      <td>C1九　十11</td>\n",
              "      <td>大井</td>\n",
              "      <td>202044062209</td>\n",
              "      <td>9R</td>\n",
              "      <td>18:55</td>\n",
              "      <td>雨</td>\n",
              "      <td>2020-06-22 18:55:00</td>\n",
              "      <td>14</td>\n",
              "    </tr>\n",
              "    <tr>\n",
              "      <th>4</th>\n",
              "      <td>4</td>\n",
              "      <td>右</td>\n",
              "      <td>2020-06-22</td>\n",
              "      <td>1600</td>\n",
              "      <td>不</td>\n",
              "      <td>ダ</td>\n",
              "      <td>C1九　十11</td>\n",
              "      <td>大井</td>\n",
              "      <td>202044062208</td>\n",
              "      <td>8R</td>\n",
              "      <td>18:20</td>\n",
              "      <td>雨</td>\n",
              "      <td>2020-06-22 18:20:00</td>\n",
              "      <td>12</td>\n",
              "    </tr>\n",
              "    <tr>\n",
              "      <th>...</th>\n",
              "      <td>...</td>\n",
              "      <td>...</td>\n",
              "      <td>...</td>\n",
              "      <td>...</td>\n",
              "      <td>...</td>\n",
              "      <td>...</td>\n",
              "      <td>...</td>\n",
              "      <td>...</td>\n",
              "      <td>...</td>\n",
              "      <td>...</td>\n",
              "      <td>...</td>\n",
              "      <td>...</td>\n",
              "      <td>...</td>\n",
              "      <td>...</td>\n",
              "    </tr>\n",
              "    <tr>\n",
              "      <th>995</th>\n",
              "      <td>1104</td>\n",
              "      <td>左</td>\n",
              "      <td>2020-06-01</td>\n",
              "      <td>1200</td>\n",
              "      <td>良</td>\n",
              "      <td>ダ</td>\n",
              "      <td>C2七組</td>\n",
              "      <td>盛岡</td>\n",
              "      <td>202035060105</td>\n",
              "      <td>5R</td>\n",
              "      <td>14:20</td>\n",
              "      <td>晴</td>\n",
              "      <td>2020-06-01 14:20:00</td>\n",
              "      <td>10</td>\n",
              "    </tr>\n",
              "    <tr>\n",
              "      <th>996</th>\n",
              "      <td>1105</td>\n",
              "      <td>左</td>\n",
              "      <td>2020-06-01</td>\n",
              "      <td>1200</td>\n",
              "      <td>良</td>\n",
              "      <td>ダ</td>\n",
              "      <td>C2八組</td>\n",
              "      <td>盛岡</td>\n",
              "      <td>202035060104</td>\n",
              "      <td>4R</td>\n",
              "      <td>13:45</td>\n",
              "      <td>晴</td>\n",
              "      <td>2020-06-01 13:45:00</td>\n",
              "      <td>9</td>\n",
              "    </tr>\n",
              "    <tr>\n",
              "      <th>997</th>\n",
              "      <td>1106</td>\n",
              "      <td>左</td>\n",
              "      <td>2020-06-01</td>\n",
              "      <td>1200</td>\n",
              "      <td>良</td>\n",
              "      <td>ダ</td>\n",
              "      <td>C2九組</td>\n",
              "      <td>盛岡</td>\n",
              "      <td>202035060103</td>\n",
              "      <td>3R</td>\n",
              "      <td>13:10</td>\n",
              "      <td>晴</td>\n",
              "      <td>2020-06-01 13:10:00</td>\n",
              "      <td>9</td>\n",
              "    </tr>\n",
              "    <tr>\n",
              "      <th>998</th>\n",
              "      <td>1107</td>\n",
              "      <td>左</td>\n",
              "      <td>2020-06-01</td>\n",
              "      <td>1000</td>\n",
              "      <td>良</td>\n",
              "      <td>ダ</td>\n",
              "      <td>C2</td>\n",
              "      <td>盛岡</td>\n",
              "      <td>202035060102</td>\n",
              "      <td>2R</td>\n",
              "      <td>12:40</td>\n",
              "      <td>晴</td>\n",
              "      <td>2020-06-01 12:40:00</td>\n",
              "      <td>9</td>\n",
              "    </tr>\n",
              "    <tr>\n",
              "      <th>999</th>\n",
              "      <td>1108</td>\n",
              "      <td>左</td>\n",
              "      <td>2020-06-01</td>\n",
              "      <td>1000</td>\n",
              "      <td>良</td>\n",
              "      <td>ダ</td>\n",
              "      <td>C2</td>\n",
              "      <td>盛岡</td>\n",
              "      <td>202035060101</td>\n",
              "      <td>1R</td>\n",
              "      <td>12:10</td>\n",
              "      <td>晴</td>\n",
              "      <td>2020-06-01 12:10:00</td>\n",
              "      <td>8</td>\n",
              "    </tr>\n",
              "  </tbody>\n",
              "</table>\n",
              "<p>942 rows × 14 columns</p>\n",
              "</div>"
            ],
            "text/plain": [
              "     Unnamed: 0 clockwise  ...           date_time  race_horse_number\n",
              "0             0         右  ... 2020-06-22 20:50:00                 15\n",
              "1             1         右  ... 2020-06-22 20:10:00                 15\n",
              "2             2         右  ... 2020-06-22 19:30:00                 14\n",
              "3             3         右  ... 2020-06-22 18:55:00                 14\n",
              "4             4         右  ... 2020-06-22 18:20:00                 12\n",
              "..          ...       ...  ...                 ...                ...\n",
              "995        1104         左  ... 2020-06-01 14:20:00                 10\n",
              "996        1105         左  ... 2020-06-01 13:45:00                  9\n",
              "997        1106         左  ... 2020-06-01 13:10:00                  9\n",
              "998        1107         左  ... 2020-06-01 12:40:00                  9\n",
              "999        1108         左  ... 2020-06-01 12:10:00                  8\n",
              "\n",
              "[942 rows x 14 columns]"
            ]
          },
          "metadata": {
            "tags": []
          },
          "execution_count": 18
        }
      ]
    },
    {
      "cell_type": "markdown",
      "metadata": {
        "id": "oPSPUT2w0P_I",
        "colab_type": "text"
      },
      "source": [
        "# エクスポート"
      ]
    },
    {
      "cell_type": "code",
      "metadata": {
        "id": "r5X8IPRqapxo",
        "colab_type": "code",
        "colab": {}
      },
      "source": [
        "use_columns_horse = [\n",
        "                    'race_id',\n",
        "                    'horse_number',\n",
        "                    'frame_number',\n",
        "                    'age',\n",
        "                    'gen',\n",
        "                    'weight',\n",
        "                    'weight_diff',\n",
        "                    'burden_weight'\n",
        "]\n",
        "\n",
        "use_columns_race = [\n",
        "                    'race_id',\n",
        "                    'name',\n",
        "                    'place',\n",
        "                    'race_horse_number',\n",
        "                    'distance',\n",
        "                    'clockwise',\n",
        "                    'field_type',\n",
        "                    'field_condition',\n",
        "                    'weather',\n",
        "                    'date_time'\n",
        "]"
      ],
      "execution_count": 19,
      "outputs": []
    },
    {
      "cell_type": "code",
      "metadata": {
        "id": "gJ6q0mbw0aZt",
        "colab_type": "code",
        "colab": {}
      },
      "source": [
        "horse_df[use_columns_horse].to_csv(DATA_PATH+'import_horse.csv', index=False)\n",
        "race_df[use_columns_race].to_csv(DATA_PATH+'import_race.csv', index=False)"
      ],
      "execution_count": 20,
      "outputs": []
    },
    {
      "cell_type": "code",
      "metadata": {
        "id": "TP1NpbqJ0o4S",
        "colab_type": "code",
        "colab": {
          "base_uri": "https://localhost:8080/",
          "height": 419
        },
        "outputId": "0c83c5a0-baef-48b3-e359-bf75a921ecc7"
      },
      "source": [
        "horse_df[use_columns_horse]"
      ],
      "execution_count": 21,
      "outputs": [
        {
          "output_type": "execute_result",
          "data": {
            "text/html": [
              "<div>\n",
              "<style scoped>\n",
              "    .dataframe tbody tr th:only-of-type {\n",
              "        vertical-align: middle;\n",
              "    }\n",
              "\n",
              "    .dataframe tbody tr th {\n",
              "        vertical-align: top;\n",
              "    }\n",
              "\n",
              "    .dataframe thead th {\n",
              "        text-align: right;\n",
              "    }\n",
              "</style>\n",
              "<table border=\"1\" class=\"dataframe\">\n",
              "  <thead>\n",
              "    <tr style=\"text-align: right;\">\n",
              "      <th></th>\n",
              "      <th>race_id</th>\n",
              "      <th>horse_number</th>\n",
              "      <th>frame_number</th>\n",
              "      <th>age</th>\n",
              "      <th>gen</th>\n",
              "      <th>weight</th>\n",
              "      <th>weight_diff</th>\n",
              "      <th>burden_weight</th>\n",
              "    </tr>\n",
              "  </thead>\n",
              "  <tbody>\n",
              "    <tr>\n",
              "      <th>0</th>\n",
              "      <td>202044062212</td>\n",
              "      <td>13</td>\n",
              "      <td>7.0</td>\n",
              "      <td>3</td>\n",
              "      <td>牡</td>\n",
              "      <td>511</td>\n",
              "      <td>-5</td>\n",
              "      <td>54.0</td>\n",
              "    </tr>\n",
              "    <tr>\n",
              "      <th>1</th>\n",
              "      <td>202044062212</td>\n",
              "      <td>11</td>\n",
              "      <td>6.0</td>\n",
              "      <td>5</td>\n",
              "      <td>牝</td>\n",
              "      <td>475</td>\n",
              "      <td>-2</td>\n",
              "      <td>54.0</td>\n",
              "    </tr>\n",
              "    <tr>\n",
              "      <th>2</th>\n",
              "      <td>202044062212</td>\n",
              "      <td>4</td>\n",
              "      <td>3.0</td>\n",
              "      <td>6</td>\n",
              "      <td>セ</td>\n",
              "      <td>469</td>\n",
              "      <td>+2</td>\n",
              "      <td>56.0</td>\n",
              "    </tr>\n",
              "    <tr>\n",
              "      <th>3</th>\n",
              "      <td>202044062212</td>\n",
              "      <td>14</td>\n",
              "      <td>8.0</td>\n",
              "      <td>4</td>\n",
              "      <td>牡</td>\n",
              "      <td>526</td>\n",
              "      <td>+6</td>\n",
              "      <td>56.0</td>\n",
              "    </tr>\n",
              "    <tr>\n",
              "      <th>4</th>\n",
              "      <td>202044062212</td>\n",
              "      <td>7</td>\n",
              "      <td>4.0</td>\n",
              "      <td>5</td>\n",
              "      <td>牝</td>\n",
              "      <td>475</td>\n",
              "      <td>+6</td>\n",
              "      <td>54.0</td>\n",
              "    </tr>\n",
              "    <tr>\n",
              "      <th>...</th>\n",
              "      <td>...</td>\n",
              "      <td>...</td>\n",
              "      <td>...</td>\n",
              "      <td>...</td>\n",
              "      <td>...</td>\n",
              "      <td>...</td>\n",
              "      <td>...</td>\n",
              "      <td>...</td>\n",
              "    </tr>\n",
              "    <tr>\n",
              "      <th>10890</th>\n",
              "      <td>202035060102</td>\n",
              "      <td>2</td>\n",
              "      <td>2.0</td>\n",
              "      <td>4</td>\n",
              "      <td>牝</td>\n",
              "      <td>462</td>\n",
              "      <td>+11</td>\n",
              "      <td>54.0</td>\n",
              "    </tr>\n",
              "    <tr>\n",
              "      <th>10891</th>\n",
              "      <td>202035060101</td>\n",
              "      <td>7</td>\n",
              "      <td>7.0</td>\n",
              "      <td>6</td>\n",
              "      <td>牡</td>\n",
              "      <td>479</td>\n",
              "      <td>+4</td>\n",
              "      <td>56.0</td>\n",
              "    </tr>\n",
              "    <tr>\n",
              "      <th>10892</th>\n",
              "      <td>202035060101</td>\n",
              "      <td>2</td>\n",
              "      <td>2.0</td>\n",
              "      <td>6</td>\n",
              "      <td>牡</td>\n",
              "      <td>458</td>\n",
              "      <td>-2</td>\n",
              "      <td>56.0</td>\n",
              "    </tr>\n",
              "    <tr>\n",
              "      <th>10893</th>\n",
              "      <td>202035060101</td>\n",
              "      <td>3</td>\n",
              "      <td>3.0</td>\n",
              "      <td>5</td>\n",
              "      <td>牝</td>\n",
              "      <td>451</td>\n",
              "      <td>+1</td>\n",
              "      <td>54.0</td>\n",
              "    </tr>\n",
              "    <tr>\n",
              "      <th>10894</th>\n",
              "      <td>202035060102</td>\n",
              "      <td>8</td>\n",
              "      <td>8.0</td>\n",
              "      <td>4</td>\n",
              "      <td>セ</td>\n",
              "      <td>466</td>\n",
              "      <td>-3</td>\n",
              "      <td>56.0</td>\n",
              "    </tr>\n",
              "  </tbody>\n",
              "</table>\n",
              "<p>10530 rows × 8 columns</p>\n",
              "</div>"
            ],
            "text/plain": [
              "            race_id  horse_number  ...  weight_diff burden_weight\n",
              "0      202044062212            13  ...           -5          54.0\n",
              "1      202044062212            11  ...           -2          54.0\n",
              "2      202044062212             4  ...           +2          56.0\n",
              "3      202044062212            14  ...           +6          56.0\n",
              "4      202044062212             7  ...           +6          54.0\n",
              "...             ...           ...  ...          ...           ...\n",
              "10890  202035060102             2  ...          +11          54.0\n",
              "10891  202035060101             7  ...           +4          56.0\n",
              "10892  202035060101             2  ...           -2          56.0\n",
              "10893  202035060101             3  ...           +1          54.0\n",
              "10894  202035060102             8  ...           -3          56.0\n",
              "\n",
              "[10530 rows x 8 columns]"
            ]
          },
          "metadata": {
            "tags": []
          },
          "execution_count": 21
        }
      ]
    },
    {
      "cell_type": "code",
      "metadata": {
        "id": "T50Pzr100xgz",
        "colab_type": "code",
        "colab": {
          "base_uri": "https://localhost:8080/",
          "height": 419
        },
        "outputId": "bd029633-3b24-45c2-c847-c13cfa9abe8d"
      },
      "source": [
        "race_df[use_columns_race]"
      ],
      "execution_count": 22,
      "outputs": [
        {
          "output_type": "execute_result",
          "data": {
            "text/html": [
              "<div>\n",
              "<style scoped>\n",
              "    .dataframe tbody tr th:only-of-type {\n",
              "        vertical-align: middle;\n",
              "    }\n",
              "\n",
              "    .dataframe tbody tr th {\n",
              "        vertical-align: top;\n",
              "    }\n",
              "\n",
              "    .dataframe thead th {\n",
              "        text-align: right;\n",
              "    }\n",
              "</style>\n",
              "<table border=\"1\" class=\"dataframe\">\n",
              "  <thead>\n",
              "    <tr style=\"text-align: right;\">\n",
              "      <th></th>\n",
              "      <th>race_id</th>\n",
              "      <th>name</th>\n",
              "      <th>place</th>\n",
              "      <th>race_horse_number</th>\n",
              "      <th>distance</th>\n",
              "      <th>clockwise</th>\n",
              "      <th>field_type</th>\n",
              "      <th>field_condition</th>\n",
              "      <th>weather</th>\n",
              "      <th>date_time</th>\n",
              "    </tr>\n",
              "  </thead>\n",
              "  <tbody>\n",
              "    <tr>\n",
              "      <th>0</th>\n",
              "      <td>202044062212</td>\n",
              "      <td>タイタン賞競走</td>\n",
              "      <td>大井</td>\n",
              "      <td>15</td>\n",
              "      <td>1400</td>\n",
              "      <td>右</td>\n",
              "      <td>ダ</td>\n",
              "      <td>不</td>\n",
              "      <td>雨</td>\n",
              "      <td>2020-06-22 20:50:00</td>\n",
              "    </tr>\n",
              "    <tr>\n",
              "      <th>1</th>\n",
              "      <td>202044062211</td>\n",
              "      <td>ポートサイド賞競走</td>\n",
              "      <td>大井</td>\n",
              "      <td>15</td>\n",
              "      <td>1800</td>\n",
              "      <td>右</td>\n",
              "      <td>ダ</td>\n",
              "      <td>不</td>\n",
              "      <td>雨</td>\n",
              "      <td>2020-06-22 20:10:00</td>\n",
              "    </tr>\n",
              "    <tr>\n",
              "      <th>2</th>\n",
              "      <td>202044062210</td>\n",
              "      <td>C1九　十11</td>\n",
              "      <td>大井</td>\n",
              "      <td>14</td>\n",
              "      <td>1200</td>\n",
              "      <td>右</td>\n",
              "      <td>ダ</td>\n",
              "      <td>不</td>\n",
              "      <td>雨</td>\n",
              "      <td>2020-06-22 19:30:00</td>\n",
              "    </tr>\n",
              "    <tr>\n",
              "      <th>3</th>\n",
              "      <td>202044062209</td>\n",
              "      <td>C1九　十11</td>\n",
              "      <td>大井</td>\n",
              "      <td>14</td>\n",
              "      <td>1400</td>\n",
              "      <td>右</td>\n",
              "      <td>ダ</td>\n",
              "      <td>不</td>\n",
              "      <td>雨</td>\n",
              "      <td>2020-06-22 18:55:00</td>\n",
              "    </tr>\n",
              "    <tr>\n",
              "      <th>4</th>\n",
              "      <td>202044062208</td>\n",
              "      <td>C1九　十11</td>\n",
              "      <td>大井</td>\n",
              "      <td>12</td>\n",
              "      <td>1600</td>\n",
              "      <td>右</td>\n",
              "      <td>ダ</td>\n",
              "      <td>不</td>\n",
              "      <td>雨</td>\n",
              "      <td>2020-06-22 18:20:00</td>\n",
              "    </tr>\n",
              "    <tr>\n",
              "      <th>...</th>\n",
              "      <td>...</td>\n",
              "      <td>...</td>\n",
              "      <td>...</td>\n",
              "      <td>...</td>\n",
              "      <td>...</td>\n",
              "      <td>...</td>\n",
              "      <td>...</td>\n",
              "      <td>...</td>\n",
              "      <td>...</td>\n",
              "      <td>...</td>\n",
              "    </tr>\n",
              "    <tr>\n",
              "      <th>995</th>\n",
              "      <td>202035060105</td>\n",
              "      <td>C2七組</td>\n",
              "      <td>盛岡</td>\n",
              "      <td>10</td>\n",
              "      <td>1200</td>\n",
              "      <td>左</td>\n",
              "      <td>ダ</td>\n",
              "      <td>良</td>\n",
              "      <td>晴</td>\n",
              "      <td>2020-06-01 14:20:00</td>\n",
              "    </tr>\n",
              "    <tr>\n",
              "      <th>996</th>\n",
              "      <td>202035060104</td>\n",
              "      <td>C2八組</td>\n",
              "      <td>盛岡</td>\n",
              "      <td>9</td>\n",
              "      <td>1200</td>\n",
              "      <td>左</td>\n",
              "      <td>ダ</td>\n",
              "      <td>良</td>\n",
              "      <td>晴</td>\n",
              "      <td>2020-06-01 13:45:00</td>\n",
              "    </tr>\n",
              "    <tr>\n",
              "      <th>997</th>\n",
              "      <td>202035060103</td>\n",
              "      <td>C2九組</td>\n",
              "      <td>盛岡</td>\n",
              "      <td>9</td>\n",
              "      <td>1200</td>\n",
              "      <td>左</td>\n",
              "      <td>ダ</td>\n",
              "      <td>良</td>\n",
              "      <td>晴</td>\n",
              "      <td>2020-06-01 13:10:00</td>\n",
              "    </tr>\n",
              "    <tr>\n",
              "      <th>998</th>\n",
              "      <td>202035060102</td>\n",
              "      <td>C2</td>\n",
              "      <td>盛岡</td>\n",
              "      <td>9</td>\n",
              "      <td>1000</td>\n",
              "      <td>左</td>\n",
              "      <td>ダ</td>\n",
              "      <td>良</td>\n",
              "      <td>晴</td>\n",
              "      <td>2020-06-01 12:40:00</td>\n",
              "    </tr>\n",
              "    <tr>\n",
              "      <th>999</th>\n",
              "      <td>202035060101</td>\n",
              "      <td>C2</td>\n",
              "      <td>盛岡</td>\n",
              "      <td>8</td>\n",
              "      <td>1000</td>\n",
              "      <td>左</td>\n",
              "      <td>ダ</td>\n",
              "      <td>良</td>\n",
              "      <td>晴</td>\n",
              "      <td>2020-06-01 12:10:00</td>\n",
              "    </tr>\n",
              "  </tbody>\n",
              "</table>\n",
              "<p>942 rows × 10 columns</p>\n",
              "</div>"
            ],
            "text/plain": [
              "          race_id       name place  ...  field_condition  weather           date_time\n",
              "0    202044062212    タイタン賞競走    大井  ...                不        雨 2020-06-22 20:50:00\n",
              "1    202044062211  ポートサイド賞競走    大井  ...                不        雨 2020-06-22 20:10:00\n",
              "2    202044062210    C1九　十11    大井  ...                不        雨 2020-06-22 19:30:00\n",
              "3    202044062209    C1九　十11    大井  ...                不        雨 2020-06-22 18:55:00\n",
              "4    202044062208    C1九　十11    大井  ...                不        雨 2020-06-22 18:20:00\n",
              "..            ...        ...   ...  ...              ...      ...                 ...\n",
              "995  202035060105       C2七組    盛岡  ...                良        晴 2020-06-01 14:20:00\n",
              "996  202035060104       C2八組    盛岡  ...                良        晴 2020-06-01 13:45:00\n",
              "997  202035060103       C2九組    盛岡  ...                良        晴 2020-06-01 13:10:00\n",
              "998  202035060102         C2    盛岡  ...                良        晴 2020-06-01 12:40:00\n",
              "999  202035060101         C2    盛岡  ...                良        晴 2020-06-01 12:10:00\n",
              "\n",
              "[942 rows x 10 columns]"
            ]
          },
          "metadata": {
            "tags": []
          },
          "execution_count": 22
        }
      ]
    },
    {
      "cell_type": "code",
      "metadata": {
        "id": "vtkCKt4J01VV",
        "colab_type": "code",
        "colab": {}
      },
      "source": [
        ""
      ],
      "execution_count": 22,
      "outputs": []
    }
  ]
}