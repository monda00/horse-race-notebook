{
  "nbformat": 4,
  "nbformat_minor": 0,
  "metadata": {
    "colab": {
      "name": "horse-race-EDA.ipynb",
      "provenance": [],
      "collapsed_sections": [],
      "toc_visible": true,
      "mount_file_id": "1zjFT_HHwn6_F_-e9m4hQQHVCgkSrsZ2Z",
      "authorship_tag": "ABX9TyNXPpHJzpKDyifhtuA5MSZO",
      "include_colab_link": true
    },
    "kernelspec": {
      "name": "python3",
      "display_name": "Python 3"
    }
  },
  "cells": [
    {
      "cell_type": "markdown",
      "metadata": {
        "id": "view-in-github",
        "colab_type": "text"
      },
      "source": [
        "<a href=\"https://colab.research.google.com/github/monda00/horse-race-notebook/blob/master/horse_race_EDA.ipynb\" target=\"_parent\"><img src=\"https://colab.research.google.com/assets/colab-badge.svg\" alt=\"Open In Colab\"/></a>"
      ]
    },
    {
      "cell_type": "markdown",
      "metadata": {
        "id": "lM2Vg6bDVR2q",
        "colab_type": "text"
      },
      "source": [
        "# netkeibaでスクレイピングしたデータのEDA"
      ]
    },
    {
      "cell_type": "markdown",
      "metadata": {
        "id": "ApfnmQLEVqh8",
        "colab_type": "text"
      },
      "source": [
        "- 準備\n",
        "- ライブラリ・データ読み込み\n",
        "- データの概観・分析\n",
        "- 学習用データ作成"
      ]
    },
    {
      "cell_type": "markdown",
      "metadata": {
        "id": "BiqauKp2dCVt",
        "colab_type": "text"
      },
      "source": [
        "# 準備"
      ]
    },
    {
      "cell_type": "markdown",
      "metadata": {
        "id": "OBePcO9LCbHs",
        "colab_type": "text"
      },
      "source": [
        "## ドメイン知識\n",
        "\n",
        "- あがり\n",
        "  - レースや調教の終盤の走破タイム\n",
        "- 複勝\n",
        "  - ３着までに入る馬を当てる馬券\n",
        "  - ５頭以上の場合のみ\n",
        "  - ７頭以下の場合は２着まで"
      ]
    },
    {
      "cell_type": "markdown",
      "metadata": {
        "id": "k5ugx4Q89Qdf",
        "colab_type": "text"
      },
      "source": [
        "## データ\n",
        "\n",
        "- 2019年から2020年までのレースデータ"
      ]
    },
    {
      "cell_type": "markdown",
      "metadata": {
        "id": "9yrSEPeoSBZK",
        "colab_type": "text"
      },
      "source": [
        "## 特徴量として利用できるデータ"
      ]
    },
    {
      "cell_type": "markdown",
      "metadata": {
        "id": "vPp9TQdFSLE_",
        "colab_type": "text"
      },
      "source": [
        "以下のデータはレース後にしか取得できないため、特徴量として利用しない\n",
        "\n",
        "- field_condition\n",
        "- time\n",
        "- agari\n",
        "- rank\n",
        "- horse_weight"
      ]
    },
    {
      "cell_type": "markdown",
      "metadata": {
        "id": "KW-wjlGASOEq",
        "colab_type": "text"
      },
      "source": [
        "## 目的変数\n",
        "\n",
        "### 何を予測するか\n",
        "\n",
        "- ３着以内に入る確率が最も高い馬\n",
        "  - 複勝を予測する\n",
        "    - ８頭以上のレースに限られる\n",
        "\n",
        "### どう予測させるか\n",
        "\n",
        "- ３着以内のデータを追加\n",
        "  - 1~3着のデータが1、それ以外は0\n",
        "  - 最も確率の高いラベルがついているのを出力とする\n",
        "- ランキング学習で１位の馬\n",
        "  - ランキング学習について調査する必要あり"
      ]
    },
    {
      "cell_type": "markdown",
      "metadata": {
        "id": "_Q6bUkeDdEw2",
        "colab_type": "text"
      },
      "source": [
        "# ライブラリ・データ読み込み"
      ]
    },
    {
      "cell_type": "code",
      "metadata": {
        "id": "FqOPinwSHVMK",
        "colab_type": "code",
        "colab": {}
      },
      "source": [
        "import numpy as np\n",
        "import pandas as pd"
      ],
      "execution_count": 1,
      "outputs": []
    },
    {
      "cell_type": "code",
      "metadata": {
        "id": "Ma4MplpheGDT",
        "colab_type": "code",
        "colab": {}
      },
      "source": [
        "DATA_PATH = '/content/drive/My Drive/data/horse-race/'"
      ],
      "execution_count": 2,
      "outputs": []
    },
    {
      "cell_type": "code",
      "metadata": {
        "id": "icZMNnMCdVea",
        "colab_type": "code",
        "colab": {}
      },
      "source": [
        "race_df = pd.read_csv(DATA_PATH + 'race.csv')\n",
        "horse_df = pd.read_csv(DATA_PATH + 'horse.csv')"
      ],
      "execution_count": 3,
      "outputs": []
    },
    {
      "cell_type": "code",
      "metadata": {
        "id": "ItMcGOqygN1j",
        "colab_type": "code",
        "colab": {
          "base_uri": "https://localhost:8080/",
          "height": 204
        },
        "outputId": "058c6e13-ea73-492b-e8ba-29bc8868ec1f"
      },
      "source": [
        "race_df.head()"
      ],
      "execution_count": 4,
      "outputs": [
        {
          "output_type": "execute_result",
          "data": {
            "text/html": [
              "<div>\n",
              "<style scoped>\n",
              "    .dataframe tbody tr th:only-of-type {\n",
              "        vertical-align: middle;\n",
              "    }\n",
              "\n",
              "    .dataframe tbody tr th {\n",
              "        vertical-align: top;\n",
              "    }\n",
              "\n",
              "    .dataframe thead th {\n",
              "        text-align: right;\n",
              "    }\n",
              "</style>\n",
              "<table border=\"1\" class=\"dataframe\">\n",
              "  <thead>\n",
              "    <tr style=\"text-align: right;\">\n",
              "      <th></th>\n",
              "      <th>clockwise</th>\n",
              "      <th>date</th>\n",
              "      <th>distance</th>\n",
              "      <th>field_condition</th>\n",
              "      <th>field_type</th>\n",
              "      <th>name</th>\n",
              "      <th>place</th>\n",
              "      <th>race_id</th>\n",
              "      <th>race_round</th>\n",
              "      <th>start_time</th>\n",
              "      <th>weather</th>\n",
              "    </tr>\n",
              "  </thead>\n",
              "  <tbody>\n",
              "    <tr>\n",
              "      <th>0</th>\n",
              "      <td>右</td>\n",
              "      <td>2020/6/22</td>\n",
              "      <td>1400</td>\n",
              "      <td>不</td>\n",
              "      <td>ダ</td>\n",
              "      <td>タイタン賞競走</td>\n",
              "      <td>大井</td>\n",
              "      <td>202044062212</td>\n",
              "      <td>12R</td>\n",
              "      <td>20:50</td>\n",
              "      <td>雨</td>\n",
              "    </tr>\n",
              "    <tr>\n",
              "      <th>1</th>\n",
              "      <td>右</td>\n",
              "      <td>2020/6/22</td>\n",
              "      <td>1800</td>\n",
              "      <td>不</td>\n",
              "      <td>ダ</td>\n",
              "      <td>ポートサイド賞競走</td>\n",
              "      <td>大井</td>\n",
              "      <td>202044062211</td>\n",
              "      <td>11R</td>\n",
              "      <td>20:10</td>\n",
              "      <td>雨</td>\n",
              "    </tr>\n",
              "    <tr>\n",
              "      <th>2</th>\n",
              "      <td>右</td>\n",
              "      <td>2020/6/22</td>\n",
              "      <td>1200</td>\n",
              "      <td>不</td>\n",
              "      <td>ダ</td>\n",
              "      <td>C1九　十11</td>\n",
              "      <td>大井</td>\n",
              "      <td>202044062210</td>\n",
              "      <td>10R</td>\n",
              "      <td>19:30</td>\n",
              "      <td>雨</td>\n",
              "    </tr>\n",
              "    <tr>\n",
              "      <th>3</th>\n",
              "      <td>右</td>\n",
              "      <td>2020/6/22</td>\n",
              "      <td>1400</td>\n",
              "      <td>不</td>\n",
              "      <td>ダ</td>\n",
              "      <td>C1九　十11</td>\n",
              "      <td>大井</td>\n",
              "      <td>202044062209</td>\n",
              "      <td>9R</td>\n",
              "      <td>18:55</td>\n",
              "      <td>雨</td>\n",
              "    </tr>\n",
              "    <tr>\n",
              "      <th>4</th>\n",
              "      <td>右</td>\n",
              "      <td>2020/6/22</td>\n",
              "      <td>1600</td>\n",
              "      <td>不</td>\n",
              "      <td>ダ</td>\n",
              "      <td>C1九　十11</td>\n",
              "      <td>大井</td>\n",
              "      <td>202044062208</td>\n",
              "      <td>8R</td>\n",
              "      <td>18:20</td>\n",
              "      <td>雨</td>\n",
              "    </tr>\n",
              "  </tbody>\n",
              "</table>\n",
              "</div>"
            ],
            "text/plain": [
              "  clockwise       date  distance  ... race_round start_time weather\n",
              "0         右  2020/6/22      1400  ...        12R      20:50       雨\n",
              "1         右  2020/6/22      1800  ...        11R      20:10       雨\n",
              "2         右  2020/6/22      1200  ...        10R      19:30       雨\n",
              "3         右  2020/6/22      1400  ...         9R      18:55       雨\n",
              "4         右  2020/6/22      1600  ...         8R      18:20       雨\n",
              "\n",
              "[5 rows x 11 columns]"
            ]
          },
          "metadata": {
            "tags": []
          },
          "execution_count": 4
        }
      ]
    },
    {
      "cell_type": "code",
      "metadata": {
        "id": "I4wqqv9jgRZJ",
        "colab_type": "code",
        "colab": {
          "base_uri": "https://localhost:8080/",
          "height": 204
        },
        "outputId": "5633ebd3-22e2-4f4e-bff3-6b43962285f4"
      },
      "source": [
        "horse_df.head()"
      ],
      "execution_count": 5,
      "outputs": [
        {
          "output_type": "execute_result",
          "data": {
            "text/html": [
              "<div>\n",
              "<style scoped>\n",
              "    .dataframe tbody tr th:only-of-type {\n",
              "        vertical-align: middle;\n",
              "    }\n",
              "\n",
              "    .dataframe tbody tr th {\n",
              "        vertical-align: top;\n",
              "    }\n",
              "\n",
              "    .dataframe thead th {\n",
              "        text-align: right;\n",
              "    }\n",
              "</style>\n",
              "<table border=\"1\" class=\"dataframe\">\n",
              "  <thead>\n",
              "    <tr style=\"text-align: right;\">\n",
              "      <th></th>\n",
              "      <th>agari</th>\n",
              "      <th>age</th>\n",
              "      <th>frame_number</th>\n",
              "      <th>horse_number</th>\n",
              "      <th>horse_weight</th>\n",
              "      <th>jockey</th>\n",
              "      <th>name</th>\n",
              "      <th>popular</th>\n",
              "      <th>race_date</th>\n",
              "      <th>race_id</th>\n",
              "      <th>race_name</th>\n",
              "      <th>rank</th>\n",
              "      <th>time</th>\n",
              "      <th>weight</th>\n",
              "      <th>win</th>\n",
              "    </tr>\n",
              "  </thead>\n",
              "  <tbody>\n",
              "    <tr>\n",
              "      <th>0</th>\n",
              "      <td>38.1</td>\n",
              "      <td>牡3</td>\n",
              "      <td>7.0</td>\n",
              "      <td>13</td>\n",
              "      <td>511(-5)</td>\n",
              "      <td>森泰斗</td>\n",
              "      <td>ワイルドホース</td>\n",
              "      <td>2.0</td>\n",
              "      <td>2020/6/22</td>\n",
              "      <td>202044062212</td>\n",
              "      <td>タイタン賞競走</td>\n",
              "      <td>1</td>\n",
              "      <td>1:28.5</td>\n",
              "      <td>54.0</td>\n",
              "      <td>3.7</td>\n",
              "    </tr>\n",
              "    <tr>\n",
              "      <th>1</th>\n",
              "      <td>38.1</td>\n",
              "      <td>牝5</td>\n",
              "      <td>6.0</td>\n",
              "      <td>11</td>\n",
              "      <td>475(-2)</td>\n",
              "      <td>山崎誠士</td>\n",
              "      <td>クインズオライリー</td>\n",
              "      <td>12.0</td>\n",
              "      <td>2020/6/22</td>\n",
              "      <td>202044062212</td>\n",
              "      <td>タイタン賞競走</td>\n",
              "      <td>2</td>\n",
              "      <td>1:28.7</td>\n",
              "      <td>54.0</td>\n",
              "      <td>81.4</td>\n",
              "    </tr>\n",
              "    <tr>\n",
              "      <th>2</th>\n",
              "      <td>38.6</td>\n",
              "      <td>セ6</td>\n",
              "      <td>3.0</td>\n",
              "      <td>4</td>\n",
              "      <td>469(+2)</td>\n",
              "      <td>西啓太</td>\n",
              "      <td>メダーリアフレイム</td>\n",
              "      <td>4.0</td>\n",
              "      <td>2020/6/22</td>\n",
              "      <td>202044062212</td>\n",
              "      <td>タイタン賞競走</td>\n",
              "      <td>3</td>\n",
              "      <td>1:28.8</td>\n",
              "      <td>56.0</td>\n",
              "      <td>8.6</td>\n",
              "    </tr>\n",
              "    <tr>\n",
              "      <th>3</th>\n",
              "      <td>37.9</td>\n",
              "      <td>牡4</td>\n",
              "      <td>8.0</td>\n",
              "      <td>14</td>\n",
              "      <td>526(+6)</td>\n",
              "      <td>藤本現暉</td>\n",
              "      <td>ゴールドプリンス</td>\n",
              "      <td>8.0</td>\n",
              "      <td>2020/6/22</td>\n",
              "      <td>202044062212</td>\n",
              "      <td>タイタン賞競走</td>\n",
              "      <td>4</td>\n",
              "      <td>1:28.8</td>\n",
              "      <td>56.0</td>\n",
              "      <td>34.4</td>\n",
              "    </tr>\n",
              "    <tr>\n",
              "      <th>4</th>\n",
              "      <td>38.5</td>\n",
              "      <td>牝5</td>\n",
              "      <td>4.0</td>\n",
              "      <td>7</td>\n",
              "      <td>475(+6)</td>\n",
              "      <td>藤田凌</td>\n",
              "      <td>イグレット</td>\n",
              "      <td>9.0</td>\n",
              "      <td>2020/6/22</td>\n",
              "      <td>202044062212</td>\n",
              "      <td>タイタン賞競走</td>\n",
              "      <td>5</td>\n",
              "      <td>1:28.9</td>\n",
              "      <td>54.0</td>\n",
              "      <td>34.8</td>\n",
              "    </tr>\n",
              "  </tbody>\n",
              "</table>\n",
              "</div>"
            ],
            "text/plain": [
              "   agari age  frame_number  horse_number  ... rank    time weight   win\n",
              "0   38.1  牡3           7.0            13  ...    1  1:28.5   54.0   3.7\n",
              "1   38.1  牝5           6.0            11  ...    2  1:28.7   54.0  81.4\n",
              "2   38.6  セ6           3.0             4  ...    3  1:28.8   56.0   8.6\n",
              "3   37.9  牡4           8.0            14  ...    4  1:28.8   56.0  34.4\n",
              "4   38.5  牝5           4.0             7  ...    5  1:28.9   54.0  34.8\n",
              "\n",
              "[5 rows x 15 columns]"
            ]
          },
          "metadata": {
            "tags": []
          },
          "execution_count": 5
        }
      ]
    },
    {
      "cell_type": "markdown",
      "metadata": {
        "id": "h3dVS7QBgeK5",
        "colab_type": "text"
      },
      "source": [
        "# データの概観・分析"
      ]
    },
    {
      "cell_type": "code",
      "metadata": {
        "id": "Jtapb3SUU161",
        "colab_type": "code",
        "colab": {
          "base_uri": "https://localhost:8080/",
          "height": 323
        },
        "outputId": "48560248-50d0-474c-8b5e-b0c9e557f5ca"
      },
      "source": [
        "race_df.info()"
      ],
      "execution_count": 6,
      "outputs": [
        {
          "output_type": "stream",
          "text": [
            "<class 'pandas.core.frame.DataFrame'>\n",
            "RangeIndex: 27532 entries, 0 to 27531\n",
            "Data columns (total 11 columns):\n",
            " #   Column           Non-Null Count  Dtype \n",
            "---  ------           --------------  ----- \n",
            " 0   clockwise        27532 non-null  object\n",
            " 1   date             27532 non-null  object\n",
            " 2   distance         27532 non-null  int64 \n",
            " 3   field_condition  25100 non-null  object\n",
            " 4   field_type       25100 non-null  object\n",
            " 5   name             27532 non-null  object\n",
            " 6   place            27532 non-null  object\n",
            " 7   race_id          27532 non-null  object\n",
            " 8   race_round       27532 non-null  object\n",
            " 9   start_time       26755 non-null  object\n",
            " 10  weather          26690 non-null  object\n",
            "dtypes: int64(1), object(10)\n",
            "memory usage: 2.3+ MB\n"
          ],
          "name": "stdout"
        }
      ]
    },
    {
      "cell_type": "code",
      "metadata": {
        "id": "YagNd4jrVBvB",
        "colab_type": "code",
        "colab": {
          "base_uri": "https://localhost:8080/",
          "height": 391
        },
        "outputId": "cf4cf9c2-6c07-49fd-a671-3f1cb033ff76"
      },
      "source": [
        "horse_df.info()"
      ],
      "execution_count": 7,
      "outputs": [
        {
          "output_type": "stream",
          "text": [
            "<class 'pandas.core.frame.DataFrame'>\n",
            "RangeIndex: 293006 entries, 0 to 293005\n",
            "Data columns (total 15 columns):\n",
            " #   Column        Non-Null Count   Dtype  \n",
            "---  ------        --------------   -----  \n",
            " 0   agari         264082 non-null  float64\n",
            " 1   age           293005 non-null  object \n",
            " 2   frame_number  290217 non-null  float64\n",
            " 3   horse_number  293006 non-null  int64  \n",
            " 4   horse_weight  293006 non-null  object \n",
            " 5   jockey        291874 non-null  object \n",
            " 6   name          293003 non-null  object \n",
            " 7   popular       289280 non-null  float64\n",
            " 8   race_date     293006 non-null  object \n",
            " 9   race_id       293006 non-null  object \n",
            " 10  race_name     293006 non-null  object \n",
            " 11  rank          293006 non-null  int64  \n",
            " 12  time          286445 non-null  object \n",
            " 13  weight        293004 non-null  float64\n",
            " 14  win           293006 non-null  object \n",
            "dtypes: float64(4), int64(2), object(9)\n",
            "memory usage: 33.5+ MB\n"
          ],
          "name": "stdout"
        }
      ]
    },
    {
      "cell_type": "markdown",
      "metadata": {
        "id": "CFkPnn8BUsq9",
        "colab_type": "text"
      },
      "source": [
        "## データ数"
      ]
    },
    {
      "cell_type": "code",
      "metadata": {
        "id": "hLknNYrsVJQg",
        "colab_type": "code",
        "colab": {
          "base_uri": "https://localhost:8080/",
          "height": 51
        },
        "outputId": "9e8fab55-5349-4b35-aede-e6b2935e02e6"
      },
      "source": [
        "print('race:', race_df.shape[0])\n",
        "print('horse:', horse_df.shape[0])"
      ],
      "execution_count": 8,
      "outputs": [
        {
          "output_type": "stream",
          "text": [
            "race: 27532\n",
            "horse: 293006\n"
          ],
          "name": "stdout"
        }
      ]
    },
    {
      "cell_type": "markdown",
      "metadata": {
        "id": "8mtk73dEVoFK",
        "colab_type": "text"
      },
      "source": [
        "## カラム"
      ]
    },
    {
      "cell_type": "code",
      "metadata": {
        "id": "SeM7JtynVviJ",
        "colab_type": "code",
        "colab": {
          "base_uri": "https://localhost:8080/",
          "height": 68
        },
        "outputId": "c962da1d-1aea-4330-8447-6d74e4e95aba"
      },
      "source": [
        "race_df.columns"
      ],
      "execution_count": 9,
      "outputs": [
        {
          "output_type": "execute_result",
          "data": {
            "text/plain": [
              "Index(['clockwise', 'date', 'distance', 'field_condition', 'field_type',\n",
              "       'name', 'place', 'race_id', 'race_round', 'start_time', 'weather'],\n",
              "      dtype='object')"
            ]
          },
          "metadata": {
            "tags": []
          },
          "execution_count": 9
        }
      ]
    },
    {
      "cell_type": "code",
      "metadata": {
        "id": "MLWoHDA7Vzjc",
        "colab_type": "code",
        "colab": {
          "base_uri": "https://localhost:8080/",
          "height": 85
        },
        "outputId": "384a8a5b-e00f-465a-e8d8-eb0a9190695e"
      },
      "source": [
        "horse_df.columns"
      ],
      "execution_count": 10,
      "outputs": [
        {
          "output_type": "execute_result",
          "data": {
            "text/plain": [
              "Index(['agari', 'age', 'frame_number', 'horse_number', 'horse_weight',\n",
              "       'jockey', 'name', 'popular', 'race_date', 'race_id', 'race_name',\n",
              "       'rank', 'time', 'weight', 'win'],\n",
              "      dtype='object')"
            ]
          },
          "metadata": {
            "tags": []
          },
          "execution_count": 10
        }
      ]
    },
    {
      "cell_type": "markdown",
      "metadata": {
        "id": "rbjjfDS4Um7G",
        "colab_type": "text"
      },
      "source": [
        "## 欠損値の確認"
      ]
    },
    {
      "cell_type": "markdown",
      "metadata": {
        "id": "AAhf8PfSnefR",
        "colab_type": "text"
      },
      "source": [
        "### レース"
      ]
    },
    {
      "cell_type": "code",
      "metadata": {
        "id": "3pWbdJ5VgY3o",
        "colab_type": "code",
        "colab": {
          "base_uri": "https://localhost:8080/",
          "height": 221
        },
        "outputId": "e12bda83-4f25-43c9-c8b8-7992724ba983"
      },
      "source": [
        "race_df.isnull().sum()"
      ],
      "execution_count": 11,
      "outputs": [
        {
          "output_type": "execute_result",
          "data": {
            "text/plain": [
              "clockwise             0\n",
              "date                  0\n",
              "distance              0\n",
              "field_condition    2432\n",
              "field_type         2432\n",
              "name                  0\n",
              "place                 0\n",
              "race_id               0\n",
              "race_round            0\n",
              "start_time          777\n",
              "weather             842\n",
              "dtype: int64"
            ]
          },
          "metadata": {
            "tags": []
          },
          "execution_count": 11
        }
      ]
    },
    {
      "cell_type": "markdown",
      "metadata": {
        "id": "NfDonIuXBa3C",
        "colab_type": "text"
      },
      "source": [
        "レース\n",
        "\n",
        "- field_conditionとfield_typeがないのは障害レースの可能性あり\n",
        "  - 同じデータ\n",
        "  - 障害レースにはfield conditionとfield_typeがない\n",
        "  - 学習データとしては削除しても良さそう\n",
        "- start_timeがないのはレースが中止？\n",
        "  - 海外のレースがほとんど\n",
        "  - 学習データとしては削除しても良さそう\n",
        "- weatherがないのは？？\n",
        "  - 海外のレースでない物がある（start_timeがないのと同じ）\n",
        "  - 日本のレースはいくつか欠損している\n",
        "    - 開催されていないレースなのでデータ削除"
      ]
    },
    {
      "cell_type": "markdown",
      "metadata": {
        "id": "no00O24nLzkZ",
        "colab_type": "text"
      },
      "source": [
        "field_conditionとfield_typeが欠損しているデータ"
      ]
    },
    {
      "cell_type": "code",
      "metadata": {
        "id": "g2ekcaL_Il_R",
        "colab_type": "code",
        "colab": {
          "base_uri": "https://localhost:8080/",
          "height": 51
        },
        "outputId": "fa23366a-9460-4fed-d577-ed85000b1f8c"
      },
      "source": [
        "(race_df[race_df['field_condition'].isnull()]['race_id'] == race_df[race_df['field_type'].isnull()]['race_id']).value_counts()"
      ],
      "execution_count": 12,
      "outputs": [
        {
          "output_type": "execute_result",
          "data": {
            "text/plain": [
              "True    2432\n",
              "Name: race_id, dtype: int64"
            ]
          },
          "metadata": {
            "tags": []
          },
          "execution_count": 12
        }
      ]
    },
    {
      "cell_type": "code",
      "metadata": {
        "id": "VQdCLw8HL3s8",
        "colab_type": "code",
        "colab": {
          "base_uri": "https://localhost:8080/",
          "height": 359
        },
        "outputId": "73f63e7c-c4c1-4e92-bd11-4c18bff80d10"
      },
      "source": [
        "race_df[race_df['field_condition'].isnull()].head(10)"
      ],
      "execution_count": 13,
      "outputs": [
        {
          "output_type": "execute_result",
          "data": {
            "text/html": [
              "<div>\n",
              "<style scoped>\n",
              "    .dataframe tbody tr th:only-of-type {\n",
              "        vertical-align: middle;\n",
              "    }\n",
              "\n",
              "    .dataframe tbody tr th {\n",
              "        vertical-align: top;\n",
              "    }\n",
              "\n",
              "    .dataframe thead th {\n",
              "        text-align: right;\n",
              "    }\n",
              "</style>\n",
              "<table border=\"1\" class=\"dataframe\">\n",
              "  <thead>\n",
              "    <tr style=\"text-align: right;\">\n",
              "      <th></th>\n",
              "      <th>clockwise</th>\n",
              "      <th>date</th>\n",
              "      <th>distance</th>\n",
              "      <th>field_condition</th>\n",
              "      <th>field_type</th>\n",
              "      <th>name</th>\n",
              "      <th>place</th>\n",
              "      <th>race_id</th>\n",
              "      <th>race_round</th>\n",
              "      <th>start_time</th>\n",
              "      <th>weather</th>\n",
              "    </tr>\n",
              "  </thead>\n",
              "  <tbody>\n",
              "    <tr>\n",
              "      <th>24</th>\n",
              "      <td>00</td>\n",
              "      <td>2020/6/22</td>\n",
              "      <td>200</td>\n",
              "      <td>NaN</td>\n",
              "      <td>NaN</td>\n",
              "      <td>B3ー6</td>\n",
              "      <td>帯広(ば)</td>\n",
              "      <td>202065062211</td>\n",
              "      <td>11R</td>\n",
              "      <td>20:45</td>\n",
              "      <td>曇</td>\n",
              "    </tr>\n",
              "    <tr>\n",
              "      <th>25</th>\n",
              "      <td>00</td>\n",
              "      <td>2020/6/22</td>\n",
              "      <td>200</td>\n",
              "      <td>NaN</td>\n",
              "      <td>NaN</td>\n",
              "      <td>第11回ゴールドトロ</td>\n",
              "      <td>帯広(ば)</td>\n",
              "      <td>202065062210</td>\n",
              "      <td>10R</td>\n",
              "      <td>20:05</td>\n",
              "      <td>曇</td>\n",
              "    </tr>\n",
              "    <tr>\n",
              "      <th>26</th>\n",
              "      <td>00</td>\n",
              "      <td>2020/6/22</td>\n",
              "      <td>200</td>\n",
              "      <td>NaN</td>\n",
              "      <td>NaN</td>\n",
              "      <td>B4ー3</td>\n",
              "      <td>帯広(ば)</td>\n",
              "      <td>202065062209</td>\n",
              "      <td>9R</td>\n",
              "      <td>19:25</td>\n",
              "      <td>曇</td>\n",
              "    </tr>\n",
              "    <tr>\n",
              "      <th>27</th>\n",
              "      <td>00</td>\n",
              "      <td>2020/6/22</td>\n",
              "      <td>200</td>\n",
              "      <td>NaN</td>\n",
              "      <td>NaN</td>\n",
              "      <td>B4ー7</td>\n",
              "      <td>帯広(ば)</td>\n",
              "      <td>202065062208</td>\n",
              "      <td>8R</td>\n",
              "      <td>18:45</td>\n",
              "      <td>曇</td>\n",
              "    </tr>\n",
              "    <tr>\n",
              "      <th>28</th>\n",
              "      <td>00</td>\n",
              "      <td>2020/6/22</td>\n",
              "      <td>200</td>\n",
              "      <td>NaN</td>\n",
              "      <td>NaN</td>\n",
              "      <td>B2ー3</td>\n",
              "      <td>帯広(ば)</td>\n",
              "      <td>202065062207</td>\n",
              "      <td>7R</td>\n",
              "      <td>18:10</td>\n",
              "      <td>曇</td>\n",
              "    </tr>\n",
              "    <tr>\n",
              "      <th>29</th>\n",
              "      <td>00</td>\n",
              "      <td>2020/6/22</td>\n",
              "      <td>200</td>\n",
              "      <td>NaN</td>\n",
              "      <td>NaN</td>\n",
              "      <td>C1ー4</td>\n",
              "      <td>帯広(ば)</td>\n",
              "      <td>202065062206</td>\n",
              "      <td>6R</td>\n",
              "      <td>17:35</td>\n",
              "      <td>曇</td>\n",
              "    </tr>\n",
              "    <tr>\n",
              "      <th>30</th>\n",
              "      <td>00</td>\n",
              "      <td>2020/6/22</td>\n",
              "      <td>200</td>\n",
              "      <td>NaN</td>\n",
              "      <td>NaN</td>\n",
              "      <td>2歳　未受賞</td>\n",
              "      <td>帯広(ば)</td>\n",
              "      <td>202065062205</td>\n",
              "      <td>5R</td>\n",
              "      <td>17:00</td>\n",
              "      <td>曇</td>\n",
              "    </tr>\n",
              "    <tr>\n",
              "      <th>31</th>\n",
              "      <td>00</td>\n",
              "      <td>2020/6/22</td>\n",
              "      <td>200</td>\n",
              "      <td>NaN</td>\n",
              "      <td>NaN</td>\n",
              "      <td>2歳　新馬</td>\n",
              "      <td>帯広(ば)</td>\n",
              "      <td>202065062204</td>\n",
              "      <td>4R</td>\n",
              "      <td>16:25</td>\n",
              "      <td>曇</td>\n",
              "    </tr>\n",
              "    <tr>\n",
              "      <th>32</th>\n",
              "      <td>00</td>\n",
              "      <td>2020/6/22</td>\n",
              "      <td>200</td>\n",
              "      <td>NaN</td>\n",
              "      <td>NaN</td>\n",
              "      <td>2歳　新馬</td>\n",
              "      <td>帯広(ば)</td>\n",
              "      <td>202065062203</td>\n",
              "      <td>3R</td>\n",
              "      <td>15:50</td>\n",
              "      <td>曇</td>\n",
              "    </tr>\n",
              "    <tr>\n",
              "      <th>33</th>\n",
              "      <td>00</td>\n",
              "      <td>2020/6/22</td>\n",
              "      <td>200</td>\n",
              "      <td>NaN</td>\n",
              "      <td>NaN</td>\n",
              "      <td>2歳　新馬</td>\n",
              "      <td>帯広(ば)</td>\n",
              "      <td>202065062202</td>\n",
              "      <td>2R</td>\n",
              "      <td>15:15</td>\n",
              "      <td>曇</td>\n",
              "    </tr>\n",
              "  </tbody>\n",
              "</table>\n",
              "</div>"
            ],
            "text/plain": [
              "   clockwise       date  distance  ... race_round start_time weather\n",
              "24        00  2020/6/22       200  ...        11R      20:45       曇\n",
              "25        00  2020/6/22       200  ...        10R      20:05       曇\n",
              "26        00  2020/6/22       200  ...         9R      19:25       曇\n",
              "27        00  2020/6/22       200  ...         8R      18:45       曇\n",
              "28        00  2020/6/22       200  ...         7R      18:10       曇\n",
              "29        00  2020/6/22       200  ...         6R      17:35       曇\n",
              "30        00  2020/6/22       200  ...         5R      17:00       曇\n",
              "31        00  2020/6/22       200  ...         4R      16:25       曇\n",
              "32        00  2020/6/22       200  ...         3R      15:50       曇\n",
              "33        00  2020/6/22       200  ...         2R      15:15       曇\n",
              "\n",
              "[10 rows x 11 columns]"
            ]
          },
          "metadata": {
            "tags": []
          },
          "execution_count": 13
        }
      ]
    },
    {
      "cell_type": "code",
      "metadata": {
        "id": "piSJGajDqAiy",
        "colab_type": "code",
        "colab": {
          "base_uri": "https://localhost:8080/",
          "height": 51
        },
        "outputId": "7ed32186-37f1-4d19-d6a4-105bd2ddcffe"
      },
      "source": [
        "race_df[race_df['field_condition'].isnull()]['place'].value_counts()"
      ],
      "execution_count": 14,
      "outputs": [
        {
          "output_type": "execute_result",
          "data": {
            "text/plain": [
              "帯広(ば)    2432\n",
              "Name: place, dtype: int64"
            ]
          },
          "metadata": {
            "tags": []
          },
          "execution_count": 14
        }
      ]
    },
    {
      "cell_type": "markdown",
      "metadata": {
        "id": "h59Gg4FVlDYH",
        "colab_type": "text"
      },
      "source": [
        "帯広で開催されるのは、短距離（200m）の特殊なレースなので、データを削除する。"
      ]
    },
    {
      "cell_type": "code",
      "metadata": {
        "id": "P3I3yKR9lCsN",
        "colab_type": "code",
        "colab": {}
      },
      "source": [
        "race_df = race_df.dropna(subset=['field_condition'])"
      ],
      "execution_count": 15,
      "outputs": []
    },
    {
      "cell_type": "code",
      "metadata": {
        "id": "bP-nfVC2ljrQ",
        "colab_type": "code",
        "colab": {
          "base_uri": "https://localhost:8080/",
          "height": 221
        },
        "outputId": "3f6caf9f-5dd1-4d93-aa9d-1e56de041065"
      },
      "source": [
        "race_df.isnull().sum()"
      ],
      "execution_count": 16,
      "outputs": [
        {
          "output_type": "execute_result",
          "data": {
            "text/plain": [
              "clockwise            0\n",
              "date                 0\n",
              "distance             0\n",
              "field_condition      0\n",
              "field_type           0\n",
              "name                 0\n",
              "place                0\n",
              "race_id              0\n",
              "race_round           0\n",
              "start_time         777\n",
              "weather            842\n",
              "dtype: int64"
            ]
          },
          "metadata": {
            "tags": []
          },
          "execution_count": 16
        }
      ]
    },
    {
      "cell_type": "code",
      "metadata": {
        "id": "z9JEMU_bfu5J",
        "colab_type": "code",
        "colab": {
          "base_uri": "https://localhost:8080/",
          "height": 476
        },
        "outputId": "10cc6b8b-cca5-46b7-b9be-4adbf0c412f4"
      },
      "source": [
        "race_df[race_df['start_time'].isnull()]['place'].value_counts()"
      ],
      "execution_count": 17,
      "outputs": [
        {
          "output_type": "execute_result",
          "data": {
            "text/plain": [
              "アメリカ        106\n",
              "イギリス        101\n",
              "シャティン        72\n",
              "オーストラリア      72\n",
              "メイダン         64\n",
              "ランドウ         44\n",
              "アイルランド       43\n",
              "サンタアニタ       40\n",
              "ロンシャン        31\n",
              "アスコット        29\n",
              "コーフィー        28\n",
              "フランス         26\n",
              "フレミントン       25\n",
              "ベルモント        13\n",
              "シャンティイ       12\n",
              "チャーチル        12\n",
              "アラブ首長国連邦     11\n",
              "ドイツ          10\n",
              "レパーズタウン      10\n",
              "ニュージーランド      8\n",
              "ドーヴィル         7\n",
              "カナダ           4\n",
              "ムーニーバレー       3\n",
              "カタール          3\n",
              "香港            2\n",
              "シンガポール        1\n",
              "Name: place, dtype: int64"
            ]
          },
          "metadata": {
            "tags": []
          },
          "execution_count": 17
        }
      ]
    },
    {
      "cell_type": "markdown",
      "metadata": {
        "id": "c-Hld5e-ilbQ",
        "colab_type": "text"
      },
      "source": [
        "レースに出ている馬のデータはどうなっているか"
      ]
    },
    {
      "cell_type": "code",
      "metadata": {
        "id": "hjihU4A0gsOU",
        "colab_type": "code",
        "colab": {
          "base_uri": "https://localhost:8080/",
          "height": 235
        },
        "outputId": "5ee6bf15-77d9-4961-c7cf-ff544e4f8b0e"
      },
      "source": [
        "horse_df[horse_df['race_id']=='2020A0a00404']"
      ],
      "execution_count": 18,
      "outputs": [
        {
          "output_type": "execute_result",
          "data": {
            "text/html": [
              "<div>\n",
              "<style scoped>\n",
              "    .dataframe tbody tr th:only-of-type {\n",
              "        vertical-align: middle;\n",
              "    }\n",
              "\n",
              "    .dataframe tbody tr th {\n",
              "        vertical-align: top;\n",
              "    }\n",
              "\n",
              "    .dataframe thead th {\n",
              "        text-align: right;\n",
              "    }\n",
              "</style>\n",
              "<table border=\"1\" class=\"dataframe\">\n",
              "  <thead>\n",
              "    <tr style=\"text-align: right;\">\n",
              "      <th></th>\n",
              "      <th>agari</th>\n",
              "      <th>age</th>\n",
              "      <th>frame_number</th>\n",
              "      <th>horse_number</th>\n",
              "      <th>horse_weight</th>\n",
              "      <th>jockey</th>\n",
              "      <th>name</th>\n",
              "      <th>popular</th>\n",
              "      <th>race_date</th>\n",
              "      <th>race_id</th>\n",
              "      <th>race_name</th>\n",
              "      <th>rank</th>\n",
              "      <th>time</th>\n",
              "      <th>weight</th>\n",
              "      <th>win</th>\n",
              "    </tr>\n",
              "  </thead>\n",
              "  <tbody>\n",
              "    <tr>\n",
              "      <th>3068</th>\n",
              "      <td>NaN</td>\n",
              "      <td>セ4</td>\n",
              "      <td>NaN</td>\n",
              "      <td>6</td>\n",
              "      <td>計不</td>\n",
              "      <td>ドイル</td>\n",
              "      <td>Lord North</td>\n",
              "      <td>3.0</td>\n",
              "      <td>2020/6/17</td>\n",
              "      <td>2020A0a00404</td>\n",
              "      <td>プリンスオブウェール</td>\n",
              "      <td>1</td>\n",
              "      <td>2:05.63</td>\n",
              "      <td>57.0</td>\n",
              "      <td>---</td>\n",
              "    </tr>\n",
              "    <tr>\n",
              "      <th>3069</th>\n",
              "      <td>NaN</td>\n",
              "      <td>セ6</td>\n",
              "      <td>NaN</td>\n",
              "      <td>3</td>\n",
              "      <td>計不</td>\n",
              "      <td>ビュイッ</td>\n",
              "      <td>バーニーロイ</td>\n",
              "      <td>4.0</td>\n",
              "      <td>2020/6/17</td>\n",
              "      <td>2020A0a00404</td>\n",
              "      <td>プリンスオブウェール</td>\n",
              "      <td>2</td>\n",
              "      <td>NaN</td>\n",
              "      <td>57.0</td>\n",
              "      <td>---</td>\n",
              "    </tr>\n",
              "    <tr>\n",
              "      <th>3070</th>\n",
              "      <td>NaN</td>\n",
              "      <td>牡4</td>\n",
              "      <td>NaN</td>\n",
              "      <td>5</td>\n",
              "      <td>計不</td>\n",
              "      <td>ムーア</td>\n",
              "      <td>Japan</td>\n",
              "      <td>1.0</td>\n",
              "      <td>2020/6/17</td>\n",
              "      <td>2020A0a00404</td>\n",
              "      <td>プリンスオブウェール</td>\n",
              "      <td>3</td>\n",
              "      <td>NaN</td>\n",
              "      <td>57.0</td>\n",
              "      <td>---</td>\n",
              "    </tr>\n",
              "    <tr>\n",
              "      <th>3082</th>\n",
              "      <td>NaN</td>\n",
              "      <td>牡4</td>\n",
              "      <td>NaN</td>\n",
              "      <td>2</td>\n",
              "      <td>計不</td>\n",
              "      <td>デソウサ</td>\n",
              "      <td>Bangkok</td>\n",
              "      <td>7.0</td>\n",
              "      <td>2020/6/17</td>\n",
              "      <td>2020A0a00404</td>\n",
              "      <td>プリンスオブウェール</td>\n",
              "      <td>4</td>\n",
              "      <td>NaN</td>\n",
              "      <td>57.0</td>\n",
              "      <td>---</td>\n",
              "    </tr>\n",
              "    <tr>\n",
              "      <th>3083</th>\n",
              "      <td>NaN</td>\n",
              "      <td>牝4</td>\n",
              "      <td>NaN</td>\n",
              "      <td>7</td>\n",
              "      <td>計不</td>\n",
              "      <td>デットー</td>\n",
              "      <td>Mehdaayih</td>\n",
              "      <td>6.0</td>\n",
              "      <td>2020/6/17</td>\n",
              "      <td>2020A0a00404</td>\n",
              "      <td>プリンスオブウェール</td>\n",
              "      <td>5</td>\n",
              "      <td>NaN</td>\n",
              "      <td>55.5</td>\n",
              "      <td>---</td>\n",
              "    </tr>\n",
              "    <tr>\n",
              "      <th>3084</th>\n",
              "      <td>NaN</td>\n",
              "      <td>牡4</td>\n",
              "      <td>NaN</td>\n",
              "      <td>4</td>\n",
              "      <td>計不</td>\n",
              "      <td>ワトソン</td>\n",
              "      <td>Headman</td>\n",
              "      <td>5.0</td>\n",
              "      <td>2020/6/17</td>\n",
              "      <td>2020A0a00404</td>\n",
              "      <td>プリンスオブウェール</td>\n",
              "      <td>6</td>\n",
              "      <td>NaN</td>\n",
              "      <td>57.0</td>\n",
              "      <td>---</td>\n",
              "    </tr>\n",
              "  </tbody>\n",
              "</table>\n",
              "</div>"
            ],
            "text/plain": [
              "      agari age  frame_number  horse_number  ... rank     time weight  win\n",
              "3068    NaN  セ4           NaN             6  ...    1  2:05.63   57.0  ---\n",
              "3069    NaN  セ6           NaN             3  ...    2      NaN   57.0  ---\n",
              "3070    NaN  牡4           NaN             5  ...    3      NaN   57.0  ---\n",
              "3082    NaN  牡4           NaN             2  ...    4      NaN   57.0  ---\n",
              "3083    NaN  牝4           NaN             7  ...    5      NaN   55.5  ---\n",
              "3084    NaN  牡4           NaN             4  ...    6      NaN   57.0  ---\n",
              "\n",
              "[6 rows x 15 columns]"
            ]
          },
          "metadata": {
            "tags": []
          },
          "execution_count": 18
        }
      ]
    },
    {
      "cell_type": "markdown",
      "metadata": {
        "id": "Fff4kXY6lpeo",
        "colab_type": "text"
      },
      "source": [
        "海外のレースなのでデータを削除"
      ]
    },
    {
      "cell_type": "code",
      "metadata": {
        "id": "hS0g9KvzlpHT",
        "colab_type": "code",
        "colab": {}
      },
      "source": [
        "race_df = race_df.dropna(subset=['start_time'])"
      ],
      "execution_count": 19,
      "outputs": []
    },
    {
      "cell_type": "code",
      "metadata": {
        "id": "xwFgzzy3l4Lf",
        "colab_type": "code",
        "colab": {
          "base_uri": "https://localhost:8080/",
          "height": 221
        },
        "outputId": "c3306f19-5930-4229-aa31-3ba927e758d3"
      },
      "source": [
        "race_df.isnull().sum()"
      ],
      "execution_count": 20,
      "outputs": [
        {
          "output_type": "execute_result",
          "data": {
            "text/plain": [
              "clockwise           0\n",
              "date                0\n",
              "distance            0\n",
              "field_condition     0\n",
              "field_type          0\n",
              "name                0\n",
              "place               0\n",
              "race_id             0\n",
              "race_round          0\n",
              "start_time          0\n",
              "weather            71\n",
              "dtype: int64"
            ]
          },
          "metadata": {
            "tags": []
          },
          "execution_count": 20
        }
      ]
    },
    {
      "cell_type": "code",
      "metadata": {
        "id": "UyFpGXf7h9pw",
        "colab_type": "code",
        "colab": {
          "base_uri": "https://localhost:8080/",
          "height": 359
        },
        "outputId": "c49b6b2d-6fbc-4a83-e530-07f8a69e1e05"
      },
      "source": [
        "race_df[race_df['weather'].isnull()].tail(10)"
      ],
      "execution_count": 21,
      "outputs": [
        {
          "output_type": "execute_result",
          "data": {
            "text/html": [
              "<div>\n",
              "<style scoped>\n",
              "    .dataframe tbody tr th:only-of-type {\n",
              "        vertical-align: middle;\n",
              "    }\n",
              "\n",
              "    .dataframe tbody tr th {\n",
              "        vertical-align: top;\n",
              "    }\n",
              "\n",
              "    .dataframe thead th {\n",
              "        text-align: right;\n",
              "    }\n",
              "</style>\n",
              "<table border=\"1\" class=\"dataframe\">\n",
              "  <thead>\n",
              "    <tr style=\"text-align: right;\">\n",
              "      <th></th>\n",
              "      <th>clockwise</th>\n",
              "      <th>date</th>\n",
              "      <th>distance</th>\n",
              "      <th>field_condition</th>\n",
              "      <th>field_type</th>\n",
              "      <th>name</th>\n",
              "      <th>place</th>\n",
              "      <th>race_id</th>\n",
              "      <th>race_round</th>\n",
              "      <th>start_time</th>\n",
              "      <th>weather</th>\n",
              "    </tr>\n",
              "  </thead>\n",
              "  <tbody>\n",
              "    <tr>\n",
              "      <th>19174</th>\n",
              "      <td>右</td>\n",
              "      <td>2019/6/18</td>\n",
              "      <td>1600</td>\n",
              "      <td>ダ1600m(右)</td>\n",
              "      <td>ダ</td>\n",
              "      <td>穂高特別</td>\n",
              "      <td>笠松</td>\n",
              "      <td>201947061810</td>\n",
              "      <td>10R</td>\n",
              "      <td>16:55</td>\n",
              "      <td>NaN</td>\n",
              "    </tr>\n",
              "    <tr>\n",
              "      <th>19175</th>\n",
              "      <td>右</td>\n",
              "      <td>2019/6/18</td>\n",
              "      <td>1400</td>\n",
              "      <td>ダ1400m(右)</td>\n",
              "      <td>ダ</td>\n",
              "      <td>白馬岳賞</td>\n",
              "      <td>笠松</td>\n",
              "      <td>201947061809</td>\n",
              "      <td>9R</td>\n",
              "      <td>16:20</td>\n",
              "      <td>NaN</td>\n",
              "    </tr>\n",
              "    <tr>\n",
              "      <th>19176</th>\n",
              "      <td>右</td>\n",
              "      <td>2019/6/18</td>\n",
              "      <td>1400</td>\n",
              "      <td>ダ1400m(右)</td>\n",
              "      <td>ダ</td>\n",
              "      <td>立山賞</td>\n",
              "      <td>笠松</td>\n",
              "      <td>201947061808</td>\n",
              "      <td>8R</td>\n",
              "      <td>15:45</td>\n",
              "      <td>NaN</td>\n",
              "    </tr>\n",
              "    <tr>\n",
              "      <th>19177</th>\n",
              "      <td>右</td>\n",
              "      <td>2019/6/18</td>\n",
              "      <td>1400</td>\n",
              "      <td>ダ1400m(右)</td>\n",
              "      <td>ダ</td>\n",
              "      <td>サラ系B4組</td>\n",
              "      <td>笠松</td>\n",
              "      <td>201947061807</td>\n",
              "      <td>7R</td>\n",
              "      <td>15:10</td>\n",
              "      <td>NaN</td>\n",
              "    </tr>\n",
              "    <tr>\n",
              "      <th>19178</th>\n",
              "      <td>右</td>\n",
              "      <td>2019/6/18</td>\n",
              "      <td>1400</td>\n",
              "      <td>ダ1400m(右)</td>\n",
              "      <td>ダ</td>\n",
              "      <td>サラ系C16組</td>\n",
              "      <td>笠松</td>\n",
              "      <td>201947061806</td>\n",
              "      <td>6R</td>\n",
              "      <td>14:35</td>\n",
              "      <td>NaN</td>\n",
              "    </tr>\n",
              "    <tr>\n",
              "      <th>19179</th>\n",
              "      <td>右</td>\n",
              "      <td>2019/6/18</td>\n",
              "      <td>1400</td>\n",
              "      <td>ダ1400m(右)</td>\n",
              "      <td>ダ</td>\n",
              "      <td>満仲一也ホールインワ</td>\n",
              "      <td>笠松</td>\n",
              "      <td>201947061805</td>\n",
              "      <td>5R</td>\n",
              "      <td>14:00</td>\n",
              "      <td>NaN</td>\n",
              "    </tr>\n",
              "    <tr>\n",
              "      <th>19180</th>\n",
              "      <td>右</td>\n",
              "      <td>2019/6/18</td>\n",
              "      <td>1400</td>\n",
              "      <td>ダ1400m(右)</td>\n",
              "      <td>ダ</td>\n",
              "      <td>サラ系C18組</td>\n",
              "      <td>笠松</td>\n",
              "      <td>201947061804</td>\n",
              "      <td>4R</td>\n",
              "      <td>13:25</td>\n",
              "      <td>NaN</td>\n",
              "    </tr>\n",
              "    <tr>\n",
              "      <th>19181</th>\n",
              "      <td>右</td>\n",
              "      <td>2019/6/18</td>\n",
              "      <td>1400</td>\n",
              "      <td>ダ1400m(右)</td>\n",
              "      <td>ダ</td>\n",
              "      <td>サラ系C20組</td>\n",
              "      <td>笠松</td>\n",
              "      <td>201947061803</td>\n",
              "      <td>3R</td>\n",
              "      <td>12:50</td>\n",
              "      <td>NaN</td>\n",
              "    </tr>\n",
              "    <tr>\n",
              "      <th>19182</th>\n",
              "      <td>右</td>\n",
              "      <td>2019/6/18</td>\n",
              "      <td>1400</td>\n",
              "      <td>ダ1400m(右)</td>\n",
              "      <td>ダ</td>\n",
              "      <td>サラ系C21組</td>\n",
              "      <td>笠松</td>\n",
              "      <td>201947061802</td>\n",
              "      <td>2R</td>\n",
              "      <td>12:15</td>\n",
              "      <td>NaN</td>\n",
              "    </tr>\n",
              "    <tr>\n",
              "      <th>19183</th>\n",
              "      <td>右</td>\n",
              "      <td>2019/6/18</td>\n",
              "      <td>800</td>\n",
              "      <td>ダ800m(右)</td>\n",
              "      <td>ダ</td>\n",
              "      <td>サラ系C19組</td>\n",
              "      <td>笠松</td>\n",
              "      <td>201947061801</td>\n",
              "      <td>1R</td>\n",
              "      <td>11:45</td>\n",
              "      <td>NaN</td>\n",
              "    </tr>\n",
              "  </tbody>\n",
              "</table>\n",
              "</div>"
            ],
            "text/plain": [
              "      clockwise       date  distance  ... race_round start_time weather\n",
              "19174         右  2019/6/18      1600  ...        10R      16:55     NaN\n",
              "19175         右  2019/6/18      1400  ...         9R      16:20     NaN\n",
              "19176         右  2019/6/18      1400  ...         8R      15:45     NaN\n",
              "19177         右  2019/6/18      1400  ...         7R      15:10     NaN\n",
              "19178         右  2019/6/18      1400  ...         6R      14:35     NaN\n",
              "19179         右  2019/6/18      1400  ...         5R      14:00     NaN\n",
              "19180         右  2019/6/18      1400  ...         4R      13:25     NaN\n",
              "19181         右  2019/6/18      1400  ...         3R      12:50     NaN\n",
              "19182         右  2019/6/18      1400  ...         2R      12:15     NaN\n",
              "19183         右  2019/6/18       800  ...         1R      11:45     NaN\n",
              "\n",
              "[10 rows x 11 columns]"
            ]
          },
          "metadata": {
            "tags": []
          },
          "execution_count": 21
        }
      ]
    },
    {
      "cell_type": "code",
      "metadata": {
        "id": "T_3VW9dUmWxX",
        "colab_type": "code",
        "colab": {
          "base_uri": "https://localhost:8080/",
          "height": 328
        },
        "outputId": "85319372-97e5-4310-f371-ebfc54cfba5e"
      },
      "source": [
        "horse_df[horse_df['race_id']=='201947061809']"
      ],
      "execution_count": 22,
      "outputs": [
        {
          "output_type": "execute_result",
          "data": {
            "text/html": [
              "<div>\n",
              "<style scoped>\n",
              "    .dataframe tbody tr th:only-of-type {\n",
              "        vertical-align: middle;\n",
              "    }\n",
              "\n",
              "    .dataframe tbody tr th {\n",
              "        vertical-align: top;\n",
              "    }\n",
              "\n",
              "    .dataframe thead th {\n",
              "        text-align: right;\n",
              "    }\n",
              "</style>\n",
              "<table border=\"1\" class=\"dataframe\">\n",
              "  <thead>\n",
              "    <tr style=\"text-align: right;\">\n",
              "      <th></th>\n",
              "      <th>agari</th>\n",
              "      <th>age</th>\n",
              "      <th>frame_number</th>\n",
              "      <th>horse_number</th>\n",
              "      <th>horse_weight</th>\n",
              "      <th>jockey</th>\n",
              "      <th>name</th>\n",
              "      <th>popular</th>\n",
              "      <th>race_date</th>\n",
              "      <th>race_id</th>\n",
              "      <th>race_name</th>\n",
              "      <th>rank</th>\n",
              "      <th>time</th>\n",
              "      <th>weight</th>\n",
              "      <th>win</th>\n",
              "    </tr>\n",
              "  </thead>\n",
              "  <tbody>\n",
              "    <tr>\n",
              "      <th>203930</th>\n",
              "      <td>NaN</td>\n",
              "      <td>セ7</td>\n",
              "      <td>1.0</td>\n",
              "      <td>1</td>\n",
              "      <td>計不</td>\n",
              "      <td>松本剛志</td>\n",
              "      <td>ディーエスノーブル</td>\n",
              "      <td>NaN</td>\n",
              "      <td>2019/6/18</td>\n",
              "      <td>201947061809</td>\n",
              "      <td>白馬岳賞</td>\n",
              "      <td>1</td>\n",
              "      <td>NaN</td>\n",
              "      <td>56.0</td>\n",
              "      <td>---</td>\n",
              "    </tr>\n",
              "    <tr>\n",
              "      <th>203931</th>\n",
              "      <td>NaN</td>\n",
              "      <td>牡4</td>\n",
              "      <td>2.0</td>\n",
              "      <td>2</td>\n",
              "      <td>計不</td>\n",
              "      <td>藤原幹生</td>\n",
              "      <td>ハーリーバーリー</td>\n",
              "      <td>NaN</td>\n",
              "      <td>2019/6/18</td>\n",
              "      <td>201947061809</td>\n",
              "      <td>白馬岳賞</td>\n",
              "      <td>2</td>\n",
              "      <td>NaN</td>\n",
              "      <td>56.0</td>\n",
              "      <td>---</td>\n",
              "    </tr>\n",
              "    <tr>\n",
              "      <th>203935</th>\n",
              "      <td>NaN</td>\n",
              "      <td>牡4</td>\n",
              "      <td>3.0</td>\n",
              "      <td>3</td>\n",
              "      <td>計不</td>\n",
              "      <td>向山牧</td>\n",
              "      <td>ヒルノコルドバ</td>\n",
              "      <td>NaN</td>\n",
              "      <td>2019/6/18</td>\n",
              "      <td>201947061809</td>\n",
              "      <td>白馬岳賞</td>\n",
              "      <td>3</td>\n",
              "      <td>NaN</td>\n",
              "      <td>56.0</td>\n",
              "      <td>---</td>\n",
              "    </tr>\n",
              "    <tr>\n",
              "      <th>203936</th>\n",
              "      <td>NaN</td>\n",
              "      <td>牝4</td>\n",
              "      <td>4.0</td>\n",
              "      <td>4</td>\n",
              "      <td>計不</td>\n",
              "      <td>佐藤友則</td>\n",
              "      <td>バレンティーノ</td>\n",
              "      <td>NaN</td>\n",
              "      <td>2019/6/18</td>\n",
              "      <td>201947061809</td>\n",
              "      <td>白馬岳賞</td>\n",
              "      <td>4</td>\n",
              "      <td>NaN</td>\n",
              "      <td>54.0</td>\n",
              "      <td>---</td>\n",
              "    </tr>\n",
              "    <tr>\n",
              "      <th>203937</th>\n",
              "      <td>NaN</td>\n",
              "      <td>牝5</td>\n",
              "      <td>5.0</td>\n",
              "      <td>5</td>\n",
              "      <td>計不</td>\n",
              "      <td>東川慎</td>\n",
              "      <td>ヤマニンミモレット</td>\n",
              "      <td>NaN</td>\n",
              "      <td>2019/6/18</td>\n",
              "      <td>201947061809</td>\n",
              "      <td>白馬岳賞</td>\n",
              "      <td>5</td>\n",
              "      <td>NaN</td>\n",
              "      <td>51.0</td>\n",
              "      <td>---</td>\n",
              "    </tr>\n",
              "    <tr>\n",
              "      <th>203944</th>\n",
              "      <td>NaN</td>\n",
              "      <td>牝4</td>\n",
              "      <td>6.0</td>\n",
              "      <td>6</td>\n",
              "      <td>計不</td>\n",
              "      <td>宮下瞳</td>\n",
              "      <td>キラキラオーラ</td>\n",
              "      <td>NaN</td>\n",
              "      <td>2019/6/18</td>\n",
              "      <td>201947061809</td>\n",
              "      <td>白馬岳賞</td>\n",
              "      <td>6</td>\n",
              "      <td>NaN</td>\n",
              "      <td>52.0</td>\n",
              "      <td>---</td>\n",
              "    </tr>\n",
              "    <tr>\n",
              "      <th>203945</th>\n",
              "      <td>NaN</td>\n",
              "      <td>セ7</td>\n",
              "      <td>7.0</td>\n",
              "      <td>7</td>\n",
              "      <td>計不</td>\n",
              "      <td>高木健</td>\n",
              "      <td>ブラックバード</td>\n",
              "      <td>NaN</td>\n",
              "      <td>2019/6/18</td>\n",
              "      <td>201947061809</td>\n",
              "      <td>白馬岳賞</td>\n",
              "      <td>7</td>\n",
              "      <td>NaN</td>\n",
              "      <td>56.0</td>\n",
              "      <td>---</td>\n",
              "    </tr>\n",
              "    <tr>\n",
              "      <th>203946</th>\n",
              "      <td>NaN</td>\n",
              "      <td>牡4</td>\n",
              "      <td>8.0</td>\n",
              "      <td>8</td>\n",
              "      <td>計不</td>\n",
              "      <td>吉井友彦</td>\n",
              "      <td>ヤマニンフレッチェ</td>\n",
              "      <td>NaN</td>\n",
              "      <td>2019/6/18</td>\n",
              "      <td>201947061809</td>\n",
              "      <td>白馬岳賞</td>\n",
              "      <td>8</td>\n",
              "      <td>NaN</td>\n",
              "      <td>56.0</td>\n",
              "      <td>---</td>\n",
              "    </tr>\n",
              "    <tr>\n",
              "      <th>203947</th>\n",
              "      <td>NaN</td>\n",
              "      <td>牡8</td>\n",
              "      <td>8.0</td>\n",
              "      <td>9</td>\n",
              "      <td>計不</td>\n",
              "      <td>山下雅之</td>\n",
              "      <td>ジュガンティーヤ</td>\n",
              "      <td>NaN</td>\n",
              "      <td>2019/6/18</td>\n",
              "      <td>201947061809</td>\n",
              "      <td>白馬岳賞</td>\n",
              "      <td>9</td>\n",
              "      <td>NaN</td>\n",
              "      <td>56.0</td>\n",
              "      <td>---</td>\n",
              "    </tr>\n",
              "  </tbody>\n",
              "</table>\n",
              "</div>"
            ],
            "text/plain": [
              "        agari age  frame_number  horse_number  ... rank time weight  win\n",
              "203930    NaN  セ7           1.0             1  ...    1  NaN   56.0  ---\n",
              "203931    NaN  牡4           2.0             2  ...    2  NaN   56.0  ---\n",
              "203935    NaN  牡4           3.0             3  ...    3  NaN   56.0  ---\n",
              "203936    NaN  牝4           4.0             4  ...    4  NaN   54.0  ---\n",
              "203937    NaN  牝5           5.0             5  ...    5  NaN   51.0  ---\n",
              "203944    NaN  牝4           6.0             6  ...    6  NaN   52.0  ---\n",
              "203945    NaN  セ7           7.0             7  ...    7  NaN   56.0  ---\n",
              "203946    NaN  牡4           8.0             8  ...    8  NaN   56.0  ---\n",
              "203947    NaN  牡8           8.0             9  ...    9  NaN   56.0  ---\n",
              "\n",
              "[9 rows x 15 columns]"
            ]
          },
          "metadata": {
            "tags": []
          },
          "execution_count": 22
        }
      ]
    },
    {
      "cell_type": "code",
      "metadata": {
        "id": "nERqio40m-0U",
        "colab_type": "code",
        "colab": {
          "base_uri": "https://localhost:8080/",
          "height": 187
        },
        "outputId": "a7900370-cd05-44cb-a0d6-0d85908832f3"
      },
      "source": [
        "race_df[race_df['weather'].isnull()]['date'].value_counts()"
      ],
      "execution_count": 23,
      "outputs": [
        {
          "output_type": "execute_result",
          "data": {
            "text/plain": [
              "2019/8/15     12\n",
              "2019/7/21     12\n",
              "2019/11/18    12\n",
              "2019/6/20     11\n",
              "2019/6/19     10\n",
              "2019/6/18     10\n",
              "2019/10/19     2\n",
              "2019/10/6      1\n",
              "2019/10/26     1\n",
              "Name: date, dtype: int64"
            ]
          },
          "metadata": {
            "tags": []
          },
          "execution_count": 23
        }
      ]
    },
    {
      "cell_type": "markdown",
      "metadata": {
        "id": "jydLa2OanTIH",
        "colab_type": "text"
      },
      "source": [
        "開催されていないレースのようなので削除"
      ]
    },
    {
      "cell_type": "code",
      "metadata": {
        "id": "Bik4jmmPnOEA",
        "colab_type": "code",
        "colab": {}
      },
      "source": [
        "race_df = race_df.dropna(subset=['weather'])"
      ],
      "execution_count": 24,
      "outputs": []
    },
    {
      "cell_type": "code",
      "metadata": {
        "id": "rTHCAsvbnbD4",
        "colab_type": "code",
        "colab": {
          "base_uri": "https://localhost:8080/",
          "height": 221
        },
        "outputId": "a09530c6-4e9a-4146-9f34-f9a2beafa225"
      },
      "source": [
        "race_df.isnull().sum()"
      ],
      "execution_count": 25,
      "outputs": [
        {
          "output_type": "execute_result",
          "data": {
            "text/plain": [
              "clockwise          0\n",
              "date               0\n",
              "distance           0\n",
              "field_condition    0\n",
              "field_type         0\n",
              "name               0\n",
              "place              0\n",
              "race_id            0\n",
              "race_round         0\n",
              "start_time         0\n",
              "weather            0\n",
              "dtype: int64"
            ]
          },
          "metadata": {
            "tags": []
          },
          "execution_count": 25
        }
      ]
    },
    {
      "cell_type": "markdown",
      "metadata": {
        "id": "HcLfSGXVnkZ2",
        "colab_type": "text"
      },
      "source": [
        "### 馬"
      ]
    },
    {
      "cell_type": "markdown",
      "metadata": {
        "id": "rxTxanGKntHy",
        "colab_type": "text"
      },
      "source": [
        "まずは、削除されたレースは削除する"
      ]
    },
    {
      "cell_type": "code",
      "metadata": {
        "id": "2PmdomIKeEz-",
        "colab_type": "code",
        "colab": {}
      },
      "source": [
        "race_id_list = race_df['race_id'].values\n",
        "horse_race_id_list = horse_df['race_id'].unique()\n",
        "drop_race_id = []\n",
        "for race_id in horse_race_id_list:\n",
        "  if not race_id in race_id_list:\n",
        "    drop_race_id.append(race_id)"
      ],
      "execution_count": 26,
      "outputs": []
    },
    {
      "cell_type": "code",
      "metadata": {
        "id": "2cf1BAJ4pd-s",
        "colab_type": "code",
        "colab": {}
      },
      "source": [
        "for race_id in drop_race_id:\n",
        "  horse_df = horse_df[horse_df['race_id'] != race_id]"
      ],
      "execution_count": 27,
      "outputs": []
    },
    {
      "cell_type": "code",
      "metadata": {
        "id": "JUPxxxbUVhUL",
        "colab_type": "code",
        "colab": {
          "base_uri": "https://localhost:8080/",
          "height": 289
        },
        "outputId": "ba5770d4-4bb1-4aae-e5d6-521c183c2298"
      },
      "source": [
        "horse_df.isnull().sum()"
      ],
      "execution_count": 28,
      "outputs": [
        {
          "output_type": "execute_result",
          "data": {
            "text/plain": [
              "agari           3393\n",
              "age                0\n",
              "frame_number      69\n",
              "horse_number       0\n",
              "horse_weight       0\n",
              "jockey             0\n",
              "name               0\n",
              "popular         2371\n",
              "race_date          0\n",
              "race_id            0\n",
              "race_name          0\n",
              "rank               0\n",
              "time            3376\n",
              "weight             0\n",
              "win                0\n",
              "dtype: int64"
            ]
          },
          "metadata": {
            "tags": []
          },
          "execution_count": 28
        }
      ]
    },
    {
      "cell_type": "markdown",
      "metadata": {
        "id": "AdHSSjb3BuPw",
        "colab_type": "text"
      },
      "source": [
        "馬\n",
        "\n",
        "- agariはデータがないのが多い（障害レース？）\n",
        "  - agariがない馬はtimeもない\n",
        "  - timeがないので削除\n",
        "  - timeが欠損していないがagariが欠損しているのはデータがほとんど欠損しているレースのため削除\n",
        "- frame_number、jockey、popularは？？\n",
        "- timeがないのはレースに出場しなかった？\n",
        "  - レースに関係しないので削除\n",
        "  - 失格や出ていないなど"
      ]
    },
    {
      "cell_type": "code",
      "metadata": {
        "id": "g5mmamG4-wCn",
        "colab_type": "code",
        "colab": {
          "base_uri": "https://localhost:8080/",
          "height": 34
        },
        "outputId": "9aff6516-f42b-4b30-b120-adc332afd556"
      },
      "source": [
        "horse_df[horse_df['agari'].isnull() ]['time'].isnull().sum()"
      ],
      "execution_count": 29,
      "outputs": [
        {
          "output_type": "execute_result",
          "data": {
            "text/plain": [
              "3376"
            ]
          },
          "metadata": {
            "tags": []
          },
          "execution_count": 29
        }
      ]
    },
    {
      "cell_type": "markdown",
      "metadata": {
        "id": "CUqt4pN1CarJ",
        "colab_type": "text"
      },
      "source": [
        "timeがないのはレースに関係していないので削除"
      ]
    },
    {
      "cell_type": "code",
      "metadata": {
        "id": "N4EWPXYMBHu2",
        "colab_type": "code",
        "colab": {}
      },
      "source": [
        "horse_df = horse_df.dropna(subset=['time'])"
      ],
      "execution_count": 30,
      "outputs": []
    },
    {
      "cell_type": "code",
      "metadata": {
        "id": "jyat_ZtnCYcs",
        "colab_type": "code",
        "colab": {
          "base_uri": "https://localhost:8080/",
          "height": 289
        },
        "outputId": "4d96ae86-c830-4038-f81b-35828786fec1"
      },
      "source": [
        "horse_df.isnull().sum()"
      ],
      "execution_count": 31,
      "outputs": [
        {
          "output_type": "execute_result",
          "data": {
            "text/plain": [
              "agari           17\n",
              "age              0\n",
              "frame_number     6\n",
              "horse_number     0\n",
              "horse_weight     0\n",
              "jockey           0\n",
              "name             0\n",
              "popular          0\n",
              "race_date        0\n",
              "race_id          0\n",
              "race_name        0\n",
              "rank             0\n",
              "time             0\n",
              "weight           0\n",
              "win              0\n",
              "dtype: int64"
            ]
          },
          "metadata": {
            "tags": []
          },
          "execution_count": 31
        }
      ]
    },
    {
      "cell_type": "code",
      "metadata": {
        "id": "hzDPfgF7CoiQ",
        "colab_type": "code",
        "colab": {
          "base_uri": "https://localhost:8080/",
          "height": 865
        },
        "outputId": "af17accb-8150-4497-fd71-ce9f8cd0a5a0"
      },
      "source": [
        "horse_df[horse_df['agari'].isnull()]"
      ],
      "execution_count": 32,
      "outputs": [
        {
          "output_type": "execute_result",
          "data": {
            "text/html": [
              "<div>\n",
              "<style scoped>\n",
              "    .dataframe tbody tr th:only-of-type {\n",
              "        vertical-align: middle;\n",
              "    }\n",
              "\n",
              "    .dataframe tbody tr th {\n",
              "        vertical-align: top;\n",
              "    }\n",
              "\n",
              "    .dataframe thead th {\n",
              "        text-align: right;\n",
              "    }\n",
              "</style>\n",
              "<table border=\"1\" class=\"dataframe\">\n",
              "  <thead>\n",
              "    <tr style=\"text-align: right;\">\n",
              "      <th></th>\n",
              "      <th>agari</th>\n",
              "      <th>age</th>\n",
              "      <th>frame_number</th>\n",
              "      <th>horse_number</th>\n",
              "      <th>horse_weight</th>\n",
              "      <th>jockey</th>\n",
              "      <th>name</th>\n",
              "      <th>popular</th>\n",
              "      <th>race_date</th>\n",
              "      <th>race_id</th>\n",
              "      <th>race_name</th>\n",
              "      <th>rank</th>\n",
              "      <th>time</th>\n",
              "      <th>weight</th>\n",
              "      <th>win</th>\n",
              "    </tr>\n",
              "  </thead>\n",
              "  <tbody>\n",
              "    <tr>\n",
              "      <th>88930</th>\n",
              "      <td>NaN</td>\n",
              "      <td>牡4</td>\n",
              "      <td>7.0</td>\n",
              "      <td>8</td>\n",
              "      <td>536(+6)</td>\n",
              "      <td>矢野貴之</td>\n",
              "      <td>キングバイデン</td>\n",
              "      <td>2.0</td>\n",
              "      <td>2020/1/8</td>\n",
              "      <td>202043010812</td>\n",
              "      <td>ふなばしセレクション</td>\n",
              "      <td>1</td>\n",
              "      <td>1:43.0</td>\n",
              "      <td>56.5</td>\n",
              "      <td>2.8</td>\n",
              "    </tr>\n",
              "    <tr>\n",
              "      <th>88940</th>\n",
              "      <td>NaN</td>\n",
              "      <td>牝4</td>\n",
              "      <td>3.0</td>\n",
              "      <td>3</td>\n",
              "      <td>452(+9)</td>\n",
              "      <td>張田昂</td>\n",
              "      <td>エスケイエンジェル</td>\n",
              "      <td>4.0</td>\n",
              "      <td>2020/1/8</td>\n",
              "      <td>202043010812</td>\n",
              "      <td>ふなばしセレクション</td>\n",
              "      <td>2</td>\n",
              "      <td>1:43.2</td>\n",
              "      <td>54.5</td>\n",
              "      <td>10.8</td>\n",
              "    </tr>\n",
              "    <tr>\n",
              "      <th>88941</th>\n",
              "      <td>NaN</td>\n",
              "      <td>牡8</td>\n",
              "      <td>1.0</td>\n",
              "      <td>1</td>\n",
              "      <td>483(+8)</td>\n",
              "      <td>田中力</td>\n",
              "      <td>レジェンドセプター</td>\n",
              "      <td>7.0</td>\n",
              "      <td>2020/1/8</td>\n",
              "      <td>202043010812</td>\n",
              "      <td>ふなばしセレクション</td>\n",
              "      <td>3</td>\n",
              "      <td>1:43.3</td>\n",
              "      <td>56.5</td>\n",
              "      <td>35.0</td>\n",
              "    </tr>\n",
              "    <tr>\n",
              "      <th>88947</th>\n",
              "      <td>NaN</td>\n",
              "      <td>セ6</td>\n",
              "      <td>8.0</td>\n",
              "      <td>10</td>\n",
              "      <td>504(+2)</td>\n",
              "      <td>本田正重</td>\n",
              "      <td>メイドインドリーム</td>\n",
              "      <td>1.0</td>\n",
              "      <td>2020/1/8</td>\n",
              "      <td>202043010812</td>\n",
              "      <td>ふなばしセレクション</td>\n",
              "      <td>4</td>\n",
              "      <td>1:43.3</td>\n",
              "      <td>56.5</td>\n",
              "      <td>2.7</td>\n",
              "    </tr>\n",
              "    <tr>\n",
              "      <th>88948</th>\n",
              "      <td>NaN</td>\n",
              "      <td>牝5</td>\n",
              "      <td>4.0</td>\n",
              "      <td>4</td>\n",
              "      <td>490(0)</td>\n",
              "      <td>澤田龍哉</td>\n",
              "      <td>タオルデスカーフ</td>\n",
              "      <td>8.0</td>\n",
              "      <td>2020/1/8</td>\n",
              "      <td>202043010812</td>\n",
              "      <td>ふなばしセレクション</td>\n",
              "      <td>5</td>\n",
              "      <td>1:43.4</td>\n",
              "      <td>54.5</td>\n",
              "      <td>73.3</td>\n",
              "    </tr>\n",
              "    <tr>\n",
              "      <th>88953</th>\n",
              "      <td>NaN</td>\n",
              "      <td>牡7</td>\n",
              "      <td>7.0</td>\n",
              "      <td>9</td>\n",
              "      <td>497(+1)</td>\n",
              "      <td>森泰斗</td>\n",
              "      <td>キングズミッション</td>\n",
              "      <td>3.0</td>\n",
              "      <td>2020/1/8</td>\n",
              "      <td>202043010812</td>\n",
              "      <td>ふなばしセレクション</td>\n",
              "      <td>6</td>\n",
              "      <td>1:44.3</td>\n",
              "      <td>56.5</td>\n",
              "      <td>3.9</td>\n",
              "    </tr>\n",
              "    <tr>\n",
              "      <th>88954</th>\n",
              "      <td>NaN</td>\n",
              "      <td>牡5</td>\n",
              "      <td>8.0</td>\n",
              "      <td>11</td>\n",
              "      <td>418(+8)</td>\n",
              "      <td>笠野雄大</td>\n",
              "      <td>エスティブレイド</td>\n",
              "      <td>9.0</td>\n",
              "      <td>2020/1/8</td>\n",
              "      <td>202043010812</td>\n",
              "      <td>ふなばしセレクション</td>\n",
              "      <td>7</td>\n",
              "      <td>1:44.6</td>\n",
              "      <td>56.5</td>\n",
              "      <td>110.7</td>\n",
              "    </tr>\n",
              "    <tr>\n",
              "      <th>88960</th>\n",
              "      <td>NaN</td>\n",
              "      <td>牝5</td>\n",
              "      <td>5.0</td>\n",
              "      <td>5</td>\n",
              "      <td>487(+1)</td>\n",
              "      <td>山口達弥</td>\n",
              "      <td>リンノストーン</td>\n",
              "      <td>6.0</td>\n",
              "      <td>2020/1/8</td>\n",
              "      <td>202043010812</td>\n",
              "      <td>ふなばしセレクション</td>\n",
              "      <td>8</td>\n",
              "      <td>1:44.9</td>\n",
              "      <td>54.5</td>\n",
              "      <td>21.2</td>\n",
              "    </tr>\n",
              "    <tr>\n",
              "      <th>88961</th>\n",
              "      <td>NaN</td>\n",
              "      <td>牡4</td>\n",
              "      <td>6.0</td>\n",
              "      <td>6</td>\n",
              "      <td>460(-4)</td>\n",
              "      <td>野澤憲彦</td>\n",
              "      <td>ヤマノプレミアム</td>\n",
              "      <td>10.0</td>\n",
              "      <td>2020/1/8</td>\n",
              "      <td>202043010812</td>\n",
              "      <td>ふなばしセレクション</td>\n",
              "      <td>9</td>\n",
              "      <td>1:45.3</td>\n",
              "      <td>56.5</td>\n",
              "      <td>113.4</td>\n",
              "    </tr>\n",
              "    <tr>\n",
              "      <th>88969</th>\n",
              "      <td>NaN</td>\n",
              "      <td>牡6</td>\n",
              "      <td>2.0</td>\n",
              "      <td>2</td>\n",
              "      <td>540(-4)</td>\n",
              "      <td>岡村健司</td>\n",
              "      <td>エイシンユニコーン</td>\n",
              "      <td>11.0</td>\n",
              "      <td>2020/1/8</td>\n",
              "      <td>202043010812</td>\n",
              "      <td>ふなばしセレクション</td>\n",
              "      <td>10</td>\n",
              "      <td>1:46.5</td>\n",
              "      <td>56.5</td>\n",
              "      <td>180.9</td>\n",
              "    </tr>\n",
              "    <tr>\n",
              "      <th>88970</th>\n",
              "      <td>NaN</td>\n",
              "      <td>牡6</td>\n",
              "      <td>6.0</td>\n",
              "      <td>7</td>\n",
              "      <td>520(+5)</td>\n",
              "      <td>吉原寛人</td>\n",
              "      <td>ザッカリーア</td>\n",
              "      <td>5.0</td>\n",
              "      <td>2020/1/8</td>\n",
              "      <td>202043010812</td>\n",
              "      <td>ふなばしセレクション</td>\n",
              "      <td>11</td>\n",
              "      <td>1:49.1</td>\n",
              "      <td>56.5</td>\n",
              "      <td>11.8</td>\n",
              "    </tr>\n",
              "    <tr>\n",
              "      <th>228993</th>\n",
              "      <td>NaN</td>\n",
              "      <td>牡3</td>\n",
              "      <td>NaN</td>\n",
              "      <td>20</td>\n",
              "      <td>計不</td>\n",
              "      <td>プラ</td>\n",
              "      <td>Country House</td>\n",
              "      <td>14.0</td>\n",
              "      <td>2019/5/4</td>\n",
              "      <td>2019F4050412</td>\n",
              "      <td>ケンタッキーダービー</td>\n",
              "      <td>1</td>\n",
              "      <td>2:03.93</td>\n",
              "      <td>57.0</td>\n",
              "      <td>66.6</td>\n",
              "    </tr>\n",
              "    <tr>\n",
              "      <th>244561</th>\n",
              "      <td>NaN</td>\n",
              "      <td>牡3</td>\n",
              "      <td>NaN</td>\n",
              "      <td>20</td>\n",
              "      <td>計不</td>\n",
              "      <td>ボス</td>\n",
              "      <td>Brutal</td>\n",
              "      <td>1.0</td>\n",
              "      <td>2019/4/6</td>\n",
              "      <td>2019GE040609</td>\n",
              "      <td>ドンカスターマイル</td>\n",
              "      <td>1</td>\n",
              "      <td>1:37.65</td>\n",
              "      <td>49.5</td>\n",
              "      <td>5.8</td>\n",
              "    </tr>\n",
              "    <tr>\n",
              "      <th>247741</th>\n",
              "      <td>NaN</td>\n",
              "      <td>牡4</td>\n",
              "      <td>NaN</td>\n",
              "      <td>2</td>\n",
              "      <td>計不</td>\n",
              "      <td>ビュイッ</td>\n",
              "      <td>Old Persian</td>\n",
              "      <td>2.0</td>\n",
              "      <td>2019/3/30</td>\n",
              "      <td>2019J0033008</td>\n",
              "      <td>ドバイシーマクラシッ</td>\n",
              "      <td>1</td>\n",
              "      <td>2:27.17</td>\n",
              "      <td>56.5</td>\n",
              "      <td>3.0</td>\n",
              "    </tr>\n",
              "    <tr>\n",
              "      <th>247746</th>\n",
              "      <td>NaN</td>\n",
              "      <td>牝4</td>\n",
              "      <td>NaN</td>\n",
              "      <td>7</td>\n",
              "      <td>計不</td>\n",
              "      <td>ルメール</td>\n",
              "      <td>アーモンドアイ</td>\n",
              "      <td>1.0</td>\n",
              "      <td>2019/3/30</td>\n",
              "      <td>2019J0033007</td>\n",
              "      <td>ドバイターフ</td>\n",
              "      <td>1</td>\n",
              "      <td>1:46.78</td>\n",
              "      <td>55.0</td>\n",
              "      <td>1.2</td>\n",
              "    </tr>\n",
              "    <tr>\n",
              "      <th>247751</th>\n",
              "      <td>NaN</td>\n",
              "      <td>牡5</td>\n",
              "      <td>NaN</td>\n",
              "      <td>12</td>\n",
              "      <td>計不</td>\n",
              "      <td>スミヨン</td>\n",
              "      <td>サンダースノー</td>\n",
              "      <td>1.0</td>\n",
              "      <td>2019/3/30</td>\n",
              "      <td>2019J0033009</td>\n",
              "      <td>ドバイワールドカップ</td>\n",
              "      <td>1</td>\n",
              "      <td>2:03.87</td>\n",
              "      <td>57.0</td>\n",
              "      <td>2.8</td>\n",
              "    </tr>\n",
              "    <tr>\n",
              "      <th>247757</th>\n",
              "      <td>NaN</td>\n",
              "      <td>セ7</td>\n",
              "      <td>NaN</td>\n",
              "      <td>3</td>\n",
              "      <td>計不</td>\n",
              "      <td>ハラミー</td>\n",
              "      <td>エックスワイジェット</td>\n",
              "      <td>1.0</td>\n",
              "      <td>2019/3/30</td>\n",
              "      <td>2019J0033006</td>\n",
              "      <td>ゴールデンシャヒーン</td>\n",
              "      <td>1</td>\n",
              "      <td>1:10.75</td>\n",
              "      <td>57.0</td>\n",
              "      <td>2.6</td>\n",
              "    </tr>\n",
              "  </tbody>\n",
              "</table>\n",
              "</div>"
            ],
            "text/plain": [
              "        agari age  frame_number  horse_number  ... rank     time weight    win\n",
              "88930     NaN  牡4           7.0             8  ...    1   1:43.0   56.5    2.8\n",
              "88940     NaN  牝4           3.0             3  ...    2   1:43.2   54.5   10.8\n",
              "88941     NaN  牡8           1.0             1  ...    3   1:43.3   56.5   35.0\n",
              "88947     NaN  セ6           8.0            10  ...    4   1:43.3   56.5    2.7\n",
              "88948     NaN  牝5           4.0             4  ...    5   1:43.4   54.5   73.3\n",
              "88953     NaN  牡7           7.0             9  ...    6   1:44.3   56.5    3.9\n",
              "88954     NaN  牡5           8.0            11  ...    7   1:44.6   56.5  110.7\n",
              "88960     NaN  牝5           5.0             5  ...    8   1:44.9   54.5   21.2\n",
              "88961     NaN  牡4           6.0             6  ...    9   1:45.3   56.5  113.4\n",
              "88969     NaN  牡6           2.0             2  ...   10   1:46.5   56.5  180.9\n",
              "88970     NaN  牡6           6.0             7  ...   11   1:49.1   56.5   11.8\n",
              "228993    NaN  牡3           NaN            20  ...    1  2:03.93   57.0   66.6\n",
              "244561    NaN  牡3           NaN            20  ...    1  1:37.65   49.5    5.8\n",
              "247741    NaN  牡4           NaN             2  ...    1  2:27.17   56.5    3.0\n",
              "247746    NaN  牝4           NaN             7  ...    1  1:46.78   55.0    1.2\n",
              "247751    NaN  牡5           NaN            12  ...    1  2:03.87   57.0    2.8\n",
              "247757    NaN  セ7           NaN             3  ...    1  1:10.75   57.0    2.6\n",
              "\n",
              "[17 rows x 15 columns]"
            ]
          },
          "metadata": {
            "tags": []
          },
          "execution_count": 32
        }
      ]
    },
    {
      "cell_type": "markdown",
      "metadata": {
        "id": "4if1MezoDELV",
        "colab_type": "text"
      },
      "source": [
        "余ったagariはtimeがほとんどないレース、もしくはふなばしセレクション。\n",
        "ふなばしセレクションは全ての馬がagariのデータがないため、削除。"
      ]
    },
    {
      "cell_type": "code",
      "metadata": {
        "id": "lIJUkWe2DDsA",
        "colab_type": "code",
        "colab": {}
      },
      "source": [
        "horse_df = horse_df.dropna(subset=['agari'])"
      ],
      "execution_count": 33,
      "outputs": []
    },
    {
      "cell_type": "code",
      "metadata": {
        "id": "2tfLvxlgD9QS",
        "colab_type": "code",
        "colab": {
          "base_uri": "https://localhost:8080/",
          "height": 289
        },
        "outputId": "2052b556-f56f-4c32-def4-9c3f34c75ee7"
      },
      "source": [
        "horse_df.isnull().sum()"
      ],
      "execution_count": 34,
      "outputs": [
        {
          "output_type": "execute_result",
          "data": {
            "text/plain": [
              "agari           0\n",
              "age             0\n",
              "frame_number    0\n",
              "horse_number    0\n",
              "horse_weight    0\n",
              "jockey          0\n",
              "name            0\n",
              "popular         0\n",
              "race_date       0\n",
              "race_id         0\n",
              "race_name       0\n",
              "rank            0\n",
              "time            0\n",
              "weight          0\n",
              "win             0\n",
              "dtype: int64"
            ]
          },
          "metadata": {
            "tags": []
          },
          "execution_count": 34
        }
      ]
    },
    {
      "cell_type": "markdown",
      "metadata": {
        "id": "Wc8V69g9EEkA",
        "colab_type": "text"
      },
      "source": [
        "馬データがないレースデータを削除する。"
      ]
    },
    {
      "cell_type": "code",
      "metadata": {
        "id": "wMbCK9PXHwlw",
        "colab_type": "code",
        "colab": {
          "base_uri": "https://localhost:8080/",
          "height": 34
        },
        "outputId": "6d81256d-d8be-4c23-9bbd-df74b3fa9b08"
      },
      "source": [
        "horse_race_id_list = horse_df['race_id'].unique()\n",
        "type(horse_race_id_list)"
      ],
      "execution_count": 35,
      "outputs": [
        {
          "output_type": "execute_result",
          "data": {
            "text/plain": [
              "numpy.ndarray"
            ]
          },
          "metadata": {
            "tags": []
          },
          "execution_count": 35
        }
      ]
    },
    {
      "cell_type": "code",
      "metadata": {
        "id": "hzCj5KaMHPD1",
        "colab_type": "code",
        "colab": {
          "base_uri": "https://localhost:8080/",
          "height": 51
        },
        "outputId": "25a2171a-27c2-457e-9e5f-ae42a0013ecd"
      },
      "source": [
        "race_id_list = race_df['race_id'].values\n",
        "horse_race_id_list = horse_df['race_id'].unique()\n",
        "print(race_id_list.shape)\n",
        "print(horse_race_id_list.shape)\n",
        "drop_race_id = []\n",
        "for race_id in race_id_list:\n",
        "  if not race_id in horse_race_id_list:\n",
        "    drop_race_id.append(race_id)"
      ],
      "execution_count": 36,
      "outputs": [
        {
          "output_type": "stream",
          "text": [
            "(24252,)\n",
            "(24221,)\n"
          ],
          "name": "stdout"
        }
      ]
    },
    {
      "cell_type": "code",
      "metadata": {
        "id": "BqGu7hQTHTn6",
        "colab_type": "code",
        "colab": {}
      },
      "source": [
        "for race_id in drop_race_id:\n",
        "  race_df = race_df[race_df['race_id'] != race_id]"
      ],
      "execution_count": 37,
      "outputs": []
    },
    {
      "cell_type": "markdown",
      "metadata": {
        "id": "NyMC5w8s_SAB",
        "colab_type": "text"
      },
      "source": [
        "## ユニークな値の数"
      ]
    },
    {
      "cell_type": "code",
      "metadata": {
        "id": "qLjvzlSfVkon",
        "colab_type": "code",
        "colab": {
          "base_uri": "https://localhost:8080/",
          "height": 204
        },
        "outputId": "5bcf8f12-d909-4f4d-f888-b1683607c202"
      },
      "source": [
        "for col, values in race_df.iteritems():\n",
        "    num_uniques = values.nunique()\n",
        "    print ('{name}: {num_unique}'.format(name=col, num_unique=num_uniques))"
      ],
      "execution_count": 38,
      "outputs": [
        {
          "output_type": "stream",
          "text": [
            "clockwise: 11\n",
            "date: 539\n",
            "distance: 54\n",
            "field_condition: 4\n",
            "field_type: 3\n",
            "name: 7426\n",
            "place: 24\n",
            "race_id: 24221\n",
            "race_round: 12\n",
            "start_time: 149\n",
            "weather: 6\n"
          ],
          "name": "stdout"
        }
      ]
    },
    {
      "cell_type": "code",
      "metadata": {
        "id": "DKps7wIoA6RQ",
        "colab_type": "code",
        "colab": {
          "base_uri": "https://localhost:8080/",
          "height": 272
        },
        "outputId": "4881ec84-311a-4fe7-8b1d-2d7927b37e8f"
      },
      "source": [
        "for col, values in horse_df.iteritems():\n",
        "    num_uniques = values.nunique()\n",
        "    print ('{name}: {num_unique}'.format(name=col, num_unique=num_uniques))"
      ],
      "execution_count": 39,
      "outputs": [
        {
          "output_type": "stream",
          "text": [
            "agari: 264\n",
            "age: 40\n",
            "frame_number: 8\n",
            "horse_number: 18\n",
            "horse_weight: 8203\n",
            "jockey: 450\n",
            "name: 23930\n",
            "popular: 18\n",
            "race_date: 539\n",
            "race_id: 24221\n",
            "race_name: 7426\n",
            "rank: 18\n",
            "time: 1836\n",
            "weight: 26\n",
            "win: 5403\n"
          ],
          "name": "stdout"
        }
      ]
    },
    {
      "cell_type": "markdown",
      "metadata": {
        "id": "I7j8aicPF8wK",
        "colab_type": "text"
      },
      "source": [
        "- race_idの数がhorse_dfが小さい（２つ足りない）\n"
      ]
    },
    {
      "cell_type": "markdown",
      "metadata": {
        "id": "t8HEaaHqJQxt",
        "colab_type": "text"
      },
      "source": [
        "## データの保存\n",
        "\n",
        "一旦、保存する。"
      ]
    },
    {
      "cell_type": "code",
      "metadata": {
        "id": "g4KFochxA9tD",
        "colab_type": "code",
        "colab": {}
      },
      "source": [
        "race_df.to_csv(DATA_PATH + 'race_ex.csv')\n",
        "horse_df.to_csv(DATA_PATH + 'horse_ex.csv')"
      ],
      "execution_count": 40,
      "outputs": []
    },
    {
      "cell_type": "markdown",
      "metadata": {
        "id": "Rqe8pxK1iXy-",
        "colab_type": "text"
      },
      "source": [
        "## 7頭以下のレース\n",
        "\n",
        "7頭以下のレースは複勝が２着以内に、５頭未満は複勝がないため、学習データとして使わない。"
      ]
    },
    {
      "cell_type": "code",
      "metadata": {
        "id": "UTA9Sp-3RQ2J",
        "colab_type": "code",
        "colab": {
          "base_uri": "https://localhost:8080/",
          "height": 221
        },
        "outputId": "3ca923f5-d7af-421e-eb95-b0a711747f6b"
      },
      "source": [
        "horse_df['race_id'].value_counts()"
      ],
      "execution_count": 41,
      "outputs": [
        {
          "output_type": "execute_result",
          "data": {
            "text/plain": [
              "202010010108    18\n",
              "201905050603    18\n",
              "201906050103    18\n",
              "202010010809    18\n",
              "201908040106    18\n",
              "                ..\n",
              "202055050401     4\n",
              "201948062802     4\n",
              "201945020101     4\n",
              "201947070506     3\n",
              "201935071404     3\n",
              "Name: race_id, Length: 24221, dtype: int64"
            ]
          },
          "metadata": {
            "tags": []
          },
          "execution_count": 41
        }
      ]
    },
    {
      "cell_type": "code",
      "metadata": {
        "id": "ujHrZJT_j-5J",
        "colab_type": "code",
        "colab": {}
      },
      "source": [
        "drop_races_s = horse_df['race_id'].value_counts() <= 7\n",
        "drop_race_id = drop_races_s[drop_races_s == True].index"
      ],
      "execution_count": 42,
      "outputs": []
    },
    {
      "cell_type": "code",
      "metadata": {
        "id": "mbNwfPJDmWFg",
        "colab_type": "code",
        "colab": {}
      },
      "source": [
        "for race_id in drop_race_id:\n",
        "  race_df = race_df[race_df['race_id'] != race_id]"
      ],
      "execution_count": 43,
      "outputs": []
    },
    {
      "cell_type": "code",
      "metadata": {
        "id": "i0nB5t3JpHwa",
        "colab_type": "code",
        "colab": {}
      },
      "source": [
        "for race_id in drop_race_id:\n",
        "  horse_df = horse_df[horse_df['race_id'] != race_id]"
      ],
      "execution_count": 44,
      "outputs": []
    },
    {
      "cell_type": "code",
      "metadata": {
        "id": "sbPWpYKYrJ3H",
        "colab_type": "code",
        "colab": {
          "base_uri": "https://localhost:8080/",
          "height": 221
        },
        "outputId": "e7e0b125-f7e2-467c-847c-44719495656b"
      },
      "source": [
        "horse_df['race_id'].value_counts()"
      ],
      "execution_count": 45,
      "outputs": [
        {
          "output_type": "execute_result",
          "data": {
            "text/plain": [
              "201904021110    18\n",
              "201904030308    18\n",
              "202010010604    18\n",
              "201905050601    18\n",
              "201905050411    18\n",
              "                ..\n",
              "201946081805     8\n",
              "201950083004     8\n",
              "201955090103     8\n",
              "201905020506     8\n",
              "201935052004     8\n",
              "Name: race_id, Length: 22630, dtype: int64"
            ]
          },
          "metadata": {
            "tags": []
          },
          "execution_count": 45
        }
      ]
    },
    {
      "cell_type": "markdown",
      "metadata": {
        "id": "ih7nFo25yzjT",
        "colab_type": "text"
      },
      "source": [
        "## 型の確認"
      ]
    },
    {
      "cell_type": "markdown",
      "metadata": {
        "id": "5VVGFpJlzaKS",
        "colab_type": "text"
      },
      "source": [
        "- ageは性別？と年齢が合わせっているためobject\n",
        "- race_dateは/区切りのためobject\n",
        "- horse_weightは使わないデータのため無視\n",
        "  - 体重と増減が合わせっているためobject\n",
        "- timeは使わないため無視\n",
        "  - 時間表記のためobject\n",
        "- winは単勝のため数字のはず\n",
        "\n",
        "winだけ確認する。"
      ]
    },
    {
      "cell_type": "code",
      "metadata": {
        "id": "3TqUPs_9wSPJ",
        "colab_type": "code",
        "colab": {
          "base_uri": "https://localhost:8080/",
          "height": 289
        },
        "outputId": "708f905f-3650-4ad2-cced-45df805d4125"
      },
      "source": [
        "horse_df.dtypes"
      ],
      "execution_count": 46,
      "outputs": [
        {
          "output_type": "execute_result",
          "data": {
            "text/plain": [
              "agari           float64\n",
              "age              object\n",
              "frame_number    float64\n",
              "horse_number      int64\n",
              "horse_weight     object\n",
              "jockey           object\n",
              "name             object\n",
              "popular         float64\n",
              "race_date        object\n",
              "race_id          object\n",
              "race_name        object\n",
              "rank              int64\n",
              "time             object\n",
              "weight          float64\n",
              "win              object\n",
              "dtype: object"
            ]
          },
          "metadata": {
            "tags": []
          },
          "execution_count": 46
        }
      ]
    },
    {
      "cell_type": "code",
      "metadata": {
        "id": "4-eqfyMuyucA",
        "colab_type": "code",
        "colab": {
          "base_uri": "https://localhost:8080/",
          "height": 221
        },
        "outputId": "b489955a-18cc-4fb4-d06a-751b446ce72c"
      },
      "source": [
        "race_df.dtypes"
      ],
      "execution_count": 47,
      "outputs": [
        {
          "output_type": "execute_result",
          "data": {
            "text/plain": [
              "clockwise          object\n",
              "date               object\n",
              "distance            int64\n",
              "field_condition    object\n",
              "field_type         object\n",
              "name               object\n",
              "place              object\n",
              "race_id            object\n",
              "race_round         object\n",
              "start_time         object\n",
              "weather            object\n",
              "dtype: object"
            ]
          },
          "metadata": {
            "tags": []
          },
          "execution_count": 47
        }
      ]
    },
    {
      "cell_type": "markdown",
      "metadata": {
        "id": "S-RdlG5h1tXE",
        "colab_type": "text"
      },
      "source": [
        "winをfloat64に変換する。"
      ]
    },
    {
      "cell_type": "code",
      "metadata": {
        "id": "W4st2yKqzTum",
        "colab_type": "code",
        "colab": {
          "base_uri": "https://localhost:8080/",
          "height": 221
        },
        "outputId": "74e28106-4a32-4ef3-e905-b4612cd7e239"
      },
      "source": [
        "horse_df['win'].value_counts()"
      ],
      "execution_count": 48,
      "outputs": [
        {
          "output_type": "execute_result",
          "data": {
            "text/plain": [
              "1.8      1311\n",
              "1.7      1298\n",
              "3.0      1271\n",
              "1.9      1255\n",
              "3.1      1252\n",
              "         ... \n",
              "672.4       1\n",
              "620.3       1\n",
              "499.8       1\n",
              "403.3       1\n",
              "402.3       1\n",
              "Name: win, Length: 5403, dtype: int64"
            ]
          },
          "metadata": {
            "tags": []
          },
          "execution_count": 48
        }
      ]
    },
    {
      "cell_type": "code",
      "metadata": {
        "id": "qEEPJQyD0U58",
        "colab_type": "code",
        "colab": {}
      },
      "source": [
        "horse_df = horse_df.astype({'win': 'float64'})"
      ],
      "execution_count": 49,
      "outputs": []
    },
    {
      "cell_type": "code",
      "metadata": {
        "id": "8nRCRgAo0xRs",
        "colab_type": "code",
        "colab": {
          "base_uri": "https://localhost:8080/",
          "height": 289
        },
        "outputId": "e2a588b0-4f41-4ebb-e45a-563d6a194fbb"
      },
      "source": [
        "horse_df.dtypes"
      ],
      "execution_count": 50,
      "outputs": [
        {
          "output_type": "execute_result",
          "data": {
            "text/plain": [
              "agari           float64\n",
              "age              object\n",
              "frame_number    float64\n",
              "horse_number      int64\n",
              "horse_weight     object\n",
              "jockey           object\n",
              "name             object\n",
              "popular         float64\n",
              "race_date        object\n",
              "race_id          object\n",
              "race_name        object\n",
              "rank              int64\n",
              "time             object\n",
              "weight          float64\n",
              "win             float64\n",
              "dtype: object"
            ]
          },
          "metadata": {
            "tags": []
          },
          "execution_count": 50
        }
      ]
    },
    {
      "cell_type": "markdown",
      "metadata": {
        "id": "x5_KNQM615eD",
        "colab_type": "text"
      },
      "source": [
        "# 学習用データの作成"
      ]
    },
    {
      "cell_type": "markdown",
      "metadata": {
        "id": "VybZVkEhLRLl",
        "colab_type": "text"
      },
      "source": [
        "## ３着以内の馬を予測する場合のデータ作成"
      ]
    },
    {
      "cell_type": "markdown",
      "metadata": {
        "id": "rMB-nv22Lj4G",
        "colab_type": "text"
      },
      "source": [
        "３着以内の特徴量を追加する。\n",
        "\n",
        "３着以内なら1、そうでなければ0\n",
        "\n"
      ]
    },
    {
      "cell_type": "code",
      "metadata": {
        "id": "B4k04Joo18be",
        "colab_type": "code",
        "colab": {}
      },
      "source": [
        "horse_df['show'] = 0"
      ],
      "execution_count": 51,
      "outputs": []
    },
    {
      "cell_type": "code",
      "metadata": {
        "id": "-Uj0SW98MKlE",
        "colab_type": "code",
        "colab": {}
      },
      "source": [
        "horse_df.loc[horse_df['rank'] <= 3, 'show'] = 1"
      ],
      "execution_count": 52,
      "outputs": []
    },
    {
      "cell_type": "code",
      "metadata": {
        "id": "4UhHz_pkML_I",
        "colab_type": "code",
        "colab": {
          "base_uri": "https://localhost:8080/",
          "height": 289
        },
        "outputId": "40b80c7f-a2f0-44b1-8592-7d53ef433a21"
      },
      "source": [
        "horse_df.head()"
      ],
      "execution_count": 53,
      "outputs": [
        {
          "output_type": "execute_result",
          "data": {
            "text/html": [
              "<div>\n",
              "<style scoped>\n",
              "    .dataframe tbody tr th:only-of-type {\n",
              "        vertical-align: middle;\n",
              "    }\n",
              "\n",
              "    .dataframe tbody tr th {\n",
              "        vertical-align: top;\n",
              "    }\n",
              "\n",
              "    .dataframe thead th {\n",
              "        text-align: right;\n",
              "    }\n",
              "</style>\n",
              "<table border=\"1\" class=\"dataframe\">\n",
              "  <thead>\n",
              "    <tr style=\"text-align: right;\">\n",
              "      <th></th>\n",
              "      <th>agari</th>\n",
              "      <th>age</th>\n",
              "      <th>frame_number</th>\n",
              "      <th>horse_number</th>\n",
              "      <th>horse_weight</th>\n",
              "      <th>jockey</th>\n",
              "      <th>name</th>\n",
              "      <th>popular</th>\n",
              "      <th>race_date</th>\n",
              "      <th>race_id</th>\n",
              "      <th>race_name</th>\n",
              "      <th>rank</th>\n",
              "      <th>time</th>\n",
              "      <th>weight</th>\n",
              "      <th>win</th>\n",
              "      <th>show</th>\n",
              "    </tr>\n",
              "  </thead>\n",
              "  <tbody>\n",
              "    <tr>\n",
              "      <th>0</th>\n",
              "      <td>38.1</td>\n",
              "      <td>牡3</td>\n",
              "      <td>7.0</td>\n",
              "      <td>13</td>\n",
              "      <td>511(-5)</td>\n",
              "      <td>森泰斗</td>\n",
              "      <td>ワイルドホース</td>\n",
              "      <td>2.0</td>\n",
              "      <td>2020/6/22</td>\n",
              "      <td>202044062212</td>\n",
              "      <td>タイタン賞競走</td>\n",
              "      <td>1</td>\n",
              "      <td>1:28.5</td>\n",
              "      <td>54.0</td>\n",
              "      <td>3.7</td>\n",
              "      <td>1</td>\n",
              "    </tr>\n",
              "    <tr>\n",
              "      <th>1</th>\n",
              "      <td>38.1</td>\n",
              "      <td>牝5</td>\n",
              "      <td>6.0</td>\n",
              "      <td>11</td>\n",
              "      <td>475(-2)</td>\n",
              "      <td>山崎誠士</td>\n",
              "      <td>クインズオライリー</td>\n",
              "      <td>12.0</td>\n",
              "      <td>2020/6/22</td>\n",
              "      <td>202044062212</td>\n",
              "      <td>タイタン賞競走</td>\n",
              "      <td>2</td>\n",
              "      <td>1:28.7</td>\n",
              "      <td>54.0</td>\n",
              "      <td>81.4</td>\n",
              "      <td>1</td>\n",
              "    </tr>\n",
              "    <tr>\n",
              "      <th>2</th>\n",
              "      <td>38.6</td>\n",
              "      <td>セ6</td>\n",
              "      <td>3.0</td>\n",
              "      <td>4</td>\n",
              "      <td>469(+2)</td>\n",
              "      <td>西啓太</td>\n",
              "      <td>メダーリアフレイム</td>\n",
              "      <td>4.0</td>\n",
              "      <td>2020/6/22</td>\n",
              "      <td>202044062212</td>\n",
              "      <td>タイタン賞競走</td>\n",
              "      <td>3</td>\n",
              "      <td>1:28.8</td>\n",
              "      <td>56.0</td>\n",
              "      <td>8.6</td>\n",
              "      <td>1</td>\n",
              "    </tr>\n",
              "    <tr>\n",
              "      <th>3</th>\n",
              "      <td>37.9</td>\n",
              "      <td>牡4</td>\n",
              "      <td>8.0</td>\n",
              "      <td>14</td>\n",
              "      <td>526(+6)</td>\n",
              "      <td>藤本現暉</td>\n",
              "      <td>ゴールドプリンス</td>\n",
              "      <td>8.0</td>\n",
              "      <td>2020/6/22</td>\n",
              "      <td>202044062212</td>\n",
              "      <td>タイタン賞競走</td>\n",
              "      <td>4</td>\n",
              "      <td>1:28.8</td>\n",
              "      <td>56.0</td>\n",
              "      <td>34.4</td>\n",
              "      <td>0</td>\n",
              "    </tr>\n",
              "    <tr>\n",
              "      <th>4</th>\n",
              "      <td>38.5</td>\n",
              "      <td>牝5</td>\n",
              "      <td>4.0</td>\n",
              "      <td>7</td>\n",
              "      <td>475(+6)</td>\n",
              "      <td>藤田凌</td>\n",
              "      <td>イグレット</td>\n",
              "      <td>9.0</td>\n",
              "      <td>2020/6/22</td>\n",
              "      <td>202044062212</td>\n",
              "      <td>タイタン賞競走</td>\n",
              "      <td>5</td>\n",
              "      <td>1:28.9</td>\n",
              "      <td>54.0</td>\n",
              "      <td>34.8</td>\n",
              "      <td>0</td>\n",
              "    </tr>\n",
              "  </tbody>\n",
              "</table>\n",
              "</div>"
            ],
            "text/plain": [
              "   agari age  frame_number  horse_number  ...    time weight   win  show\n",
              "0   38.1  牡3           7.0            13  ...  1:28.5   54.0   3.7     1\n",
              "1   38.1  牝5           6.0            11  ...  1:28.7   54.0  81.4     1\n",
              "2   38.6  セ6           3.0             4  ...  1:28.8   56.0   8.6     1\n",
              "3   37.9  牡4           8.0            14  ...  1:28.8   56.0  34.4     0\n",
              "4   38.5  牝5           4.0             7  ...  1:28.9   54.0  34.8     0\n",
              "\n",
              "[5 rows x 16 columns]"
            ]
          },
          "metadata": {
            "tags": []
          },
          "execution_count": 53
        }
      ]
    },
    {
      "cell_type": "markdown",
      "metadata": {
        "id": "bj-sgYgxQYSk",
        "colab_type": "text"
      },
      "source": [
        "使わないカラム削除する。"
      ]
    },
    {
      "cell_type": "markdown",
      "metadata": {
        "id": "4bs-QrMoFWeq",
        "colab_type": "text"
      },
      "source": [
        "一旦、ニューラルネットワーク用のデータを作成する。"
      ]
    },
    {
      "cell_type": "code",
      "metadata": {
        "id": "wMGiuMrBElQj",
        "colab_type": "code",
        "colab": {}
      },
      "source": [
        "horse_raw_df = horse_df.copy()\n",
        "race_raw_df = race_df.copy()\n",
        "race_raw_df = race_raw_df.drop(['name', 'date'], axis=1)"
      ],
      "execution_count": 54,
      "outputs": []
    },
    {
      "cell_type": "code",
      "metadata": {
        "id": "7KXgaE1JOMpP",
        "colab_type": "code",
        "colab": {}
      },
      "source": [
        "drop_columns = ['time', 'agari', 'horse_weight']"
      ],
      "execution_count": 55,
      "outputs": []
    },
    {
      "cell_type": "code",
      "metadata": {
        "id": "9rCm0gcNN9YM",
        "colab_type": "code",
        "colab": {}
      },
      "source": [
        "horse_df = horse_df.drop(drop_columns, axis=1)"
      ],
      "execution_count": 56,
      "outputs": []
    },
    {
      "cell_type": "code",
      "metadata": {
        "id": "v1Lz5X2ZOVLA",
        "colab_type": "code",
        "colab": {}
      },
      "source": [
        "drop_columns = ['field_condition', 'name', 'date']"
      ],
      "execution_count": 57,
      "outputs": []
    },
    {
      "cell_type": "code",
      "metadata": {
        "id": "3BpmV6xwP3-R",
        "colab_type": "code",
        "colab": {}
      },
      "source": [
        "race_df = race_df.drop(drop_columns, axis=1)"
      ],
      "execution_count": 58,
      "outputs": []
    },
    {
      "cell_type": "code",
      "metadata": {
        "id": "a9r6iSoAQtlV",
        "colab_type": "code",
        "colab": {
          "base_uri": "https://localhost:8080/",
          "height": 419
        },
        "outputId": "589146a9-c1b7-41c1-e37a-ea9453e12bb8"
      },
      "source": [
        "race_df"
      ],
      "execution_count": 59,
      "outputs": [
        {
          "output_type": "execute_result",
          "data": {
            "text/html": [
              "<div>\n",
              "<style scoped>\n",
              "    .dataframe tbody tr th:only-of-type {\n",
              "        vertical-align: middle;\n",
              "    }\n",
              "\n",
              "    .dataframe tbody tr th {\n",
              "        vertical-align: top;\n",
              "    }\n",
              "\n",
              "    .dataframe thead th {\n",
              "        text-align: right;\n",
              "    }\n",
              "</style>\n",
              "<table border=\"1\" class=\"dataframe\">\n",
              "  <thead>\n",
              "    <tr style=\"text-align: right;\">\n",
              "      <th></th>\n",
              "      <th>clockwise</th>\n",
              "      <th>distance</th>\n",
              "      <th>field_type</th>\n",
              "      <th>place</th>\n",
              "      <th>race_id</th>\n",
              "      <th>race_round</th>\n",
              "      <th>start_time</th>\n",
              "      <th>weather</th>\n",
              "    </tr>\n",
              "  </thead>\n",
              "  <tbody>\n",
              "    <tr>\n",
              "      <th>0</th>\n",
              "      <td>右</td>\n",
              "      <td>1400</td>\n",
              "      <td>ダ</td>\n",
              "      <td>大井</td>\n",
              "      <td>202044062212</td>\n",
              "      <td>12R</td>\n",
              "      <td>20:50</td>\n",
              "      <td>雨</td>\n",
              "    </tr>\n",
              "    <tr>\n",
              "      <th>1</th>\n",
              "      <td>右</td>\n",
              "      <td>1800</td>\n",
              "      <td>ダ</td>\n",
              "      <td>大井</td>\n",
              "      <td>202044062211</td>\n",
              "      <td>11R</td>\n",
              "      <td>20:10</td>\n",
              "      <td>雨</td>\n",
              "    </tr>\n",
              "    <tr>\n",
              "      <th>2</th>\n",
              "      <td>右</td>\n",
              "      <td>1200</td>\n",
              "      <td>ダ</td>\n",
              "      <td>大井</td>\n",
              "      <td>202044062210</td>\n",
              "      <td>10R</td>\n",
              "      <td>19:30</td>\n",
              "      <td>雨</td>\n",
              "    </tr>\n",
              "    <tr>\n",
              "      <th>3</th>\n",
              "      <td>右</td>\n",
              "      <td>1400</td>\n",
              "      <td>ダ</td>\n",
              "      <td>大井</td>\n",
              "      <td>202044062209</td>\n",
              "      <td>9R</td>\n",
              "      <td>18:55</td>\n",
              "      <td>雨</td>\n",
              "    </tr>\n",
              "    <tr>\n",
              "      <th>4</th>\n",
              "      <td>右</td>\n",
              "      <td>1600</td>\n",
              "      <td>ダ</td>\n",
              "      <td>大井</td>\n",
              "      <td>202044062208</td>\n",
              "      <td>8R</td>\n",
              "      <td>18:20</td>\n",
              "      <td>雨</td>\n",
              "    </tr>\n",
              "    <tr>\n",
              "      <th>...</th>\n",
              "      <td>...</td>\n",
              "      <td>...</td>\n",
              "      <td>...</td>\n",
              "      <td>...</td>\n",
              "      <td>...</td>\n",
              "      <td>...</td>\n",
              "      <td>...</td>\n",
              "      <td>...</td>\n",
              "    </tr>\n",
              "    <tr>\n",
              "      <th>27514</th>\n",
              "      <td>左</td>\n",
              "      <td>1500</td>\n",
              "      <td>ダ</td>\n",
              "      <td>川崎</td>\n",
              "      <td>201945010106</td>\n",
              "      <td>6R</td>\n",
              "      <td>13:50</td>\n",
              "      <td>晴</td>\n",
              "    </tr>\n",
              "    <tr>\n",
              "      <th>27515</th>\n",
              "      <td>左</td>\n",
              "      <td>900</td>\n",
              "      <td>ダ</td>\n",
              "      <td>川崎</td>\n",
              "      <td>201945010105</td>\n",
              "      <td>5R</td>\n",
              "      <td>13:20</td>\n",
              "      <td>晴</td>\n",
              "    </tr>\n",
              "    <tr>\n",
              "      <th>27516</th>\n",
              "      <td>左</td>\n",
              "      <td>1400</td>\n",
              "      <td>ダ</td>\n",
              "      <td>川崎</td>\n",
              "      <td>201945010104</td>\n",
              "      <td>4R</td>\n",
              "      <td>12:50</td>\n",
              "      <td>晴</td>\n",
              "    </tr>\n",
              "    <tr>\n",
              "      <th>27517</th>\n",
              "      <td>左</td>\n",
              "      <td>1400</td>\n",
              "      <td>ダ</td>\n",
              "      <td>川崎</td>\n",
              "      <td>201945010103</td>\n",
              "      <td>3R</td>\n",
              "      <td>12:20</td>\n",
              "      <td>晴</td>\n",
              "    </tr>\n",
              "    <tr>\n",
              "      <th>27518</th>\n",
              "      <td>左</td>\n",
              "      <td>1400</td>\n",
              "      <td>ダ</td>\n",
              "      <td>川崎</td>\n",
              "      <td>201945010102</td>\n",
              "      <td>2R</td>\n",
              "      <td>11:50</td>\n",
              "      <td>晴</td>\n",
              "    </tr>\n",
              "  </tbody>\n",
              "</table>\n",
              "<p>22630 rows × 8 columns</p>\n",
              "</div>"
            ],
            "text/plain": [
              "      clockwise  distance field_type  ... race_round start_time weather\n",
              "0             右      1400          ダ  ...        12R      20:50       雨\n",
              "1             右      1800          ダ  ...        11R      20:10       雨\n",
              "2             右      1200          ダ  ...        10R      19:30       雨\n",
              "3             右      1400          ダ  ...         9R      18:55       雨\n",
              "4             右      1600          ダ  ...         8R      18:20       雨\n",
              "...         ...       ...        ...  ...        ...        ...     ...\n",
              "27514         左      1500          ダ  ...         6R      13:50       晴\n",
              "27515         左       900          ダ  ...         5R      13:20       晴\n",
              "27516         左      1400          ダ  ...         4R      12:50       晴\n",
              "27517         左      1400          ダ  ...         3R      12:20       晴\n",
              "27518         左      1400          ダ  ...         2R      11:50       晴\n",
              "\n",
              "[22630 rows x 8 columns]"
            ]
          },
          "metadata": {
            "tags": []
          },
          "execution_count": 59
        }
      ]
    },
    {
      "cell_type": "markdown",
      "metadata": {
        "id": "Yqk1xYHMRKUs",
        "colab_type": "text"
      },
      "source": [
        "データを結合する。"
      ]
    },
    {
      "cell_type": "code",
      "metadata": {
        "id": "aLXuCNnxQyBS",
        "colab_type": "code",
        "colab": {}
      },
      "source": [
        "train_df = horse_df.merge(race_df, on='race_id')\n",
        "train_raw_df = horse_raw_df.merge(race_raw_df, on='race_id')"
      ],
      "execution_count": 60,
      "outputs": []
    },
    {
      "cell_type": "code",
      "metadata": {
        "id": "rdqZsmn-RIkB",
        "colab_type": "code",
        "colab": {
          "base_uri": "https://localhost:8080/",
          "height": 496
        },
        "outputId": "3f5d1a70-2602-4b45-fcff-9437b83b1d79"
      },
      "source": [
        "train_df.head()"
      ],
      "execution_count": 61,
      "outputs": [
        {
          "output_type": "execute_result",
          "data": {
            "text/html": [
              "<div>\n",
              "<style scoped>\n",
              "    .dataframe tbody tr th:only-of-type {\n",
              "        vertical-align: middle;\n",
              "    }\n",
              "\n",
              "    .dataframe tbody tr th {\n",
              "        vertical-align: top;\n",
              "    }\n",
              "\n",
              "    .dataframe thead th {\n",
              "        text-align: right;\n",
              "    }\n",
              "</style>\n",
              "<table border=\"1\" class=\"dataframe\">\n",
              "  <thead>\n",
              "    <tr style=\"text-align: right;\">\n",
              "      <th></th>\n",
              "      <th>age</th>\n",
              "      <th>frame_number</th>\n",
              "      <th>horse_number</th>\n",
              "      <th>jockey</th>\n",
              "      <th>name</th>\n",
              "      <th>popular</th>\n",
              "      <th>race_date</th>\n",
              "      <th>race_id</th>\n",
              "      <th>race_name</th>\n",
              "      <th>rank</th>\n",
              "      <th>weight</th>\n",
              "      <th>win</th>\n",
              "      <th>show</th>\n",
              "      <th>clockwise</th>\n",
              "      <th>distance</th>\n",
              "      <th>field_type</th>\n",
              "      <th>place</th>\n",
              "      <th>race_round</th>\n",
              "      <th>start_time</th>\n",
              "      <th>weather</th>\n",
              "    </tr>\n",
              "  </thead>\n",
              "  <tbody>\n",
              "    <tr>\n",
              "      <th>0</th>\n",
              "      <td>牡3</td>\n",
              "      <td>7.0</td>\n",
              "      <td>13</td>\n",
              "      <td>森泰斗</td>\n",
              "      <td>ワイルドホース</td>\n",
              "      <td>2.0</td>\n",
              "      <td>2020/6/22</td>\n",
              "      <td>202044062212</td>\n",
              "      <td>タイタン賞競走</td>\n",
              "      <td>1</td>\n",
              "      <td>54.0</td>\n",
              "      <td>3.7</td>\n",
              "      <td>1</td>\n",
              "      <td>右</td>\n",
              "      <td>1400</td>\n",
              "      <td>ダ</td>\n",
              "      <td>大井</td>\n",
              "      <td>12R</td>\n",
              "      <td>20:50</td>\n",
              "      <td>雨</td>\n",
              "    </tr>\n",
              "    <tr>\n",
              "      <th>1</th>\n",
              "      <td>牝5</td>\n",
              "      <td>6.0</td>\n",
              "      <td>11</td>\n",
              "      <td>山崎誠士</td>\n",
              "      <td>クインズオライリー</td>\n",
              "      <td>12.0</td>\n",
              "      <td>2020/6/22</td>\n",
              "      <td>202044062212</td>\n",
              "      <td>タイタン賞競走</td>\n",
              "      <td>2</td>\n",
              "      <td>54.0</td>\n",
              "      <td>81.4</td>\n",
              "      <td>1</td>\n",
              "      <td>右</td>\n",
              "      <td>1400</td>\n",
              "      <td>ダ</td>\n",
              "      <td>大井</td>\n",
              "      <td>12R</td>\n",
              "      <td>20:50</td>\n",
              "      <td>雨</td>\n",
              "    </tr>\n",
              "    <tr>\n",
              "      <th>2</th>\n",
              "      <td>セ6</td>\n",
              "      <td>3.0</td>\n",
              "      <td>4</td>\n",
              "      <td>西啓太</td>\n",
              "      <td>メダーリアフレイム</td>\n",
              "      <td>4.0</td>\n",
              "      <td>2020/6/22</td>\n",
              "      <td>202044062212</td>\n",
              "      <td>タイタン賞競走</td>\n",
              "      <td>3</td>\n",
              "      <td>56.0</td>\n",
              "      <td>8.6</td>\n",
              "      <td>1</td>\n",
              "      <td>右</td>\n",
              "      <td>1400</td>\n",
              "      <td>ダ</td>\n",
              "      <td>大井</td>\n",
              "      <td>12R</td>\n",
              "      <td>20:50</td>\n",
              "      <td>雨</td>\n",
              "    </tr>\n",
              "    <tr>\n",
              "      <th>3</th>\n",
              "      <td>牡4</td>\n",
              "      <td>8.0</td>\n",
              "      <td>14</td>\n",
              "      <td>藤本現暉</td>\n",
              "      <td>ゴールドプリンス</td>\n",
              "      <td>8.0</td>\n",
              "      <td>2020/6/22</td>\n",
              "      <td>202044062212</td>\n",
              "      <td>タイタン賞競走</td>\n",
              "      <td>4</td>\n",
              "      <td>56.0</td>\n",
              "      <td>34.4</td>\n",
              "      <td>0</td>\n",
              "      <td>右</td>\n",
              "      <td>1400</td>\n",
              "      <td>ダ</td>\n",
              "      <td>大井</td>\n",
              "      <td>12R</td>\n",
              "      <td>20:50</td>\n",
              "      <td>雨</td>\n",
              "    </tr>\n",
              "    <tr>\n",
              "      <th>4</th>\n",
              "      <td>牝5</td>\n",
              "      <td>4.0</td>\n",
              "      <td>7</td>\n",
              "      <td>藤田凌</td>\n",
              "      <td>イグレット</td>\n",
              "      <td>9.0</td>\n",
              "      <td>2020/6/22</td>\n",
              "      <td>202044062212</td>\n",
              "      <td>タイタン賞競走</td>\n",
              "      <td>5</td>\n",
              "      <td>54.0</td>\n",
              "      <td>34.8</td>\n",
              "      <td>0</td>\n",
              "      <td>右</td>\n",
              "      <td>1400</td>\n",
              "      <td>ダ</td>\n",
              "      <td>大井</td>\n",
              "      <td>12R</td>\n",
              "      <td>20:50</td>\n",
              "      <td>雨</td>\n",
              "    </tr>\n",
              "  </tbody>\n",
              "</table>\n",
              "</div>"
            ],
            "text/plain": [
              "  age  frame_number  horse_number jockey  ... place  race_round start_time weather\n",
              "0  牡3           7.0            13    森泰斗  ...    大井         12R      20:50       雨\n",
              "1  牝5           6.0            11   山崎誠士  ...    大井         12R      20:50       雨\n",
              "2  セ6           3.0             4    西啓太  ...    大井         12R      20:50       雨\n",
              "3  牡4           8.0            14   藤本現暉  ...    大井         12R      20:50       雨\n",
              "4  牝5           4.0             7    藤田凌  ...    大井         12R      20:50       雨\n",
              "\n",
              "[5 rows x 20 columns]"
            ]
          },
          "metadata": {
            "tags": []
          },
          "execution_count": 61
        }
      ]
    },
    {
      "cell_type": "code",
      "metadata": {
        "id": "EvbBPzEXReE2",
        "colab_type": "code",
        "colab": {}
      },
      "source": [
        "train_df.to_csv(DATA_PATH + 'train.csv', index=False)\n",
        "train_raw_df.to_csv(DATA_PATH + 'train_raw.csv', index=False)"
      ],
      "execution_count": 62,
      "outputs": []
    },
    {
      "cell_type": "code",
      "metadata": {
        "id": "RtdQbqwLRtGY",
        "colab_type": "code",
        "colab": {}
      },
      "source": [
        ""
      ],
      "execution_count": 62,
      "outputs": []
    }
  ]
}