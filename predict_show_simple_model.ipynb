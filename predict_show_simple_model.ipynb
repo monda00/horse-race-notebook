{
  "nbformat": 4,
  "nbformat_minor": 0,
  "metadata": {
    "colab": {
      "name": "predict_show_simple_model.ipynb",
      "provenance": [],
      "toc_visible": true,
      "mount_file_id": "1YoHoes4-qgAMHJQIjdh8syUu-7ZZDyb_",
      "authorship_tag": "ABX9TyOc9724nFGUqEvRzKUaH7+P",
      "include_colab_link": true
    },
    "kernelspec": {
      "name": "python3",
      "display_name": "Python 3"
    }
  },
  "cells": [
    {
      "cell_type": "markdown",
      "metadata": {
        "id": "view-in-github",
        "colab_type": "text"
      },
      "source": [
        "<a href=\"https://colab.research.google.com/github/monda00/horse-race-notebook/blob/master/predict_show_simple_model.ipynb\" target=\"_parent\"><img src=\"https://colab.research.google.com/assets/colab-badge.svg\" alt=\"Open In Colab\"/></a>"
      ]
    },
    {
      "cell_type": "markdown",
      "metadata": {
        "id": "zPo2M_5M7f4G",
        "colab_type": "text"
      },
      "source": [
        "# ３着以内の馬を予測"
      ]
    },
    {
      "cell_type": "markdown",
      "metadata": {
        "id": "mHx3JdbH_S8D",
        "colab_type": "text"
      },
      "source": [
        "lightGBMでシンプルなモデルを実装する。"
      ]
    },
    {
      "cell_type": "markdown",
      "metadata": {
        "id": "lgw5M_E99lI7",
        "colab_type": "text"
      },
      "source": [
        "- ライブラリ・データ読み込み\n",
        "- データ前処理\n",
        "- 学習\n",
        "- 予測"
      ]
    },
    {
      "cell_type": "markdown",
      "metadata": {
        "id": "NxE3DMm3-XLF",
        "colab_type": "text"
      },
      "source": [
        "# ライブラリ・データ読み込み"
      ]
    },
    {
      "cell_type": "code",
      "metadata": {
        "id": "OBH38Hny-UxG",
        "colab_type": "code",
        "colab": {}
      },
      "source": [
        "import numpy as np\n",
        "import pandas as pd\n",
        "import re\n",
        "import collections\n",
        "\n",
        "import lightgbm as lgb\n",
        "from sklearn.preprocessing import LabelEncoder\n",
        "from sklearn.model_selection import train_test_split"
      ],
      "execution_count": 1,
      "outputs": []
    },
    {
      "cell_type": "code",
      "metadata": {
        "id": "nXM-wOjhBkLl",
        "colab_type": "code",
        "colab": {}
      },
      "source": [
        "DATA_PATH = '/content/drive/My Drive/data/horse-race/'"
      ],
      "execution_count": 2,
      "outputs": []
    },
    {
      "cell_type": "code",
      "metadata": {
        "id": "mABtXv01BTQY",
        "colab_type": "code",
        "colab": {}
      },
      "source": [
        "df = pd.read_csv(DATA_PATH + 'train.csv')"
      ],
      "execution_count": 3,
      "outputs": []
    },
    {
      "cell_type": "markdown",
      "metadata": {
        "id": "MSytcWJOleb1",
        "colab_type": "text"
      },
      "source": [
        "日付でソートしておく。\n",
        "\n",
        "後半をtestデータとするため。"
      ]
    },
    {
      "cell_type": "code",
      "metadata": {
        "id": "PUg9a93yld2s",
        "colab_type": "code",
        "colab": {}
      },
      "source": [
        "df = df.sort_values(by=['race_date', 'race_id', 'rank'])"
      ],
      "execution_count": 4,
      "outputs": []
    },
    {
      "cell_type": "code",
      "metadata": {
        "id": "6u36mgUj5OLZ",
        "colab_type": "code",
        "colab": {}
      },
      "source": [
        "df.reset_index(inplace=True, drop=True)"
      ],
      "execution_count": 5,
      "outputs": []
    },
    {
      "cell_type": "code",
      "metadata": {
        "id": "Iw5Ril8RB6Yq",
        "colab_type": "code",
        "colab": {
          "base_uri": "https://localhost:8080/",
          "height": 411
        },
        "outputId": "4f4afd5c-b7aa-4cf9-9a39-34b68ddccf71"
      },
      "source": [
        "df.head()"
      ],
      "execution_count": 6,
      "outputs": [
        {
          "output_type": "execute_result",
          "data": {
            "text/html": [
              "<div>\n",
              "<style scoped>\n",
              "    .dataframe tbody tr th:only-of-type {\n",
              "        vertical-align: middle;\n",
              "    }\n",
              "\n",
              "    .dataframe tbody tr th {\n",
              "        vertical-align: top;\n",
              "    }\n",
              "\n",
              "    .dataframe thead th {\n",
              "        text-align: right;\n",
              "    }\n",
              "</style>\n",
              "<table border=\"1\" class=\"dataframe\">\n",
              "  <thead>\n",
              "    <tr style=\"text-align: right;\">\n",
              "      <th></th>\n",
              "      <th>age</th>\n",
              "      <th>frame_number</th>\n",
              "      <th>horse_number</th>\n",
              "      <th>jockey</th>\n",
              "      <th>name</th>\n",
              "      <th>popular</th>\n",
              "      <th>race_date</th>\n",
              "      <th>race_id</th>\n",
              "      <th>race_name</th>\n",
              "      <th>rank</th>\n",
              "      <th>weight</th>\n",
              "      <th>win</th>\n",
              "      <th>show</th>\n",
              "      <th>clockwise</th>\n",
              "      <th>distance</th>\n",
              "      <th>field_type</th>\n",
              "      <th>place</th>\n",
              "      <th>race_round</th>\n",
              "      <th>start_time</th>\n",
              "      <th>weather</th>\n",
              "    </tr>\n",
              "  </thead>\n",
              "  <tbody>\n",
              "    <tr>\n",
              "      <th>0</th>\n",
              "      <td>牝7</td>\n",
              "      <td>3.0</td>\n",
              "      <td>3</td>\n",
              "      <td>藤本現暉</td>\n",
              "      <td>リコーアペルタ</td>\n",
              "      <td>2.0</td>\n",
              "      <td>2019/1/1</td>\n",
              "      <td>201945010102</td>\n",
              "      <td>C3七　八</td>\n",
              "      <td>1</td>\n",
              "      <td>54.0</td>\n",
              "      <td>3.6</td>\n",
              "      <td>1</td>\n",
              "      <td>左</td>\n",
              "      <td>1400</td>\n",
              "      <td>ダ</td>\n",
              "      <td>川崎</td>\n",
              "      <td>2R</td>\n",
              "      <td>11:50</td>\n",
              "      <td>晴</td>\n",
              "    </tr>\n",
              "    <tr>\n",
              "      <th>1</th>\n",
              "      <td>牡7</td>\n",
              "      <td>5.0</td>\n",
              "      <td>5</td>\n",
              "      <td>加藤和博</td>\n",
              "      <td>ミラクルツッキー</td>\n",
              "      <td>1.0</td>\n",
              "      <td>2019/1/1</td>\n",
              "      <td>201945010102</td>\n",
              "      <td>C3七　八</td>\n",
              "      <td>2</td>\n",
              "      <td>56.0</td>\n",
              "      <td>2.0</td>\n",
              "      <td>1</td>\n",
              "      <td>左</td>\n",
              "      <td>1400</td>\n",
              "      <td>ダ</td>\n",
              "      <td>川崎</td>\n",
              "      <td>2R</td>\n",
              "      <td>11:50</td>\n",
              "      <td>晴</td>\n",
              "    </tr>\n",
              "    <tr>\n",
              "      <th>2</th>\n",
              "      <td>牡7</td>\n",
              "      <td>2.0</td>\n",
              "      <td>2</td>\n",
              "      <td>瀧川寿希</td>\n",
              "      <td>ロジレガシー</td>\n",
              "      <td>3.0</td>\n",
              "      <td>2019/1/1</td>\n",
              "      <td>201945010102</td>\n",
              "      <td>C3七　八</td>\n",
              "      <td>3</td>\n",
              "      <td>56.0</td>\n",
              "      <td>5.9</td>\n",
              "      <td>1</td>\n",
              "      <td>左</td>\n",
              "      <td>1400</td>\n",
              "      <td>ダ</td>\n",
              "      <td>川崎</td>\n",
              "      <td>2R</td>\n",
              "      <td>11:50</td>\n",
              "      <td>晴</td>\n",
              "    </tr>\n",
              "    <tr>\n",
              "      <th>3</th>\n",
              "      <td>牝7</td>\n",
              "      <td>7.0</td>\n",
              "      <td>8</td>\n",
              "      <td>岡村健司</td>\n",
              "      <td>プチプチ</td>\n",
              "      <td>8.0</td>\n",
              "      <td>2019/1/1</td>\n",
              "      <td>201945010102</td>\n",
              "      <td>C3七　八</td>\n",
              "      <td>4</td>\n",
              "      <td>54.0</td>\n",
              "      <td>22.1</td>\n",
              "      <td>0</td>\n",
              "      <td>左</td>\n",
              "      <td>1400</td>\n",
              "      <td>ダ</td>\n",
              "      <td>川崎</td>\n",
              "      <td>2R</td>\n",
              "      <td>11:50</td>\n",
              "      <td>晴</td>\n",
              "    </tr>\n",
              "    <tr>\n",
              "      <th>4</th>\n",
              "      <td>牝4</td>\n",
              "      <td>8.0</td>\n",
              "      <td>10</td>\n",
              "      <td>伊藤裕人</td>\n",
              "      <td>スエヒロドラ</td>\n",
              "      <td>4.0</td>\n",
              "      <td>2019/1/1</td>\n",
              "      <td>201945010102</td>\n",
              "      <td>C3七　八</td>\n",
              "      <td>5</td>\n",
              "      <td>54.0</td>\n",
              "      <td>10.3</td>\n",
              "      <td>0</td>\n",
              "      <td>左</td>\n",
              "      <td>1400</td>\n",
              "      <td>ダ</td>\n",
              "      <td>川崎</td>\n",
              "      <td>2R</td>\n",
              "      <td>11:50</td>\n",
              "      <td>晴</td>\n",
              "    </tr>\n",
              "  </tbody>\n",
              "</table>\n",
              "</div>"
            ],
            "text/plain": [
              "  age  frame_number  horse_number jockey  ... place  race_round start_time  weather\n",
              "0  牝7           3.0             3   藤本現暉  ...    川崎          2R      11:50        晴\n",
              "1  牡7           5.0             5   加藤和博  ...    川崎          2R      11:50        晴\n",
              "2  牡7           2.0             2   瀧川寿希  ...    川崎          2R      11:50        晴\n",
              "3  牝7           7.0             8   岡村健司  ...    川崎          2R      11:50        晴\n",
              "4  牝4           8.0            10   伊藤裕人  ...    川崎          2R      11:50        晴\n",
              "\n",
              "[5 rows x 20 columns]"
            ]
          },
          "metadata": {
            "tags": []
          },
          "execution_count": 6
        }
      ]
    },
    {
      "cell_type": "code",
      "metadata": {
        "id": "i7MHTS2sZNmU",
        "colab_type": "code",
        "colab": {
          "base_uri": "https://localhost:8080/",
          "height": 34
        },
        "outputId": "57887a58-27ec-411b-f03f-bd62e00de9e7"
      },
      "source": [
        "len(df)"
      ],
      "execution_count": 7,
      "outputs": [
        {
          "output_type": "execute_result",
          "data": {
            "text/plain": [
              "253636"
            ]
          },
          "metadata": {
            "tags": []
          },
          "execution_count": 7
        }
      ]
    },
    {
      "cell_type": "markdown",
      "metadata": {
        "id": "L0T_2qRN9-o5",
        "colab_type": "text"
      },
      "source": [
        "# データ前処理"
      ]
    },
    {
      "cell_type": "markdown",
      "metadata": {
        "id": "P5XMyS1mGNLa",
        "colab_type": "text"
      },
      "source": [
        "- レースが開催されるのは週末のため日付は利用しない\n",
        "  - 季節に変換\n",
        "- 時刻は時間帯に変換\n",
        "- ageは性別（？）と年齢に分割\n",
        "- 気温は関係ありそうなため後々追加\n",
        "- レース名はレースの種類に変換した方が良さそうだが後回し\n",
        "- rankはランキング学習のためにデータをソートしたら削除"
      ]
    },
    {
      "cell_type": "markdown",
      "metadata": {
        "id": "RtL2MaWohoqh",
        "colab_type": "text"
      },
      "source": [
        "開催日から季節を追加し、開催日を削除"
      ]
    },
    {
      "cell_type": "code",
      "metadata": {
        "id": "_gUK08HDZJvd",
        "colab_type": "code",
        "colab": {}
      },
      "source": [
        "season = []\n",
        "for i in range(len(df)):\n",
        "  race_date = df.iloc[i]['race_date']\n",
        "  race_month = int(re.search(r'\\/.+?\\/', race_date).group().replace('/', ''))\n",
        "  if 3 <= race_month <= 5:\n",
        "    season.append('sprint')\n",
        "  elif 6 <= race_month <= 8:\n",
        "    season.append('summer')\n",
        "  elif 9 <= race_month <= 11:\n",
        "    season.append('autumn')\n",
        "  else:\n",
        "    season.append('winter')"
      ],
      "execution_count": 8,
      "outputs": []
    },
    {
      "cell_type": "code",
      "metadata": {
        "id": "rTL64AzxmKg9",
        "colab_type": "code",
        "colab": {}
      },
      "source": [
        "df['season'] = season"
      ],
      "execution_count": 9,
      "outputs": []
    },
    {
      "cell_type": "markdown",
      "metadata": {
        "id": "vchpzfONR9B4",
        "colab_type": "text"
      },
      "source": [
        "時刻を時間帯に分ける。\n",
        "まずは、開催時間の種類を確認。"
      ]
    },
    {
      "cell_type": "code",
      "metadata": {
        "id": "bf6BspnLSFWd",
        "colab_type": "code",
        "colab": {
          "base_uri": "https://localhost:8080/",
          "height": 221
        },
        "outputId": "b9b39326-7fbd-4d4c-a30f-04f8593c89f6"
      },
      "source": [
        "df['start_time'].value_counts()"
      ],
      "execution_count": 10,
      "outputs": [
        {
          "output_type": "execute_result",
          "data": {
            "text/plain": [
              "13:15    4516\n",
              "16:10    4410\n",
              "20:50    4264\n",
              "12:45    3772\n",
              "15:45    3764\n",
              "         ... \n",
              "09:35      15\n",
              "15:51      13\n",
              "13:51      12\n",
              "20:25      10\n",
              "14:41      10\n",
              "Name: start_time, Length: 149, dtype: int64"
            ]
          },
          "metadata": {
            "tags": []
          },
          "execution_count": 10
        }
      ]
    },
    {
      "cell_type": "code",
      "metadata": {
        "id": "1yzXXmHpUBdd",
        "colab_type": "code",
        "colab": {
          "base_uri": "https://localhost:8080/",
          "height": 983
        },
        "outputId": "3566c9de-1356-4c3c-8532-eab224372366"
      },
      "source": [
        "df.sort_values(by='start_time')"
      ],
      "execution_count": 11,
      "outputs": [
        {
          "output_type": "execute_result",
          "data": {
            "text/html": [
              "<div>\n",
              "<style scoped>\n",
              "    .dataframe tbody tr th:only-of-type {\n",
              "        vertical-align: middle;\n",
              "    }\n",
              "\n",
              "    .dataframe tbody tr th {\n",
              "        vertical-align: top;\n",
              "    }\n",
              "\n",
              "    .dataframe thead th {\n",
              "        text-align: right;\n",
              "    }\n",
              "</style>\n",
              "<table border=\"1\" class=\"dataframe\">\n",
              "  <thead>\n",
              "    <tr style=\"text-align: right;\">\n",
              "      <th></th>\n",
              "      <th>age</th>\n",
              "      <th>frame_number</th>\n",
              "      <th>horse_number</th>\n",
              "      <th>jockey</th>\n",
              "      <th>name</th>\n",
              "      <th>popular</th>\n",
              "      <th>race_date</th>\n",
              "      <th>race_id</th>\n",
              "      <th>race_name</th>\n",
              "      <th>rank</th>\n",
              "      <th>weight</th>\n",
              "      <th>win</th>\n",
              "      <th>show</th>\n",
              "      <th>clockwise</th>\n",
              "      <th>distance</th>\n",
              "      <th>field_type</th>\n",
              "      <th>place</th>\n",
              "      <th>race_round</th>\n",
              "      <th>start_time</th>\n",
              "      <th>weather</th>\n",
              "      <th>season</th>\n",
              "    </tr>\n",
              "  </thead>\n",
              "  <tbody>\n",
              "    <tr>\n",
              "      <th>49126</th>\n",
              "      <td>牡2</td>\n",
              "      <td>8.0</td>\n",
              "      <td>14</td>\n",
              "      <td>三浦皇成</td>\n",
              "      <td>ロードファビュラス</td>\n",
              "      <td>3.0</td>\n",
              "      <td>2019/12/22</td>\n",
              "      <td>201906050801</td>\n",
              "      <td>2歳未勝利</td>\n",
              "      <td>6</td>\n",
              "      <td>55.0</td>\n",
              "      <td>8.6</td>\n",
              "      <td>0</td>\n",
              "      <td>右</td>\n",
              "      <td>1200</td>\n",
              "      <td>ダ</td>\n",
              "      <td>中山</td>\n",
              "      <td>1R</td>\n",
              "      <td>09:35</td>\n",
              "      <td>曇</td>\n",
              "      <td>winter</td>\n",
              "    </tr>\n",
              "    <tr>\n",
              "      <th>49129</th>\n",
              "      <td>牡2</td>\n",
              "      <td>6.0</td>\n",
              "      <td>10</td>\n",
              "      <td>嶋田純次</td>\n",
              "      <td>トマティーナ</td>\n",
              "      <td>10.0</td>\n",
              "      <td>2019/12/22</td>\n",
              "      <td>201906050801</td>\n",
              "      <td>2歳未勝利</td>\n",
              "      <td>9</td>\n",
              "      <td>55.0</td>\n",
              "      <td>180.7</td>\n",
              "      <td>0</td>\n",
              "      <td>右</td>\n",
              "      <td>1200</td>\n",
              "      <td>ダ</td>\n",
              "      <td>中山</td>\n",
              "      <td>1R</td>\n",
              "      <td>09:35</td>\n",
              "      <td>曇</td>\n",
              "      <td>winter</td>\n",
              "    </tr>\n",
              "    <tr>\n",
              "      <th>49128</th>\n",
              "      <td>牡2</td>\n",
              "      <td>2.0</td>\n",
              "      <td>2</td>\n",
              "      <td>菅原明良</td>\n",
              "      <td>アースウルフ</td>\n",
              "      <td>9.0</td>\n",
              "      <td>2019/12/22</td>\n",
              "      <td>201906050801</td>\n",
              "      <td>2歳未勝利</td>\n",
              "      <td>8</td>\n",
              "      <td>52.0</td>\n",
              "      <td>171.8</td>\n",
              "      <td>0</td>\n",
              "      <td>右</td>\n",
              "      <td>1200</td>\n",
              "      <td>ダ</td>\n",
              "      <td>中山</td>\n",
              "      <td>1R</td>\n",
              "      <td>09:35</td>\n",
              "      <td>曇</td>\n",
              "      <td>winter</td>\n",
              "    </tr>\n",
              "    <tr>\n",
              "      <th>49127</th>\n",
              "      <td>牡2</td>\n",
              "      <td>1.0</td>\n",
              "      <td>1</td>\n",
              "      <td>武藤雅</td>\n",
              "      <td>キタノギャラクシー</td>\n",
              "      <td>6.0</td>\n",
              "      <td>2019/12/22</td>\n",
              "      <td>201906050801</td>\n",
              "      <td>2歳未勝利</td>\n",
              "      <td>7</td>\n",
              "      <td>55.0</td>\n",
              "      <td>20.9</td>\n",
              "      <td>0</td>\n",
              "      <td>右</td>\n",
              "      <td>1200</td>\n",
              "      <td>ダ</td>\n",
              "      <td>中山</td>\n",
              "      <td>1R</td>\n",
              "      <td>09:35</td>\n",
              "      <td>曇</td>\n",
              "      <td>winter</td>\n",
              "    </tr>\n",
              "    <tr>\n",
              "      <th>49132</th>\n",
              "      <td>牡2</td>\n",
              "      <td>7.0</td>\n",
              "      <td>13</td>\n",
              "      <td>宮崎北斗</td>\n",
              "      <td>ソレユケタケコ</td>\n",
              "      <td>11.0</td>\n",
              "      <td>2019/12/22</td>\n",
              "      <td>201906050801</td>\n",
              "      <td>2歳未勝利</td>\n",
              "      <td>12</td>\n",
              "      <td>55.0</td>\n",
              "      <td>305.7</td>\n",
              "      <td>0</td>\n",
              "      <td>右</td>\n",
              "      <td>1200</td>\n",
              "      <td>ダ</td>\n",
              "      <td>中山</td>\n",
              "      <td>1R</td>\n",
              "      <td>09:35</td>\n",
              "      <td>曇</td>\n",
              "      <td>winter</td>\n",
              "    </tr>\n",
              "    <tr>\n",
              "      <th>...</th>\n",
              "      <td>...</td>\n",
              "      <td>...</td>\n",
              "      <td>...</td>\n",
              "      <td>...</td>\n",
              "      <td>...</td>\n",
              "      <td>...</td>\n",
              "      <td>...</td>\n",
              "      <td>...</td>\n",
              "      <td>...</td>\n",
              "      <td>...</td>\n",
              "      <td>...</td>\n",
              "      <td>...</td>\n",
              "      <td>...</td>\n",
              "      <td>...</td>\n",
              "      <td>...</td>\n",
              "      <td>...</td>\n",
              "      <td>...</td>\n",
              "      <td>...</td>\n",
              "      <td>...</td>\n",
              "      <td>...</td>\n",
              "      <td>...</td>\n",
              "    </tr>\n",
              "    <tr>\n",
              "      <th>205545</th>\n",
              "      <td>牡6</td>\n",
              "      <td>1.0</td>\n",
              "      <td>1</td>\n",
              "      <td>倉兼育康</td>\n",
              "      <td>サクラゴール</td>\n",
              "      <td>8.0</td>\n",
              "      <td>2020/3/22</td>\n",
              "      <td>202054032210</td>\n",
              "      <td>ファイナルレース</td>\n",
              "      <td>6</td>\n",
              "      <td>56.0</td>\n",
              "      <td>14.4</td>\n",
              "      <td>0</td>\n",
              "      <td>右</td>\n",
              "      <td>1300</td>\n",
              "      <td>ダ</td>\n",
              "      <td>高知</td>\n",
              "      <td>10R</td>\n",
              "      <td>20:55</td>\n",
              "      <td>曇</td>\n",
              "      <td>sprint</td>\n",
              "    </tr>\n",
              "    <tr>\n",
              "      <th>205544</th>\n",
              "      <td>牡8</td>\n",
              "      <td>4.0</td>\n",
              "      <td>4</td>\n",
              "      <td>郷間勇太</td>\n",
              "      <td>ヴェスペルティリオ</td>\n",
              "      <td>10.0</td>\n",
              "      <td>2020/3/22</td>\n",
              "      <td>202054032210</td>\n",
              "      <td>ファイナルレース</td>\n",
              "      <td>5</td>\n",
              "      <td>56.0</td>\n",
              "      <td>21.4</td>\n",
              "      <td>0</td>\n",
              "      <td>右</td>\n",
              "      <td>1300</td>\n",
              "      <td>ダ</td>\n",
              "      <td>高知</td>\n",
              "      <td>10R</td>\n",
              "      <td>20:55</td>\n",
              "      <td>曇</td>\n",
              "      <td>sprint</td>\n",
              "    </tr>\n",
              "    <tr>\n",
              "      <th>205543</th>\n",
              "      <td>牝5</td>\n",
              "      <td>6.0</td>\n",
              "      <td>8</td>\n",
              "      <td>濱尚美</td>\n",
              "      <td>ノーブルジャーニー</td>\n",
              "      <td>1.0</td>\n",
              "      <td>2020/3/22</td>\n",
              "      <td>202054032210</td>\n",
              "      <td>ファイナルレース</td>\n",
              "      <td>4</td>\n",
              "      <td>50.0</td>\n",
              "      <td>3.7</td>\n",
              "      <td>0</td>\n",
              "      <td>右</td>\n",
              "      <td>1300</td>\n",
              "      <td>ダ</td>\n",
              "      <td>高知</td>\n",
              "      <td>10R</td>\n",
              "      <td>20:55</td>\n",
              "      <td>曇</td>\n",
              "      <td>sprint</td>\n",
              "    </tr>\n",
              "    <tr>\n",
              "      <th>131394</th>\n",
              "      <td>牡4</td>\n",
              "      <td>5.0</td>\n",
              "      <td>5</td>\n",
              "      <td>西川敏弘</td>\n",
              "      <td>ハタノガナール</td>\n",
              "      <td>7.0</td>\n",
              "      <td>2019/7/15</td>\n",
              "      <td>201954071512</td>\n",
              "      <td>ファイナルレース</td>\n",
              "      <td>1</td>\n",
              "      <td>56.0</td>\n",
              "      <td>11.6</td>\n",
              "      <td>1</td>\n",
              "      <td>右</td>\n",
              "      <td>1300</td>\n",
              "      <td>ダ</td>\n",
              "      <td>高知</td>\n",
              "      <td>12R</td>\n",
              "      <td>20:55</td>\n",
              "      <td>曇</td>\n",
              "      <td>summer</td>\n",
              "    </tr>\n",
              "    <tr>\n",
              "      <th>151974</th>\n",
              "      <td>牝4</td>\n",
              "      <td>2.0</td>\n",
              "      <td>2</td>\n",
              "      <td>木村直輝</td>\n",
              "      <td>ファーマファイバー</td>\n",
              "      <td>10.0</td>\n",
              "      <td>2019/8/25</td>\n",
              "      <td>201954082512</td>\n",
              "      <td>ファイナルレース</td>\n",
              "      <td>6</td>\n",
              "      <td>53.0</td>\n",
              "      <td>22.3</td>\n",
              "      <td>0</td>\n",
              "      <td>右</td>\n",
              "      <td>1300</td>\n",
              "      <td>ダ</td>\n",
              "      <td>高知</td>\n",
              "      <td>12R</td>\n",
              "      <td>20:55</td>\n",
              "      <td>曇</td>\n",
              "      <td>summer</td>\n",
              "    </tr>\n",
              "  </tbody>\n",
              "</table>\n",
              "<p>253636 rows × 21 columns</p>\n",
              "</div>"
            ],
            "text/plain": [
              "       age  frame_number  horse_number  ... start_time weather  season\n",
              "49126   牡2           8.0            14  ...      09:35       曇  winter\n",
              "49129   牡2           6.0            10  ...      09:35       曇  winter\n",
              "49128   牡2           2.0             2  ...      09:35       曇  winter\n",
              "49127   牡2           1.0             1  ...      09:35       曇  winter\n",
              "49132   牡2           7.0            13  ...      09:35       曇  winter\n",
              "...     ..           ...           ...  ...        ...     ...     ...\n",
              "205545  牡6           1.0             1  ...      20:55       曇  sprint\n",
              "205544  牡8           4.0             4  ...      20:55       曇  sprint\n",
              "205543  牝5           6.0             8  ...      20:55       曇  sprint\n",
              "131394  牡4           5.0             5  ...      20:55       曇  summer\n",
              "151974  牝4           2.0             2  ...      20:55       曇  summer\n",
              "\n",
              "[253636 rows x 21 columns]"
            ]
          },
          "metadata": {
            "tags": []
          },
          "execution_count": 11
        }
      ]
    },
    {
      "cell_type": "markdown",
      "metadata": {
        "id": "U5UrUCKdU6R2",
        "colab_type": "text"
      },
      "source": [
        "時間の値で置き換える\n",
        "\n",
        "09:55->9  \n",
        "20:55->20"
      ]
    },
    {
      "cell_type": "code",
      "metadata": {
        "id": "Nx-9CI-tVkcD",
        "colab_type": "code",
        "colab": {}
      },
      "source": [
        "time_hour = []\n",
        "for i in range(len(df)):\n",
        "  start_time = df.iloc[i]['start_time']\n",
        "  time_hour.append(int(re.search(r'(.*):(.*)', start_time).group(1)))"
      ],
      "execution_count": 12,
      "outputs": []
    },
    {
      "cell_type": "code",
      "metadata": {
        "id": "YMJV6cS3Yai-",
        "colab_type": "code",
        "colab": {}
      },
      "source": [
        "df['time_hour'] = time_hour"
      ],
      "execution_count": 13,
      "outputs": []
    },
    {
      "cell_type": "markdown",
      "metadata": {
        "id": "16sp5k_kZIQZ",
        "colab_type": "text"
      },
      "source": [
        "ageを分ける"
      ]
    },
    {
      "cell_type": "code",
      "metadata": {
        "id": "i_mH_emra33Z",
        "colab_type": "code",
        "colab": {}
      },
      "source": [
        "gen = []\n",
        "age = []\n",
        "for i in range(len(df)):\n",
        "  age_v = df.iloc[i]['age']\n",
        "  gen.append(re.search(r'(.*)(\\d)', age_v).group(1))\n",
        "  age.append(re.search(r'(.*)(\\d)', age_v).group(2))"
      ],
      "execution_count": 14,
      "outputs": []
    },
    {
      "cell_type": "code",
      "metadata": {
        "id": "w65qwcPzcq1r",
        "colab_type": "code",
        "colab": {}
      },
      "source": [
        "df['age'] = age\n",
        "df['gen'] = gen"
      ],
      "execution_count": 15,
      "outputs": []
    },
    {
      "cell_type": "code",
      "metadata": {
        "id": "4ZOWmSIlcwfS",
        "colab_type": "code",
        "colab": {
          "base_uri": "https://localhost:8080/",
          "height": 864
        },
        "outputId": "5cc3eead-61d4-472b-903d-56a3536b27a1"
      },
      "source": [
        "df"
      ],
      "execution_count": 16,
      "outputs": [
        {
          "output_type": "execute_result",
          "data": {
            "text/html": [
              "<div>\n",
              "<style scoped>\n",
              "    .dataframe tbody tr th:only-of-type {\n",
              "        vertical-align: middle;\n",
              "    }\n",
              "\n",
              "    .dataframe tbody tr th {\n",
              "        vertical-align: top;\n",
              "    }\n",
              "\n",
              "    .dataframe thead th {\n",
              "        text-align: right;\n",
              "    }\n",
              "</style>\n",
              "<table border=\"1\" class=\"dataframe\">\n",
              "  <thead>\n",
              "    <tr style=\"text-align: right;\">\n",
              "      <th></th>\n",
              "      <th>age</th>\n",
              "      <th>frame_number</th>\n",
              "      <th>horse_number</th>\n",
              "      <th>jockey</th>\n",
              "      <th>name</th>\n",
              "      <th>popular</th>\n",
              "      <th>race_date</th>\n",
              "      <th>race_id</th>\n",
              "      <th>race_name</th>\n",
              "      <th>rank</th>\n",
              "      <th>weight</th>\n",
              "      <th>win</th>\n",
              "      <th>show</th>\n",
              "      <th>clockwise</th>\n",
              "      <th>distance</th>\n",
              "      <th>field_type</th>\n",
              "      <th>place</th>\n",
              "      <th>race_round</th>\n",
              "      <th>start_time</th>\n",
              "      <th>weather</th>\n",
              "      <th>season</th>\n",
              "      <th>time_hour</th>\n",
              "      <th>gen</th>\n",
              "    </tr>\n",
              "  </thead>\n",
              "  <tbody>\n",
              "    <tr>\n",
              "      <th>0</th>\n",
              "      <td>7</td>\n",
              "      <td>3.0</td>\n",
              "      <td>3</td>\n",
              "      <td>藤本現暉</td>\n",
              "      <td>リコーアペルタ</td>\n",
              "      <td>2.0</td>\n",
              "      <td>2019/1/1</td>\n",
              "      <td>201945010102</td>\n",
              "      <td>C3七　八</td>\n",
              "      <td>1</td>\n",
              "      <td>54.0</td>\n",
              "      <td>3.6</td>\n",
              "      <td>1</td>\n",
              "      <td>左</td>\n",
              "      <td>1400</td>\n",
              "      <td>ダ</td>\n",
              "      <td>川崎</td>\n",
              "      <td>2R</td>\n",
              "      <td>11:50</td>\n",
              "      <td>晴</td>\n",
              "      <td>winter</td>\n",
              "      <td>11</td>\n",
              "      <td>牝</td>\n",
              "    </tr>\n",
              "    <tr>\n",
              "      <th>1</th>\n",
              "      <td>7</td>\n",
              "      <td>5.0</td>\n",
              "      <td>5</td>\n",
              "      <td>加藤和博</td>\n",
              "      <td>ミラクルツッキー</td>\n",
              "      <td>1.0</td>\n",
              "      <td>2019/1/1</td>\n",
              "      <td>201945010102</td>\n",
              "      <td>C3七　八</td>\n",
              "      <td>2</td>\n",
              "      <td>56.0</td>\n",
              "      <td>2.0</td>\n",
              "      <td>1</td>\n",
              "      <td>左</td>\n",
              "      <td>1400</td>\n",
              "      <td>ダ</td>\n",
              "      <td>川崎</td>\n",
              "      <td>2R</td>\n",
              "      <td>11:50</td>\n",
              "      <td>晴</td>\n",
              "      <td>winter</td>\n",
              "      <td>11</td>\n",
              "      <td>牡</td>\n",
              "    </tr>\n",
              "    <tr>\n",
              "      <th>2</th>\n",
              "      <td>7</td>\n",
              "      <td>2.0</td>\n",
              "      <td>2</td>\n",
              "      <td>瀧川寿希</td>\n",
              "      <td>ロジレガシー</td>\n",
              "      <td>3.0</td>\n",
              "      <td>2019/1/1</td>\n",
              "      <td>201945010102</td>\n",
              "      <td>C3七　八</td>\n",
              "      <td>3</td>\n",
              "      <td>56.0</td>\n",
              "      <td>5.9</td>\n",
              "      <td>1</td>\n",
              "      <td>左</td>\n",
              "      <td>1400</td>\n",
              "      <td>ダ</td>\n",
              "      <td>川崎</td>\n",
              "      <td>2R</td>\n",
              "      <td>11:50</td>\n",
              "      <td>晴</td>\n",
              "      <td>winter</td>\n",
              "      <td>11</td>\n",
              "      <td>牡</td>\n",
              "    </tr>\n",
              "    <tr>\n",
              "      <th>3</th>\n",
              "      <td>7</td>\n",
              "      <td>7.0</td>\n",
              "      <td>8</td>\n",
              "      <td>岡村健司</td>\n",
              "      <td>プチプチ</td>\n",
              "      <td>8.0</td>\n",
              "      <td>2019/1/1</td>\n",
              "      <td>201945010102</td>\n",
              "      <td>C3七　八</td>\n",
              "      <td>4</td>\n",
              "      <td>54.0</td>\n",
              "      <td>22.1</td>\n",
              "      <td>0</td>\n",
              "      <td>左</td>\n",
              "      <td>1400</td>\n",
              "      <td>ダ</td>\n",
              "      <td>川崎</td>\n",
              "      <td>2R</td>\n",
              "      <td>11:50</td>\n",
              "      <td>晴</td>\n",
              "      <td>winter</td>\n",
              "      <td>11</td>\n",
              "      <td>牝</td>\n",
              "    </tr>\n",
              "    <tr>\n",
              "      <th>4</th>\n",
              "      <td>4</td>\n",
              "      <td>8.0</td>\n",
              "      <td>10</td>\n",
              "      <td>伊藤裕人</td>\n",
              "      <td>スエヒロドラ</td>\n",
              "      <td>4.0</td>\n",
              "      <td>2019/1/1</td>\n",
              "      <td>201945010102</td>\n",
              "      <td>C3七　八</td>\n",
              "      <td>5</td>\n",
              "      <td>54.0</td>\n",
              "      <td>10.3</td>\n",
              "      <td>0</td>\n",
              "      <td>左</td>\n",
              "      <td>1400</td>\n",
              "      <td>ダ</td>\n",
              "      <td>川崎</td>\n",
              "      <td>2R</td>\n",
              "      <td>11:50</td>\n",
              "      <td>晴</td>\n",
              "      <td>winter</td>\n",
              "      <td>11</td>\n",
              "      <td>牝</td>\n",
              "    </tr>\n",
              "    <tr>\n",
              "      <th>...</th>\n",
              "      <td>...</td>\n",
              "      <td>...</td>\n",
              "      <td>...</td>\n",
              "      <td>...</td>\n",
              "      <td>...</td>\n",
              "      <td>...</td>\n",
              "      <td>...</td>\n",
              "      <td>...</td>\n",
              "      <td>...</td>\n",
              "      <td>...</td>\n",
              "      <td>...</td>\n",
              "      <td>...</td>\n",
              "      <td>...</td>\n",
              "      <td>...</td>\n",
              "      <td>...</td>\n",
              "      <td>...</td>\n",
              "      <td>...</td>\n",
              "      <td>...</td>\n",
              "      <td>...</td>\n",
              "      <td>...</td>\n",
              "      <td>...</td>\n",
              "      <td>...</td>\n",
              "      <td>...</td>\n",
              "    </tr>\n",
              "    <tr>\n",
              "      <th>253631</th>\n",
              "      <td>5</td>\n",
              "      <td>8.0</td>\n",
              "      <td>10</td>\n",
              "      <td>藤原良一</td>\n",
              "      <td>パートカラー</td>\n",
              "      <td>9.0</td>\n",
              "      <td>2020/6/9</td>\n",
              "      <td>202048060911</td>\n",
              "      <td>おおぐま座特別</td>\n",
              "      <td>6</td>\n",
              "      <td>54.0</td>\n",
              "      <td>66.4</td>\n",
              "      <td>0</td>\n",
              "      <td>右</td>\n",
              "      <td>1600</td>\n",
              "      <td>ダ</td>\n",
              "      <td>名古屋</td>\n",
              "      <td>11R</td>\n",
              "      <td>17:00</td>\n",
              "      <td>晴</td>\n",
              "      <td>summer</td>\n",
              "      <td>17</td>\n",
              "      <td>牝</td>\n",
              "    </tr>\n",
              "    <tr>\n",
              "      <th>253632</th>\n",
              "      <td>6</td>\n",
              "      <td>1.0</td>\n",
              "      <td>1</td>\n",
              "      <td>浅野皓大</td>\n",
              "      <td>フラワーイレブン</td>\n",
              "      <td>4.0</td>\n",
              "      <td>2020/6/9</td>\n",
              "      <td>202048060911</td>\n",
              "      <td>おおぐま座特別</td>\n",
              "      <td>7</td>\n",
              "      <td>51.0</td>\n",
              "      <td>8.2</td>\n",
              "      <td>0</td>\n",
              "      <td>右</td>\n",
              "      <td>1600</td>\n",
              "      <td>ダ</td>\n",
              "      <td>名古屋</td>\n",
              "      <td>11R</td>\n",
              "      <td>17:00</td>\n",
              "      <td>晴</td>\n",
              "      <td>summer</td>\n",
              "      <td>17</td>\n",
              "      <td>牝</td>\n",
              "    </tr>\n",
              "    <tr>\n",
              "      <th>253633</th>\n",
              "      <td>5</td>\n",
              "      <td>4.0</td>\n",
              "      <td>4</td>\n",
              "      <td>加藤聡一</td>\n",
              "      <td>テイエムヨハネス</td>\n",
              "      <td>3.0</td>\n",
              "      <td>2020/6/9</td>\n",
              "      <td>202048060911</td>\n",
              "      <td>おおぐま座特別</td>\n",
              "      <td>8</td>\n",
              "      <td>56.0</td>\n",
              "      <td>6.2</td>\n",
              "      <td>0</td>\n",
              "      <td>右</td>\n",
              "      <td>1600</td>\n",
              "      <td>ダ</td>\n",
              "      <td>名古屋</td>\n",
              "      <td>11R</td>\n",
              "      <td>17:00</td>\n",
              "      <td>晴</td>\n",
              "      <td>summer</td>\n",
              "      <td>17</td>\n",
              "      <td>牡</td>\n",
              "    </tr>\n",
              "    <tr>\n",
              "      <th>253634</th>\n",
              "      <td>4</td>\n",
              "      <td>8.0</td>\n",
              "      <td>9</td>\n",
              "      <td>友森翔太</td>\n",
              "      <td>メモリーバリケード</td>\n",
              "      <td>2.0</td>\n",
              "      <td>2020/6/9</td>\n",
              "      <td>202048060911</td>\n",
              "      <td>おおぐま座特別</td>\n",
              "      <td>9</td>\n",
              "      <td>55.0</td>\n",
              "      <td>3.2</td>\n",
              "      <td>0</td>\n",
              "      <td>右</td>\n",
              "      <td>1600</td>\n",
              "      <td>ダ</td>\n",
              "      <td>名古屋</td>\n",
              "      <td>11R</td>\n",
              "      <td>17:00</td>\n",
              "      <td>晴</td>\n",
              "      <td>summer</td>\n",
              "      <td>17</td>\n",
              "      <td>牝</td>\n",
              "    </tr>\n",
              "    <tr>\n",
              "      <th>253635</th>\n",
              "      <td>5</td>\n",
              "      <td>7.0</td>\n",
              "      <td>8</td>\n",
              "      <td>深澤杏花</td>\n",
              "      <td>ネリチャギ</td>\n",
              "      <td>8.0</td>\n",
              "      <td>2020/6/9</td>\n",
              "      <td>202048060911</td>\n",
              "      <td>おおぐま座特別</td>\n",
              "      <td>10</td>\n",
              "      <td>50.0</td>\n",
              "      <td>58.5</td>\n",
              "      <td>0</td>\n",
              "      <td>右</td>\n",
              "      <td>1600</td>\n",
              "      <td>ダ</td>\n",
              "      <td>名古屋</td>\n",
              "      <td>11R</td>\n",
              "      <td>17:00</td>\n",
              "      <td>晴</td>\n",
              "      <td>summer</td>\n",
              "      <td>17</td>\n",
              "      <td>牝</td>\n",
              "    </tr>\n",
              "  </tbody>\n",
              "</table>\n",
              "<p>253636 rows × 23 columns</p>\n",
              "</div>"
            ],
            "text/plain": [
              "       age  frame_number  horse_number jockey  ... weather  season time_hour  gen\n",
              "0        7           3.0             3   藤本現暉  ...       晴  winter        11    牝\n",
              "1        7           5.0             5   加藤和博  ...       晴  winter        11    牡\n",
              "2        7           2.0             2   瀧川寿希  ...       晴  winter        11    牡\n",
              "3        7           7.0             8   岡村健司  ...       晴  winter        11    牝\n",
              "4        4           8.0            10   伊藤裕人  ...       晴  winter        11    牝\n",
              "...     ..           ...           ...    ...  ...     ...     ...       ...  ...\n",
              "253631   5           8.0            10   藤原良一  ...       晴  summer        17    牝\n",
              "253632   6           1.0             1   浅野皓大  ...       晴  summer        17    牝\n",
              "253633   5           4.0             4   加藤聡一  ...       晴  summer        17    牡\n",
              "253634   4           8.0             9   友森翔太  ...       晴  summer        17    牝\n",
              "253635   5           7.0             8   深澤杏花  ...       晴  summer        17    牝\n",
              "\n",
              "[253636 rows x 23 columns]"
            ]
          },
          "metadata": {
            "tags": []
          },
          "execution_count": 16
        }
      ]
    },
    {
      "cell_type": "code",
      "metadata": {
        "id": "3Dhl_sJaf9We",
        "colab_type": "code",
        "colab": {
          "base_uri": "https://localhost:8080/",
          "height": 408
        },
        "outputId": "70ff33e7-bb40-41c6-a968-11fbdf11382e"
      },
      "source": [
        "for col, values in df.iteritems():\n",
        "    num_uniques = values.nunique()\n",
        "    print ('{name}: {num_unique}'.format(name=col, num_unique=num_uniques))"
      ],
      "execution_count": 17,
      "outputs": [
        {
          "output_type": "stream",
          "text": [
            "age: 10\n",
            "frame_number: 8\n",
            "horse_number: 18\n",
            "jockey: 450\n",
            "name: 23752\n",
            "popular: 18\n",
            "race_date: 538\n",
            "race_id: 22630\n",
            "race_name: 7082\n",
            "rank: 18\n",
            "weight: 26\n",
            "win: 5403\n",
            "show: 2\n",
            "clockwise: 11\n",
            "distance: 54\n",
            "field_type: 3\n",
            "place: 24\n",
            "race_round: 12\n",
            "start_time: 149\n",
            "weather: 6\n",
            "season: 4\n",
            "time_hour: 12\n",
            "gen: 6\n"
          ],
          "name": "stdout"
        }
      ]
    },
    {
      "cell_type": "markdown",
      "metadata": {
        "id": "jqSm27nqiWdn",
        "colab_type": "text"
      },
      "source": [
        "## Label Encoding"
      ]
    },
    {
      "cell_type": "markdown",
      "metadata": {
        "id": "Tmqw0CxuirUN",
        "colab_type": "text"
      },
      "source": [
        "一旦、単純なLabel Encodingをする。"
      ]
    },
    {
      "cell_type": "code",
      "metadata": {
        "id": "35SOOTa6iqzu",
        "colab_type": "code",
        "colab": {}
      },
      "source": [
        "categorical_cols = ['jockey', 'name', 'race_name', 'clockwise', 'field_type', 'place', 'race_round', 'weather', 'season', 'gen']"
      ],
      "execution_count": 18,
      "outputs": []
    },
    {
      "cell_type": "code",
      "metadata": {
        "id": "lYsXBRhPjccA",
        "colab_type": "code",
        "colab": {}
      },
      "source": [
        "for c in categorical_cols:\n",
        "  le = LabelEncoder()\n",
        "  le.fit(df[c])\n",
        "  df[c] = le.transform(df[c])"
      ],
      "execution_count": 19,
      "outputs": []
    },
    {
      "cell_type": "code",
      "metadata": {
        "id": "MeBad2HHj2Mk",
        "colab_type": "code",
        "colab": {
          "base_uri": "https://localhost:8080/",
          "height": 439
        },
        "outputId": "6262a81d-e3f7-4982-d6bb-e78b7752adf2"
      },
      "source": [
        "df"
      ],
      "execution_count": 20,
      "outputs": [
        {
          "output_type": "execute_result",
          "data": {
            "text/html": [
              "<div>\n",
              "<style scoped>\n",
              "    .dataframe tbody tr th:only-of-type {\n",
              "        vertical-align: middle;\n",
              "    }\n",
              "\n",
              "    .dataframe tbody tr th {\n",
              "        vertical-align: top;\n",
              "    }\n",
              "\n",
              "    .dataframe thead th {\n",
              "        text-align: right;\n",
              "    }\n",
              "</style>\n",
              "<table border=\"1\" class=\"dataframe\">\n",
              "  <thead>\n",
              "    <tr style=\"text-align: right;\">\n",
              "      <th></th>\n",
              "      <th>age</th>\n",
              "      <th>frame_number</th>\n",
              "      <th>horse_number</th>\n",
              "      <th>jockey</th>\n",
              "      <th>name</th>\n",
              "      <th>popular</th>\n",
              "      <th>race_date</th>\n",
              "      <th>race_id</th>\n",
              "      <th>race_name</th>\n",
              "      <th>rank</th>\n",
              "      <th>weight</th>\n",
              "      <th>win</th>\n",
              "      <th>show</th>\n",
              "      <th>clockwise</th>\n",
              "      <th>distance</th>\n",
              "      <th>field_type</th>\n",
              "      <th>place</th>\n",
              "      <th>race_round</th>\n",
              "      <th>start_time</th>\n",
              "      <th>weather</th>\n",
              "      <th>season</th>\n",
              "      <th>time_hour</th>\n",
              "      <th>gen</th>\n",
              "    </tr>\n",
              "  </thead>\n",
              "  <tbody>\n",
              "    <tr>\n",
              "      <th>0</th>\n",
              "      <td>7</td>\n",
              "      <td>3.0</td>\n",
              "      <td>3</td>\n",
              "      <td>380</td>\n",
              "      <td>21625</td>\n",
              "      <td>2.0</td>\n",
              "      <td>2019/1/1</td>\n",
              "      <td>201945010102</td>\n",
              "      <td>763</td>\n",
              "      <td>1</td>\n",
              "      <td>54.0</td>\n",
              "      <td>3.6</td>\n",
              "      <td>1</td>\n",
              "      <td>3</td>\n",
              "      <td>1400</td>\n",
              "      <td>0</td>\n",
              "      <td>10</td>\n",
              "      <td>4</td>\n",
              "      <td>11:50</td>\n",
              "      <td>2</td>\n",
              "      <td>3</td>\n",
              "      <td>11</td>\n",
              "      <td>2</td>\n",
              "    </tr>\n",
              "    <tr>\n",
              "      <th>1</th>\n",
              "      <td>7</td>\n",
              "      <td>5.0</td>\n",
              "      <td>5</td>\n",
              "      <td>66</td>\n",
              "      <td>19528</td>\n",
              "      <td>1.0</td>\n",
              "      <td>2019/1/1</td>\n",
              "      <td>201945010102</td>\n",
              "      <td>763</td>\n",
              "      <td>2</td>\n",
              "      <td>56.0</td>\n",
              "      <td>2.0</td>\n",
              "      <td>1</td>\n",
              "      <td>3</td>\n",
              "      <td>1400</td>\n",
              "      <td>0</td>\n",
              "      <td>10</td>\n",
              "      <td>4</td>\n",
              "      <td>11:50</td>\n",
              "      <td>2</td>\n",
              "      <td>3</td>\n",
              "      <td>11</td>\n",
              "      <td>4</td>\n",
              "    </tr>\n",
              "    <tr>\n",
              "      <th>2</th>\n",
              "      <td>7</td>\n",
              "      <td>2.0</td>\n",
              "      <td>2</td>\n",
              "      <td>307</td>\n",
              "      <td>22903</td>\n",
              "      <td>3.0</td>\n",
              "      <td>2019/1/1</td>\n",
              "      <td>201945010102</td>\n",
              "      <td>763</td>\n",
              "      <td>3</td>\n",
              "      <td>56.0</td>\n",
              "      <td>5.9</td>\n",
              "      <td>1</td>\n",
              "      <td>3</td>\n",
              "      <td>1400</td>\n",
              "      <td>0</td>\n",
              "      <td>10</td>\n",
              "      <td>4</td>\n",
              "      <td>11:50</td>\n",
              "      <td>2</td>\n",
              "      <td>3</td>\n",
              "      <td>11</td>\n",
              "      <td>4</td>\n",
              "    </tr>\n",
              "    <tr>\n",
              "      <th>3</th>\n",
              "      <td>7</td>\n",
              "      <td>7.0</td>\n",
              "      <td>8</td>\n",
              "      <td>179</td>\n",
              "      <td>17138</td>\n",
              "      <td>8.0</td>\n",
              "      <td>2019/1/1</td>\n",
              "      <td>201945010102</td>\n",
              "      <td>763</td>\n",
              "      <td>4</td>\n",
              "      <td>54.0</td>\n",
              "      <td>22.1</td>\n",
              "      <td>0</td>\n",
              "      <td>3</td>\n",
              "      <td>1400</td>\n",
              "      <td>0</td>\n",
              "      <td>10</td>\n",
              "      <td>4</td>\n",
              "      <td>11:50</td>\n",
              "      <td>2</td>\n",
              "      <td>3</td>\n",
              "      <td>11</td>\n",
              "      <td>2</td>\n",
              "    </tr>\n",
              "    <tr>\n",
              "      <th>4</th>\n",
              "      <td>4</td>\n",
              "      <td>8.0</td>\n",
              "      <td>10</td>\n",
              "      <td>51</td>\n",
              "      <td>9310</td>\n",
              "      <td>4.0</td>\n",
              "      <td>2019/1/1</td>\n",
              "      <td>201945010102</td>\n",
              "      <td>763</td>\n",
              "      <td>5</td>\n",
              "      <td>54.0</td>\n",
              "      <td>10.3</td>\n",
              "      <td>0</td>\n",
              "      <td>3</td>\n",
              "      <td>1400</td>\n",
              "      <td>0</td>\n",
              "      <td>10</td>\n",
              "      <td>4</td>\n",
              "      <td>11:50</td>\n",
              "      <td>2</td>\n",
              "      <td>3</td>\n",
              "      <td>11</td>\n",
              "      <td>2</td>\n",
              "    </tr>\n",
              "    <tr>\n",
              "      <th>...</th>\n",
              "      <td>...</td>\n",
              "      <td>...</td>\n",
              "      <td>...</td>\n",
              "      <td>...</td>\n",
              "      <td>...</td>\n",
              "      <td>...</td>\n",
              "      <td>...</td>\n",
              "      <td>...</td>\n",
              "      <td>...</td>\n",
              "      <td>...</td>\n",
              "      <td>...</td>\n",
              "      <td>...</td>\n",
              "      <td>...</td>\n",
              "      <td>...</td>\n",
              "      <td>...</td>\n",
              "      <td>...</td>\n",
              "      <td>...</td>\n",
              "      <td>...</td>\n",
              "      <td>...</td>\n",
              "      <td>...</td>\n",
              "      <td>...</td>\n",
              "      <td>...</td>\n",
              "      <td>...</td>\n",
              "    </tr>\n",
              "    <tr>\n",
              "      <th>253631</th>\n",
              "      <td>5</td>\n",
              "      <td>8.0</td>\n",
              "      <td>10</td>\n",
              "      <td>376</td>\n",
              "      <td>15231</td>\n",
              "      <td>9.0</td>\n",
              "      <td>2020/6/9</td>\n",
              "      <td>202048060911</td>\n",
              "      <td>1119</td>\n",
              "      <td>6</td>\n",
              "      <td>54.0</td>\n",
              "      <td>66.4</td>\n",
              "      <td>0</td>\n",
              "      <td>0</td>\n",
              "      <td>1600</td>\n",
              "      <td>0</td>\n",
              "      <td>5</td>\n",
              "      <td>1</td>\n",
              "      <td>17:00</td>\n",
              "      <td>2</td>\n",
              "      <td>2</td>\n",
              "      <td>17</td>\n",
              "      <td>2</td>\n",
              "    </tr>\n",
              "    <tr>\n",
              "      <th>253632</th>\n",
              "      <td>6</td>\n",
              "      <td>1.0</td>\n",
              "      <td>1</td>\n",
              "      <td>297</td>\n",
              "      <td>16492</td>\n",
              "      <td>4.0</td>\n",
              "      <td>2020/6/9</td>\n",
              "      <td>202048060911</td>\n",
              "      <td>1119</td>\n",
              "      <td>7</td>\n",
              "      <td>51.0</td>\n",
              "      <td>8.2</td>\n",
              "      <td>0</td>\n",
              "      <td>0</td>\n",
              "      <td>1600</td>\n",
              "      <td>0</td>\n",
              "      <td>5</td>\n",
              "      <td>1</td>\n",
              "      <td>17:00</td>\n",
              "      <td>2</td>\n",
              "      <td>2</td>\n",
              "      <td>17</td>\n",
              "      <td>2</td>\n",
              "    </tr>\n",
              "    <tr>\n",
              "      <th>253633</th>\n",
              "      <td>5</td>\n",
              "      <td>4.0</td>\n",
              "      <td>4</td>\n",
              "      <td>68</td>\n",
              "      <td>11967</td>\n",
              "      <td>3.0</td>\n",
              "      <td>2020/6/9</td>\n",
              "      <td>202048060911</td>\n",
              "      <td>1119</td>\n",
              "      <td>8</td>\n",
              "      <td>56.0</td>\n",
              "      <td>6.2</td>\n",
              "      <td>0</td>\n",
              "      <td>0</td>\n",
              "      <td>1600</td>\n",
              "      <td>0</td>\n",
              "      <td>5</td>\n",
              "      <td>1</td>\n",
              "      <td>17:00</td>\n",
              "      <td>2</td>\n",
              "      <td>2</td>\n",
              "      <td>17</td>\n",
              "      <td>4</td>\n",
              "    </tr>\n",
              "    <tr>\n",
              "      <th>253634</th>\n",
              "      <td>4</td>\n",
              "      <td>8.0</td>\n",
              "      <td>9</td>\n",
              "      <td>81</td>\n",
              "      <td>20226</td>\n",
              "      <td>2.0</td>\n",
              "      <td>2020/6/9</td>\n",
              "      <td>202048060911</td>\n",
              "      <td>1119</td>\n",
              "      <td>9</td>\n",
              "      <td>55.0</td>\n",
              "      <td>3.2</td>\n",
              "      <td>0</td>\n",
              "      <td>0</td>\n",
              "      <td>1600</td>\n",
              "      <td>0</td>\n",
              "      <td>5</td>\n",
              "      <td>1</td>\n",
              "      <td>17:00</td>\n",
              "      <td>2</td>\n",
              "      <td>2</td>\n",
              "      <td>17</td>\n",
              "      <td>2</td>\n",
              "    </tr>\n",
              "    <tr>\n",
              "      <th>253635</th>\n",
              "      <td>5</td>\n",
              "      <td>7.0</td>\n",
              "      <td>8</td>\n",
              "      <td>300</td>\n",
              "      <td>14076</td>\n",
              "      <td>8.0</td>\n",
              "      <td>2020/6/9</td>\n",
              "      <td>202048060911</td>\n",
              "      <td>1119</td>\n",
              "      <td>10</td>\n",
              "      <td>50.0</td>\n",
              "      <td>58.5</td>\n",
              "      <td>0</td>\n",
              "      <td>0</td>\n",
              "      <td>1600</td>\n",
              "      <td>0</td>\n",
              "      <td>5</td>\n",
              "      <td>1</td>\n",
              "      <td>17:00</td>\n",
              "      <td>2</td>\n",
              "      <td>2</td>\n",
              "      <td>17</td>\n",
              "      <td>2</td>\n",
              "    </tr>\n",
              "  </tbody>\n",
              "</table>\n",
              "<p>253636 rows × 23 columns</p>\n",
              "</div>"
            ],
            "text/plain": [
              "       age  frame_number  horse_number  jockey  ...  weather  season time_hour  gen\n",
              "0        7           3.0             3     380  ...        2       3        11    2\n",
              "1        7           5.0             5      66  ...        2       3        11    4\n",
              "2        7           2.0             2     307  ...        2       3        11    4\n",
              "3        7           7.0             8     179  ...        2       3        11    2\n",
              "4        4           8.0            10      51  ...        2       3        11    2\n",
              "...     ..           ...           ...     ...  ...      ...     ...       ...  ...\n",
              "253631   5           8.0            10     376  ...        2       2        17    2\n",
              "253632   6           1.0             1     297  ...        2       2        17    2\n",
              "253633   5           4.0             4      68  ...        2       2        17    4\n",
              "253634   4           8.0             9      81  ...        2       2        17    2\n",
              "253635   5           7.0             8     300  ...        2       2        17    2\n",
              "\n",
              "[253636 rows x 23 columns]"
            ]
          },
          "metadata": {
            "tags": []
          },
          "execution_count": 20
        }
      ]
    },
    {
      "cell_type": "markdown",
      "metadata": {
        "id": "C1AJFXtMl_1f",
        "colab_type": "text"
      },
      "source": [
        "## trainデータとtestデータに分割"
      ]
    },
    {
      "cell_type": "code",
      "metadata": {
        "id": "uKLb_khYswd8",
        "colab_type": "code",
        "colab": {}
      },
      "source": [
        "train_df, test_df = train_test_split(df, test_size=53624, shuffle=False)"
      ],
      "execution_count": 21,
      "outputs": []
    },
    {
      "cell_type": "markdown",
      "metadata": {
        "id": "EskRPXg11O6p",
        "colab_type": "text"
      },
      "source": [
        "ランキング学習用にクエリデータ作成。\n",
        "\n",
        "クエリデータは、何行ごとにクエリがまとまっているかを表している。\n",
        "クエリ（ここではレース）ごとにデータが連続していなければならない。"
      ]
    },
    {
      "cell_type": "code",
      "metadata": {
        "id": "OimpifV03xUg",
        "colab_type": "code",
        "colab": {}
      },
      "source": [
        "train_race_id_counter = collections.Counter(list(train_df['race_id'].values))\n",
        "test_race_id_counter = collections.Counter(list(test_df['race_id'].values))"
      ],
      "execution_count": 22,
      "outputs": []
    },
    {
      "cell_type": "code",
      "metadata": {
        "id": "oalCRBpb_t5F",
        "colab_type": "code",
        "colab": {}
      },
      "source": [
        "train_query = list(train_race_id_counter.values())\n",
        "test_query = list(test_race_id_counter.values())"
      ],
      "execution_count": 23,
      "outputs": []
    },
    {
      "cell_type": "markdown",
      "metadata": {
        "id": "DftHHSzY6zJD",
        "colab_type": "text"
      },
      "source": [
        "# ランキング学習"
      ]
    },
    {
      "cell_type": "markdown",
      "metadata": {
        "id": "SSXl056ltqnv",
        "colab_type": "text"
      },
      "source": [
        "## 目的変数を分離"
      ]
    },
    {
      "cell_type": "code",
      "metadata": {
        "id": "QSla7y5Mt14B",
        "colab_type": "code",
        "colab": {}
      },
      "source": [
        "fea_cols = ['age', 'frame_number', 'horse_number', 'jockey', 'name', 'popular', 'race_id', 'race_name', 'weight',\n",
        "            'win', 'clockwise', 'distance', 'field_type', 'place', 'race_round', 'weather', 'season', 'time_hour', 'gen']\n",
        "target_col = ['rank']"
      ],
      "execution_count": 24,
      "outputs": []
    },
    {
      "cell_type": "code",
      "metadata": {
        "id": "5MUZZrh4ttIb",
        "colab_type": "code",
        "colab": {}
      },
      "source": [
        "X_train = train_df[fea_cols].values\n",
        "y_train = train_df[target_col].values.reshape(-1)\n",
        "X_test = test_df[fea_cols].values\n",
        "y_test = test_df[target_col].values.reshape(-1)"
      ],
      "execution_count": 25,
      "outputs": []
    },
    {
      "cell_type": "markdown",
      "metadata": {
        "id": "2zqThtg3-AsO",
        "colab_type": "text"
      },
      "source": [
        "## 学習"
      ]
    },
    {
      "cell_type": "code",
      "metadata": {
        "id": "x_0wuuaSvgqS",
        "colab_type": "code",
        "colab": {}
      },
      "source": [
        "lgb_train = lgb.Dataset(X_train, y_train, group=train_query)\n",
        "lgb_eval = lgb.Dataset(X_test, y_test, group=test_query)\n",
        "\n",
        "params = {\n",
        "    'objective': 'lambdarank',\n",
        "    'metric': 'ndcg',\n",
        "    'ndcg_eval_at': [1],\n",
        "    'boosting_type': 'gbdt',\n",
        "}\n",
        "\n",
        "num_round = 100"
      ],
      "execution_count": 37,
      "outputs": []
    },
    {
      "cell_type": "code",
      "metadata": {
        "id": "edzoePbM0DVF",
        "colab_type": "code",
        "colab": {
          "base_uri": "https://localhost:8080/",
          "height": 1000
        },
        "outputId": "52e88230-e6b8-44b0-e6ec-32cc6e697237"
      },
      "source": [
        "rank_model = lgb.train(\n",
        "    params,\n",
        "    lgb_train,\n",
        "    valid_sets=lgb_eval,\n",
        "    num_boost_round=num_round,\n",
        ")"
      ],
      "execution_count": 38,
      "outputs": [
        {
          "output_type": "stream",
          "text": [
            "[1]\tvalid_0's ndcg@1: 0.748951\n",
            "[2]\tvalid_0's ndcg@1: 0.741401\n",
            "[3]\tvalid_0's ndcg@1: 0.730914\n",
            "[4]\tvalid_0's ndcg@1: 0.730914\n",
            "[5]\tvalid_0's ndcg@1: 0.730285\n",
            "[6]\tvalid_0's ndcg@1: 0.72651\n",
            "[7]\tvalid_0's ndcg@1: 0.719799\n",
            "[8]\tvalid_0's ndcg@1: 0.719589\n",
            "[9]\tvalid_0's ndcg@1: 0.716862\n",
            "[10]\tvalid_0's ndcg@1: 0.716023\n",
            "[11]\tvalid_0's ndcg@1: 0.715185\n",
            "[12]\tvalid_0's ndcg@1: 0.714136\n",
            "[13]\tvalid_0's ndcg@1: 0.713926\n",
            "[14]\tvalid_0's ndcg@1: 0.713297\n",
            "[15]\tvalid_0's ndcg@1: 0.713507\n",
            "[16]\tvalid_0's ndcg@1: 0.714136\n",
            "[17]\tvalid_0's ndcg@1: 0.712668\n",
            "[18]\tvalid_0's ndcg@1: 0.713507\n",
            "[19]\tvalid_0's ndcg@1: 0.715394\n",
            "[20]\tvalid_0's ndcg@1: 0.714975\n",
            "[21]\tvalid_0's ndcg@1: 0.714346\n",
            "[22]\tvalid_0's ndcg@1: 0.715185\n",
            "[23]\tvalid_0's ndcg@1: 0.714136\n",
            "[24]\tvalid_0's ndcg@1: 0.712039\n",
            "[25]\tvalid_0's ndcg@1: 0.713087\n",
            "[26]\tvalid_0's ndcg@1: 0.712878\n",
            "[27]\tvalid_0's ndcg@1: 0.712878\n",
            "[28]\tvalid_0's ndcg@1: 0.714136\n",
            "[29]\tvalid_0's ndcg@1: 0.714136\n",
            "[30]\tvalid_0's ndcg@1: 0.714136\n",
            "[31]\tvalid_0's ndcg@1: 0.713507\n",
            "[32]\tvalid_0's ndcg@1: 0.713716\n",
            "[33]\tvalid_0's ndcg@1: 0.714555\n",
            "[34]\tvalid_0's ndcg@1: 0.714975\n",
            "[35]\tvalid_0's ndcg@1: 0.713087\n",
            "[36]\tvalid_0's ndcg@1: 0.712878\n",
            "[37]\tvalid_0's ndcg@1: 0.712878\n",
            "[38]\tvalid_0's ndcg@1: 0.712248\n",
            "[39]\tvalid_0's ndcg@1: 0.712039\n",
            "[40]\tvalid_0's ndcg@1: 0.711829\n",
            "[41]\tvalid_0's ndcg@1: 0.711619\n",
            "[42]\tvalid_0's ndcg@1: 0.711409\n",
            "[43]\tvalid_0's ndcg@1: 0.711619\n",
            "[44]\tvalid_0's ndcg@1: 0.711829\n",
            "[45]\tvalid_0's ndcg@1: 0.712668\n",
            "[46]\tvalid_0's ndcg@1: 0.712458\n",
            "[47]\tvalid_0's ndcg@1: 0.712248\n",
            "[48]\tvalid_0's ndcg@1: 0.712248\n",
            "[49]\tvalid_0's ndcg@1: 0.711829\n",
            "[50]\tvalid_0's ndcg@1: 0.712248\n",
            "[51]\tvalid_0's ndcg@1: 0.712039\n",
            "[52]\tvalid_0's ndcg@1: 0.711829\n",
            "[53]\tvalid_0's ndcg@1: 0.711409\n",
            "[54]\tvalid_0's ndcg@1: 0.711829\n",
            "[55]\tvalid_0's ndcg@1: 0.71078\n",
            "[56]\tvalid_0's ndcg@1: 0.710151\n",
            "[57]\tvalid_0's ndcg@1: 0.709732\n",
            "[58]\tvalid_0's ndcg@1: 0.709732\n",
            "[59]\tvalid_0's ndcg@1: 0.709732\n",
            "[60]\tvalid_0's ndcg@1: 0.709941\n",
            "[61]\tvalid_0's ndcg@1: 0.709941\n",
            "[62]\tvalid_0's ndcg@1: 0.71057\n",
            "[63]\tvalid_0's ndcg@1: 0.709522\n",
            "[64]\tvalid_0's ndcg@1: 0.710151\n",
            "[65]\tvalid_0's ndcg@1: 0.709312\n",
            "[66]\tvalid_0's ndcg@1: 0.709732\n",
            "[67]\tvalid_0's ndcg@1: 0.709941\n",
            "[68]\tvalid_0's ndcg@1: 0.710361\n",
            "[69]\tvalid_0's ndcg@1: 0.709312\n",
            "[70]\tvalid_0's ndcg@1: 0.709102\n",
            "[71]\tvalid_0's ndcg@1: 0.709732\n",
            "[72]\tvalid_0's ndcg@1: 0.709941\n",
            "[73]\tvalid_0's ndcg@1: 0.709941\n",
            "[74]\tvalid_0's ndcg@1: 0.71057\n",
            "[75]\tvalid_0's ndcg@1: 0.710361\n",
            "[76]\tvalid_0's ndcg@1: 0.709941\n",
            "[77]\tvalid_0's ndcg@1: 0.709941\n",
            "[78]\tvalid_0's ndcg@1: 0.709732\n",
            "[79]\tvalid_0's ndcg@1: 0.709312\n",
            "[80]\tvalid_0's ndcg@1: 0.709522\n",
            "[81]\tvalid_0's ndcg@1: 0.709312\n",
            "[82]\tvalid_0's ndcg@1: 0.709102\n",
            "[83]\tvalid_0's ndcg@1: 0.709732\n",
            "[84]\tvalid_0's ndcg@1: 0.709941\n",
            "[85]\tvalid_0's ndcg@1: 0.709941\n",
            "[86]\tvalid_0's ndcg@1: 0.709312\n",
            "[87]\tvalid_0's ndcg@1: 0.708683\n",
            "[88]\tvalid_0's ndcg@1: 0.708893\n",
            "[89]\tvalid_0's ndcg@1: 0.709522\n",
            "[90]\tvalid_0's ndcg@1: 0.709732\n",
            "[91]\tvalid_0's ndcg@1: 0.709522\n",
            "[92]\tvalid_0's ndcg@1: 0.709522\n",
            "[93]\tvalid_0's ndcg@1: 0.709522\n",
            "[94]\tvalid_0's ndcg@1: 0.709732\n",
            "[95]\tvalid_0's ndcg@1: 0.709102\n",
            "[96]\tvalid_0's ndcg@1: 0.709102\n",
            "[97]\tvalid_0's ndcg@1: 0.709522\n",
            "[98]\tvalid_0's ndcg@1: 0.709312\n",
            "[99]\tvalid_0's ndcg@1: 0.709522\n",
            "[100]\tvalid_0's ndcg@1: 0.709102\n"
          ],
          "name": "stdout"
        }
      ]
    },
    {
      "cell_type": "markdown",
      "metadata": {
        "id": "RcThQPf67Sk3",
        "colab_type": "text"
      },
      "source": [
        "# 分類問題"
      ]
    },
    {
      "cell_type": "markdown",
      "metadata": {
        "id": "nZ3Xj2wb7YO5",
        "colab_type": "text"
      },
      "source": [
        "## 目的変数を分離"
      ]
    },
    {
      "cell_type": "code",
      "metadata": {
        "id": "IY6luI-I7XzG",
        "colab_type": "code",
        "colab": {}
      },
      "source": [
        "fea_cols = ['age', 'frame_number', 'horse_number', 'jockey', 'name', 'popular', 'race_id', 'race_name', 'weight',\n",
        "            'win', 'clockwise', 'distance', 'field_type', 'place', 'race_round', 'weather', 'season', 'time_hour', 'gen']\n",
        "target_col = ['show']"
      ],
      "execution_count": 28,
      "outputs": []
    },
    {
      "cell_type": "code",
      "metadata": {
        "id": "bz3CkVDT7gJ_",
        "colab_type": "code",
        "colab": {}
      },
      "source": [
        "X_train = train_df[fea_cols].values\n",
        "y_train = train_df[target_col].values.reshape(-1)\n",
        "X_test = test_df[fea_cols].values\n",
        "y_test = test_df[target_col].values.reshape(-1)"
      ],
      "execution_count": 29,
      "outputs": []
    },
    {
      "cell_type": "markdown",
      "metadata": {
        "id": "wnGFISG27ljV",
        "colab_type": "text"
      },
      "source": [
        "## 学習"
      ]
    },
    {
      "cell_type": "code",
      "metadata": {
        "id": "aAOBBSfj7kF_",
        "colab_type": "code",
        "colab": {}
      },
      "source": [
        "lgb_train = lgb.Dataset(X_train, y_train)\n",
        "lgb_eval = lgb.Dataset(X_test, y_test)\n",
        "\n",
        "params = {\n",
        "    'objective': 'binary',\n",
        "    'metric': 'auc',\n",
        "    'boosting_type': 'gbdt',\n",
        "}\n",
        "\n",
        "num_round = 100"
      ],
      "execution_count": 30,
      "outputs": []
    },
    {
      "cell_type": "code",
      "metadata": {
        "id": "ngdNrD5Q8IYi",
        "colab_type": "code",
        "colab": {
          "base_uri": "https://localhost:8080/",
          "height": 1000
        },
        "outputId": "d7a47536-0cdf-49a3-9e8b-572ecaad0768"
      },
      "source": [
        "cls_model = lgb.train(\n",
        "    params,\n",
        "    lgb_train,\n",
        "    valid_sets=lgb_eval,\n",
        "    num_boost_round=num_round,\n",
        ")"
      ],
      "execution_count": 31,
      "outputs": [
        {
          "output_type": "stream",
          "text": [
            "[1]\tvalid_0's auc: 0.809083\n",
            "[2]\tvalid_0's auc: 0.809783\n",
            "[3]\tvalid_0's auc: 0.809967\n",
            "[4]\tvalid_0's auc: 0.810269\n",
            "[5]\tvalid_0's auc: 0.810545\n",
            "[6]\tvalid_0's auc: 0.810721\n",
            "[7]\tvalid_0's auc: 0.810862\n",
            "[8]\tvalid_0's auc: 0.810877\n",
            "[9]\tvalid_0's auc: 0.81089\n",
            "[10]\tvalid_0's auc: 0.81086\n",
            "[11]\tvalid_0's auc: 0.810923\n",
            "[12]\tvalid_0's auc: 0.810891\n",
            "[13]\tvalid_0's auc: 0.810899\n",
            "[14]\tvalid_0's auc: 0.810957\n",
            "[15]\tvalid_0's auc: 0.810948\n",
            "[16]\tvalid_0's auc: 0.810988\n",
            "[17]\tvalid_0's auc: 0.81102\n",
            "[18]\tvalid_0's auc: 0.811078\n",
            "[19]\tvalid_0's auc: 0.811144\n",
            "[20]\tvalid_0's auc: 0.811171\n",
            "[21]\tvalid_0's auc: 0.811246\n",
            "[22]\tvalid_0's auc: 0.811262\n",
            "[23]\tvalid_0's auc: 0.811285\n",
            "[24]\tvalid_0's auc: 0.811288\n",
            "[25]\tvalid_0's auc: 0.811321\n",
            "[26]\tvalid_0's auc: 0.811366\n",
            "[27]\tvalid_0's auc: 0.8114\n",
            "[28]\tvalid_0's auc: 0.811415\n",
            "[29]\tvalid_0's auc: 0.81138\n",
            "[30]\tvalid_0's auc: 0.811407\n",
            "[31]\tvalid_0's auc: 0.811402\n",
            "[32]\tvalid_0's auc: 0.811408\n",
            "[33]\tvalid_0's auc: 0.81142\n",
            "[34]\tvalid_0's auc: 0.811456\n",
            "[35]\tvalid_0's auc: 0.811466\n",
            "[36]\tvalid_0's auc: 0.811481\n",
            "[37]\tvalid_0's auc: 0.811482\n",
            "[38]\tvalid_0's auc: 0.811489\n",
            "[39]\tvalid_0's auc: 0.811519\n",
            "[40]\tvalid_0's auc: 0.81155\n",
            "[41]\tvalid_0's auc: 0.811589\n",
            "[42]\tvalid_0's auc: 0.811626\n",
            "[43]\tvalid_0's auc: 0.811617\n",
            "[44]\tvalid_0's auc: 0.811638\n",
            "[45]\tvalid_0's auc: 0.811649\n",
            "[46]\tvalid_0's auc: 0.811652\n",
            "[47]\tvalid_0's auc: 0.811659\n",
            "[48]\tvalid_0's auc: 0.811655\n",
            "[49]\tvalid_0's auc: 0.811653\n",
            "[50]\tvalid_0's auc: 0.811684\n",
            "[51]\tvalid_0's auc: 0.81169\n",
            "[52]\tvalid_0's auc: 0.811677\n",
            "[53]\tvalid_0's auc: 0.811677\n",
            "[54]\tvalid_0's auc: 0.811666\n",
            "[55]\tvalid_0's auc: 0.81164\n",
            "[56]\tvalid_0's auc: 0.811633\n",
            "[57]\tvalid_0's auc: 0.811675\n",
            "[58]\tvalid_0's auc: 0.811684\n",
            "[59]\tvalid_0's auc: 0.811696\n",
            "[60]\tvalid_0's auc: 0.81164\n",
            "[61]\tvalid_0's auc: 0.811622\n",
            "[62]\tvalid_0's auc: 0.811627\n",
            "[63]\tvalid_0's auc: 0.811622\n",
            "[64]\tvalid_0's auc: 0.811609\n",
            "[65]\tvalid_0's auc: 0.811576\n",
            "[66]\tvalid_0's auc: 0.811564\n",
            "[67]\tvalid_0's auc: 0.811576\n",
            "[68]\tvalid_0's auc: 0.811573\n",
            "[69]\tvalid_0's auc: 0.811582\n",
            "[70]\tvalid_0's auc: 0.811567\n",
            "[71]\tvalid_0's auc: 0.811564\n",
            "[72]\tvalid_0's auc: 0.811561\n",
            "[73]\tvalid_0's auc: 0.811571\n",
            "[74]\tvalid_0's auc: 0.811564\n",
            "[75]\tvalid_0's auc: 0.811556\n",
            "[76]\tvalid_0's auc: 0.811569\n",
            "[77]\tvalid_0's auc: 0.811537\n",
            "[78]\tvalid_0's auc: 0.811527\n",
            "[79]\tvalid_0's auc: 0.811531\n",
            "[80]\tvalid_0's auc: 0.811513\n",
            "[81]\tvalid_0's auc: 0.811518\n",
            "[82]\tvalid_0's auc: 0.811499\n",
            "[83]\tvalid_0's auc: 0.811497\n",
            "[84]\tvalid_0's auc: 0.811459\n",
            "[85]\tvalid_0's auc: 0.811435\n",
            "[86]\tvalid_0's auc: 0.811423\n",
            "[87]\tvalid_0's auc: 0.81142\n",
            "[88]\tvalid_0's auc: 0.81141\n",
            "[89]\tvalid_0's auc: 0.811412\n",
            "[90]\tvalid_0's auc: 0.811413\n",
            "[91]\tvalid_0's auc: 0.811407\n",
            "[92]\tvalid_0's auc: 0.8114\n",
            "[93]\tvalid_0's auc: 0.811408\n",
            "[94]\tvalid_0's auc: 0.811401\n",
            "[95]\tvalid_0's auc: 0.811414\n",
            "[96]\tvalid_0's auc: 0.811391\n",
            "[97]\tvalid_0's auc: 0.811367\n",
            "[98]\tvalid_0's auc: 0.811372\n",
            "[99]\tvalid_0's auc: 0.811342\n",
            "[100]\tvalid_0's auc: 0.811337\n"
          ],
          "name": "stdout"
        }
      ]
    },
    {
      "cell_type": "markdown",
      "metadata": {
        "id": "pph-Xevl-CB2",
        "colab_type": "text"
      },
      "source": [
        "# モデル比較\n",
        "\n",
        "レースごとに予測された確率が最も高い馬が３位以内に入っている確率を算出する。"
      ]
    },
    {
      "cell_type": "code",
      "metadata": {
        "id": "3eSMK1JHEzIk",
        "colab_type": "code",
        "colab": {}
      },
      "source": [
        "def calc_prob(predict):\n",
        "  stack_q = 0\n",
        "  correct = 0\n",
        "  for query in test_query:\n",
        "    ind = np.argmax(predict[stack_q:stack_q+query])\n",
        "    stack_q += query\n",
        "    if test_df.iloc[ind]['show'] == 1:\n",
        "      correct += 1\n",
        "\n",
        "  print('score is', correct / len(test_query))"
      ],
      "execution_count": 32,
      "outputs": []
    },
    {
      "cell_type": "code",
      "metadata": {
        "id": "_eGBa0867d0O",
        "colab_type": "code",
        "colab": {}
      },
      "source": [
        "predict_rank = rank_model.predict(X_test)\n",
        "predict_cls = cls_model.predict(X_test)"
      ],
      "execution_count": 39,
      "outputs": []
    },
    {
      "cell_type": "code",
      "metadata": {
        "id": "K7PwK33otScW",
        "colab_type": "code",
        "colab": {
          "base_uri": "https://localhost:8080/",
          "height": 51
        },
        "outputId": "0da89371-23c3-4b27-c8e1-e18e8b5a585f"
      },
      "source": [
        "calc_prob(predict_rank)\n",
        "calc_prob(predict_cls)"
      ],
      "execution_count": 40,
      "outputs": [
        {
          "output_type": "stream",
          "text": [
            "score is 0.7346895973154363\n",
            "score is 0.738255033557047\n"
          ],
          "name": "stdout"
        }
      ]
    },
    {
      "cell_type": "markdown",
      "metadata": {
        "id": "Vwp-Zn_WNgK1",
        "colab_type": "text"
      },
      "source": [
        "# 結果の考察\n",
        "\n",
        "- 一番人気を予測しているだけでないか"
      ]
    },
    {
      "cell_type": "code",
      "metadata": {
        "id": "c5aJoPiHIzEs",
        "colab_type": "code",
        "colab": {}
      },
      "source": [
        "def calc_prob_most_popular(predict):\n",
        "  stack_q = 0\n",
        "  predict_most_pop = 0\n",
        "  for query in test_query:\n",
        "    ind_predict = np.argmax(predict[stack_q:stack_q+query])\n",
        "    ind_pop = np.argmin(test_df.iloc[stack_q:stack_q+query]['popular'])\n",
        "    stack_q += query\n",
        "    if ind_predict == ind_pop:\n",
        "      predict_most_pop += 1\n",
        "\n",
        "  print('predict most popular prob is', predict_most_pop / len(test_query))"
      ],
      "execution_count": 47,
      "outputs": []
    },
    {
      "cell_type": "code",
      "metadata": {
        "id": "ybH1cd3QOSUX",
        "colab_type": "code",
        "colab": {
          "base_uri": "https://localhost:8080/",
          "height": 51
        },
        "outputId": "7e8c21c7-a8ac-4bdd-f34c-dda733af0c30"
      },
      "source": [
        "calc_prob_most_popular(predict_rank)\n",
        "calc_prob_most_popular(predict_cls)"
      ],
      "execution_count": 48,
      "outputs": [
        {
          "output_type": "stream",
          "text": [
            "predict most popular prob is 0.8754194630872483\n",
            "predict most popular prob is 0.8013842281879194\n"
          ],
          "name": "stdout"
        }
      ]
    },
    {
      "cell_type": "markdown",
      "metadata": {
        "id": "5PB3WjPrPfvp",
        "colab_type": "text"
      },
      "source": [
        "８割が一番人気を予測している。"
      ]
    },
    {
      "cell_type": "code",
      "metadata": {
        "id": "KFhh84ALOXk2",
        "colab_type": "code",
        "colab": {}
      },
      "source": [
        ""
      ],
      "execution_count": null,
      "outputs": []
    }
  ]
}