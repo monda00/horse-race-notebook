{
  "nbformat": 4,
  "nbformat_minor": 0,
  "metadata": {
    "colab": {
      "name": "predict_show_neural_network.ipynb",
      "provenance": [],
      "collapsed_sections": [],
      "mount_file_id": "13Pv0bHa2xQaxi21mu6ylnTtwLv43u1Nx",
      "authorship_tag": "ABX9TyO38cugxx6pRVdccIJNqnU1",
      "include_colab_link": true
    },
    "kernelspec": {
      "name": "python3",
      "display_name": "Python 3"
    }
  },
  "cells": [
    {
      "cell_type": "markdown",
      "metadata": {
        "id": "view-in-github",
        "colab_type": "text"
      },
      "source": [
        "<a href=\"https://colab.research.google.com/github/monda00/horse-race-notebook/blob/master/predict_show_neural_network.ipynb\" target=\"_parent\"><img src=\"https://colab.research.google.com/assets/colab-badge.svg\" alt=\"Open In Colab\"/></a>"
      ]
    },
    {
      "cell_type": "markdown",
      "metadata": {
        "id": "13hRzyKCtHrz",
        "colab_type": "text"
      },
      "source": [
        "# ニューラルネットワークで予測"
      ]
    },
    {
      "cell_type": "markdown",
      "metadata": {
        "id": "xKte8hr_uKS4",
        "colab_type": "text"
      },
      "source": [
        "学習データの作成から予測の考察までやってみる。"
      ]
    },
    {
      "cell_type": "markdown",
      "metadata": {
        "id": "aZlcaGQ2uMf3",
        "colab_type": "text"
      },
      "source": [
        "# 概要\n",
        "\n",
        "- ライブラリ・データ読み込み\n",
        "- データ整形\n",
        "- 前処理\n",
        "- 学習\n",
        "- 予測\n",
        "- 考察"
      ]
    },
    {
      "cell_type": "markdown",
      "metadata": {
        "id": "GkNVPKEVyMNM",
        "colab_type": "text"
      },
      "source": [
        "## 参考\n",
        "\n",
        "- [データ収集からディープラーニングまで全て行って競馬の予測をしてみた](https://qiita.com/kami634/items/55e49dad76396d808bf5#%E5%8F%96%E5%BE%97%E3%81%97%E3%81%9Furl%E3%82%92%E3%82%82%E3%81%A8%E3%81%ABhtml%E3%82%92%E5%BE%97%E3%82%8B)\n",
        "- [競馬の予測をガチでやってみた](http://stockedge.hatenablog.com/entry/2016/01/03/103428)\n",
        "- [ディープラーニングさえあれば、競馬で回収率100%を超えられる](https://qiita.com/yossymura/items/334a8f3ef85bff081913)\n",
        "- [競馬予想AIを作る 〜ニューラルネットワークによる相対評価データセットの取り扱い例〜](https://cocon-corporation.com/cocontoco/horseraceprediction_ai/)"
      ]
    },
    {
      "cell_type": "markdown",
      "metadata": {
        "id": "xy34zmQivK3h",
        "colab_type": "text"
      },
      "source": [
        "# ライブラリ・データ読み込み"
      ]
    },
    {
      "cell_type": "code",
      "metadata": {
        "id": "t2khiLmhtb15",
        "colab_type": "code",
        "colab": {}
      },
      "source": [
        "import numpy as np\n",
        "import pandas as pd\n",
        "import re\n",
        "import collections\n",
        "import datetime\n",
        "from tqdm import tqdm\n",
        "\n",
        "from sklearn.preprocessing import LabelEncoder\n",
        "from sklearn.model_selection import train_test_split"
      ],
      "execution_count": 1,
      "outputs": []
    },
    {
      "cell_type": "code",
      "metadata": {
        "id": "YlhzrDVvvPuF",
        "colab_type": "code",
        "colab": {}
      },
      "source": [
        "DATA_PATH = '/content/drive/My Drive/data/horse-race/'"
      ],
      "execution_count": 2,
      "outputs": []
    },
    {
      "cell_type": "code",
      "metadata": {
        "id": "0vlQREKVvRjb",
        "colab_type": "code",
        "colab": {}
      },
      "source": [
        "df = pd.read_csv(DATA_PATH + 'train_raw.csv')\n",
        "df = df.sort_values(by=['race_date', 'race_id', 'rank'])\n",
        "df.reset_index(inplace=True, drop=True)"
      ],
      "execution_count": 3,
      "outputs": []
    },
    {
      "cell_type": "code",
      "metadata": {
        "id": "zLPPVsb_JMSR",
        "colab_type": "code",
        "colab": {
          "base_uri": "https://localhost:8080/",
          "height": 411
        },
        "outputId": "45ee79c8-37bf-4f2f-c164-267527c42b47"
      },
      "source": [
        "df.head()"
      ],
      "execution_count": 4,
      "outputs": [
        {
          "output_type": "execute_result",
          "data": {
            "text/html": [
              "<div>\n",
              "<style scoped>\n",
              "    .dataframe tbody tr th:only-of-type {\n",
              "        vertical-align: middle;\n",
              "    }\n",
              "\n",
              "    .dataframe tbody tr th {\n",
              "        vertical-align: top;\n",
              "    }\n",
              "\n",
              "    .dataframe thead th {\n",
              "        text-align: right;\n",
              "    }\n",
              "</style>\n",
              "<table border=\"1\" class=\"dataframe\">\n",
              "  <thead>\n",
              "    <tr style=\"text-align: right;\">\n",
              "      <th></th>\n",
              "      <th>agari</th>\n",
              "      <th>age</th>\n",
              "      <th>frame_number</th>\n",
              "      <th>horse_number</th>\n",
              "      <th>horse_weight</th>\n",
              "      <th>jockey</th>\n",
              "      <th>name</th>\n",
              "      <th>popular</th>\n",
              "      <th>race_date</th>\n",
              "      <th>race_id</th>\n",
              "      <th>race_name</th>\n",
              "      <th>rank</th>\n",
              "      <th>time</th>\n",
              "      <th>weight</th>\n",
              "      <th>win</th>\n",
              "      <th>show</th>\n",
              "      <th>clockwise</th>\n",
              "      <th>distance</th>\n",
              "      <th>field_condition</th>\n",
              "      <th>field_type</th>\n",
              "      <th>place</th>\n",
              "      <th>race_round</th>\n",
              "      <th>start_time</th>\n",
              "      <th>weather</th>\n",
              "    </tr>\n",
              "  </thead>\n",
              "  <tbody>\n",
              "    <tr>\n",
              "      <th>0</th>\n",
              "      <td>39.5</td>\n",
              "      <td>牝7</td>\n",
              "      <td>3.0</td>\n",
              "      <td>3</td>\n",
              "      <td>464(+4)</td>\n",
              "      <td>藤本現暉</td>\n",
              "      <td>リコーアペルタ</td>\n",
              "      <td>2.0</td>\n",
              "      <td>2019/1/1</td>\n",
              "      <td>201945010102</td>\n",
              "      <td>C3七　八</td>\n",
              "      <td>1</td>\n",
              "      <td>1:32.5</td>\n",
              "      <td>54.0</td>\n",
              "      <td>3.6</td>\n",
              "      <td>1</td>\n",
              "      <td>左</td>\n",
              "      <td>1400</td>\n",
              "      <td>良</td>\n",
              "      <td>ダ</td>\n",
              "      <td>川崎</td>\n",
              "      <td>2R</td>\n",
              "      <td>11:50</td>\n",
              "      <td>晴</td>\n",
              "    </tr>\n",
              "    <tr>\n",
              "      <th>1</th>\n",
              "      <td>39.8</td>\n",
              "      <td>牡7</td>\n",
              "      <td>5.0</td>\n",
              "      <td>5</td>\n",
              "      <td>502(+1)</td>\n",
              "      <td>加藤和博</td>\n",
              "      <td>ミラクルツッキー</td>\n",
              "      <td>1.0</td>\n",
              "      <td>2019/1/1</td>\n",
              "      <td>201945010102</td>\n",
              "      <td>C3七　八</td>\n",
              "      <td>2</td>\n",
              "      <td>1:32.5</td>\n",
              "      <td>56.0</td>\n",
              "      <td>2.0</td>\n",
              "      <td>1</td>\n",
              "      <td>左</td>\n",
              "      <td>1400</td>\n",
              "      <td>良</td>\n",
              "      <td>ダ</td>\n",
              "      <td>川崎</td>\n",
              "      <td>2R</td>\n",
              "      <td>11:50</td>\n",
              "      <td>晴</td>\n",
              "    </tr>\n",
              "    <tr>\n",
              "      <th>2</th>\n",
              "      <td>40.3</td>\n",
              "      <td>牡7</td>\n",
              "      <td>2.0</td>\n",
              "      <td>2</td>\n",
              "      <td>464(+7)</td>\n",
              "      <td>瀧川寿希</td>\n",
              "      <td>ロジレガシー</td>\n",
              "      <td>3.0</td>\n",
              "      <td>2019/1/1</td>\n",
              "      <td>201945010102</td>\n",
              "      <td>C3七　八</td>\n",
              "      <td>3</td>\n",
              "      <td>1:32.8</td>\n",
              "      <td>56.0</td>\n",
              "      <td>5.9</td>\n",
              "      <td>1</td>\n",
              "      <td>左</td>\n",
              "      <td>1400</td>\n",
              "      <td>良</td>\n",
              "      <td>ダ</td>\n",
              "      <td>川崎</td>\n",
              "      <td>2R</td>\n",
              "      <td>11:50</td>\n",
              "      <td>晴</td>\n",
              "    </tr>\n",
              "    <tr>\n",
              "      <th>3</th>\n",
              "      <td>40.1</td>\n",
              "      <td>牝7</td>\n",
              "      <td>7.0</td>\n",
              "      <td>8</td>\n",
              "      <td>399(+3)</td>\n",
              "      <td>岡村健司</td>\n",
              "      <td>プチプチ</td>\n",
              "      <td>8.0</td>\n",
              "      <td>2019/1/1</td>\n",
              "      <td>201945010102</td>\n",
              "      <td>C3七　八</td>\n",
              "      <td>4</td>\n",
              "      <td>1:33.5</td>\n",
              "      <td>54.0</td>\n",
              "      <td>22.1</td>\n",
              "      <td>0</td>\n",
              "      <td>左</td>\n",
              "      <td>1400</td>\n",
              "      <td>良</td>\n",
              "      <td>ダ</td>\n",
              "      <td>川崎</td>\n",
              "      <td>2R</td>\n",
              "      <td>11:50</td>\n",
              "      <td>晴</td>\n",
              "    </tr>\n",
              "    <tr>\n",
              "      <th>4</th>\n",
              "      <td>41.1</td>\n",
              "      <td>牝4</td>\n",
              "      <td>8.0</td>\n",
              "      <td>10</td>\n",
              "      <td>452(+32)</td>\n",
              "      <td>伊藤裕人</td>\n",
              "      <td>スエヒロドラ</td>\n",
              "      <td>4.0</td>\n",
              "      <td>2019/1/1</td>\n",
              "      <td>201945010102</td>\n",
              "      <td>C3七　八</td>\n",
              "      <td>5</td>\n",
              "      <td>1:33.8</td>\n",
              "      <td>54.0</td>\n",
              "      <td>10.3</td>\n",
              "      <td>0</td>\n",
              "      <td>左</td>\n",
              "      <td>1400</td>\n",
              "      <td>良</td>\n",
              "      <td>ダ</td>\n",
              "      <td>川崎</td>\n",
              "      <td>2R</td>\n",
              "      <td>11:50</td>\n",
              "      <td>晴</td>\n",
              "    </tr>\n",
              "  </tbody>\n",
              "</table>\n",
              "</div>"
            ],
            "text/plain": [
              "   agari age  frame_number  horse_number  ... place race_round start_time  weather\n",
              "0   39.5  牝7           3.0             3  ...    川崎         2R      11:50        晴\n",
              "1   39.8  牡7           5.0             5  ...    川崎         2R      11:50        晴\n",
              "2   40.3  牡7           2.0             2  ...    川崎         2R      11:50        晴\n",
              "3   40.1  牝7           7.0             8  ...    川崎         2R      11:50        晴\n",
              "4   41.1  牝4           8.0            10  ...    川崎         2R      11:50        晴\n",
              "\n",
              "[5 rows x 24 columns]"
            ]
          },
          "metadata": {
            "tags": []
          },
          "execution_count": 4
        }
      ]
    },
    {
      "cell_type": "markdown",
      "metadata": {
        "id": "abYAcMLOwzLY",
        "colab_type": "text"
      },
      "source": [
        "# データ整形"
      ]
    },
    {
      "cell_type": "markdown",
      "metadata": {
        "id": "1ceYsuwMw1Mt",
        "colab_type": "text"
      },
      "source": [
        "以下のデータに整形する。\n",
        "\n",
        "馬体重と差分はレース直前の木曜ぐらいにわかる。\n",
        "\n",
        "|分類\t|項目 |\n",
        "|---|---|\n",
        "|馬情報\t|馬番 |\n",
        "| |枠番 |\n",
        "| |年齢 |\n",
        "| |性別 |\n",
        "| |体重（現在） | \n",
        "| |体重（前走との差分） |\n",
        "| |負担重量 |\n",
        "| 当日レース情報 |レース場 |\n",
        "| |出走馬数 |\n",
        "| |コース距離 |\n",
        "| |周回方向 |\n",
        "| |コースタイプ（ダ/芝/障） |\n",
        "| |天気 |\n",
        "| |馬場状態 |\n",
        "| |開始時間帯 |\n",
        "| |時期 |\n",
        "|同馬の過去レース情報（×5走分）\t|オッズ |\n",
        "| |人気 |\n",
        "| |順位 |\n",
        "| |タイム（秒） |\n",
        "| |前走からの経過日数 |\n",
        "| |コース距離 |\n",
        "| |コースタイプ（ダ/芝/障） |\n",
        "| |天気 |\n",
        "| |馬場状態 |"
      ]
    },
    {
      "cell_type": "markdown",
      "metadata": {
        "id": "8RwMUwtxXseh",
        "colab_type": "text"
      },
      "source": [
        "## カラム作成"
      ]
    },
    {
      "cell_type": "code",
      "metadata": {
        "id": "8YE9VFSiwl7b",
        "colab_type": "code",
        "colab": {}
      },
      "source": [
        "id_column = ['race_id']\n",
        "horse_columns = ['horse_number', 'frame_number', 'age', 'gen', 'weight', 'weight_diff', 'burden_weight']\n",
        "race_columns = ['place', 'race_horse_number', 'distance', 'clockwise', 'field_type', 'field_condition', 'weather', 'time_hour', 'season']\n",
        "past_race_columns_base = ['odd', 'popular', 'rank', 'time', 'elapsed_day', 'distance', 'field_type', 'field_condition', 'weather']"
      ],
      "execution_count": 5,
      "outputs": []
    },
    {
      "cell_type": "markdown",
      "metadata": {
        "id": "mrmuooV8nKp-",
        "colab_type": "text"
      },
      "source": [
        "過去５回分のレースのカラム を作成。"
      ]
    },
    {
      "cell_type": "code",
      "metadata": {
        "id": "bk-aU4qHUUxY",
        "colab_type": "code",
        "colab": {}
      },
      "source": [
        "past_race_num = ['one', 'two', 'three', 'four', 'five']"
      ],
      "execution_count": 6,
      "outputs": []
    },
    {
      "cell_type": "code",
      "metadata": {
        "id": "jJ1jXLkJUbKZ",
        "colab_type": "code",
        "colab": {}
      },
      "source": [
        "past_race_columns = []\n",
        "for n in past_race_num:\n",
        "  for c in past_race_columns_base:\n",
        "    past_race_columns.append('{}_before_{}'.format(n, c))"
      ],
      "execution_count": 7,
      "outputs": []
    },
    {
      "cell_type": "code",
      "metadata": {
        "id": "OUxSdo9KXN7X",
        "colab_type": "code",
        "colab": {}
      },
      "source": [
        "columns = id_column + horse_columns + race_columns + past_race_columns"
      ],
      "execution_count": 8,
      "outputs": []
    },
    {
      "cell_type": "markdown",
      "metadata": {
        "id": "AELnX4k4nSDb",
        "colab_type": "text"
      },
      "source": [
        "## 新しいdataframeの作成"
      ]
    },
    {
      "cell_type": "code",
      "metadata": {
        "id": "hyFFpb-KYP3t",
        "colab_type": "code",
        "colab": {}
      },
      "source": [
        "train_df = pd.DataFrame(columns=columns)"
      ],
      "execution_count": 9,
      "outputs": []
    },
    {
      "cell_type": "code",
      "metadata": {
        "id": "zdwdMUmzdSkM",
        "colab_type": "code",
        "colab": {}
      },
      "source": [
        "input_columns = ['race_id', 'horse_number', 'frame_number', 'place', 'distance', 'clockwise', 'field_type', 'field_condition', 'weather']\n",
        "train_df[input_columns] = df[input_columns]"
      ],
      "execution_count": 10,
      "outputs": []
    },
    {
      "cell_type": "markdown",
      "metadata": {
        "id": "hLlbcYW8sGiR",
        "colab_type": "text"
      },
      "source": [
        "### 年齢と性別"
      ]
    },
    {
      "cell_type": "code",
      "metadata": {
        "id": "bbvxUA9hsOst",
        "colab_type": "code",
        "colab": {}
      },
      "source": [
        "gen = []\n",
        "age = []\n",
        "for i in range(len(df)):\n",
        "  age_v = df.iloc[i]['age']\n",
        "  gen.append(re.search(r'(.*)(\\d)', age_v).group(1))\n",
        "  age.append(re.search(r'(.*)(\\d)', age_v).group(2))"
      ],
      "execution_count": 11,
      "outputs": []
    },
    {
      "cell_type": "code",
      "metadata": {
        "id": "lIkc5Dk6vcc4",
        "colab_type": "code",
        "colab": {}
      },
      "source": [
        "train_df['age'] = age\n",
        "train_df['gen'] = gen"
      ],
      "execution_count": 12,
      "outputs": []
    },
    {
      "cell_type": "markdown",
      "metadata": {
        "id": "_QRq5dhhv-vP",
        "colab_type": "text"
      },
      "source": [
        "### 負担重量"
      ]
    },
    {
      "cell_type": "code",
      "metadata": {
        "id": "sQVSzS_kwGVc",
        "colab_type": "code",
        "colab": {}
      },
      "source": [
        "train_df['burden_weight'] = df['weight']"
      ],
      "execution_count": 13,
      "outputs": []
    },
    {
      "cell_type": "markdown",
      "metadata": {
        "id": "4RsmcqcLxCTn",
        "colab_type": "text"
      },
      "source": [
        "### 時間帯"
      ]
    },
    {
      "cell_type": "code",
      "metadata": {
        "id": "to1ucAKrxEJV",
        "colab_type": "code",
        "colab": {}
      },
      "source": [
        "time_hour = []\n",
        "for i in range(len(df)):\n",
        "  start_time = df.iloc[i]['start_time']\n",
        "  time_hour.append(int(re.search(r'(.*):(.*)', start_time).group(1)))"
      ],
      "execution_count": 14,
      "outputs": []
    },
    {
      "cell_type": "code",
      "metadata": {
        "id": "8x6usnYFxGqh",
        "colab_type": "code",
        "colab": {}
      },
      "source": [
        "train_df['time_hour'] = time_hour"
      ],
      "execution_count": 15,
      "outputs": []
    },
    {
      "cell_type": "markdown",
      "metadata": {
        "id": "n73_G_GCxoYY",
        "colab_type": "text"
      },
      "source": [
        "### 季節"
      ]
    },
    {
      "cell_type": "code",
      "metadata": {
        "id": "E2MlgTAUxoBI",
        "colab_type": "code",
        "colab": {}
      },
      "source": [
        "season = []\n",
        "for i in range(len(df)):\n",
        "  race_date = df.iloc[i]['race_date']\n",
        "  race_month = int(re.search(r'\\/.+?\\/', race_date).group().replace('/', ''))\n",
        "  if 3 <= race_month <= 5:\n",
        "    season.append('sprint')\n",
        "  elif 6 <= race_month <= 8:\n",
        "    season.append('summer')\n",
        "  elif 9 <= race_month <= 11:\n",
        "    season.append('autumn')\n",
        "  else:\n",
        "    season.append('winter')"
      ],
      "execution_count": 16,
      "outputs": []
    },
    {
      "cell_type": "code",
      "metadata": {
        "id": "Qen6il2Mx0aF",
        "colab_type": "code",
        "colab": {}
      },
      "source": [
        "train_df['season'] = season"
      ],
      "execution_count": 17,
      "outputs": []
    },
    {
      "cell_type": "markdown",
      "metadata": {
        "id": "BEDuz7dFyfVU",
        "colab_type": "text"
      },
      "source": [
        "### 出走馬数"
      ]
    },
    {
      "cell_type": "code",
      "metadata": {
        "id": "beQhhiVgyjfb",
        "colab_type": "code",
        "colab": {}
      },
      "source": [
        "race_horse_number_counter = list(collections.Counter(list(df['race_id'].values)).values())"
      ],
      "execution_count": 18,
      "outputs": []
    },
    {
      "cell_type": "code",
      "metadata": {
        "id": "AA2s5PisyxpP",
        "colab_type": "code",
        "colab": {}
      },
      "source": [
        "race_horse_number = []\n",
        "for n in race_horse_number_counter:\n",
        "  for _ in range(n):\n",
        "    race_horse_number.append(n)"
      ],
      "execution_count": 19,
      "outputs": []
    },
    {
      "cell_type": "code",
      "metadata": {
        "id": "5mJmjOYm4KVC",
        "colab_type": "code",
        "colab": {}
      },
      "source": [
        "train_df['race_horse_number'] = race_horse_number"
      ],
      "execution_count": 20,
      "outputs": []
    },
    {
      "cell_type": "markdown",
      "metadata": {
        "id": "PYFJJCec46Cu",
        "colab_type": "text"
      },
      "source": [
        "### 体重と体重の増減"
      ]
    },
    {
      "cell_type": "code",
      "metadata": {
        "id": "nsfNnOZE53m2",
        "colab_type": "code",
        "colab": {}
      },
      "source": [
        "weight = []\n",
        "weight_diff = []\n",
        "for i in range(len(df)):\n",
        "  horse_weight = df.iloc[i]['horse_weight']\n",
        "  if horse_weight == '計不':\n",
        "    weight.append('計不')\n",
        "    weight_diff.append('計不')\n",
        "  else:\n",
        "    weight.append(int(re.search(r'(.*)(\\(.*?\\))', horse_weight).group(1)))\n",
        "    weight_diff.append(re.search(r'(.*)(\\(.*?\\))', horse_weight).group(2).replace('(', '').replace(')', ''))"
      ],
      "execution_count": 21,
      "outputs": []
    },
    {
      "cell_type": "code",
      "metadata": {
        "id": "sfQ-qdQC8ehH",
        "colab_type": "code",
        "colab": {}
      },
      "source": [
        "train_df['weight'] = weight\n",
        "train_df['weight_diff'] = weight_diff"
      ],
      "execution_count": 22,
      "outputs": []
    },
    {
      "cell_type": "markdown",
      "metadata": {
        "id": "630juOnzBArD",
        "colab_type": "text"
      },
      "source": [
        "### 過去レースのデータ"
      ]
    },
    {
      "cell_type": "code",
      "metadata": {
        "id": "bFvT1OTufl_S",
        "colab_type": "code",
        "colab": {}
      },
      "source": [
        "train_df[past_race_columns] = 0"
      ],
      "execution_count": 23,
      "outputs": []
    },
    {
      "cell_type": "code",
      "metadata": {
        "id": "8sjAINCOBiU5",
        "colab_type": "code",
        "colab": {
          "base_uri": "https://localhost:8080/",
          "height": 34
        },
        "outputId": "573643ae-9b2e-41be-cf30-3f747dac7fb1"
      },
      "source": [
        "for i in tqdm(range(len(df))):\n",
        "  horse_name = df.iloc[i]['name']\n",
        "  race_date = datetime.datetime.strptime(df.iloc[i]['race_date'], \"%Y/%m/%d\")\n",
        "  past_num = 0\n",
        "\n",
        "  horse_df = df.iloc[:i].query('name == \"{}\"'.format(horse_name))\n",
        "  for j in range(len(horse_df)-1, -1, -1):\n",
        "    race_date_before = datetime.datetime.strptime(horse_df.iloc[j]['race_date'], \"%Y/%m/%d\")\n",
        "    train_df.loc[i, '{}_before_{}'.format(past_race_num[past_num], 'odd')] = horse_df.iloc[j]['win']\n",
        "    train_df.loc[i, '{}_before_{}'.format(past_race_num[past_num], 'popular')] = horse_df.iloc[j]['popular']\n",
        "    train_df.loc[i, '{}_before_{}'.format(past_race_num[past_num], 'rank')] = horse_df.iloc[j]['rank']\n",
        "    train_df.loc[i, '{}_before_{}'.format(past_race_num[past_num], 'time')] = horse_df.iloc[j]['time']\n",
        "    train_df.loc[i, '{}_before_{}'.format(past_race_num[past_num], 'elapsed_day')] = abs(race_date - race_date_before).days\n",
        "    train_df.loc[i, '{}_before_{}'.format(past_race_num[past_num], 'distance')] = horse_df.iloc[j]['distance']\n",
        "    train_df.loc[i, '{}_before_{}'.format(past_race_num[past_num], 'field_type')] = horse_df.iloc[j]['field_type']\n",
        "    train_df.loc[i, '{}_before_{}'.format(past_race_num[past_num], 'field_condition')] = horse_df.iloc[j]['field_condition']\n",
        "    train_df.loc[i, '{}_before_{}'.format(past_race_num[past_num], 'weather')] = horse_df.iloc[j]['weather']\n",
        "    past_num += 1\n",
        "    \n",
        "    if past_num >= 4:\n",
        "      break"
      ],
      "execution_count": null,
      "outputs": [
        {
          "output_type": "stream",
          "text": [
            "  6%|▌         | 15472/253636 [04:34<2:41:17, 24.61it/s]"
          ],
          "name": "stderr"
        }
      ]
    },
    {
      "cell_type": "code",
      "metadata": {
        "id": "SBEumVQAkIy7",
        "colab_type": "code",
        "colab": {}
      },
      "source": [
        "train_df"
      ],
      "execution_count": null,
      "outputs": []
    },
    {
      "cell_type": "code",
      "metadata": {
        "id": "TxAHa9NZpLfz",
        "colab_type": "code",
        "colab": {}
      },
      "source": [
        "train_df.to_csv(DATA_PATH + 'train_nn.csv', index=False)"
      ],
      "execution_count": null,
      "outputs": []
    }
  ]
}