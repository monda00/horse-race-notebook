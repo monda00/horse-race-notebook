{
  "nbformat": 4,
  "nbformat_minor": 0,
  "metadata": {
    "colab": {
      "name": "predict_show_simple_model.ipynb",
      "provenance": [],
      "mount_file_id": "1YoHoes4-qgAMHJQIjdh8syUu-7ZZDyb_",
      "authorship_tag": "ABX9TyOSOS5hKSAQrN7DUsuWNZeW",
      "include_colab_link": true
    },
    "kernelspec": {
      "name": "python3",
      "display_name": "Python 3"
    }
  },
  "cells": [
    {
      "cell_type": "markdown",
      "metadata": {
        "id": "view-in-github",
        "colab_type": "text"
      },
      "source": [
        "<a href=\"https://colab.research.google.com/github/monda00/horse-race-notebook/blob/master/predict_show_simple_model.ipynb\" target=\"_parent\"><img src=\"https://colab.research.google.com/assets/colab-badge.svg\" alt=\"Open In Colab\"/></a>"
      ]
    },
    {
      "cell_type": "markdown",
      "metadata": {
        "id": "zPo2M_5M7f4G",
        "colab_type": "text"
      },
      "source": [
        "# ３着以内の馬を予測"
      ]
    },
    {
      "cell_type": "markdown",
      "metadata": {
        "id": "mHx3JdbH_S8D",
        "colab_type": "text"
      },
      "source": [
        "lightGBMでシンプルなモデルを実装する。"
      ]
    },
    {
      "cell_type": "markdown",
      "metadata": {
        "id": "lgw5M_E99lI7",
        "colab_type": "text"
      },
      "source": [
        "- ライブラリ・データ読み込み\n",
        "- データ前処理\n",
        "- 学習\n",
        "- 予測"
      ]
    },
    {
      "cell_type": "markdown",
      "metadata": {
        "id": "NxE3DMm3-XLF",
        "colab_type": "text"
      },
      "source": [
        "# ライブラリ・データ読み込み"
      ]
    },
    {
      "cell_type": "code",
      "metadata": {
        "id": "OBH38Hny-UxG",
        "colab_type": "code",
        "colab": {}
      },
      "source": [
        "import numpy as np\n",
        "import pandas as pd\n",
        "import re\n",
        "\n",
        "import lightgbm as lgb\n",
        "from sklearn.preprocessing import LabelEncoder\n",
        "from sklearn.model_selection import train_test_split"
      ],
      "execution_count": 1,
      "outputs": []
    },
    {
      "cell_type": "code",
      "metadata": {
        "id": "nXM-wOjhBkLl",
        "colab_type": "code",
        "colab": {}
      },
      "source": [
        "DATA_PATH = '/content/drive/My Drive/data/horse-race/'"
      ],
      "execution_count": 2,
      "outputs": []
    },
    {
      "cell_type": "code",
      "metadata": {
        "id": "mABtXv01BTQY",
        "colab_type": "code",
        "colab": {}
      },
      "source": [
        "train_df = pd.read_csv(DATA_PATH + 'train.csv')"
      ],
      "execution_count": 3,
      "outputs": []
    },
    {
      "cell_type": "markdown",
      "metadata": {
        "id": "MSytcWJOleb1",
        "colab_type": "text"
      },
      "source": [
        "日付でソートしておく。\n",
        "\n",
        "後半をtestデータとするため。"
      ]
    },
    {
      "cell_type": "code",
      "metadata": {
        "id": "PUg9a93yld2s",
        "colab_type": "code",
        "colab": {}
      },
      "source": [
        "train_df = train_df.sort_values(by=['race_date', 'race_id'])"
      ],
      "execution_count": 4,
      "outputs": []
    },
    {
      "cell_type": "code",
      "metadata": {
        "id": "Iw5Ril8RB6Yq",
        "colab_type": "code",
        "colab": {
          "base_uri": "https://localhost:8080/",
          "height": 411
        },
        "outputId": "cbcce1a3-9620-4b8e-d937-d819cdf37d51"
      },
      "source": [
        "train_df.head()"
      ],
      "execution_count": 5,
      "outputs": [
        {
          "output_type": "execute_result",
          "data": {
            "text/html": [
              "<div>\n",
              "<style scoped>\n",
              "    .dataframe tbody tr th:only-of-type {\n",
              "        vertical-align: middle;\n",
              "    }\n",
              "\n",
              "    .dataframe tbody tr th {\n",
              "        vertical-align: top;\n",
              "    }\n",
              "\n",
              "    .dataframe thead th {\n",
              "        text-align: right;\n",
              "    }\n",
              "</style>\n",
              "<table border=\"1\" class=\"dataframe\">\n",
              "  <thead>\n",
              "    <tr style=\"text-align: right;\">\n",
              "      <th></th>\n",
              "      <th>age</th>\n",
              "      <th>frame_number</th>\n",
              "      <th>horse_number</th>\n",
              "      <th>jockey</th>\n",
              "      <th>name</th>\n",
              "      <th>popular</th>\n",
              "      <th>race_date</th>\n",
              "      <th>race_id</th>\n",
              "      <th>race_name</th>\n",
              "      <th>weight</th>\n",
              "      <th>win</th>\n",
              "      <th>show</th>\n",
              "      <th>clockwise</th>\n",
              "      <th>distance</th>\n",
              "      <th>field_type</th>\n",
              "      <th>place</th>\n",
              "      <th>race_round</th>\n",
              "      <th>start_time</th>\n",
              "      <th>weather</th>\n",
              "    </tr>\n",
              "  </thead>\n",
              "  <tbody>\n",
              "    <tr>\n",
              "      <th>253626</th>\n",
              "      <td>牝7</td>\n",
              "      <td>3.0</td>\n",
              "      <td>3</td>\n",
              "      <td>藤本現暉</td>\n",
              "      <td>リコーアペルタ</td>\n",
              "      <td>2.0</td>\n",
              "      <td>2019/1/1</td>\n",
              "      <td>201945010102</td>\n",
              "      <td>C3七　八</td>\n",
              "      <td>54.0</td>\n",
              "      <td>3.6</td>\n",
              "      <td>1</td>\n",
              "      <td>左</td>\n",
              "      <td>1400</td>\n",
              "      <td>ダ</td>\n",
              "      <td>川崎</td>\n",
              "      <td>2R</td>\n",
              "      <td>11:50</td>\n",
              "      <td>晴</td>\n",
              "    </tr>\n",
              "    <tr>\n",
              "      <th>253627</th>\n",
              "      <td>牡7</td>\n",
              "      <td>5.0</td>\n",
              "      <td>5</td>\n",
              "      <td>加藤和博</td>\n",
              "      <td>ミラクルツッキー</td>\n",
              "      <td>1.0</td>\n",
              "      <td>2019/1/1</td>\n",
              "      <td>201945010102</td>\n",
              "      <td>C3七　八</td>\n",
              "      <td>56.0</td>\n",
              "      <td>2.0</td>\n",
              "      <td>1</td>\n",
              "      <td>左</td>\n",
              "      <td>1400</td>\n",
              "      <td>ダ</td>\n",
              "      <td>川崎</td>\n",
              "      <td>2R</td>\n",
              "      <td>11:50</td>\n",
              "      <td>晴</td>\n",
              "    </tr>\n",
              "    <tr>\n",
              "      <th>253628</th>\n",
              "      <td>牡7</td>\n",
              "      <td>2.0</td>\n",
              "      <td>2</td>\n",
              "      <td>瀧川寿希</td>\n",
              "      <td>ロジレガシー</td>\n",
              "      <td>3.0</td>\n",
              "      <td>2019/1/1</td>\n",
              "      <td>201945010102</td>\n",
              "      <td>C3七　八</td>\n",
              "      <td>56.0</td>\n",
              "      <td>5.9</td>\n",
              "      <td>1</td>\n",
              "      <td>左</td>\n",
              "      <td>1400</td>\n",
              "      <td>ダ</td>\n",
              "      <td>川崎</td>\n",
              "      <td>2R</td>\n",
              "      <td>11:50</td>\n",
              "      <td>晴</td>\n",
              "    </tr>\n",
              "    <tr>\n",
              "      <th>253629</th>\n",
              "      <td>牝7</td>\n",
              "      <td>7.0</td>\n",
              "      <td>8</td>\n",
              "      <td>岡村健司</td>\n",
              "      <td>プチプチ</td>\n",
              "      <td>8.0</td>\n",
              "      <td>2019/1/1</td>\n",
              "      <td>201945010102</td>\n",
              "      <td>C3七　八</td>\n",
              "      <td>54.0</td>\n",
              "      <td>22.1</td>\n",
              "      <td>0</td>\n",
              "      <td>左</td>\n",
              "      <td>1400</td>\n",
              "      <td>ダ</td>\n",
              "      <td>川崎</td>\n",
              "      <td>2R</td>\n",
              "      <td>11:50</td>\n",
              "      <td>晴</td>\n",
              "    </tr>\n",
              "    <tr>\n",
              "      <th>253630</th>\n",
              "      <td>牝4</td>\n",
              "      <td>8.0</td>\n",
              "      <td>10</td>\n",
              "      <td>伊藤裕人</td>\n",
              "      <td>スエヒロドラ</td>\n",
              "      <td>4.0</td>\n",
              "      <td>2019/1/1</td>\n",
              "      <td>201945010102</td>\n",
              "      <td>C3七　八</td>\n",
              "      <td>54.0</td>\n",
              "      <td>10.3</td>\n",
              "      <td>0</td>\n",
              "      <td>左</td>\n",
              "      <td>1400</td>\n",
              "      <td>ダ</td>\n",
              "      <td>川崎</td>\n",
              "      <td>2R</td>\n",
              "      <td>11:50</td>\n",
              "      <td>晴</td>\n",
              "    </tr>\n",
              "  </tbody>\n",
              "</table>\n",
              "</div>"
            ],
            "text/plain": [
              "       age  frame_number  horse_number  ... race_round start_time  weather\n",
              "253626  牝7           3.0             3  ...         2R      11:50        晴\n",
              "253627  牡7           5.0             5  ...         2R      11:50        晴\n",
              "253628  牡7           2.0             2  ...         2R      11:50        晴\n",
              "253629  牝7           7.0             8  ...         2R      11:50        晴\n",
              "253630  牝4           8.0            10  ...         2R      11:50        晴\n",
              "\n",
              "[5 rows x 19 columns]"
            ]
          },
          "metadata": {
            "tags": []
          },
          "execution_count": 5
        }
      ]
    },
    {
      "cell_type": "code",
      "metadata": {
        "id": "i7MHTS2sZNmU",
        "colab_type": "code",
        "colab": {
          "base_uri": "https://localhost:8080/",
          "height": 34
        },
        "outputId": "1b0eb9c2-305b-491e-baf1-b6d8cb56b3f3"
      },
      "source": [
        "len(train_df)"
      ],
      "execution_count": 6,
      "outputs": [
        {
          "output_type": "execute_result",
          "data": {
            "text/plain": [
              "253636"
            ]
          },
          "metadata": {
            "tags": []
          },
          "execution_count": 6
        }
      ]
    },
    {
      "cell_type": "markdown",
      "metadata": {
        "id": "L0T_2qRN9-o5",
        "colab_type": "text"
      },
      "source": [
        "# データ前処理"
      ]
    },
    {
      "cell_type": "markdown",
      "metadata": {
        "id": "P5XMyS1mGNLa",
        "colab_type": "text"
      },
      "source": [
        "- レースが開催されるのは週末のため日付は利用しない\n",
        "  - 季節に変換\n",
        "- 時刻は時間帯に変換\n",
        "- ageは性別（？）と年齢に分割\n",
        "- 気温は関係ありそうなため後々追加\n",
        "- レース名はレースの種類に変換した方が良さそうだが後回し"
      ]
    },
    {
      "cell_type": "markdown",
      "metadata": {
        "id": "RtL2MaWohoqh",
        "colab_type": "text"
      },
      "source": [
        "開催日から季節を追加し、開催日を削除"
      ]
    },
    {
      "cell_type": "code",
      "metadata": {
        "id": "_gUK08HDZJvd",
        "colab_type": "code",
        "colab": {}
      },
      "source": [
        "season = []\n",
        "for i in range(len(train_df)):\n",
        "  race_date = train_df.iloc[i]['race_date']\n",
        "  race_month = int(re.search(r'\\/.+?\\/', race_date).group().replace('/', ''))\n",
        "  if 3 <= race_month <= 5:\n",
        "    season.append('sprint')\n",
        "  elif 6 <= race_month <= 8:\n",
        "    season.append('summer')\n",
        "  elif 9 <= race_month <= 11:\n",
        "    season.append('autumn')\n",
        "  else:\n",
        "    season.append('winter')"
      ],
      "execution_count": 7,
      "outputs": []
    },
    {
      "cell_type": "code",
      "metadata": {
        "id": "rTL64AzxmKg9",
        "colab_type": "code",
        "colab": {}
      },
      "source": [
        "train_df['season'] = season"
      ],
      "execution_count": 8,
      "outputs": []
    },
    {
      "cell_type": "code",
      "metadata": {
        "id": "TnoFOungjeza",
        "colab_type": "code",
        "colab": {}
      },
      "source": [
        "train_df = train_df.drop('race_date', axis=1)"
      ],
      "execution_count": 9,
      "outputs": []
    },
    {
      "cell_type": "markdown",
      "metadata": {
        "id": "vchpzfONR9B4",
        "colab_type": "text"
      },
      "source": [
        "時刻を時間帯に分ける。\n",
        "まずは、開催時間の種類を確認。"
      ]
    },
    {
      "cell_type": "code",
      "metadata": {
        "id": "bf6BspnLSFWd",
        "colab_type": "code",
        "colab": {
          "base_uri": "https://localhost:8080/",
          "height": 221
        },
        "outputId": "7c78bb02-7ed4-4556-ba74-bdc711018969"
      },
      "source": [
        "train_df['start_time'].value_counts()"
      ],
      "execution_count": 10,
      "outputs": [
        {
          "output_type": "execute_result",
          "data": {
            "text/plain": [
              "13:15    4516\n",
              "16:10    4410\n",
              "20:50    4264\n",
              "12:45    3772\n",
              "15:45    3764\n",
              "         ... \n",
              "12:01      15\n",
              "15:51      13\n",
              "13:51      12\n",
              "20:25      10\n",
              "14:41      10\n",
              "Name: start_time, Length: 149, dtype: int64"
            ]
          },
          "metadata": {
            "tags": []
          },
          "execution_count": 10
        }
      ]
    },
    {
      "cell_type": "code",
      "metadata": {
        "id": "1yzXXmHpUBdd",
        "colab_type": "code",
        "colab": {
          "base_uri": "https://localhost:8080/",
          "height": 983
        },
        "outputId": "9a9cc302-3d9a-461f-d1a7-1efa08afb7d2"
      },
      "source": [
        "train_df.sort_values(by='start_time')"
      ],
      "execution_count": 11,
      "outputs": [
        {
          "output_type": "execute_result",
          "data": {
            "text/html": [
              "<div>\n",
              "<style scoped>\n",
              "    .dataframe tbody tr th:only-of-type {\n",
              "        vertical-align: middle;\n",
              "    }\n",
              "\n",
              "    .dataframe tbody tr th {\n",
              "        vertical-align: top;\n",
              "    }\n",
              "\n",
              "    .dataframe thead th {\n",
              "        text-align: right;\n",
              "    }\n",
              "</style>\n",
              "<table border=\"1\" class=\"dataframe\">\n",
              "  <thead>\n",
              "    <tr style=\"text-align: right;\">\n",
              "      <th></th>\n",
              "      <th>age</th>\n",
              "      <th>frame_number</th>\n",
              "      <th>horse_number</th>\n",
              "      <th>jockey</th>\n",
              "      <th>name</th>\n",
              "      <th>popular</th>\n",
              "      <th>race_id</th>\n",
              "      <th>race_name</th>\n",
              "      <th>weight</th>\n",
              "      <th>win</th>\n",
              "      <th>show</th>\n",
              "      <th>clockwise</th>\n",
              "      <th>distance</th>\n",
              "      <th>field_type</th>\n",
              "      <th>place</th>\n",
              "      <th>race_round</th>\n",
              "      <th>start_time</th>\n",
              "      <th>weather</th>\n",
              "      <th>season</th>\n",
              "    </tr>\n",
              "  </thead>\n",
              "  <tbody>\n",
              "    <tr>\n",
              "      <th>85638</th>\n",
              "      <td>牡2</td>\n",
              "      <td>8.0</td>\n",
              "      <td>14</td>\n",
              "      <td>三浦皇成</td>\n",
              "      <td>ロードファビュラス</td>\n",
              "      <td>3.0</td>\n",
              "      <td>201906050801</td>\n",
              "      <td>2歳未勝利</td>\n",
              "      <td>55.0</td>\n",
              "      <td>8.6</td>\n",
              "      <td>0</td>\n",
              "      <td>右</td>\n",
              "      <td>1200</td>\n",
              "      <td>ダ</td>\n",
              "      <td>中山</td>\n",
              "      <td>1R</td>\n",
              "      <td>09:35</td>\n",
              "      <td>曇</td>\n",
              "      <td>winter</td>\n",
              "    </tr>\n",
              "    <tr>\n",
              "      <th>85641</th>\n",
              "      <td>牡2</td>\n",
              "      <td>6.0</td>\n",
              "      <td>10</td>\n",
              "      <td>嶋田純次</td>\n",
              "      <td>トマティーナ</td>\n",
              "      <td>10.0</td>\n",
              "      <td>201906050801</td>\n",
              "      <td>2歳未勝利</td>\n",
              "      <td>55.0</td>\n",
              "      <td>180.7</td>\n",
              "      <td>0</td>\n",
              "      <td>右</td>\n",
              "      <td>1200</td>\n",
              "      <td>ダ</td>\n",
              "      <td>中山</td>\n",
              "      <td>1R</td>\n",
              "      <td>09:35</td>\n",
              "      <td>曇</td>\n",
              "      <td>winter</td>\n",
              "    </tr>\n",
              "    <tr>\n",
              "      <th>85640</th>\n",
              "      <td>牡2</td>\n",
              "      <td>2.0</td>\n",
              "      <td>2</td>\n",
              "      <td>菅原明良</td>\n",
              "      <td>アースウルフ</td>\n",
              "      <td>9.0</td>\n",
              "      <td>201906050801</td>\n",
              "      <td>2歳未勝利</td>\n",
              "      <td>52.0</td>\n",
              "      <td>171.8</td>\n",
              "      <td>0</td>\n",
              "      <td>右</td>\n",
              "      <td>1200</td>\n",
              "      <td>ダ</td>\n",
              "      <td>中山</td>\n",
              "      <td>1R</td>\n",
              "      <td>09:35</td>\n",
              "      <td>曇</td>\n",
              "      <td>winter</td>\n",
              "    </tr>\n",
              "    <tr>\n",
              "      <th>85639</th>\n",
              "      <td>牡2</td>\n",
              "      <td>1.0</td>\n",
              "      <td>1</td>\n",
              "      <td>武藤雅</td>\n",
              "      <td>キタノギャラクシー</td>\n",
              "      <td>6.0</td>\n",
              "      <td>201906050801</td>\n",
              "      <td>2歳未勝利</td>\n",
              "      <td>55.0</td>\n",
              "      <td>20.9</td>\n",
              "      <td>0</td>\n",
              "      <td>右</td>\n",
              "      <td>1200</td>\n",
              "      <td>ダ</td>\n",
              "      <td>中山</td>\n",
              "      <td>1R</td>\n",
              "      <td>09:35</td>\n",
              "      <td>曇</td>\n",
              "      <td>winter</td>\n",
              "    </tr>\n",
              "    <tr>\n",
              "      <th>85644</th>\n",
              "      <td>牡2</td>\n",
              "      <td>7.0</td>\n",
              "      <td>13</td>\n",
              "      <td>宮崎北斗</td>\n",
              "      <td>ソレユケタケコ</td>\n",
              "      <td>11.0</td>\n",
              "      <td>201906050801</td>\n",
              "      <td>2歳未勝利</td>\n",
              "      <td>55.0</td>\n",
              "      <td>305.7</td>\n",
              "      <td>0</td>\n",
              "      <td>右</td>\n",
              "      <td>1200</td>\n",
              "      <td>ダ</td>\n",
              "      <td>中山</td>\n",
              "      <td>1R</td>\n",
              "      <td>09:35</td>\n",
              "      <td>曇</td>\n",
              "      <td>winter</td>\n",
              "    </tr>\n",
              "    <tr>\n",
              "      <th>...</th>\n",
              "      <td>...</td>\n",
              "      <td>...</td>\n",
              "      <td>...</td>\n",
              "      <td>...</td>\n",
              "      <td>...</td>\n",
              "      <td>...</td>\n",
              "      <td>...</td>\n",
              "      <td>...</td>\n",
              "      <td>...</td>\n",
              "      <td>...</td>\n",
              "      <td>...</td>\n",
              "      <td>...</td>\n",
              "      <td>...</td>\n",
              "      <td>...</td>\n",
              "      <td>...</td>\n",
              "      <td>...</td>\n",
              "      <td>...</td>\n",
              "      <td>...</td>\n",
              "      <td>...</td>\n",
              "    </tr>\n",
              "    <tr>\n",
              "      <th>45793</th>\n",
              "      <td>牡6</td>\n",
              "      <td>1.0</td>\n",
              "      <td>1</td>\n",
              "      <td>倉兼育康</td>\n",
              "      <td>サクラゴール</td>\n",
              "      <td>8.0</td>\n",
              "      <td>202054032210</td>\n",
              "      <td>ファイナルレース</td>\n",
              "      <td>56.0</td>\n",
              "      <td>14.4</td>\n",
              "      <td>0</td>\n",
              "      <td>右</td>\n",
              "      <td>1300</td>\n",
              "      <td>ダ</td>\n",
              "      <td>高知</td>\n",
              "      <td>10R</td>\n",
              "      <td>20:55</td>\n",
              "      <td>曇</td>\n",
              "      <td>sprint</td>\n",
              "    </tr>\n",
              "    <tr>\n",
              "      <th>45792</th>\n",
              "      <td>牡8</td>\n",
              "      <td>4.0</td>\n",
              "      <td>4</td>\n",
              "      <td>郷間勇太</td>\n",
              "      <td>ヴェスペルティリオ</td>\n",
              "      <td>10.0</td>\n",
              "      <td>202054032210</td>\n",
              "      <td>ファイナルレース</td>\n",
              "      <td>56.0</td>\n",
              "      <td>21.4</td>\n",
              "      <td>0</td>\n",
              "      <td>右</td>\n",
              "      <td>1300</td>\n",
              "      <td>ダ</td>\n",
              "      <td>高知</td>\n",
              "      <td>10R</td>\n",
              "      <td>20:55</td>\n",
              "      <td>曇</td>\n",
              "      <td>sprint</td>\n",
              "    </tr>\n",
              "    <tr>\n",
              "      <th>45791</th>\n",
              "      <td>牝5</td>\n",
              "      <td>6.0</td>\n",
              "      <td>8</td>\n",
              "      <td>濱尚美</td>\n",
              "      <td>ノーブルジャーニー</td>\n",
              "      <td>1.0</td>\n",
              "      <td>202054032210</td>\n",
              "      <td>ファイナルレース</td>\n",
              "      <td>50.0</td>\n",
              "      <td>3.7</td>\n",
              "      <td>0</td>\n",
              "      <td>右</td>\n",
              "      <td>1300</td>\n",
              "      <td>ダ</td>\n",
              "      <td>高知</td>\n",
              "      <td>10R</td>\n",
              "      <td>20:55</td>\n",
              "      <td>曇</td>\n",
              "      <td>sprint</td>\n",
              "    </tr>\n",
              "    <tr>\n",
              "      <th>163124</th>\n",
              "      <td>牡4</td>\n",
              "      <td>5.0</td>\n",
              "      <td>5</td>\n",
              "      <td>西川敏弘</td>\n",
              "      <td>ハタノガナール</td>\n",
              "      <td>7.0</td>\n",
              "      <td>201954071512</td>\n",
              "      <td>ファイナルレース</td>\n",
              "      <td>56.0</td>\n",
              "      <td>11.6</td>\n",
              "      <td>1</td>\n",
              "      <td>右</td>\n",
              "      <td>1300</td>\n",
              "      <td>ダ</td>\n",
              "      <td>高知</td>\n",
              "      <td>12R</td>\n",
              "      <td>20:55</td>\n",
              "      <td>曇</td>\n",
              "      <td>summer</td>\n",
              "    </tr>\n",
              "    <tr>\n",
              "      <th>143306</th>\n",
              "      <td>牝4</td>\n",
              "      <td>2.0</td>\n",
              "      <td>2</td>\n",
              "      <td>木村直輝</td>\n",
              "      <td>ファーマファイバー</td>\n",
              "      <td>10.0</td>\n",
              "      <td>201954082512</td>\n",
              "      <td>ファイナルレース</td>\n",
              "      <td>53.0</td>\n",
              "      <td>22.3</td>\n",
              "      <td>0</td>\n",
              "      <td>右</td>\n",
              "      <td>1300</td>\n",
              "      <td>ダ</td>\n",
              "      <td>高知</td>\n",
              "      <td>12R</td>\n",
              "      <td>20:55</td>\n",
              "      <td>曇</td>\n",
              "      <td>summer</td>\n",
              "    </tr>\n",
              "  </tbody>\n",
              "</table>\n",
              "<p>253636 rows × 19 columns</p>\n",
              "</div>"
            ],
            "text/plain": [
              "       age  frame_number  horse_number  ... start_time weather  season\n",
              "85638   牡2           8.0            14  ...      09:35       曇  winter\n",
              "85641   牡2           6.0            10  ...      09:35       曇  winter\n",
              "85640   牡2           2.0             2  ...      09:35       曇  winter\n",
              "85639   牡2           1.0             1  ...      09:35       曇  winter\n",
              "85644   牡2           7.0            13  ...      09:35       曇  winter\n",
              "...     ..           ...           ...  ...        ...     ...     ...\n",
              "45793   牡6           1.0             1  ...      20:55       曇  sprint\n",
              "45792   牡8           4.0             4  ...      20:55       曇  sprint\n",
              "45791   牝5           6.0             8  ...      20:55       曇  sprint\n",
              "163124  牡4           5.0             5  ...      20:55       曇  summer\n",
              "143306  牝4           2.0             2  ...      20:55       曇  summer\n",
              "\n",
              "[253636 rows x 19 columns]"
            ]
          },
          "metadata": {
            "tags": []
          },
          "execution_count": 11
        }
      ]
    },
    {
      "cell_type": "markdown",
      "metadata": {
        "id": "U5UrUCKdU6R2",
        "colab_type": "text"
      },
      "source": [
        "時間の値で置き換える\n",
        "\n",
        "09:55->9  \n",
        "20:55->20"
      ]
    },
    {
      "cell_type": "code",
      "metadata": {
        "id": "Nx-9CI-tVkcD",
        "colab_type": "code",
        "colab": {}
      },
      "source": [
        "time_hour = []\n",
        "for i in range(len(train_df)):\n",
        "  start_time = train_df.iloc[i]['start_time']\n",
        "  time_hour.append(int(re.search(r'(.*):(.*)', start_time).group(1)))"
      ],
      "execution_count": 12,
      "outputs": []
    },
    {
      "cell_type": "code",
      "metadata": {
        "id": "YMJV6cS3Yai-",
        "colab_type": "code",
        "colab": {}
      },
      "source": [
        "train_df['time_hour'] = time_hour"
      ],
      "execution_count": 13,
      "outputs": []
    },
    {
      "cell_type": "code",
      "metadata": {
        "id": "ZhbrNWmMYxKV",
        "colab_type": "code",
        "colab": {}
      },
      "source": [
        "train_df = train_df.drop('start_time', axis=1)"
      ],
      "execution_count": 14,
      "outputs": []
    },
    {
      "cell_type": "markdown",
      "metadata": {
        "id": "16sp5k_kZIQZ",
        "colab_type": "text"
      },
      "source": [
        "ageを分ける"
      ]
    },
    {
      "cell_type": "code",
      "metadata": {
        "id": "i_mH_emra33Z",
        "colab_type": "code",
        "colab": {}
      },
      "source": [
        "gen = []\n",
        "age = []\n",
        "for i in range(len(train_df)):\n",
        "  age_v = train_df.iloc[i]['age']\n",
        "  gen.append(re.search(r'(.*)(\\d)', age_v).group(1))\n",
        "  age.append(re.search(r'(.*)(\\d)', age_v).group(2))"
      ],
      "execution_count": 15,
      "outputs": []
    },
    {
      "cell_type": "code",
      "metadata": {
        "id": "w65qwcPzcq1r",
        "colab_type": "code",
        "colab": {}
      },
      "source": [
        "train_df['age'] = age\n",
        "train_df['gen'] = gen"
      ],
      "execution_count": 16,
      "outputs": []
    },
    {
      "cell_type": "code",
      "metadata": {
        "id": "4ZOWmSIlcwfS",
        "colab_type": "code",
        "colab": {
          "base_uri": "https://localhost:8080/",
          "height": 864
        },
        "outputId": "f263ca43-de62-4c12-c4fc-08640f406403"
      },
      "source": [
        "train_df"
      ],
      "execution_count": 17,
      "outputs": [
        {
          "output_type": "execute_result",
          "data": {
            "text/html": [
              "<div>\n",
              "<style scoped>\n",
              "    .dataframe tbody tr th:only-of-type {\n",
              "        vertical-align: middle;\n",
              "    }\n",
              "\n",
              "    .dataframe tbody tr th {\n",
              "        vertical-align: top;\n",
              "    }\n",
              "\n",
              "    .dataframe thead th {\n",
              "        text-align: right;\n",
              "    }\n",
              "</style>\n",
              "<table border=\"1\" class=\"dataframe\">\n",
              "  <thead>\n",
              "    <tr style=\"text-align: right;\">\n",
              "      <th></th>\n",
              "      <th>age</th>\n",
              "      <th>frame_number</th>\n",
              "      <th>horse_number</th>\n",
              "      <th>jockey</th>\n",
              "      <th>name</th>\n",
              "      <th>popular</th>\n",
              "      <th>race_id</th>\n",
              "      <th>race_name</th>\n",
              "      <th>weight</th>\n",
              "      <th>win</th>\n",
              "      <th>show</th>\n",
              "      <th>clockwise</th>\n",
              "      <th>distance</th>\n",
              "      <th>field_type</th>\n",
              "      <th>place</th>\n",
              "      <th>race_round</th>\n",
              "      <th>weather</th>\n",
              "      <th>season</th>\n",
              "      <th>time_hour</th>\n",
              "      <th>gen</th>\n",
              "    </tr>\n",
              "  </thead>\n",
              "  <tbody>\n",
              "    <tr>\n",
              "      <th>253626</th>\n",
              "      <td>7</td>\n",
              "      <td>3.0</td>\n",
              "      <td>3</td>\n",
              "      <td>藤本現暉</td>\n",
              "      <td>リコーアペルタ</td>\n",
              "      <td>2.0</td>\n",
              "      <td>201945010102</td>\n",
              "      <td>C3七　八</td>\n",
              "      <td>54.0</td>\n",
              "      <td>3.6</td>\n",
              "      <td>1</td>\n",
              "      <td>左</td>\n",
              "      <td>1400</td>\n",
              "      <td>ダ</td>\n",
              "      <td>川崎</td>\n",
              "      <td>2R</td>\n",
              "      <td>晴</td>\n",
              "      <td>winter</td>\n",
              "      <td>11</td>\n",
              "      <td>牝</td>\n",
              "    </tr>\n",
              "    <tr>\n",
              "      <th>253627</th>\n",
              "      <td>7</td>\n",
              "      <td>5.0</td>\n",
              "      <td>5</td>\n",
              "      <td>加藤和博</td>\n",
              "      <td>ミラクルツッキー</td>\n",
              "      <td>1.0</td>\n",
              "      <td>201945010102</td>\n",
              "      <td>C3七　八</td>\n",
              "      <td>56.0</td>\n",
              "      <td>2.0</td>\n",
              "      <td>1</td>\n",
              "      <td>左</td>\n",
              "      <td>1400</td>\n",
              "      <td>ダ</td>\n",
              "      <td>川崎</td>\n",
              "      <td>2R</td>\n",
              "      <td>晴</td>\n",
              "      <td>winter</td>\n",
              "      <td>11</td>\n",
              "      <td>牡</td>\n",
              "    </tr>\n",
              "    <tr>\n",
              "      <th>253628</th>\n",
              "      <td>7</td>\n",
              "      <td>2.0</td>\n",
              "      <td>2</td>\n",
              "      <td>瀧川寿希</td>\n",
              "      <td>ロジレガシー</td>\n",
              "      <td>3.0</td>\n",
              "      <td>201945010102</td>\n",
              "      <td>C3七　八</td>\n",
              "      <td>56.0</td>\n",
              "      <td>5.9</td>\n",
              "      <td>1</td>\n",
              "      <td>左</td>\n",
              "      <td>1400</td>\n",
              "      <td>ダ</td>\n",
              "      <td>川崎</td>\n",
              "      <td>2R</td>\n",
              "      <td>晴</td>\n",
              "      <td>winter</td>\n",
              "      <td>11</td>\n",
              "      <td>牡</td>\n",
              "    </tr>\n",
              "    <tr>\n",
              "      <th>253629</th>\n",
              "      <td>7</td>\n",
              "      <td>7.0</td>\n",
              "      <td>8</td>\n",
              "      <td>岡村健司</td>\n",
              "      <td>プチプチ</td>\n",
              "      <td>8.0</td>\n",
              "      <td>201945010102</td>\n",
              "      <td>C3七　八</td>\n",
              "      <td>54.0</td>\n",
              "      <td>22.1</td>\n",
              "      <td>0</td>\n",
              "      <td>左</td>\n",
              "      <td>1400</td>\n",
              "      <td>ダ</td>\n",
              "      <td>川崎</td>\n",
              "      <td>2R</td>\n",
              "      <td>晴</td>\n",
              "      <td>winter</td>\n",
              "      <td>11</td>\n",
              "      <td>牝</td>\n",
              "    </tr>\n",
              "    <tr>\n",
              "      <th>253630</th>\n",
              "      <td>4</td>\n",
              "      <td>8.0</td>\n",
              "      <td>10</td>\n",
              "      <td>伊藤裕人</td>\n",
              "      <td>スエヒロドラ</td>\n",
              "      <td>4.0</td>\n",
              "      <td>201945010102</td>\n",
              "      <td>C3七　八</td>\n",
              "      <td>54.0</td>\n",
              "      <td>10.3</td>\n",
              "      <td>0</td>\n",
              "      <td>左</td>\n",
              "      <td>1400</td>\n",
              "      <td>ダ</td>\n",
              "      <td>川崎</td>\n",
              "      <td>2R</td>\n",
              "      <td>晴</td>\n",
              "      <td>winter</td>\n",
              "      <td>11</td>\n",
              "      <td>牝</td>\n",
              "    </tr>\n",
              "    <tr>\n",
              "      <th>...</th>\n",
              "      <td>...</td>\n",
              "      <td>...</td>\n",
              "      <td>...</td>\n",
              "      <td>...</td>\n",
              "      <td>...</td>\n",
              "      <td>...</td>\n",
              "      <td>...</td>\n",
              "      <td>...</td>\n",
              "      <td>...</td>\n",
              "      <td>...</td>\n",
              "      <td>...</td>\n",
              "      <td>...</td>\n",
              "      <td>...</td>\n",
              "      <td>...</td>\n",
              "      <td>...</td>\n",
              "      <td>...</td>\n",
              "      <td>...</td>\n",
              "      <td>...</td>\n",
              "      <td>...</td>\n",
              "      <td>...</td>\n",
              "    </tr>\n",
              "    <tr>\n",
              "      <th>6709</th>\n",
              "      <td>5</td>\n",
              "      <td>8.0</td>\n",
              "      <td>10</td>\n",
              "      <td>藤原良一</td>\n",
              "      <td>パートカラー</td>\n",
              "      <td>9.0</td>\n",
              "      <td>202048060911</td>\n",
              "      <td>おおぐま座特別</td>\n",
              "      <td>54.0</td>\n",
              "      <td>66.4</td>\n",
              "      <td>0</td>\n",
              "      <td>右</td>\n",
              "      <td>1600</td>\n",
              "      <td>ダ</td>\n",
              "      <td>名古屋</td>\n",
              "      <td>11R</td>\n",
              "      <td>晴</td>\n",
              "      <td>summer</td>\n",
              "      <td>17</td>\n",
              "      <td>牝</td>\n",
              "    </tr>\n",
              "    <tr>\n",
              "      <th>6710</th>\n",
              "      <td>6</td>\n",
              "      <td>1.0</td>\n",
              "      <td>1</td>\n",
              "      <td>浅野皓大</td>\n",
              "      <td>フラワーイレブン</td>\n",
              "      <td>4.0</td>\n",
              "      <td>202048060911</td>\n",
              "      <td>おおぐま座特別</td>\n",
              "      <td>51.0</td>\n",
              "      <td>8.2</td>\n",
              "      <td>0</td>\n",
              "      <td>右</td>\n",
              "      <td>1600</td>\n",
              "      <td>ダ</td>\n",
              "      <td>名古屋</td>\n",
              "      <td>11R</td>\n",
              "      <td>晴</td>\n",
              "      <td>summer</td>\n",
              "      <td>17</td>\n",
              "      <td>牝</td>\n",
              "    </tr>\n",
              "    <tr>\n",
              "      <th>6711</th>\n",
              "      <td>5</td>\n",
              "      <td>4.0</td>\n",
              "      <td>4</td>\n",
              "      <td>加藤聡一</td>\n",
              "      <td>テイエムヨハネス</td>\n",
              "      <td>3.0</td>\n",
              "      <td>202048060911</td>\n",
              "      <td>おおぐま座特別</td>\n",
              "      <td>56.0</td>\n",
              "      <td>6.2</td>\n",
              "      <td>0</td>\n",
              "      <td>右</td>\n",
              "      <td>1600</td>\n",
              "      <td>ダ</td>\n",
              "      <td>名古屋</td>\n",
              "      <td>11R</td>\n",
              "      <td>晴</td>\n",
              "      <td>summer</td>\n",
              "      <td>17</td>\n",
              "      <td>牡</td>\n",
              "    </tr>\n",
              "    <tr>\n",
              "      <th>6712</th>\n",
              "      <td>4</td>\n",
              "      <td>8.0</td>\n",
              "      <td>9</td>\n",
              "      <td>友森翔太</td>\n",
              "      <td>メモリーバリケード</td>\n",
              "      <td>2.0</td>\n",
              "      <td>202048060911</td>\n",
              "      <td>おおぐま座特別</td>\n",
              "      <td>55.0</td>\n",
              "      <td>3.2</td>\n",
              "      <td>0</td>\n",
              "      <td>右</td>\n",
              "      <td>1600</td>\n",
              "      <td>ダ</td>\n",
              "      <td>名古屋</td>\n",
              "      <td>11R</td>\n",
              "      <td>晴</td>\n",
              "      <td>summer</td>\n",
              "      <td>17</td>\n",
              "      <td>牝</td>\n",
              "    </tr>\n",
              "    <tr>\n",
              "      <th>6713</th>\n",
              "      <td>5</td>\n",
              "      <td>7.0</td>\n",
              "      <td>8</td>\n",
              "      <td>深澤杏花</td>\n",
              "      <td>ネリチャギ</td>\n",
              "      <td>8.0</td>\n",
              "      <td>202048060911</td>\n",
              "      <td>おおぐま座特別</td>\n",
              "      <td>50.0</td>\n",
              "      <td>58.5</td>\n",
              "      <td>0</td>\n",
              "      <td>右</td>\n",
              "      <td>1600</td>\n",
              "      <td>ダ</td>\n",
              "      <td>名古屋</td>\n",
              "      <td>11R</td>\n",
              "      <td>晴</td>\n",
              "      <td>summer</td>\n",
              "      <td>17</td>\n",
              "      <td>牝</td>\n",
              "    </tr>\n",
              "  </tbody>\n",
              "</table>\n",
              "<p>253636 rows × 20 columns</p>\n",
              "</div>"
            ],
            "text/plain": [
              "       age  frame_number  horse_number jockey  ... weather  season  time_hour gen\n",
              "253626   7           3.0             3   藤本現暉  ...       晴  winter         11   牝\n",
              "253627   7           5.0             5   加藤和博  ...       晴  winter         11   牡\n",
              "253628   7           2.0             2   瀧川寿希  ...       晴  winter         11   牡\n",
              "253629   7           7.0             8   岡村健司  ...       晴  winter         11   牝\n",
              "253630   4           8.0            10   伊藤裕人  ...       晴  winter         11   牝\n",
              "...     ..           ...           ...    ...  ...     ...     ...        ...  ..\n",
              "6709     5           8.0            10   藤原良一  ...       晴  summer         17   牝\n",
              "6710     6           1.0             1   浅野皓大  ...       晴  summer         17   牝\n",
              "6711     5           4.0             4   加藤聡一  ...       晴  summer         17   牡\n",
              "6712     4           8.0             9   友森翔太  ...       晴  summer         17   牝\n",
              "6713     5           7.0             8   深澤杏花  ...       晴  summer         17   牝\n",
              "\n",
              "[253636 rows x 20 columns]"
            ]
          },
          "metadata": {
            "tags": []
          },
          "execution_count": 17
        }
      ]
    },
    {
      "cell_type": "code",
      "metadata": {
        "id": "3Dhl_sJaf9We",
        "colab_type": "code",
        "colab": {
          "base_uri": "https://localhost:8080/",
          "height": 357
        },
        "outputId": "9f6296cc-bcf8-4727-9c5c-c0b849fc4bc2"
      },
      "source": [
        "for col, values in train_df.iteritems():\n",
        "    num_uniques = values.nunique()\n",
        "    print ('{name}: {num_unique}'.format(name=col, num_unique=num_uniques))"
      ],
      "execution_count": 18,
      "outputs": [
        {
          "output_type": "stream",
          "text": [
            "age: 10\n",
            "frame_number: 8\n",
            "horse_number: 18\n",
            "jockey: 450\n",
            "name: 23752\n",
            "popular: 18\n",
            "race_id: 22630\n",
            "race_name: 7082\n",
            "weight: 26\n",
            "win: 5403\n",
            "show: 2\n",
            "clockwise: 11\n",
            "distance: 54\n",
            "field_type: 3\n",
            "place: 24\n",
            "race_round: 12\n",
            "weather: 6\n",
            "season: 4\n",
            "time_hour: 12\n",
            "gen: 6\n"
          ],
          "name": "stdout"
        }
      ]
    },
    {
      "cell_type": "markdown",
      "metadata": {
        "id": "jqSm27nqiWdn",
        "colab_type": "text"
      },
      "source": [
        "## Label Encoding"
      ]
    },
    {
      "cell_type": "markdown",
      "metadata": {
        "id": "Tmqw0CxuirUN",
        "colab_type": "text"
      },
      "source": [
        "一旦、単純なLabel Encodingをする。"
      ]
    },
    {
      "cell_type": "code",
      "metadata": {
        "id": "35SOOTa6iqzu",
        "colab_type": "code",
        "colab": {}
      },
      "source": [
        "categorical_cols = ['jockey', 'name', 'race_name', 'clockwise', 'field_type', 'place', 'race_round', 'weather', 'season', 'gen']"
      ],
      "execution_count": 19,
      "outputs": []
    },
    {
      "cell_type": "code",
      "metadata": {
        "id": "lYsXBRhPjccA",
        "colab_type": "code",
        "colab": {}
      },
      "source": [
        "for c in categorical_cols:\n",
        "  le = LabelEncoder()\n",
        "  le.fit(train_df[c])\n",
        "  train_df[c] = le.transform(train_df[c])"
      ],
      "execution_count": 20,
      "outputs": []
    },
    {
      "cell_type": "code",
      "metadata": {
        "id": "MeBad2HHj2Mk",
        "colab_type": "code",
        "colab": {
          "base_uri": "https://localhost:8080/",
          "height": 439
        },
        "outputId": "aab9e19c-dd5b-4e8d-d281-9d95373e1302"
      },
      "source": [
        "train_df"
      ],
      "execution_count": 21,
      "outputs": [
        {
          "output_type": "execute_result",
          "data": {
            "text/html": [
              "<div>\n",
              "<style scoped>\n",
              "    .dataframe tbody tr th:only-of-type {\n",
              "        vertical-align: middle;\n",
              "    }\n",
              "\n",
              "    .dataframe tbody tr th {\n",
              "        vertical-align: top;\n",
              "    }\n",
              "\n",
              "    .dataframe thead th {\n",
              "        text-align: right;\n",
              "    }\n",
              "</style>\n",
              "<table border=\"1\" class=\"dataframe\">\n",
              "  <thead>\n",
              "    <tr style=\"text-align: right;\">\n",
              "      <th></th>\n",
              "      <th>age</th>\n",
              "      <th>frame_number</th>\n",
              "      <th>horse_number</th>\n",
              "      <th>jockey</th>\n",
              "      <th>name</th>\n",
              "      <th>popular</th>\n",
              "      <th>race_id</th>\n",
              "      <th>race_name</th>\n",
              "      <th>weight</th>\n",
              "      <th>win</th>\n",
              "      <th>show</th>\n",
              "      <th>clockwise</th>\n",
              "      <th>distance</th>\n",
              "      <th>field_type</th>\n",
              "      <th>place</th>\n",
              "      <th>race_round</th>\n",
              "      <th>weather</th>\n",
              "      <th>season</th>\n",
              "      <th>time_hour</th>\n",
              "      <th>gen</th>\n",
              "    </tr>\n",
              "  </thead>\n",
              "  <tbody>\n",
              "    <tr>\n",
              "      <th>253626</th>\n",
              "      <td>7</td>\n",
              "      <td>3.0</td>\n",
              "      <td>3</td>\n",
              "      <td>380</td>\n",
              "      <td>21625</td>\n",
              "      <td>2.0</td>\n",
              "      <td>201945010102</td>\n",
              "      <td>763</td>\n",
              "      <td>54.0</td>\n",
              "      <td>3.6</td>\n",
              "      <td>1</td>\n",
              "      <td>3</td>\n",
              "      <td>1400</td>\n",
              "      <td>0</td>\n",
              "      <td>10</td>\n",
              "      <td>4</td>\n",
              "      <td>2</td>\n",
              "      <td>3</td>\n",
              "      <td>11</td>\n",
              "      <td>2</td>\n",
              "    </tr>\n",
              "    <tr>\n",
              "      <th>253627</th>\n",
              "      <td>7</td>\n",
              "      <td>5.0</td>\n",
              "      <td>5</td>\n",
              "      <td>66</td>\n",
              "      <td>19528</td>\n",
              "      <td>1.0</td>\n",
              "      <td>201945010102</td>\n",
              "      <td>763</td>\n",
              "      <td>56.0</td>\n",
              "      <td>2.0</td>\n",
              "      <td>1</td>\n",
              "      <td>3</td>\n",
              "      <td>1400</td>\n",
              "      <td>0</td>\n",
              "      <td>10</td>\n",
              "      <td>4</td>\n",
              "      <td>2</td>\n",
              "      <td>3</td>\n",
              "      <td>11</td>\n",
              "      <td>4</td>\n",
              "    </tr>\n",
              "    <tr>\n",
              "      <th>253628</th>\n",
              "      <td>7</td>\n",
              "      <td>2.0</td>\n",
              "      <td>2</td>\n",
              "      <td>307</td>\n",
              "      <td>22903</td>\n",
              "      <td>3.0</td>\n",
              "      <td>201945010102</td>\n",
              "      <td>763</td>\n",
              "      <td>56.0</td>\n",
              "      <td>5.9</td>\n",
              "      <td>1</td>\n",
              "      <td>3</td>\n",
              "      <td>1400</td>\n",
              "      <td>0</td>\n",
              "      <td>10</td>\n",
              "      <td>4</td>\n",
              "      <td>2</td>\n",
              "      <td>3</td>\n",
              "      <td>11</td>\n",
              "      <td>4</td>\n",
              "    </tr>\n",
              "    <tr>\n",
              "      <th>253629</th>\n",
              "      <td>7</td>\n",
              "      <td>7.0</td>\n",
              "      <td>8</td>\n",
              "      <td>179</td>\n",
              "      <td>17138</td>\n",
              "      <td>8.0</td>\n",
              "      <td>201945010102</td>\n",
              "      <td>763</td>\n",
              "      <td>54.0</td>\n",
              "      <td>22.1</td>\n",
              "      <td>0</td>\n",
              "      <td>3</td>\n",
              "      <td>1400</td>\n",
              "      <td>0</td>\n",
              "      <td>10</td>\n",
              "      <td>4</td>\n",
              "      <td>2</td>\n",
              "      <td>3</td>\n",
              "      <td>11</td>\n",
              "      <td>2</td>\n",
              "    </tr>\n",
              "    <tr>\n",
              "      <th>253630</th>\n",
              "      <td>4</td>\n",
              "      <td>8.0</td>\n",
              "      <td>10</td>\n",
              "      <td>51</td>\n",
              "      <td>9310</td>\n",
              "      <td>4.0</td>\n",
              "      <td>201945010102</td>\n",
              "      <td>763</td>\n",
              "      <td>54.0</td>\n",
              "      <td>10.3</td>\n",
              "      <td>0</td>\n",
              "      <td>3</td>\n",
              "      <td>1400</td>\n",
              "      <td>0</td>\n",
              "      <td>10</td>\n",
              "      <td>4</td>\n",
              "      <td>2</td>\n",
              "      <td>3</td>\n",
              "      <td>11</td>\n",
              "      <td>2</td>\n",
              "    </tr>\n",
              "    <tr>\n",
              "      <th>...</th>\n",
              "      <td>...</td>\n",
              "      <td>...</td>\n",
              "      <td>...</td>\n",
              "      <td>...</td>\n",
              "      <td>...</td>\n",
              "      <td>...</td>\n",
              "      <td>...</td>\n",
              "      <td>...</td>\n",
              "      <td>...</td>\n",
              "      <td>...</td>\n",
              "      <td>...</td>\n",
              "      <td>...</td>\n",
              "      <td>...</td>\n",
              "      <td>...</td>\n",
              "      <td>...</td>\n",
              "      <td>...</td>\n",
              "      <td>...</td>\n",
              "      <td>...</td>\n",
              "      <td>...</td>\n",
              "      <td>...</td>\n",
              "    </tr>\n",
              "    <tr>\n",
              "      <th>6709</th>\n",
              "      <td>5</td>\n",
              "      <td>8.0</td>\n",
              "      <td>10</td>\n",
              "      <td>376</td>\n",
              "      <td>15231</td>\n",
              "      <td>9.0</td>\n",
              "      <td>202048060911</td>\n",
              "      <td>1119</td>\n",
              "      <td>54.0</td>\n",
              "      <td>66.4</td>\n",
              "      <td>0</td>\n",
              "      <td>0</td>\n",
              "      <td>1600</td>\n",
              "      <td>0</td>\n",
              "      <td>5</td>\n",
              "      <td>1</td>\n",
              "      <td>2</td>\n",
              "      <td>2</td>\n",
              "      <td>17</td>\n",
              "      <td>2</td>\n",
              "    </tr>\n",
              "    <tr>\n",
              "      <th>6710</th>\n",
              "      <td>6</td>\n",
              "      <td>1.0</td>\n",
              "      <td>1</td>\n",
              "      <td>297</td>\n",
              "      <td>16492</td>\n",
              "      <td>4.0</td>\n",
              "      <td>202048060911</td>\n",
              "      <td>1119</td>\n",
              "      <td>51.0</td>\n",
              "      <td>8.2</td>\n",
              "      <td>0</td>\n",
              "      <td>0</td>\n",
              "      <td>1600</td>\n",
              "      <td>0</td>\n",
              "      <td>5</td>\n",
              "      <td>1</td>\n",
              "      <td>2</td>\n",
              "      <td>2</td>\n",
              "      <td>17</td>\n",
              "      <td>2</td>\n",
              "    </tr>\n",
              "    <tr>\n",
              "      <th>6711</th>\n",
              "      <td>5</td>\n",
              "      <td>4.0</td>\n",
              "      <td>4</td>\n",
              "      <td>68</td>\n",
              "      <td>11967</td>\n",
              "      <td>3.0</td>\n",
              "      <td>202048060911</td>\n",
              "      <td>1119</td>\n",
              "      <td>56.0</td>\n",
              "      <td>6.2</td>\n",
              "      <td>0</td>\n",
              "      <td>0</td>\n",
              "      <td>1600</td>\n",
              "      <td>0</td>\n",
              "      <td>5</td>\n",
              "      <td>1</td>\n",
              "      <td>2</td>\n",
              "      <td>2</td>\n",
              "      <td>17</td>\n",
              "      <td>4</td>\n",
              "    </tr>\n",
              "    <tr>\n",
              "      <th>6712</th>\n",
              "      <td>4</td>\n",
              "      <td>8.0</td>\n",
              "      <td>9</td>\n",
              "      <td>81</td>\n",
              "      <td>20226</td>\n",
              "      <td>2.0</td>\n",
              "      <td>202048060911</td>\n",
              "      <td>1119</td>\n",
              "      <td>55.0</td>\n",
              "      <td>3.2</td>\n",
              "      <td>0</td>\n",
              "      <td>0</td>\n",
              "      <td>1600</td>\n",
              "      <td>0</td>\n",
              "      <td>5</td>\n",
              "      <td>1</td>\n",
              "      <td>2</td>\n",
              "      <td>2</td>\n",
              "      <td>17</td>\n",
              "      <td>2</td>\n",
              "    </tr>\n",
              "    <tr>\n",
              "      <th>6713</th>\n",
              "      <td>5</td>\n",
              "      <td>7.0</td>\n",
              "      <td>8</td>\n",
              "      <td>300</td>\n",
              "      <td>14076</td>\n",
              "      <td>8.0</td>\n",
              "      <td>202048060911</td>\n",
              "      <td>1119</td>\n",
              "      <td>50.0</td>\n",
              "      <td>58.5</td>\n",
              "      <td>0</td>\n",
              "      <td>0</td>\n",
              "      <td>1600</td>\n",
              "      <td>0</td>\n",
              "      <td>5</td>\n",
              "      <td>1</td>\n",
              "      <td>2</td>\n",
              "      <td>2</td>\n",
              "      <td>17</td>\n",
              "      <td>2</td>\n",
              "    </tr>\n",
              "  </tbody>\n",
              "</table>\n",
              "<p>253636 rows × 20 columns</p>\n",
              "</div>"
            ],
            "text/plain": [
              "       age  frame_number  horse_number  jockey  ...  weather  season  time_hour  gen\n",
              "253626   7           3.0             3     380  ...        2       3         11    2\n",
              "253627   7           5.0             5      66  ...        2       3         11    4\n",
              "253628   7           2.0             2     307  ...        2       3         11    4\n",
              "253629   7           7.0             8     179  ...        2       3         11    2\n",
              "253630   4           8.0            10      51  ...        2       3         11    2\n",
              "...     ..           ...           ...     ...  ...      ...     ...        ...  ...\n",
              "6709     5           8.0            10     376  ...        2       2         17    2\n",
              "6710     6           1.0             1     297  ...        2       2         17    2\n",
              "6711     5           4.0             4      68  ...        2       2         17    4\n",
              "6712     4           8.0             9      81  ...        2       2         17    2\n",
              "6713     5           7.0             8     300  ...        2       2         17    2\n",
              "\n",
              "[253636 rows x 20 columns]"
            ]
          },
          "metadata": {
            "tags": []
          },
          "execution_count": 21
        }
      ]
    },
    {
      "cell_type": "markdown",
      "metadata": {
        "id": "C1AJFXtMl_1f",
        "colab_type": "text"
      },
      "source": [
        "## trainデータとtestデータに分割"
      ]
    },
    {
      "cell_type": "code",
      "metadata": {
        "id": "uKLb_khYswd8",
        "colab_type": "code",
        "colab": {}
      },
      "source": [
        "train_df, test_df = train_test_split(train_df, test_size=53624, shuffle=False)"
      ],
      "execution_count": 22,
      "outputs": []
    },
    {
      "cell_type": "markdown",
      "metadata": {
        "id": "SSXl056ltqnv",
        "colab_type": "text"
      },
      "source": [
        "## 目的変数を分離"
      ]
    },
    {
      "cell_type": "code",
      "metadata": {
        "id": "QSla7y5Mt14B",
        "colab_type": "code",
        "colab": {}
      },
      "source": [
        "fea_cols = ['age', 'frame_number', 'horse_number', 'jockey', 'name', 'popular', 'race_id', 'race_name', 'weight',\n",
        "            'win', 'clockwise', 'distance', 'field_type', 'place', 'race_round', 'weather', 'season', 'time_hour', 'gen']\n",
        "target_col = ['show']"
      ],
      "execution_count": 23,
      "outputs": []
    },
    {
      "cell_type": "code",
      "metadata": {
        "id": "5MUZZrh4ttIb",
        "colab_type": "code",
        "colab": {}
      },
      "source": [
        "X_train = train_df[fea_cols].values\n",
        "y_train = train_df[target_col].values.reshape(-1)\n",
        "X_test = test_df[fea_cols].values\n",
        "y_test = test_df[target_col].values.reshape(-1)"
      ],
      "execution_count": 24,
      "outputs": []
    },
    {
      "cell_type": "markdown",
      "metadata": {
        "id": "2zqThtg3-AsO",
        "colab_type": "text"
      },
      "source": [
        "# 学習"
      ]
    },
    {
      "cell_type": "code",
      "metadata": {
        "id": "x_0wuuaSvgqS",
        "colab_type": "code",
        "colab": {}
      },
      "source": [
        "lgb_train = lgb.Dataset(X_train, y_train)\n",
        "lgb_eval = lgb.Dataset(X_test, y_test)\n",
        "\n",
        "params = {\n",
        "    'objective': 'binary'\n",
        "}\n",
        "\n",
        "num_round = 100"
      ],
      "execution_count": 36,
      "outputs": []
    },
    {
      "cell_type": "code",
      "metadata": {
        "id": "edzoePbM0DVF",
        "colab_type": "code",
        "colab": {
          "base_uri": "https://localhost:8080/",
          "height": 1000
        },
        "outputId": "b0415241-5c46-4c53-f70f-2b2f92f27cff"
      },
      "source": [
        "model = lgb.train(\n",
        "    params,\n",
        "    lgb_train,\n",
        "    valid_sets=lgb_eval,\n",
        "    num_boost_round=num_round,\n",
        ")"
      ],
      "execution_count": 37,
      "outputs": [
        {
          "output_type": "stream",
          "text": [
            "[1]\tvalid_0's binary_logloss: 0.555847\n",
            "[2]\tvalid_0's binary_logloss: 0.536929\n",
            "[3]\tvalid_0's binary_logloss: 0.521971\n",
            "[4]\tvalid_0's binary_logloss: 0.509824\n",
            "[5]\tvalid_0's binary_logloss: 0.499889\n",
            "[6]\tvalid_0's binary_logloss: 0.49169\n",
            "[7]\tvalid_0's binary_logloss: 0.484875\n",
            "[8]\tvalid_0's binary_logloss: 0.479181\n",
            "[9]\tvalid_0's binary_logloss: 0.474473\n",
            "[10]\tvalid_0's binary_logloss: 0.470534\n",
            "[11]\tvalid_0's binary_logloss: 0.467191\n",
            "[12]\tvalid_0's binary_logloss: 0.464343\n",
            "[13]\tvalid_0's binary_logloss: 0.461989\n",
            "[14]\tvalid_0's binary_logloss: 0.459998\n",
            "[15]\tvalid_0's binary_logloss: 0.458317\n",
            "[16]\tvalid_0's binary_logloss: 0.456853\n",
            "[17]\tvalid_0's binary_logloss: 0.455602\n",
            "[18]\tvalid_0's binary_logloss: 0.45457\n",
            "[19]\tvalid_0's binary_logloss: 0.453686\n",
            "[20]\tvalid_0's binary_logloss: 0.452952\n",
            "[21]\tvalid_0's binary_logloss: 0.452308\n",
            "[22]\tvalid_0's binary_logloss: 0.451815\n",
            "[23]\tvalid_0's binary_logloss: 0.451373\n",
            "[24]\tvalid_0's binary_logloss: 0.451013\n",
            "[25]\tvalid_0's binary_logloss: 0.450684\n",
            "[26]\tvalid_0's binary_logloss: 0.450416\n",
            "[27]\tvalid_0's binary_logloss: 0.4502\n",
            "[28]\tvalid_0's binary_logloss: 0.450025\n",
            "[29]\tvalid_0's binary_logloss: 0.449896\n",
            "[30]\tvalid_0's binary_logloss: 0.449768\n",
            "[31]\tvalid_0's binary_logloss: 0.449679\n",
            "[32]\tvalid_0's binary_logloss: 0.449589\n",
            "[33]\tvalid_0's binary_logloss: 0.449506\n",
            "[34]\tvalid_0's binary_logloss: 0.449427\n",
            "[35]\tvalid_0's binary_logloss: 0.449364\n",
            "[36]\tvalid_0's binary_logloss: 0.449306\n",
            "[37]\tvalid_0's binary_logloss: 0.449262\n",
            "[38]\tvalid_0's binary_logloss: 0.449215\n",
            "[39]\tvalid_0's binary_logloss: 0.449159\n",
            "[40]\tvalid_0's binary_logloss: 0.449129\n",
            "[41]\tvalid_0's binary_logloss: 0.449091\n",
            "[42]\tvalid_0's binary_logloss: 0.449044\n",
            "[43]\tvalid_0's binary_logloss: 0.449036\n",
            "[44]\tvalid_0's binary_logloss: 0.449017\n",
            "[45]\tvalid_0's binary_logloss: 0.449004\n",
            "[46]\tvalid_0's binary_logloss: 0.448986\n",
            "[47]\tvalid_0's binary_logloss: 0.44896\n",
            "[48]\tvalid_0's binary_logloss: 0.448956\n",
            "[49]\tvalid_0's binary_logloss: 0.448954\n",
            "[50]\tvalid_0's binary_logloss: 0.448916\n",
            "[51]\tvalid_0's binary_logloss: 0.44891\n",
            "[52]\tvalid_0's binary_logloss: 0.448922\n",
            "[53]\tvalid_0's binary_logloss: 0.448917\n",
            "[54]\tvalid_0's binary_logloss: 0.448918\n",
            "[55]\tvalid_0's binary_logloss: 0.448938\n",
            "[56]\tvalid_0's binary_logloss: 0.448942\n",
            "[57]\tvalid_0's binary_logloss: 0.448903\n",
            "[58]\tvalid_0's binary_logloss: 0.448901\n",
            "[59]\tvalid_0's binary_logloss: 0.448899\n",
            "[60]\tvalid_0's binary_logloss: 0.448956\n",
            "[61]\tvalid_0's binary_logloss: 0.448941\n",
            "[62]\tvalid_0's binary_logloss: 0.448931\n",
            "[63]\tvalid_0's binary_logloss: 0.44894\n",
            "[64]\tvalid_0's binary_logloss: 0.448956\n",
            "[65]\tvalid_0's binary_logloss: 0.448988\n",
            "[66]\tvalid_0's binary_logloss: 0.448997\n",
            "[67]\tvalid_0's binary_logloss: 0.448987\n",
            "[68]\tvalid_0's binary_logloss: 0.448993\n",
            "[69]\tvalid_0's binary_logloss: 0.448983\n",
            "[70]\tvalid_0's binary_logloss: 0.449001\n",
            "[71]\tvalid_0's binary_logloss: 0.449015\n",
            "[72]\tvalid_0's binary_logloss: 0.449023\n",
            "[73]\tvalid_0's binary_logloss: 0.449004\n",
            "[74]\tvalid_0's binary_logloss: 0.44901\n",
            "[75]\tvalid_0's binary_logloss: 0.449026\n",
            "[76]\tvalid_0's binary_logloss: 0.449013\n",
            "[77]\tvalid_0's binary_logloss: 0.449046\n",
            "[78]\tvalid_0's binary_logloss: 0.44906\n",
            "[79]\tvalid_0's binary_logloss: 0.449057\n",
            "[80]\tvalid_0's binary_logloss: 0.449068\n",
            "[81]\tvalid_0's binary_logloss: 0.449065\n",
            "[82]\tvalid_0's binary_logloss: 0.449089\n",
            "[83]\tvalid_0's binary_logloss: 0.449098\n",
            "[84]\tvalid_0's binary_logloss: 0.449127\n",
            "[85]\tvalid_0's binary_logloss: 0.449143\n",
            "[86]\tvalid_0's binary_logloss: 0.449162\n",
            "[87]\tvalid_0's binary_logloss: 0.449164\n",
            "[88]\tvalid_0's binary_logloss: 0.449166\n",
            "[89]\tvalid_0's binary_logloss: 0.449144\n",
            "[90]\tvalid_0's binary_logloss: 0.44914\n",
            "[91]\tvalid_0's binary_logloss: 0.449149\n",
            "[92]\tvalid_0's binary_logloss: 0.449156\n",
            "[93]\tvalid_0's binary_logloss: 0.449157\n",
            "[94]\tvalid_0's binary_logloss: 0.449163\n",
            "[95]\tvalid_0's binary_logloss: 0.44915\n",
            "[96]\tvalid_0's binary_logloss: 0.449181\n",
            "[97]\tvalid_0's binary_logloss: 0.449197\n",
            "[98]\tvalid_0's binary_logloss: 0.44919\n",
            "[99]\tvalid_0's binary_logloss: 0.449213\n",
            "[100]\tvalid_0's binary_logloss: 0.449221\n"
          ],
          "name": "stdout"
        }
      ]
    },
    {
      "cell_type": "markdown",
      "metadata": {
        "id": "pph-Xevl-CB2",
        "colab_type": "text"
      },
      "source": [
        "# 予測"
      ]
    },
    {
      "cell_type": "code",
      "metadata": {
        "id": "_eGBa0867d0O",
        "colab_type": "code",
        "colab": {
          "base_uri": "https://localhost:8080/",
          "height": 187
        },
        "outputId": "a449a0d0-d209-4d2a-e5b8-73f08972f740"
      },
      "source": [
        "model.predict(X_test)[:50]"
      ],
      "execution_count": 38,
      "outputs": [
        {
          "output_type": "execute_result",
          "data": {
            "text/plain": [
              "array([0.48269271, 0.22870436, 0.62027229, 0.46297769, 0.11662011,\n",
              "       0.13381989, 0.16981999, 0.50018671, 0.41577608, 0.38194714,\n",
              "       0.55210821, 0.27859828, 0.85974418, 0.48969178, 0.06053294,\n",
              "       0.05604194, 0.21437513, 0.87102017, 0.25329686, 0.27993838,\n",
              "       0.05785994, 0.65947584, 0.4097252 , 0.04228331, 0.14235622,\n",
              "       0.01390418, 0.5737584 , 0.17071261, 0.52345538, 0.56807732,\n",
              "       0.60394902, 0.39303751, 0.06379051, 0.19771734, 0.0454317 ,\n",
              "       0.59267901, 0.69822861, 0.35673175, 0.23038493, 0.39926073,\n",
              "       0.17573341, 0.10232016, 0.69409941, 0.04142301, 0.79038596,\n",
              "       0.60541031, 0.42797009, 0.16329495, 0.08715936, 0.14620668])"
            ]
          },
          "metadata": {
            "tags": []
          },
          "execution_count": 38
        }
      ]
    },
    {
      "cell_type": "code",
      "metadata": {
        "id": "K7PwK33otScW",
        "colab_type": "code",
        "colab": {
          "base_uri": "https://localhost:8080/",
          "height": 68
        },
        "outputId": "9e8fd7de-1892-453f-958a-992ecc704f56"
      },
      "source": [
        "y_test[:50]"
      ],
      "execution_count": 39,
      "outputs": [
        {
          "output_type": "execute_result",
          "data": {
            "text/plain": [
              "array([1, 1, 1, 0, 0, 0, 0, 0, 0, 1, 1, 1, 0, 0, 0, 0, 0, 1, 1, 1, 0, 0,\n",
              "       0, 0, 0, 0, 1, 1, 1, 0, 0, 0, 0, 0, 0, 1, 1, 1, 0, 0, 0, 0, 0, 0,\n",
              "       1, 1, 1, 0, 0, 0])"
            ]
          },
          "metadata": {
            "tags": []
          },
          "execution_count": 39
        }
      ]
    },
    {
      "cell_type": "code",
      "metadata": {
        "id": "AZ8oI4LCtZyP",
        "colab_type": "code",
        "colab": {}
      },
      "source": [
        ""
      ],
      "execution_count": null,
      "outputs": []
    }
  ]
}