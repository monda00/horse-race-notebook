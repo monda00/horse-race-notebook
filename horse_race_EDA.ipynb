{
  "nbformat": 4,
  "nbformat_minor": 0,
  "metadata": {
    "colab": {
      "name": "horse-race-EDA.ipynb",
      "provenance": [],
      "collapsed_sections": [],
      "toc_visible": true,
      "authorship_tag": "ABX9TyMfkwWH6xauQ47IU0MA8Jq4",
      "include_colab_link": true
    },
    "kernelspec": {
      "name": "python3",
      "display_name": "Python 3"
    }
  },
  "cells": [
    {
      "cell_type": "markdown",
      "metadata": {
        "id": "view-in-github",
        "colab_type": "text"
      },
      "source": [
        "<a href=\"https://colab.research.google.com/github/monda00/horse-race-notebook/blob/master/horse_race_EDA.ipynb\" target=\"_parent\"><img src=\"https://colab.research.google.com/assets/colab-badge.svg\" alt=\"Open In Colab\"/></a>"
      ]
    },
    {
      "cell_type": "markdown",
      "metadata": {
        "id": "lM2Vg6bDVR2q",
        "colab_type": "text"
      },
      "source": [
        "# netkeibaでスクレイピングしたデータのEDA"
      ]
    },
    {
      "cell_type": "markdown",
      "metadata": {
        "id": "ApfnmQLEVqh8",
        "colab_type": "text"
      },
      "source": [
        "- 準備\n",
        "- ライブラリ・データ読み込み\n",
        "- データの概観・分析"
      ]
    },
    {
      "cell_type": "markdown",
      "metadata": {
        "id": "BiqauKp2dCVt",
        "colab_type": "text"
      },
      "source": [
        "# 準備"
      ]
    },
    {
      "cell_type": "markdown",
      "metadata": {
        "id": "_Q6bUkeDdEw2",
        "colab_type": "text"
      },
      "source": [
        "# ライブラリ・データ読み込み"
      ]
    },
    {
      "cell_type": "code",
      "metadata": {
        "id": "FqOPinwSHVMK",
        "colab_type": "code",
        "colab": {}
      },
      "source": [
        "import numpy as np\n",
        "import pandas as pd"
      ],
      "execution_count": 1,
      "outputs": []
    },
    {
      "cell_type": "code",
      "metadata": {
        "id": "Ma4MplpheGDT",
        "colab_type": "code",
        "colab": {}
      },
      "source": [
        "DATA_PATH = './'"
      ],
      "execution_count": 2,
      "outputs": []
    },
    {
      "cell_type": "code",
      "metadata": {
        "id": "icZMNnMCdVea",
        "colab_type": "code",
        "colab": {}
      },
      "source": [
        "race_df = pd.read_csv(DATA_PATH + 'race.csv')\n",
        "horse_df = pd.read_csv(DATA_PATH + 'horse.csv')"
      ],
      "execution_count": 6,
      "outputs": []
    },
    {
      "cell_type": "code",
      "metadata": {
        "id": "ItMcGOqygN1j",
        "colab_type": "code",
        "colab": {
          "base_uri": "https://localhost:8080/",
          "height": 204
        },
        "outputId": "bf847565-83d0-46d6-ff69-bd1a23c7e6a3"
      },
      "source": [
        "race_df.head()"
      ],
      "execution_count": 7,
      "outputs": [
        {
          "output_type": "execute_result",
          "data": {
            "text/html": [
              "<div>\n",
              "<style scoped>\n",
              "    .dataframe tbody tr th:only-of-type {\n",
              "        vertical-align: middle;\n",
              "    }\n",
              "\n",
              "    .dataframe tbody tr th {\n",
              "        vertical-align: top;\n",
              "    }\n",
              "\n",
              "    .dataframe thead th {\n",
              "        text-align: right;\n",
              "    }\n",
              "</style>\n",
              "<table border=\"1\" class=\"dataframe\">\n",
              "  <thead>\n",
              "    <tr style=\"text-align: right;\">\n",
              "      <th></th>\n",
              "      <th>clockwise</th>\n",
              "      <th>date</th>\n",
              "      <th>distance</th>\n",
              "      <th>field_condition</th>\n",
              "      <th>field_type</th>\n",
              "      <th>name</th>\n",
              "      <th>place</th>\n",
              "      <th>race_id</th>\n",
              "      <th>race_round</th>\n",
              "      <th>start_time</th>\n",
              "      <th>weather</th>\n",
              "    </tr>\n",
              "  </thead>\n",
              "  <tbody>\n",
              "    <tr>\n",
              "      <th>0</th>\n",
              "      <td>右</td>\n",
              "      <td>2020/6/22</td>\n",
              "      <td>1400</td>\n",
              "      <td>不</td>\n",
              "      <td>ダ</td>\n",
              "      <td>タイタン賞競走</td>\n",
              "      <td>大井</td>\n",
              "      <td>202044062212</td>\n",
              "      <td>12R</td>\n",
              "      <td>20:50</td>\n",
              "      <td>雨</td>\n",
              "    </tr>\n",
              "    <tr>\n",
              "      <th>1</th>\n",
              "      <td>右</td>\n",
              "      <td>2020/6/22</td>\n",
              "      <td>1800</td>\n",
              "      <td>不</td>\n",
              "      <td>ダ</td>\n",
              "      <td>ポートサイド賞競走</td>\n",
              "      <td>大井</td>\n",
              "      <td>202044062211</td>\n",
              "      <td>11R</td>\n",
              "      <td>20:10</td>\n",
              "      <td>雨</td>\n",
              "    </tr>\n",
              "    <tr>\n",
              "      <th>2</th>\n",
              "      <td>右</td>\n",
              "      <td>2020/6/22</td>\n",
              "      <td>1200</td>\n",
              "      <td>不</td>\n",
              "      <td>ダ</td>\n",
              "      <td>C1九　十11</td>\n",
              "      <td>大井</td>\n",
              "      <td>202044062210</td>\n",
              "      <td>10R</td>\n",
              "      <td>19:30</td>\n",
              "      <td>雨</td>\n",
              "    </tr>\n",
              "    <tr>\n",
              "      <th>3</th>\n",
              "      <td>右</td>\n",
              "      <td>2020/6/22</td>\n",
              "      <td>1400</td>\n",
              "      <td>不</td>\n",
              "      <td>ダ</td>\n",
              "      <td>C1九　十11</td>\n",
              "      <td>大井</td>\n",
              "      <td>202044062209</td>\n",
              "      <td>9R</td>\n",
              "      <td>18:55</td>\n",
              "      <td>雨</td>\n",
              "    </tr>\n",
              "    <tr>\n",
              "      <th>4</th>\n",
              "      <td>右</td>\n",
              "      <td>2020/6/22</td>\n",
              "      <td>1600</td>\n",
              "      <td>不</td>\n",
              "      <td>ダ</td>\n",
              "      <td>C1九　十11</td>\n",
              "      <td>大井</td>\n",
              "      <td>202044062208</td>\n",
              "      <td>8R</td>\n",
              "      <td>18:20</td>\n",
              "      <td>雨</td>\n",
              "    </tr>\n",
              "  </tbody>\n",
              "</table>\n",
              "</div>"
            ],
            "text/plain": [
              "  clockwise       date  distance  ... race_round start_time weather\n",
              "0         右  2020/6/22      1400  ...        12R      20:50       雨\n",
              "1         右  2020/6/22      1800  ...        11R      20:10       雨\n",
              "2         右  2020/6/22      1200  ...        10R      19:30       雨\n",
              "3         右  2020/6/22      1400  ...         9R      18:55       雨\n",
              "4         右  2020/6/22      1600  ...         8R      18:20       雨\n",
              "\n",
              "[5 rows x 11 columns]"
            ]
          },
          "metadata": {
            "tags": []
          },
          "execution_count": 7
        }
      ]
    },
    {
      "cell_type": "code",
      "metadata": {
        "id": "I4wqqv9jgRZJ",
        "colab_type": "code",
        "colab": {
          "base_uri": "https://localhost:8080/",
          "height": 204
        },
        "outputId": "e944d905-485d-42c1-8daf-012dc0bddc5d"
      },
      "source": [
        "horse_df.head()"
      ],
      "execution_count": 8,
      "outputs": [
        {
          "output_type": "execute_result",
          "data": {
            "text/html": [
              "<div>\n",
              "<style scoped>\n",
              "    .dataframe tbody tr th:only-of-type {\n",
              "        vertical-align: middle;\n",
              "    }\n",
              "\n",
              "    .dataframe tbody tr th {\n",
              "        vertical-align: top;\n",
              "    }\n",
              "\n",
              "    .dataframe thead th {\n",
              "        text-align: right;\n",
              "    }\n",
              "</style>\n",
              "<table border=\"1\" class=\"dataframe\">\n",
              "  <thead>\n",
              "    <tr style=\"text-align: right;\">\n",
              "      <th></th>\n",
              "      <th>agari</th>\n",
              "      <th>age</th>\n",
              "      <th>frame_number</th>\n",
              "      <th>horse_number</th>\n",
              "      <th>horse_weight</th>\n",
              "      <th>jockey</th>\n",
              "      <th>name</th>\n",
              "      <th>popular</th>\n",
              "      <th>race_date</th>\n",
              "      <th>race_id</th>\n",
              "      <th>race_name</th>\n",
              "      <th>rank</th>\n",
              "      <th>time</th>\n",
              "      <th>weight</th>\n",
              "      <th>win</th>\n",
              "    </tr>\n",
              "  </thead>\n",
              "  <tbody>\n",
              "    <tr>\n",
              "      <th>0</th>\n",
              "      <td>38.1</td>\n",
              "      <td>牡3</td>\n",
              "      <td>7.0</td>\n",
              "      <td>13</td>\n",
              "      <td>511(-5)</td>\n",
              "      <td>森泰斗</td>\n",
              "      <td>ワイルドホース</td>\n",
              "      <td>2.0</td>\n",
              "      <td>2020/6/22</td>\n",
              "      <td>202044062212</td>\n",
              "      <td>タイタン賞競走</td>\n",
              "      <td>1.0</td>\n",
              "      <td>1:28.5</td>\n",
              "      <td>54.0</td>\n",
              "      <td>3.7</td>\n",
              "    </tr>\n",
              "    <tr>\n",
              "      <th>1</th>\n",
              "      <td>38.1</td>\n",
              "      <td>牝5</td>\n",
              "      <td>6.0</td>\n",
              "      <td>11</td>\n",
              "      <td>475(-2)</td>\n",
              "      <td>山崎誠士</td>\n",
              "      <td>クインズオライリー</td>\n",
              "      <td>12.0</td>\n",
              "      <td>2020/6/22</td>\n",
              "      <td>202044062212</td>\n",
              "      <td>タイタン賞競走</td>\n",
              "      <td>2.0</td>\n",
              "      <td>1:28.7</td>\n",
              "      <td>54.0</td>\n",
              "      <td>81.4</td>\n",
              "    </tr>\n",
              "    <tr>\n",
              "      <th>2</th>\n",
              "      <td>38.6</td>\n",
              "      <td>セ6</td>\n",
              "      <td>3.0</td>\n",
              "      <td>4</td>\n",
              "      <td>469(+2)</td>\n",
              "      <td>西啓太</td>\n",
              "      <td>メダーリアフレイム</td>\n",
              "      <td>4.0</td>\n",
              "      <td>2020/6/22</td>\n",
              "      <td>202044062212</td>\n",
              "      <td>タイタン賞競走</td>\n",
              "      <td>3.0</td>\n",
              "      <td>1:28.8</td>\n",
              "      <td>56.0</td>\n",
              "      <td>8.6</td>\n",
              "    </tr>\n",
              "    <tr>\n",
              "      <th>3</th>\n",
              "      <td>37.9</td>\n",
              "      <td>牡4</td>\n",
              "      <td>8.0</td>\n",
              "      <td>14</td>\n",
              "      <td>526(+6)</td>\n",
              "      <td>藤本現暉</td>\n",
              "      <td>ゴールドプリンス</td>\n",
              "      <td>8.0</td>\n",
              "      <td>2020/6/22</td>\n",
              "      <td>202044062212</td>\n",
              "      <td>タイタン賞競走</td>\n",
              "      <td>4.0</td>\n",
              "      <td>1:28.8</td>\n",
              "      <td>56.0</td>\n",
              "      <td>34.4</td>\n",
              "    </tr>\n",
              "    <tr>\n",
              "      <th>4</th>\n",
              "      <td>38.5</td>\n",
              "      <td>牝5</td>\n",
              "      <td>4.0</td>\n",
              "      <td>7</td>\n",
              "      <td>475(+6)</td>\n",
              "      <td>藤田凌</td>\n",
              "      <td>イグレット</td>\n",
              "      <td>9.0</td>\n",
              "      <td>2020/6/22</td>\n",
              "      <td>202044062212</td>\n",
              "      <td>タイタン賞競走</td>\n",
              "      <td>5.0</td>\n",
              "      <td>1:28.9</td>\n",
              "      <td>54.0</td>\n",
              "      <td>34.8</td>\n",
              "    </tr>\n",
              "  </tbody>\n",
              "</table>\n",
              "</div>"
            ],
            "text/plain": [
              "   agari age  frame_number  horse_number  ... rank    time weight   win\n",
              "0   38.1  牡3           7.0            13  ...  1.0  1:28.5   54.0   3.7\n",
              "1   38.1  牝5           6.0            11  ...  2.0  1:28.7   54.0  81.4\n",
              "2   38.6  セ6           3.0             4  ...  3.0  1:28.8   56.0   8.6\n",
              "3   37.9  牡4           8.0            14  ...  4.0  1:28.8   56.0  34.4\n",
              "4   38.5  牝5           4.0             7  ...  5.0  1:28.9   54.0  34.8\n",
              "\n",
              "[5 rows x 15 columns]"
            ]
          },
          "metadata": {
            "tags": []
          },
          "execution_count": 8
        }
      ]
    },
    {
      "cell_type": "markdown",
      "metadata": {
        "id": "h3dVS7QBgeK5",
        "colab_type": "text"
      },
      "source": [
        "# データの概観・分析"
      ]
    },
    {
      "cell_type": "code",
      "metadata": {
        "id": "Jtapb3SUU161",
        "colab_type": "code",
        "colab": {
          "base_uri": "https://localhost:8080/",
          "height": 323
        },
        "outputId": "ebb26dc9-d448-49c9-a0c1-cbccd1bd434e"
      },
      "source": [
        "race_df.info()"
      ],
      "execution_count": 9,
      "outputs": [
        {
          "output_type": "stream",
          "text": [
            "<class 'pandas.core.frame.DataFrame'>\n",
            "RangeIndex: 27532 entries, 0 to 27531\n",
            "Data columns (total 11 columns):\n",
            " #   Column           Non-Null Count  Dtype \n",
            "---  ------           --------------  ----- \n",
            " 0   clockwise        27532 non-null  object\n",
            " 1   date             27532 non-null  object\n",
            " 2   distance         27532 non-null  int64 \n",
            " 3   field_condition  21830 non-null  object\n",
            " 4   field_type       21830 non-null  object\n",
            " 5   name             27532 non-null  object\n",
            " 6   place            27532 non-null  object\n",
            " 7   race_id          27532 non-null  object\n",
            " 8   race_round       27532 non-null  object\n",
            " 9   start_time       26755 non-null  object\n",
            " 10  weather          26690 non-null  object\n",
            "dtypes: int64(1), object(10)\n",
            "memory usage: 2.3+ MB\n"
          ],
          "name": "stdout"
        }
      ]
    },
    {
      "cell_type": "code",
      "metadata": {
        "id": "YagNd4jrVBvB",
        "colab_type": "code",
        "colab": {
          "base_uri": "https://localhost:8080/",
          "height": 391
        },
        "outputId": "a8f9791d-18af-4b1a-f065-c93e2db6975b"
      },
      "source": [
        "horse_df.info()"
      ],
      "execution_count": 10,
      "outputs": [
        {
          "output_type": "stream",
          "text": [
            "<class 'pandas.core.frame.DataFrame'>\n",
            "RangeIndex: 100093 entries, 0 to 100092\n",
            "Data columns (total 15 columns):\n",
            " #   Column        Non-Null Count   Dtype  \n",
            "---  ------        --------------   -----  \n",
            " 0   agari         90608 non-null   float64\n",
            " 1   age           100093 non-null  object \n",
            " 2   frame_number  99678 non-null   float64\n",
            " 3   horse_number  100093 non-null  int64  \n",
            " 4   horse_weight  100093 non-null  object \n",
            " 5   jockey        99959 non-null   object \n",
            " 6   name          100092 non-null  object \n",
            " 7   popular       99158 non-null   float64\n",
            " 8   race_date     100092 non-null  object \n",
            " 9   race_id       100092 non-null  object \n",
            " 10  race_name     100092 non-null  object \n",
            " 11  rank          100092 non-null  float64\n",
            " 12  time          98439 non-null   object \n",
            " 13  weight        100092 non-null  float64\n",
            " 14  win           100092 non-null  object \n",
            "dtypes: float64(5), int64(1), object(9)\n",
            "memory usage: 11.5+ MB\n"
          ],
          "name": "stdout"
        }
      ]
    },
    {
      "cell_type": "markdown",
      "metadata": {
        "id": "CFkPnn8BUsq9",
        "colab_type": "text"
      },
      "source": [
        "## データ数"
      ]
    },
    {
      "cell_type": "code",
      "metadata": {
        "id": "hLknNYrsVJQg",
        "colab_type": "code",
        "colab": {
          "base_uri": "https://localhost:8080/",
          "height": 51
        },
        "outputId": "62c02e78-69d3-4f2d-9cfd-fe99475306c5"
      },
      "source": [
        "print('race:', race_df.shape[0])\n",
        "print('horse:', horse_df.shape[0])"
      ],
      "execution_count": 13,
      "outputs": [
        {
          "output_type": "stream",
          "text": [
            "race: 27532\n",
            "horse: 100093\n"
          ],
          "name": "stdout"
        }
      ]
    },
    {
      "cell_type": "markdown",
      "metadata": {
        "id": "8mtk73dEVoFK",
        "colab_type": "text"
      },
      "source": [
        "## カラム"
      ]
    },
    {
      "cell_type": "code",
      "metadata": {
        "id": "SeM7JtynVviJ",
        "colab_type": "code",
        "colab": {
          "base_uri": "https://localhost:8080/",
          "height": 68
        },
        "outputId": "6498b5b9-ad57-4fb3-aa03-f2317b6b9a07"
      },
      "source": [
        "race_df.columns"
      ],
      "execution_count": 17,
      "outputs": [
        {
          "output_type": "execute_result",
          "data": {
            "text/plain": [
              "Index(['clockwise', 'date', 'distance', 'field_condition', 'field_type',\n",
              "       'name', 'place', 'race_id', 'race_round', 'start_time', 'weather'],\n",
              "      dtype='object')"
            ]
          },
          "metadata": {
            "tags": []
          },
          "execution_count": 17
        }
      ]
    },
    {
      "cell_type": "code",
      "metadata": {
        "id": "MLWoHDA7Vzjc",
        "colab_type": "code",
        "colab": {
          "base_uri": "https://localhost:8080/",
          "height": 85
        },
        "outputId": "4e8a6bf4-63e7-4d84-f7d6-df08659c44d9"
      },
      "source": [
        "horse_df.columns"
      ],
      "execution_count": 18,
      "outputs": [
        {
          "output_type": "execute_result",
          "data": {
            "text/plain": [
              "Index(['agari', 'age', 'frame_number', 'horse_number', 'horse_weight',\n",
              "       'jockey', 'name', 'popular', 'race_date', 'race_id', 'race_name',\n",
              "       'rank', 'time', 'weight', 'win'],\n",
              "      dtype='object')"
            ]
          },
          "metadata": {
            "tags": []
          },
          "execution_count": 18
        }
      ]
    },
    {
      "cell_type": "markdown",
      "metadata": {
        "id": "rbjjfDS4Um7G",
        "colab_type": "text"
      },
      "source": [
        "## 欠損値の確認"
      ]
    },
    {
      "cell_type": "code",
      "metadata": {
        "id": "3pWbdJ5VgY3o",
        "colab_type": "code",
        "colab": {
          "base_uri": "https://localhost:8080/",
          "height": 221
        },
        "outputId": "2440fc5b-03de-4f54-e5eb-21d78cc7d8ef"
      },
      "source": [
        "race_df.isnull().sum()"
      ],
      "execution_count": 14,
      "outputs": [
        {
          "output_type": "execute_result",
          "data": {
            "text/plain": [
              "clockwise             0\n",
              "date                  0\n",
              "distance              0\n",
              "field_condition    5702\n",
              "field_type         5702\n",
              "name                  0\n",
              "place                 0\n",
              "race_id               0\n",
              "race_round            0\n",
              "start_time          777\n",
              "weather             842\n",
              "dtype: int64"
            ]
          },
          "metadata": {
            "tags": []
          },
          "execution_count": 14
        }
      ]
    },
    {
      "cell_type": "code",
      "metadata": {
        "id": "JUPxxxbUVhUL",
        "colab_type": "code",
        "colab": {
          "base_uri": "https://localhost:8080/",
          "height": 289
        },
        "outputId": "090dd0ba-a35a-4d1a-e610-3ff64d95073f"
      },
      "source": [
        "horse_df.isnull().sum()"
      ],
      "execution_count": 15,
      "outputs": [
        {
          "output_type": "execute_result",
          "data": {
            "text/plain": [
              "agari           9485\n",
              "age                0\n",
              "frame_number     415\n",
              "horse_number       0\n",
              "horse_weight       0\n",
              "jockey           134\n",
              "name               1\n",
              "popular          935\n",
              "race_date          1\n",
              "race_id            1\n",
              "race_name          1\n",
              "rank               1\n",
              "time            1654\n",
              "weight             1\n",
              "win                1\n",
              "dtype: int64"
            ]
          },
          "metadata": {
            "tags": []
          },
          "execution_count": 15
        }
      ]
    },
    {
      "cell_type": "code",
      "metadata": {
        "id": "qLjvzlSfVkon",
        "colab_type": "code",
        "colab": {}
      },
      "source": [
        ""
      ],
      "execution_count": null,
      "outputs": []
    }
  ]
}